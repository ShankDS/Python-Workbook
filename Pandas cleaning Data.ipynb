{
 "cells": [
  {
   "cell_type": "code",
   "execution_count": 2,
   "id": "0ac37173",
   "metadata": {},
   "outputs": [
    {
     "name": "stdout",
     "output_type": "stream",
     "text": [
      "            From_To  FlightNumber  RecentDelays              Airline\n",
      "0      LoNDon_paris       10045.0      [23, 47]               KLM(!)\n",
      "1      MAdrid_miLAN           NaN            []    <Air France> (12)\n",
      "2  londON_StockhOlm       10065.0  [24, 43, 87]  (British Airways. )\n",
      "3    Budapest_PaRis           NaN          [13]       12. Air France\n",
      "4   Brussels_londOn       10085.0      [67, 32]          \"Swiss Air\"\n"
     ]
    }
   ],
   "source": [
    "import pandas as pd\n",
    "from pandas import DataFrame\n",
    "import numpy as np\n",
    "df = pd.DataFrame({'From_To': ['LoNDon_paris', 'MAdrid_miLAN', 'londON_StockhOlm', \n",
    "                               'Budapest_PaRis', 'Brussels_londOn'],\n",
    "              'FlightNumber': [10045, np.nan, 10065, np.nan, 10085],\n",
    "              'RecentDelays': [[23, 47], [], [24, 43, 87], [13], [67, 32]],\n",
    "                   'Airline': ['KLM(!)', '<Air France> (12)', '(British Airways. )', \n",
    "                               '12. Air France', '\"Swiss Air\"']})\n",
    "print(df)"
   ]
  },
  {
   "cell_type": "code",
   "execution_count": 7,
   "id": "7d60690a",
   "metadata": {},
   "outputs": [
    {
     "name": "stdout",
     "output_type": "stream",
     "text": [
      "            From_To  FlightNumber  RecentDelays              Airline\n",
      "0      LoNDon_paris         10045      [23, 47]               KLM(!)\n",
      "1      MAdrid_miLAN         10055            []    <Air France> (12)\n",
      "2  londON_StockhOlm         10065  [24, 43, 87]  (British Airways. )\n",
      "3    Budapest_PaRis         10075          [13]       12. Air France\n",
      "4   Brussels_londOn         10085      [67, 32]          \"Swiss Air\"\n"
     ]
    }
   ],
   "source": [
    "#interpolate function The interpolate() function is used to interpolate values according to different methods.\n",
    "###Please note that only method='linear' is supported for DataFrame/Series with a MultiIndex.The interpolate() function is used to interpolate values according to different methods.\n",
    "# syntax: DataFrame.interpolate(self, method='linear', axis=0, limit=None, inplace=False, limit_direction='forward', limit_area=None, downcast=None, **kwargs)\n",
    "\n",
    "df['FlightNumber']=df['FlightNumber'].interpolate().astype(int)\n",
    "print(df)"
   ]
  },
  {
   "cell_type": "code",
   "execution_count": 10,
   "id": "00348031",
   "metadata": {},
   "outputs": [
    {
     "name": "stdout",
     "output_type": "stream",
     "text": [
      "       From         To\n",
      "0    LoNDon      paris\n",
      "1    MAdrid      miLAN\n",
      "2    londON  StockhOlm\n",
      "3  Budapest      PaRis\n",
      "4  Brussels     londOn\n"
     ]
    }
   ],
   "source": [
    "#spliting using split function (str.split())\n",
    "temp = df.From_To.str.split('_', expand=True)\n",
    "temp.columns = ['From', 'To']\n",
    "print(temp)"
   ]
  },
  {
   "cell_type": "code",
   "execution_count": 11,
   "id": "ad946c23",
   "metadata": {},
   "outputs": [
    {
     "name": "stdout",
     "output_type": "stream",
     "text": [
      "       From         To\n",
      "0    London      Paris\n",
      "1    Madrid      Milan\n",
      "2    London  Stockholm\n",
      "3  Budapest      Paris\n",
      "4  Brussels     London\n"
     ]
    }
   ],
   "source": [
    "temp['From'] = temp['From'].str.capitalize()\n",
    "temp['To'] = temp['To'].str.capitalize()\n",
    "print(temp)"
   ]
  },
  {
   "cell_type": "code",
   "execution_count": 18,
   "id": "b8d7bd3f",
   "metadata": {},
   "outputs": [
    {
     "name": "stdout",
     "output_type": "stream",
     "text": [
      "   FlightNumber  RecentDelays              Airline      From         To\n",
      "0         10045      [23, 47]               KLM(!)    London      Paris\n",
      "1         10055            []    <Air France> (12)    Madrid      Milan\n",
      "2         10065  [24, 43, 87]  (British Airways. )    London  Stockholm\n",
      "3         10075          [13]       12. Air France  Budapest      Paris\n",
      "4         10085      [67, 32]          \"Swiss Air\"  Brussels     London\n"
     ]
    }
   ],
   "source": [
    "print(df)"
   ]
  },
  {
   "cell_type": "code",
   "execution_count": 19,
   "id": "c0a6229c",
   "metadata": {},
   "outputs": [
    {
     "name": "stdout",
     "output_type": "stream",
     "text": [
      "   FlightNumber  RecentDelays          Airline      From         To\n",
      "0         10045      [23, 47]              KLM    London      Paris\n",
      "1         10055            []       Air France    Madrid      Milan\n",
      "2         10065  [24, 43, 87]  British Airways    London  Stockholm\n",
      "3         10075          [13]       Air France  Budapest      Paris\n",
      "4         10085      [67, 32]        Swiss Air  Brussels     London\n"
     ]
    }
   ],
   "source": [
    "# note: using .strip() gets rid of any leading/trailing spaces\n",
    "df['Airline'] = df['Airline'].str.extract('([a-zA-Z\\s]+)', expand=False).str.strip()\n",
    "print(df)"
   ]
  },
  {
   "cell_type": "code",
   "execution_count": 20,
   "id": "bef7ebd6",
   "metadata": {},
   "outputs": [
    {
     "name": "stdout",
     "output_type": "stream",
     "text": [
      "   FlightNumber          Airline      From         To  delay_1  delay_2  \\\n",
      "0         10045              KLM    London      Paris     23.0     47.0   \n",
      "1         10055       Air France    Madrid      Milan      NaN      NaN   \n",
      "2         10065  British Airways    London  Stockholm     24.0     43.0   \n",
      "3         10075       Air France  Budapest      Paris     13.0      NaN   \n",
      "4         10085        Swiss Air  Brussels     London     67.0     32.0   \n",
      "\n",
      "   delay_3  \n",
      "0      NaN  \n",
      "1      NaN  \n",
      "2     87.0  \n",
      "3      NaN  \n",
      "4      NaN  \n"
     ]
    }
   ],
   "source": [
    "#Expand the Series of lists into a DataFrame named delays, rename the columns \n",
    "#delay_1, delay_2, etc. and replace the unwanted RecentDelays column in df with delays.\n",
    "\n",
    "delays = df['RecentDelays'].apply(pd.Series)\n",
    "\n",
    "delays.columns = ['delay_{}'.format(n) for n in range(1, len(delays.columns)+1)]\n",
    "\n",
    "df = df.drop('RecentDelays', axis=1).join(delays)\n",
    "print(df)"
   ]
  },
  {
   "cell_type": "code",
   "execution_count": 21,
   "id": "94b43021",
   "metadata": {},
   "outputs": [
    {
     "name": "stdout",
     "output_type": "stream",
     "text": [
      "A  0    0.795673\n",
      "   1    0.373594\n",
      "   2    0.368102\n",
      "   3    0.151907\n",
      "   4    0.001522\n",
      "   5    0.965723\n",
      "   6    0.419837\n",
      "   7    0.182357\n",
      "   8    0.754867\n",
      "   9    0.350035\n",
      "B  0    0.175090\n",
      "   1    0.722904\n",
      "   2    0.754937\n",
      "   3    0.690224\n",
      "   4    0.189666\n",
      "   5    0.744976\n",
      "   6    0.775333\n",
      "   7    0.187461\n",
      "   8    0.037374\n",
      "   9    0.198159\n",
      "C  0    0.984366\n",
      "   1    0.026938\n",
      "   2    0.741277\n",
      "   3    0.049425\n",
      "   4    0.301516\n",
      "   5    0.153948\n",
      "   6    0.975651\n",
      "   7    0.941207\n",
      "   8    0.521570\n",
      "   9    0.648036\n",
      "dtype: float64\n"
     ]
    }
   ],
   "source": [
    "#Using multiindex\n",
    "\n",
    "letters = ['A', 'B', 'C']\n",
    "numbers = list(range(10))\n",
    "\n",
    "mi = pd.MultiIndex.from_product([letters, numbers])\n",
    "s = pd.Series(np.random.rand(30), index=mi)\n",
    "print(s)"
   ]
  },
  {
   "cell_type": "code",
   "execution_count": 22,
   "id": "f757fcb9",
   "metadata": {},
   "outputs": [
    {
     "name": "stdout",
     "output_type": "stream",
     "text": [
      "A  0    0.795673\n",
      "   1    0.373594\n",
      "   2    0.368102\n",
      "   3    0.151907\n",
      "   4    0.001522\n",
      "   5    0.965723\n",
      "   6    0.419837\n",
      "   7    0.182357\n",
      "   8    0.754867\n",
      "   9    0.350035\n",
      "B  0    0.175090\n",
      "   1    0.722904\n",
      "   2    0.754937\n",
      "   3    0.690224\n",
      "   4    0.189666\n",
      "   5    0.744976\n",
      "   6    0.775333\n",
      "   7    0.187461\n",
      "   8    0.037374\n",
      "   9    0.198159\n",
      "C  0    0.984366\n",
      "   1    0.026938\n",
      "   2    0.741277\n",
      "   3    0.049425\n",
      "   4    0.301516\n",
      "   5    0.153948\n",
      "   6    0.975651\n",
      "   7    0.941207\n",
      "   8    0.521570\n",
      "   9    0.648036\n",
      "dtype: float64\n"
     ]
    }
   ],
   "source": [
    "s.index.is_lexsorted()\n",
    "print(s)"
   ]
  },
  {
   "cell_type": "code",
   "execution_count": 23,
   "id": "2222c8cf",
   "metadata": {},
   "outputs": [
    {
     "data": {
      "text/plain": [
       "A  1    0.373594\n",
       "   3    0.151907\n",
       "   6    0.419837\n",
       "B  1    0.722904\n",
       "   3    0.690224\n",
       "   6    0.775333\n",
       "C  1    0.026938\n",
       "   3    0.049425\n",
       "   6    0.975651\n",
       "dtype: float64"
      ]
     },
     "execution_count": 23,
     "metadata": {},
     "output_type": "execute_result"
    }
   ],
   "source": [
    "s.loc[:, [1, 3, 6]]"
   ]
  },
  {
   "cell_type": "code",
   "execution_count": 24,
   "id": "afdc00e4",
   "metadata": {},
   "outputs": [
    {
     "data": {
      "text/plain": [
       "A  5    0.965723\n",
       "   6    0.419837\n",
       "   7    0.182357\n",
       "   8    0.754867\n",
       "   9    0.350035\n",
       "B  5    0.744976\n",
       "   6    0.775333\n",
       "   7    0.187461\n",
       "   8    0.037374\n",
       "   9    0.198159\n",
       "dtype: float64"
      ]
     },
     "execution_count": 24,
     "metadata": {},
     "output_type": "execute_result"
    }
   ],
   "source": [
    "s.loc[pd.IndexSlice[:'B', 5:]]"
   ]
  },
  {
   "cell_type": "code",
   "execution_count": 25,
   "id": "ee600e67",
   "metadata": {},
   "outputs": [
    {
     "data": {
      "text/plain": [
       "A    4.363619\n",
       "B    4.476124\n",
       "C    5.343935\n",
       "dtype: float64"
      ]
     },
     "execution_count": 25,
     "metadata": {},
     "output_type": "execute_result"
    }
   ],
   "source": [
    "s.sum(level=0)"
   ]
  },
  {
   "cell_type": "code",
   "execution_count": 26,
   "id": "1600454d",
   "metadata": {},
   "outputs": [
    {
     "data": {
      "text/plain": [
       "0    1.955129\n",
       "1    1.123437\n",
       "2    1.864315\n",
       "3    0.891556\n",
       "4    0.492704\n",
       "5    1.864647\n",
       "6    2.170822\n",
       "7    1.311026\n",
       "8    1.313812\n",
       "9    1.196230\n",
       "dtype: float64"
      ]
     },
     "execution_count": 26,
     "metadata": {},
     "output_type": "execute_result"
    }
   ],
   "source": [
    "# One way is to use .unstack()... \n",
    "# This method should convince you that s is essentially \n",
    "# just a regular DataFrame in disguise!\n",
    "s.unstack().sum(axis=0)"
   ]
  },
  {
   "cell_type": "code",
   "execution_count": 28,
   "id": "717a5e35",
   "metadata": {},
   "outputs": [
    {
     "name": "stdout",
     "output_type": "stream",
     "text": [
      "0  A    0.795673\n",
      "   B    0.175090\n",
      "   C    0.984366\n",
      "1  A    0.373594\n",
      "   B    0.722904\n",
      "   C    0.026938\n",
      "2  A    0.368102\n",
      "   B    0.754937\n",
      "   C    0.741277\n",
      "3  A    0.151907\n",
      "   B    0.690224\n",
      "   C    0.049425\n",
      "4  A    0.001522\n",
      "   B    0.189666\n",
      "   C    0.301516\n",
      "5  A    0.965723\n",
      "   B    0.744976\n",
      "   C    0.153948\n",
      "6  A    0.419837\n",
      "   B    0.775333\n",
      "   C    0.975651\n",
      "7  A    0.182357\n",
      "   B    0.187461\n",
      "   C    0.941207\n",
      "8  A    0.754867\n",
      "   B    0.037374\n",
      "   C    0.521570\n",
      "9  A    0.350035\n",
      "   B    0.198159\n",
      "   C    0.648036\n",
      "dtype: float64\n"
     ]
    }
   ],
   "source": [
    "new_s = s.swaplevel(0, 1)\n",
    "\n",
    "# check\n",
    "new_s.index.is_lexsorted()\n",
    "\n",
    "# sort\n",
    "new_s = new_s.sort_index()\n",
    "print(new_s)"
   ]
  },
  {
   "cell_type": "code",
   "execution_count": null,
   "id": "bc4d7a32",
   "metadata": {},
   "outputs": [],
   "source": []
  }
 ],
 "metadata": {
  "kernelspec": {
   "display_name": "Python 3",
   "language": "python",
   "name": "python3"
  },
  "language_info": {
   "codemirror_mode": {
    "name": "ipython",
    "version": 3
   },
   "file_extension": ".py",
   "mimetype": "text/x-python",
   "name": "python",
   "nbconvert_exporter": "python",
   "pygments_lexer": "ipython3",
   "version": "3.8.8"
  }
 },
 "nbformat": 4,
 "nbformat_minor": 5
}
