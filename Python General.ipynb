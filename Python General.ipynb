{
 "cells": [
  {
   "cell_type": "markdown",
   "id": "bff36748",
   "metadata": {},
   "source": [
    "You are given with a number A i.e. the temperature in Celcius. Write a program to convert this into Fahrenheit. \n",
    "\n",
    "Note: In case of decimal values, round-off to two decimal places.\n",
    "\n",
    "Input Description:\n",
    "A number is provided in Celcius as the input of the program.\n",
    "\n",
    "Output Description:\n",
    "The output shall be the temperature converted into Fahrenheit corresponding to the input value print up to two decimal places and round off if required."
   ]
  },
  {
   "cell_type": "code",
   "execution_count": 1,
   "id": "d535b238",
   "metadata": {},
   "outputs": [
    {
     "name": "stdout",
     "output_type": "stream",
     "text": [
      "12\n",
      "53.6\n"
     ]
    }
   ],
   "source": [
    "N=input()\n",
    "C=float(N)\n",
    "B=float(33.8)\n",
    "temperature_faren=(C*1.8)+32\n",
    "temperature_faren= round (temperature_faren, 2)\n",
    "print(temperature_faren)"
   ]
  },
  {
   "cell_type": "markdown",
   "id": "2d10a2b1",
   "metadata": {},
   "source": [
    "The area of an equilateral triangle is ¼(√3a2) where \"a\" represents a side of the triangle. You are provided with the side \"a\". Find the area of the equilateral triangle.\n",
    "\n",
    "Input Description:\n",
    "The side of an equilateral triangle is provided as the input.\n",
    "\n",
    "Output Description:\n",
    "Find the area of the equilateral triangle and print the answer up to 2 decimal places after rounding off."
   ]
  },
  {
   "cell_type": "code",
   "execution_count": 2,
   "id": "bbf713c1",
   "metadata": {},
   "outputs": [
    {
     "name": "stdout",
     "output_type": "stream",
     "text": [
      "20\n",
      "173.21\n"
     ]
    }
   ],
   "source": [
    "import math\n",
    "a=int(input())\n",
    "b=a*a\n",
    "c= math.sqrt(3)\n",
    "aot=(b*c)/4\n",
    "aot=round(aot, 2)\n",
    "print(aot)"
   ]
  },
  {
   "cell_type": "markdown",
   "id": "827bcbd6",
   "metadata": {},
   "source": [
    "You are given A = Length of a rectangle & B = breadth of a rectangle. Find its area “C”.\n",
    "\n",
    "(A and B are natural numbers)\n",
    "\n",
    "Input Description:\n",
    "The inputs are two natural numbers representing the length and the breadth of a rectangle.\n",
    "\n",
    "Output Description:\n",
    "Find the area of the rectangle formed by the provided input. Round off the answer to the first decimal place if required."
   ]
  },
  {
   "cell_type": "code",
   "execution_count": 3,
   "id": "69c22dd3",
   "metadata": {},
   "outputs": [
    {
     "name": "stdout",
     "output_type": "stream",
     "text": [
      "5\n",
      "7\n",
      "35\n"
     ]
    }
   ],
   "source": [
    "A = int(input())\n",
    "B = int(input())\n",
    "C=(A*B)\n",
    "print(C)"
   ]
  },
  {
   "cell_type": "markdown",
   "id": "4f87aa18",
   "metadata": {},
   "source": [
    "Print the First 3 multiples of the given number \"N\". (N is a positive integer)\n",
    "\n",
    "Note: print the characters with a single space between them.\n",
    "\n",
    "Input Description:\n",
    "A positive integer is provided to you as an input.\n",
    "\n",
    "Output Description:\n",
    "Print the First 3 multiples of the number with single spaces between them as an output."
   ]
  },
  {
   "cell_type": "code",
   "execution_count": 4,
   "id": "de5e1943",
   "metadata": {},
   "outputs": [
    {
     "name": "stdout",
     "output_type": "stream",
     "text": [
      "2\n",
      "2 4 6\n"
     ]
    }
   ],
   "source": [
    "N=int(input())\n",
    "A=[i*N for i in range(1,4)]\n",
    "print(*A) "
   ]
  },
  {
   "cell_type": "markdown",
   "id": "a7a3fc92",
   "metadata": {},
   "source": [
    "You will be provided with a number. Print the number of days in the month corresponding to that number.\n",
    "\n",
    "Note: In case the input is February, print 28 days. If the Input is not in valid range print \"Error\".\n",
    "\n",
    "Input Description:\n",
    "The input is in the form of a number.\n",
    "\n",
    "Output Description:\n",
    "Find the days in the month corresponding to the input number. Print Error if the input is not in a valid range."
   ]
  },
  {
   "cell_type": "code",
   "execution_count": 5,
   "id": "d99146a4",
   "metadata": {},
   "outputs": [
    {
     "name": "stdout",
     "output_type": "stream",
     "text": [
      "8\n",
      "31\n"
     ]
    }
   ],
   "source": [
    "N=int(input())\n",
    "A=[1,3,5,7,8,10,12]\n",
    "B=[4,6,9,11]\n",
    "if N in A:\n",
    "    print(31)\n",
    "elif N==2:\n",
    "    print (28) \n",
    "elif N in B:\n",
    "    print(30)\n",
    "else:\n",
    "    print(\"Error\")"
   ]
  },
  {
   "cell_type": "markdown",
   "id": "50edd478",
   "metadata": {},
   "source": [
    "You are given with Principle amount($), Interest Rate(%) and Time (years) in that order. Find Simple Interest.\n",
    "\n",
    "Print the output up to two decimal places (Round-off if necessary).\n",
    "\n",
    "(S.I. = P*T*R/100)\n",
    "\n",
    "Input Description:\n",
    "Three values are given to you as the input. these values correspond to Principle amount, Interest Rate and Time in that particular order.\n",
    "\n",
    "Output Description:\n",
    "Find the Simple interest and print it up to two decimal places. Round off if required."
   ]
  },
  {
   "cell_type": "code",
   "execution_count": 6,
   "id": "eeafc66f",
   "metadata": {},
   "outputs": [
    {
     "name": "stdout",
     "output_type": "stream",
     "text": [
      "1000 2 5\n",
      "100.00\n"
     ]
    }
   ],
   "source": [
    "P,R,T=map(float,input().split())\n",
    "S=(P*T*R)/100\n",
    "print(format(S,\".2f\"))"
   ]
  },
  {
   "cell_type": "markdown",
   "id": "2c582d33",
   "metadata": {},
   "source": [
    "Using the method of looping, write a program to print the table of 9 till N in the format as follows:\n",
    "(N is input by the user)\n",
    "\n",
    "9 18 27...\n",
    "\n",
    "Print NULL if 0 is input\n",
    "\n",
    "Input Description:\n",
    "A positive integer is provided as an input.\n",
    "\n",
    "Output Description:\n",
    "Print the table of nine with single space between the elements till the number that is input."
   ]
  },
  {
   "cell_type": "code",
   "execution_count": 7,
   "id": "9a706ad8",
   "metadata": {},
   "outputs": [
    {
     "name": "stdout",
     "output_type": "stream",
     "text": [
      "5\n",
      "[9, 18, 27, 36, 45]\n"
     ]
    }
   ],
   "source": [
    "b=int(input())\n",
    "d=[x*9 for x in range (1,b+1)]\n",
    "print(d)"
   ]
  },
  {
   "cell_type": "markdown",
   "id": "6a893018",
   "metadata": {},
   "source": [
    "Write a code to get the input and print it 5 times.\n",
    "\n",
    "Input Description:\n",
    "A single line contains an integer N.\n",
    "\n",
    "Output Description:\n",
    "Output contains 5 lines with each line having the value N."
   ]
  },
  {
   "cell_type": "code",
   "execution_count": 8,
   "id": "4d3c5d4a",
   "metadata": {},
   "outputs": [
    {
     "name": "stdout",
     "output_type": "stream",
     "text": [
      "5\n",
      "5\n",
      "5\n",
      "5\n",
      "5\n",
      "5\n",
      "\n"
     ]
    }
   ],
   "source": [
    "N=int(input())\n",
    "N=str(N)\n",
    "print((N+'\\n')*5)"
   ]
  },
  {
   "cell_type": "markdown",
   "id": "c0dd6041",
   "metadata": {},
   "source": [
    "You are given Two Numbers, A and B. If C = A + B. Find C.\n",
    "\n",
    "Note: Round off the output to a single decimal place.\n",
    "\n",
    "Input Description:\n",
    "You are provided with two numbers A and B.\n",
    "\n",
    "Output Description:\n",
    "Find the sum of the two numbers (A + B)"
   ]
  },
  {
   "cell_type": "code",
   "execution_count": 10,
   "id": "f6e5d30b",
   "metadata": {},
   "outputs": [
    {
     "name": "stdout",
     "output_type": "stream",
     "text": [
      "1\n",
      "1\n",
      "2\n"
     ]
    }
   ],
   "source": [
    "A=int(input())\n",
    "B=int(input())\n",
    "C=A+B\n",
    "print(C)"
   ]
  },
  {
   "cell_type": "markdown",
   "id": "1a3f2a7f",
   "metadata": {},
   "source": [
    "You are given the coefficients of a quadratic equation in order A, B & C.\n",
    "\n",
    "Where A is the coefficient of X2,  B is the coefficient of X and C is the constant term in the most simplified form.\n",
    "\n",
    "Example: For  X2 + 5X + 6 = 0, you are given the input as: 1 5 6.\n",
    "\n",
    "Write a program to find all of the roots of the quadratic.\n",
    "\n",
    "Note: The output should be up to 2nd decimal place (round off if needed) and in case of a recurring decimal use braces i.e. for eg: 0.33333..... => 0.33.\n",
    "\n",
    "Note: Use Shri Dharacharya's Method to solve i.e. X = {-b + √(b² - 4ac) } / 2a & {-b-√(b² -4ac)} / 2a\n",
    "\n",
    "Input Description:\n",
    "Three numbers corresponding to the coefficients of x(squared), x and constant are given as an input in that particular order\n",
    "\n",
    "Output Description:\n",
    "Print the two values of X after rounding off to 2 decimal places if required.\n"
   ]
  },
  {
   "cell_type": "code",
   "execution_count": 11,
   "id": "a9193041",
   "metadata": {},
   "outputs": [
    {
     "name": "stdout",
     "output_type": "stream",
     "text": [
      "1 5 6\n",
      "-2.00\n",
      "-3.00\n"
     ]
    }
   ],
   "source": [
    "import math\n",
    "#using map function to get multiple input values\n",
    "a,b,c=map(int,input().split())\n",
    "X=((-b) + (math.sqrt((b**2) - (4*a*c))))/ 2*a \n",
    "Y=((-b)- (math.sqrt((b**2) -(4*a*c))))/2*a\n",
    "print(format(X,\".2f\"))\n",
    "print(format(Y,\".2f\"))"
   ]
  },
  {
   "cell_type": "markdown",
   "id": "7807864a",
   "metadata": {},
   "source": [
    "Let \"A\" be a year, write a program to check whether this year is a leap year or not.\n",
    "\n",
    "Print \"Y\" if its a leap year and \"N\" if its a common year.\n",
    "\n",
    "Input Description:\n",
    "A Year is the input in the form of a positive integer.\n",
    "\n",
    "Output Description:\n",
    "Print \"Y\" if its a leap year and \"N\" if its a common year."
   ]
  },
  {
   "cell_type": "code",
   "execution_count": 12,
   "id": "4ac835ae",
   "metadata": {},
   "outputs": [
    {
     "name": "stdout",
     "output_type": "stream",
     "text": [
      "2021\n",
      "N\n"
     ]
    }
   ],
   "source": [
    "year=int(input())\n",
    "if (year % 4) == 0:\n",
    "    print(\"Y\")\n",
    "else:\n",
    "    print(\"N\")"
   ]
  },
  {
   "cell_type": "markdown",
   "id": "632f25ab",
   "metadata": {},
   "source": [
    "Let \"A\"  be a string. Remove all the whitespaces and find it's length.\n",
    "\n",
    "Input Description:\n",
    "A string is provide as an input\n",
    "\n",
    "Output Description:\n",
    "Remove all the whitespaces and then print the length of the remaining string."
   ]
  },
  {
   "cell_type": "code",
   "execution_count": 13,
   "id": "c4ba1073",
   "metadata": {},
   "outputs": [
    {
     "name": "stdout",
     "output_type": "stream",
     "text": [
      "Sachin Tendulkar\n",
      "15\n"
     ]
    }
   ],
   "source": [
    "mystring=input()\n",
    "mystring=mystring.replace(\" \",\"\")\n",
    "print (len(mystring))"
   ]
  },
  {
   "cell_type": "markdown",
   "id": "12f05395",
   "metadata": {},
   "source": [
    "You are given a number A in Kilometers. Convert this into B: Meters and C: Centi-Metres.\n",
    "\n",
    "Input Description:\n",
    "A number \"A\" representing some distance in kilometer is provided to you as the input.\n",
    "\n",
    "Output Description:\n",
    "Convert and print this value in meters and centimeters. "
   ]
  },
  {
   "cell_type": "code",
   "execution_count": 14,
   "id": "02ae4bc3",
   "metadata": {},
   "outputs": [
    {
     "name": "stdout",
     "output_type": "stream",
     "text": [
      "3\n",
      "3000\n",
      "300000\n"
     ]
    }
   ],
   "source": [
    "A=int(input())\n",
    "B=A*1000\n",
    "C=A*100000\n",
    "print(B)\n",
    "print(C)"
   ]
  },
  {
   "cell_type": "markdown",
   "id": "b1e004ed",
   "metadata": {},
   "source": [
    "You are provided with the radius of a circle \"A\". Find the length of its circumference.\n",
    "\n",
    "Note: In case the output is coming in decimal, roundoff to 2nd decimal place. In case the input is a negative number, print \"Error\".\n",
    "\n",
    "Input Description:\n",
    "The Radius of a circle is provided as the input of the program.\n",
    "\n",
    "Output Description:\n",
    "Calculate and print the Circumference of the circle corresponding to the input radius up to two decimal places."
   ]
  },
  {
   "cell_type": "code",
   "execution_count": 15,
   "id": "1b7afb8f",
   "metadata": {},
   "outputs": [
    {
     "name": "stdout",
     "output_type": "stream",
     "text": [
      "2\n",
      "12.57\n"
     ]
    }
   ],
   "source": [
    "R=float(input())\n",
    "C=2*3.14159*R\n",
    "roundC=round(C,2)\n",
    "if roundC<0:\n",
    "    print(\"Error\")\n",
    "else:\n",
    "    print(roundC)"
   ]
  },
  {
   "cell_type": "markdown",
   "id": "8a8e4fb1",
   "metadata": {},
   "source": [
    "Write a code to get an integer N and print the even values from 1 till N in a separate line.\n",
    "\n",
    "Input Description:\n",
    "A single line contains an integer N.\n",
    "\n",
    "Output Description:\n",
    "Print the even values from 1 to N in a separate line."
   ]
  },
  {
   "cell_type": "code",
   "execution_count": 16,
   "id": "89b8909d",
   "metadata": {},
   "outputs": [
    {
     "name": "stdout",
     "output_type": "stream",
     "text": [
      "6\n",
      "2\n",
      "4\n",
      "6\n"
     ]
    }
   ],
   "source": [
    "N=int(input())\n",
    "for i in range(1,N+1):\n",
    "    if i%2==0:\n",
    "        print(i)"
   ]
  },
  {
   "cell_type": "markdown",
   "id": "d91d7939",
   "metadata": {},
   "source": [
    "You are provided with a number \"N\", Find the Nth term of the series: 1, 4, 9, 16, 25, 36, 49, 64, 81, .......\n",
    "\n",
    "(Print \"Error\" if N = negative value and 0 if N = 0).\n",
    "\n",
    "Input Description:\n",
    "An integer N is provided to you as the input.\n",
    "\n",
    "Output Description:\n",
    "Find the Nth term in the provided series. "
   ]
  },
  {
   "cell_type": "code",
   "execution_count": 17,
   "id": "bf23c836",
   "metadata": {},
   "outputs": [
    {
     "name": "stdout",
     "output_type": "stream",
     "text": [
      "18\n",
      "324\n"
     ]
    }
   ],
   "source": [
    "N=int(input())\n",
    "if N<0:\n",
    "    print(\"Error\")\n",
    "elif N==0:\n",
    "    print(0) \n",
    "else:\n",
    "    print(N**2)"
   ]
  },
  {
   "cell_type": "markdown",
   "id": "5cd81c06",
   "metadata": {},
   "source": [
    "You are given three numbers A, B & C. Print the largest amongst these three numbers.\n",
    "\n",
    "Input Description:\n",
    "Three numbers are provided to you.\n",
    "\n",
    "Output Description:\n",
    "Find and print the largest among the three"
   ]
  },
  {
   "cell_type": "code",
   "execution_count": 18,
   "id": "87d70673",
   "metadata": {},
   "outputs": [
    {
     "name": "stdout",
     "output_type": "stream",
     "text": [
      "1\n",
      "2\n",
      "3\n",
      "3\n"
     ]
    }
   ],
   "source": [
    "a=int(input())\n",
    "b=int(input())\n",
    "c=int(input())\n",
    "B=[a,b,c]\n",
    "print(max(B))"
   ]
  },
  {
   "cell_type": "markdown",
   "id": "579ff878",
   "metadata": {},
   "source": [
    "Write a code to get an integer N and print the values from N to 1.\n",
    "\n",
    "Input Description:\n",
    "A single line contains an integer N.\n",
    "\n",
    "Output Description:\n",
    "Print the values from N to 1 in a separate line."
   ]
  },
  {
   "cell_type": "code",
   "execution_count": 19,
   "id": "6ef6375d",
   "metadata": {},
   "outputs": [
    {
     "name": "stdout",
     "output_type": "stream",
     "text": [
      "10\n",
      "10\n",
      "9\n",
      "8\n",
      "7\n",
      "6\n",
      "5\n",
      "4\n",
      "3\n",
      "2\n",
      "1\n"
     ]
    }
   ],
   "source": [
    "x=int(input())\n",
    "for i in range(x,0,-1):print(i)"
   ]
  },
  {
   "cell_type": "markdown",
   "id": "b07dba13",
   "metadata": {},
   "source": [
    "You are given with a number \"N\", find its cube.\n",
    "\n",
    "Input Description:\n",
    "A positive integer is provided.\n",
    "\n",
    "Output Description:\n",
    "Find the cube of the number. "
   ]
  },
  {
   "cell_type": "code",
   "execution_count": 23,
   "id": "d274c584",
   "metadata": {},
   "outputs": [
    {
     "name": "stdout",
     "output_type": "stream",
     "text": [
      "5\n",
      "125\n"
     ]
    }
   ],
   "source": [
    "a=int(input())\n",
    "b=a**3\n",
    "print(b)"
   ]
  },
  {
   "cell_type": "markdown",
   "id": "717ed82d",
   "metadata": {},
   "source": [
    "Write a code to get 2 integers A and N. Print the integer A, N times in separate line.\n",
    "\n",
    "Input Description:\n",
    "First line contains an integer A. Second line contains an Integer N.\n",
    "\n",
    "Output Description:\n",
    "Print the integer A, N times in a separate line. "
   ]
  },
  {
   "cell_type": "code",
   "execution_count": 22,
   "id": "05f2fb92",
   "metadata": {},
   "outputs": [
    {
     "name": "stdout",
     "output_type": "stream",
     "text": [
      "2 3\n",
      "2\n",
      "2\n",
      "2\n",
      "\n"
     ]
    }
   ],
   "source": [
    "A,N=input().split()\n",
    "N=int(N)\n",
    "print((A+'\\n')*N)"
   ]
  },
  {
   "cell_type": "markdown",
   "id": "fb430800",
   "metadata": {},
   "source": [
    "Write a code to get an integer N and print the digits of the integer.\n",
    "\n",
    "Input Description:\n",
    "A single line contains an integer N.\n",
    "\n",
    "Output Description:\n",
    "Print the digits of the integer in a single line separated by space,"
   ]
  },
  {
   "cell_type": "code",
   "execution_count": 24,
   "id": "4d00f86c",
   "metadata": {},
   "outputs": [
    {
     "name": "stdout",
     "output_type": "stream",
     "text": [
      "3456\n",
      "3 4 5 6\n"
     ]
    }
   ],
   "source": [
    "a=int(input())\n",
    "b=str(a)\n",
    "print(\" \".join(b))"
   ]
  },
  {
   "cell_type": "markdown",
   "id": "108fd2fb",
   "metadata": {},
   "source": [
    "Write a code get an integer number as input and print the sum of the digits.\n",
    "\n",
    "Input Description:\n",
    "A single line containing an integer.\n",
    "\n",
    "Output Description:\n",
    "Print the sum of the digits of the integer."
   ]
  },
  {
   "cell_type": "code",
   "execution_count": 25,
   "id": "6fa27ab1",
   "metadata": {},
   "outputs": [
    {
     "name": "stdout",
     "output_type": "stream",
     "text": [
      "135\n",
      "9\n"
     ]
    }
   ],
   "source": [
    "N=input()\n",
    "Num_sum=0\n",
    "for i in str(N):\n",
    "    Num_sum=Num_sum+int(i)\n",
    "print(Num_sum)"
   ]
  },
  {
   "cell_type": "markdown",
   "id": "9457bb3d",
   "metadata": {},
   "source": [
    "Write a code to get an integer N and print values from 1 till N in a separate line.\n",
    "\n",
    "Input Description:\n",
    "A single line contains an integer N.\n",
    "\n",
    "Output Description:\n",
    "Print the values from 1 to N in a separate line."
   ]
  },
  {
   "cell_type": "code",
   "execution_count": 26,
   "id": "b1cb8456",
   "metadata": {},
   "outputs": [
    {
     "name": "stdout",
     "output_type": "stream",
     "text": [
      "7\n",
      "1\n",
      "2\n",
      "3\n",
      "4\n",
      "5\n",
      "6\n",
      "7\n"
     ]
    }
   ],
   "source": [
    "n=int(input())\n",
    "a=range(n)\n",
    "for i in a:\n",
    "    print(i+1)"
   ]
  },
  {
   "cell_type": "markdown",
   "id": "e2c7559f",
   "metadata": {},
   "source": [
    "You are provided with a number check whether its odd or even. \n",
    "\n",
    "Print \"Odd\" or \"Even\" for the corresponding cases.\n",
    "\n",
    "Note: In case of a decimal, Round off to nearest integer and then find the output. Incase the input is zero, print \"Zero\".\n",
    "\n",
    "Input Description:\n",
    "A number is provided as the input.\n",
    "\n",
    "Output Description:\n",
    "Find out whether the number is odd or even. Print \"Odd\" or \"Even\" for the corresponding cases. Note: In case of a decimal, Round off to nearest integer and then find the output. In case the input is zero, print \"Zero\"."
   ]
  },
  {
   "cell_type": "code",
   "execution_count": 28,
   "id": "454f8be6",
   "metadata": {},
   "outputs": [
    {
     "name": "stdout",
     "output_type": "stream",
     "text": [
      "55\n",
      "Odd\n"
     ]
    }
   ],
   "source": [
    "x=int(input())\n",
    "y=round(x)\n",
    "if y%2==0:\n",
    "    print(\"Even\")\n",
    "elif y==0:\n",
    "    print('Zero')\n",
    "else:\n",
    "    print(\"Odd\")"
   ]
  },
  {
   "cell_type": "markdown",
   "id": "8e99dd45",
   "metadata": {},
   "source": [
    "You are provided with two numbers. Find and print the smaller number.\n",
    "\n",
    "Input Description:\n",
    "You are provided with two numbers as input.\n",
    "\n",
    "Output Description:\n",
    "Print the small number out of the two numbers."
   ]
  },
  {
   "cell_type": "code",
   "execution_count": 29,
   "id": "61e36ea1",
   "metadata": {},
   "outputs": [
    {
     "name": "stdout",
     "output_type": "stream",
     "text": [
      " 23 1\n",
      "1\n"
     ]
    }
   ],
   "source": [
    "x, y = input(\" \").split()\n",
    "b=min(x,y)\n",
    "print(b)"
   ]
  },
  {
   "cell_type": "markdown",
   "id": "1976844f",
   "metadata": {},
   "source": [
    "Write a program to get a string as input and reverse the string without using temporary variable.\n",
    "\n",
    "Input Description:\n",
    "A single line containing a string.\n",
    "\n",
    "Output Description:\n",
    "Print the reversed string."
   ]
  },
  {
   "cell_type": "code",
   "execution_count": 30,
   "id": "6d5319dc",
   "metadata": {},
   "outputs": [
    {
     "name": "stdout",
     "output_type": "stream",
     "text": [
      "Sachin\n",
      "nihcaS\n"
     ]
    }
   ],
   "source": [
    "x=input(\"\")[::-1]\n",
    "print(x)"
   ]
  },
  {
   "cell_type": "markdown",
   "id": "eaa13dae",
   "metadata": {},
   "source": [
    "You are provided with a number, \"N\". Find its factorial.\n",
    "\n",
    "Input Description:\n",
    "A positive integer is provided as an input.\n",
    "\n",
    "Output Description:\n",
    "Print the factorial of the integer."
   ]
  },
  {
   "cell_type": "code",
   "execution_count": 31,
   "id": "bca153fa",
   "metadata": {},
   "outputs": [
    {
     "name": "stdout",
     "output_type": "stream",
     "text": [
      "2\n",
      "2\n"
     ]
    }
   ],
   "source": [
    "import math \n",
    "x= int(input())\n",
    "print(math.factorial(x))"
   ]
  },
  {
   "cell_type": "markdown",
   "id": "9605181b",
   "metadata": {},
   "source": [
    "Write a code to get an integer N and print the sum of  values from 1 to N.\n",
    "\n",
    "Input Description:\n",
    "A single line contains an integer N.\n",
    "\n",
    "Output Description:\n",
    "Print the sum of values from 1 to N."
   ]
  },
  {
   "cell_type": "code",
   "execution_count": 32,
   "id": "3e2b2a78",
   "metadata": {},
   "outputs": [
    {
     "name": "stdout",
     "output_type": "stream",
     "text": [
      "10\n",
      "55\n"
     ]
    }
   ],
   "source": [
    "N=int(input())\n",
    "Num=0\n",
    "for i in range(1,N+1):\n",
    "    Num=Num+i\n",
    "print(Num)"
   ]
  },
  {
   "cell_type": "markdown",
   "id": "9a3d5d85",
   "metadata": {},
   "source": [
    "Write a code to get 2 integers as input and find the HCF of the 2 integer without using recursion or Euclidean algorithm.\n",
    "\n",
    "Input Description:\n",
    "A single line containing 2 integers separated by space.\n",
    "\n",
    "Output Description:\n",
    "Print the HCF of the integers."
   ]
  },
  {
   "cell_type": "code",
   "execution_count": 33,
   "id": "08e66653",
   "metadata": {},
   "outputs": [
    {
     "name": "stdout",
     "output_type": "stream",
     "text": [
      "2 3\n",
      "1\n"
     ]
    }
   ],
   "source": [
    "x,y=input().split() \n",
    "x=int(x)\n",
    "y=int(y)\n",
    "if x > y: \n",
    "    smaller = y \n",
    "\n",
    "else: \n",
    "    smaller = x \n",
    "for i in range(1, smaller+1): \n",
    "    if((x % i == 0) and (y % i == 0)): \n",
    "        hcf = i  \n",
    "print(hcf) "
   ]
  },
  {
   "cell_type": "markdown",
   "id": "73474ba6",
   "metadata": {},
   "source": [
    "Write a code get an integer number as input and print the odd and even digits of the number separately.\n",
    "\n",
    "Input Description:\n",
    "A single line containing an integer.\n",
    "\n",
    "Output Description:\n",
    "Print the even and odd integers of the integer in a separate line."
   ]
  },
  {
   "cell_type": "code",
   "execution_count": 34,
   "id": "899572d0",
   "metadata": {},
   "outputs": [
    {
     "name": "stdout",
     "output_type": "stream",
     "text": [
      "12345\n",
      "2 4\n",
      "1 3 5\n"
     ]
    }
   ],
   "source": [
    "s= input()\n",
    "evenlist=[]\n",
    "oddlist=[]\n",
    "res = [int(x) for x in str(s)]\n",
    "for i in res:\n",
    "    if(int(i)%2==0):\n",
    "        evenlist.extend(str(i))\n",
    "    else:\n",
    "        oddlist.extend(str(i))\n",
    "evenlist.sort()\n",
    "oddlist.sort()\n",
    "print(\" \".join(str(int) for int in evenlist))\n",
    "print(\" \".join(str(int) for int in oddlist))"
   ]
  }
 ],
 "metadata": {
  "kernelspec": {
   "display_name": "Python 3",
   "language": "python",
   "name": "python3"
  },
  "language_info": {
   "codemirror_mode": {
    "name": "ipython",
    "version": 3
   },
   "file_extension": ".py",
   "mimetype": "text/x-python",
   "name": "python",
   "nbconvert_exporter": "python",
   "pygments_lexer": "ipython3",
   "version": "3.8.8"
  }
 },
 "nbformat": 4,
 "nbformat_minor": 5
}
