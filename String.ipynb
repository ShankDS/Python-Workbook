{
 "cells": [
  {
   "cell_type": "code",
   "execution_count": null,
   "id": "73655a9b",
   "metadata": {},
   "outputs": [],
   "source": [
    "#removing vowels in a string\n",
    "#initialising vowels\n",
    "vowels='aeiouAEIOU'\n",
    "#getting input\n",
    "str1=input()\n",
    "#initialising varaible for output \n",
    "#use .replace function \n",
    "str2=str1\n",
    "for c in str1:\n",
    "    if c in vowels:\n",
    "        str2=str1.replace(c,\"\")\n",
    "print(str2)\n",
    "\n",
    "        "
   ]
  },
  {
   "cell_type": "code",
   "execution_count": null,
   "id": "40e5b184",
   "metadata": {},
   "outputs": [],
   "source": [
    "#reverse a string using recurssive method\n",
    "def rev_str(str1):\n",
    "    if len(str1)==1:\n",
    "        return str1\n",
    "    else:\n",
    "        return rev_str(str1[1:])+str1[0]\n",
    "str1=input()\n",
    "str2=rev_str(str1)\n",
    "print(str2)"
   ]
  },
  {
   "cell_type": "code",
   "execution_count": null,
   "id": "0d4efb45",
   "metadata": {},
   "outputs": [],
   "source": [
    "#removing repeayed characters\n",
    "str1=input()\n",
    "#initialising varaible for output \n",
    "#use .replace function \n",
    "str2=str1\n",
    "for c in str1:\n",
    "    if c in str1>1:\n",
    "        str2=str1.replace(c,\"\")\n",
    "print(str2)"
   ]
  },
  {
   "cell_type": "code",
   "execution_count": null,
   "id": "ecc6052b",
   "metadata": {},
   "outputs": [],
   "source": [
    "str3=input()\n",
    "num=\"\"\n",
    "for i in range(len(str3)):\n",
    "    if (str3[i].isdigit()):\n",
    "        num=num+str3[i]\n",
    "    print(num)\n",
    "        \n"
   ]
  },
  {
   "cell_type": "code",
   "execution_count": null,
   "id": "919d5271",
   "metadata": {},
   "outputs": [],
   "source": [
    "#initialising vowels and finding in a string\n",
    "v=[\"a\",\"e\",\"i\",\"o\",\"u\"]\n",
    "#getting input\n",
    "str4=input()\n",
    "string=str4.lower()\n",
    "count=0\n",
    "for char in string:\n",
    "        if char in v:\n",
    "            count=count+1\n",
    "if count>0:\n",
    "    print(\"yes\")\n",
    "else:\n",
    "    print(\"no\")\n",
    "            \n",
    "            "
   ]
  },
  {
   "cell_type": "code",
   "execution_count": null,
   "id": "d3d1e1ad",
   "metadata": {},
   "outputs": [],
   "source": [
    "#counting number of appearance\n",
    "str6=input()\n",
    "str7=input()\n",
    "#converting to list\n",
    "mylist=str6.split()\n",
    "checklist=str7.split()\n",
    "count=0\n",
    "for item in mylist:\n",
    "        if item in checklist:\n",
    "            count=count+1\n",
    "            print(count)\n",
    "            break\n",
    "else:\n",
    "    print(-1)"
   ]
  },
  {
   "cell_type": "code",
   "execution_count": null,
   "id": "b97ad0a5",
   "metadata": {},
   "outputs": [],
   "source": [
    "u=input()\n",
    "p=''.join(sorted(u))\n",
    "print(p)\n",
    "\n"
   ]
  },
  {
   "cell_type": "code",
   "execution_count": null,
   "id": "19e8688f",
   "metadata": {},
   "outputs": [],
   "source": [
    "p=input()\n",
    "print(p)"
   ]
  },
  {
   "cell_type": "code",
   "execution_count": null,
   "id": "2b1d17c5",
   "metadata": {},
   "outputs": [],
   "source": [
    "a=input()\n",
    "b=a.swapcase()\n",
    "print(b)"
   ]
  },
  {
   "cell_type": "code",
   "execution_count": null,
   "id": "f815c12b",
   "metadata": {},
   "outputs": [],
   "source": [
    "N=int(input())\n",
    "n=str(N)\n",
    "\n",
    "numsum=0\n",
    "for i in range(len(n)):\n",
    "    if len(n)>1 and len(n)<100000:\n",
    "        numsum=n[i+i]\n",
    "    print(numsum)\n",
    "        \n"
   ]
  },
  {
   "cell_type": "code",
   "execution_count": 3,
   "id": "7475adba",
   "metadata": {},
   "outputs": [
    {
     "name": "stdout",
     "output_type": "stream",
     "text": [
      "Wonder\n"
     ]
    }
   ],
   "source": [
    "x=input()\n",
    "s=set(x)\n",
    "if len(s)==3:\n",
    "    print(\"Wonder\")\n",
    "else:\n",
    "    print(-1)"
   ]
  },
  {
   "cell_type": "code",
   "execution_count": 8,
   "id": "586c87ed",
   "metadata": {},
   "outputs": [
    {
     "ename": "KeyboardInterrupt",
     "evalue": "Interrupted by user",
     "output_type": "error",
     "traceback": [
      "\u001b[1;31m---------------------------------------------------------------------------\u001b[0m",
      "\u001b[1;31mKeyboardInterrupt\u001b[0m                         Traceback (most recent call last)",
      "\u001b[1;32m<ipython-input-8-1c22e626be21>\u001b[0m in \u001b[0;36m<module>\u001b[1;34m\u001b[0m\n\u001b[0;32m      2\u001b[0m \u001b[0mcloselist\u001b[0m\u001b[1;33m=\u001b[0m\u001b[1;33m[\u001b[0m\u001b[1;34m')'\u001b[0m\u001b[1;33m,\u001b[0m\u001b[1;34m'}'\u001b[0m\u001b[1;33m,\u001b[0m\u001b[1;34m']'\u001b[0m\u001b[1;33m]\u001b[0m\u001b[1;33m\u001b[0m\u001b[1;33m\u001b[0m\u001b[0m\n\u001b[0;32m      3\u001b[0m \u001b[0mstack\u001b[0m\u001b[1;33m=\u001b[0m\u001b[1;33m[\u001b[0m\u001b[1;33m]\u001b[0m\u001b[1;33m\u001b[0m\u001b[1;33m\u001b[0m\u001b[0m\n\u001b[1;32m----> 4\u001b[1;33m \u001b[0mx\u001b[0m\u001b[1;33m=\u001b[0m\u001b[0minput\u001b[0m\u001b[1;33m(\u001b[0m\u001b[1;33m)\u001b[0m\u001b[1;33m\u001b[0m\u001b[1;33m\u001b[0m\u001b[0m\n\u001b[0m\u001b[0;32m      5\u001b[0m \u001b[1;32mfor\u001b[0m \u001b[0mi\u001b[0m \u001b[1;32min\u001b[0m \u001b[0mx\u001b[0m\u001b[1;33m:\u001b[0m\u001b[1;33m\u001b[0m\u001b[1;33m\u001b[0m\u001b[0m\n\u001b[0;32m      6\u001b[0m     \u001b[1;32mif\u001b[0m \u001b[0mi\u001b[0m \u001b[1;32min\u001b[0m \u001b[0mopenlist\u001b[0m\u001b[1;33m:\u001b[0m\u001b[1;33m\u001b[0m\u001b[1;33m\u001b[0m\u001b[0m\n",
      "\u001b[1;32m~\\Anaconda3\\lib\\site-packages\\ipykernel\\kernelbase.py\u001b[0m in \u001b[0;36mraw_input\u001b[1;34m(self, prompt)\u001b[0m\n\u001b[0;32m    858\u001b[0m                 \u001b[1;34m\"raw_input was called, but this frontend does not support input requests.\"\u001b[0m\u001b[1;33m\u001b[0m\u001b[1;33m\u001b[0m\u001b[0m\n\u001b[0;32m    859\u001b[0m             )\n\u001b[1;32m--> 860\u001b[1;33m         return self._input_request(str(prompt),\n\u001b[0m\u001b[0;32m    861\u001b[0m             \u001b[0mself\u001b[0m\u001b[1;33m.\u001b[0m\u001b[0m_parent_ident\u001b[0m\u001b[1;33m,\u001b[0m\u001b[1;33m\u001b[0m\u001b[1;33m\u001b[0m\u001b[0m\n\u001b[0;32m    862\u001b[0m             \u001b[0mself\u001b[0m\u001b[1;33m.\u001b[0m\u001b[0m_parent_header\u001b[0m\u001b[1;33m,\u001b[0m\u001b[1;33m\u001b[0m\u001b[1;33m\u001b[0m\u001b[0m\n",
      "\u001b[1;32m~\\Anaconda3\\lib\\site-packages\\ipykernel\\kernelbase.py\u001b[0m in \u001b[0;36m_input_request\u001b[1;34m(self, prompt, ident, parent, password)\u001b[0m\n\u001b[0;32m    902\u001b[0m             \u001b[1;32mexcept\u001b[0m \u001b[0mKeyboardInterrupt\u001b[0m\u001b[1;33m:\u001b[0m\u001b[1;33m\u001b[0m\u001b[1;33m\u001b[0m\u001b[0m\n\u001b[0;32m    903\u001b[0m                 \u001b[1;31m# re-raise KeyboardInterrupt, to truncate traceback\u001b[0m\u001b[1;33m\u001b[0m\u001b[1;33m\u001b[0m\u001b[1;33m\u001b[0m\u001b[0m\n\u001b[1;32m--> 904\u001b[1;33m                 \u001b[1;32mraise\u001b[0m \u001b[0mKeyboardInterrupt\u001b[0m\u001b[1;33m(\u001b[0m\u001b[1;34m\"Interrupted by user\"\u001b[0m\u001b[1;33m)\u001b[0m \u001b[1;32mfrom\u001b[0m \u001b[1;32mNone\u001b[0m\u001b[1;33m\u001b[0m\u001b[1;33m\u001b[0m\u001b[0m\n\u001b[0m\u001b[0;32m    905\u001b[0m             \u001b[1;32mexcept\u001b[0m \u001b[0mException\u001b[0m \u001b[1;32mas\u001b[0m \u001b[0me\u001b[0m\u001b[1;33m:\u001b[0m\u001b[1;33m\u001b[0m\u001b[1;33m\u001b[0m\u001b[0m\n\u001b[0;32m    906\u001b[0m                 \u001b[0mself\u001b[0m\u001b[1;33m.\u001b[0m\u001b[0mlog\u001b[0m\u001b[1;33m.\u001b[0m\u001b[0mwarning\u001b[0m\u001b[1;33m(\u001b[0m\u001b[1;34m\"Invalid Message:\"\u001b[0m\u001b[1;33m,\u001b[0m \u001b[0mexc_info\u001b[0m\u001b[1;33m=\u001b[0m\u001b[1;32mTrue\u001b[0m\u001b[1;33m)\u001b[0m\u001b[1;33m\u001b[0m\u001b[1;33m\u001b[0m\u001b[0m\n",
      "\u001b[1;31mKeyboardInterrupt\u001b[0m: Interrupted by user"
     ]
    }
   ],
   "source": [
    "openlist=['(','{','[']\n",
    "closelist=[')','}',']']\n",
    "stack=[]\n",
    "x=input()\n",
    "for i in x:\n",
    "    if i in openlist:\n",
    "        stack.append(i)\n",
    "    else:\n",
    "        if i in closelist:\n",
    "            f=closelist.index(i)\n",
    "            if ((len(stack)>0) and (openlist[f]==stack[len(stack)-1])):\n",
    "                stack.pop()\n",
    "            else:\n",
    "                print('unbalanced')\n",
    "                print(stack)\n",
    "if len(stack)==0:\n",
    "    print(balanced)\n",
    "    "
   ]
  },
  {
   "cell_type": "markdown",
   "id": "60becfe9",
   "metadata": {},
   "source": []
  },
  {
   "cell_type": "code",
   "execution_count": 14,
   "id": "3ee47610",
   "metadata": {},
   "outputs": [
    {
     "name": "stdout",
     "output_type": "stream",
     "text": [
      "[]\n"
     ]
    }
   ],
   "source": [
    "x='missisipe'\n",
    "y=x.split()\n",
    "dic={}\n",
    "for char in x:\n",
    "    dic[char]=0\n",
    "for char in x:\n",
    "    dic[char]+=1\n",
    "y.pop()\n",
    "print(y)\n"
   ]
  },
  {
   "cell_type": "code",
   "execution_count": null,
   "id": "c78cc500",
   "metadata": {},
   "outputs": [],
   "source": [
    "for char, count in dic.items():\n",
    "    if count > 1 and char != ' ':\n",
    "        print (char, count)\n",
    "        "
   ]
  },
  {
   "cell_type": "code",
   "execution_count": 18,
   "id": "9be58b30",
   "metadata": {},
   "outputs": [
    {
     "name": "stdout",
     "output_type": "stream",
     "text": [
      "2669\n"
     ]
    }
   ],
   "source": [
    "import re\n",
    "x='HR05-AA-2669'\n",
    "y=re.findall(r'[0-9]+',x)\n",
    "z=0\n",
    "for i in y:\n",
    "    z=+int(i)\n",
    "print(z)"
   ]
  },
  {
   "cell_type": "code",
   "execution_count": 2,
   "id": "57d0f8fe",
   "metadata": {},
   "outputs": [
    {
     "name": "stdout",
     "output_type": "stream",
     "text": [
      "shankar is a data scientist\n",
      "23\n"
     ]
    }
   ],
   "source": [
    "string=input()\n",
    "mystring=string.replace(\" \",\"\")\n",
    "print(len(mystring))\n"
   ]
  },
  {
   "cell_type": "code",
   "execution_count": 3,
   "id": "7c9b7921",
   "metadata": {},
   "outputs": [
    {
     "name": "stdout",
     "output_type": "stream",
     "text": [
      "shankar\n",
      "raknahs\n"
     ]
    }
   ],
   "source": [
    "x=input(\"\")\n",
    "y=x[::-1]\n",
    "print(y)"
   ]
  },
  {
   "cell_type": "code",
   "execution_count": 4,
   "id": "91efcd84",
   "metadata": {},
   "outputs": [
    {
     "name": "stdout",
     "output_type": "stream",
     "text": [
      "234\n",
      "2 3 4\n"
     ]
    }
   ],
   "source": [
    "x=input()\n",
    "print(\" \".join(x))"
   ]
  },
  {
   "cell_type": "code",
   "execution_count": 5,
   "id": "15a8d225",
   "metadata": {},
   "outputs": [
    {
     "name": "stdout",
     "output_type": "stream",
     "text": [
      "aabbc\n",
      "bbcce\n",
      "-1\n"
     ]
    }
   ],
   "source": [
    "str6=input()\n",
    "str7=input()\n",
    "#converting to list\n",
    "mylist=str6.split()\n",
    "checklist=str7.split()\n",
    "count=0\n",
    "for item in mylist:\n",
    "        if item in checklist:\n",
    "            count=count+1\n",
    "            print(count)\n",
    "            break\n",
    "else:\n",
    "    print(-1)"
   ]
  },
  {
   "cell_type": "code",
   "execution_count": null,
   "id": "f9253abc",
   "metadata": {},
   "outputs": [],
   "source": []
  }
 ],
 "metadata": {
  "kernelspec": {
   "display_name": "Python 3",
   "language": "python",
   "name": "python3"
  },
  "language_info": {
   "codemirror_mode": {
    "name": "ipython",
    "version": 3
   },
   "file_extension": ".py",
   "mimetype": "text/x-python",
   "name": "python",
   "nbconvert_exporter": "python",
   "pygments_lexer": "ipython3",
   "version": "3.8.8"
  }
 },
 "nbformat": 4,
 "nbformat_minor": 5
}
