{
 "cells": [
  {
   "cell_type": "code",
   "execution_count": null,
   "id": "f8186d2e",
   "metadata": {},
   "outputs": [],
   "source": [
    "rows = int(input())\n",
    "for row in range(rows):\n",
    "    for col in range(rows-row):\n",
    "        print(col+1, end=\"\")\n",
    "    print()"
   ]
  },
  {
   "cell_type": "code",
   "execution_count": null,
   "id": "06c22687",
   "metadata": {},
   "outputs": [],
   "source": [
    "#reverse a string using recurssive method\n",
    "def rev_str(str1):\n",
    "    if len(str1)==1:\n",
    "        return str1\n",
    "    else:\n",
    "        return rev_str(str1[1:])+str1[0]\n",
    "str1=input()\n",
    "str2=rev_str(str1)\n",
    "new=str2.capitalize()\n",
    "print(new)"
   ]
  },
  {
   "cell_type": "code",
   "execution_count": null,
   "id": "39783da2",
   "metadata": {},
   "outputs": [],
   "source": [
    "x=input()\n",
    "dupl=[]\n",
    "for i in x:\n",
    "    if i not in dupl:\n",
    "        dupl.append(i)\n",
    "print(dupl)"
   ]
  },
  {
   "cell_type": "code",
   "execution_count": null,
   "id": "de4cc1b2",
   "metadata": {},
   "outputs": [],
   "source": [
    "from collections import Counter\n",
    "x=mississipie\n",
    "length=Counter(x)\n"
   ]
  },
  {
   "cell_type": "code",
   "execution_count": null,
   "id": "55dc6f0f",
   "metadata": {},
   "outputs": [],
   "source": [
    "#palindrome exercise\n",
    "x=input()\n",
    "y=x[::-1]\n",
    "if x==y:\n",
    "    print(1)\n",
    "else:\n",
    "    print(0)\n",
    "    \n"
   ]
  },
  {
   "cell_type": "code",
   "execution_count": null,
   "id": "f0c0d3d9",
   "metadata": {},
   "outputs": [],
   "source": [
    "#adding digits in string\n",
    "N=input()\n",
    "Num_sum=0\n",
    "for i in N:\n",
    "    Num_sum=Num_sum+int(i)\n",
    "print(Num_sum)"
   ]
  },
  {
   "cell_type": "code",
   "execution_count": null,
   "id": "238d7835",
   "metadata": {},
   "outputs": [],
   "source": [
    "#checking if all nunmeric input\n",
    "x=input()\n",
    "for i in x:\n",
    "    if x.isnumeric():\n",
    "        print(\"true\")\n",
    "        break\n",
    "    else:\n",
    "        print(\"false\")\n",
    "        break\n"
   ]
  },
  {
   "cell_type": "code",
   "execution_count": null,
   "id": "34d9720f",
   "metadata": {},
   "outputs": [],
   "source": [
    "z=list(map(input().split(\"\")))\n",
    "#answer correct but uanble to get input \n",
    "print(x)\n",
    "print(y)\n",
    "#for i in x:\n",
    "    #if x.isupper()and y.isupper():\n",
    "        #print(\"yes\")\n",
    "        #break\n",
    "    #if x.islower()and y.islower():\n",
    "        #print(\"yes\")\n",
    "        #break\n",
    "    #else:\n",
    "        #print(\"no\")\n",
    "        #break\n",
    "        "
   ]
  },
  {
   "cell_type": "code",
   "execution_count": null,
   "id": "1a0ed2a6",
   "metadata": {},
   "outputs": [],
   "source": [
    "N=input()\n",
    "Y=len(N)\n",
    "print(Y)"
   ]
  },
  {
   "cell_type": "code",
   "execution_count": null,
   "id": "e13ecd8f",
   "metadata": {},
   "outputs": [],
   "source": [
    "#unable to complete without conditional statement to question45\n",
    "N=input()\n",
    "New=N.replace(\"a\",\"\").replace(\"e\",\"\").replace(\"i\",\"\").replace(\"o\",\"\").replace(\"u\",\"\")\n",
    "RNew=New[::-1]\n",
    "print(RNew)\n"
   ]
  },
  {
   "cell_type": "code",
   "execution_count": null,
   "id": "6f712317",
   "metadata": {},
   "outputs": [],
   "source": [
    "#wromg logic \n",
    "N=input()\n",
    "B=input()\n",
    "New=N.replace(\"B\",\"\")\n",
    "if B !=N:\n",
    "    print(New)\n",
    "else:\n",
    "    print(New)"
   ]
  },
  {
   "cell_type": "code",
   "execution_count": null,
   "id": "29825797",
   "metadata": {
    "scrolled": true
   },
   "outputs": [],
   "source": [
    "a=[\"monday\",\"tuesday\",\"wednesday\",\"thursday\",\"friday\"]\n",
    "b=[\"saturday\",\"sunday\"]\n",
    "c=input()\n",
    "if c in a:\n",
    "    print(\"no\")\n",
    "if c in b:\n",
    "    print(\"yes\")"
   ]
  },
  {
   "cell_type": "code",
   "execution_count": null,
   "id": "41cfa5df",
   "metadata": {},
   "outputs": [],
   "source": [
    "N=input()\n",
    "print(N[0:3:2])"
   ]
  },
  {
   "cell_type": "code",
   "execution_count": null,
   "id": "6ea58686",
   "metadata": {},
   "outputs": [],
   "source": [
    "N=input()\n",
    "k=int(input())\n",
    "for i in N:\n",
    "    if i==k:\n",
    "        print(N[k])"
   ]
  },
  {
   "cell_type": "code",
   "execution_count": null,
   "id": "6a166aea",
   "metadata": {},
   "outputs": [],
   "source": [
    "x=input()\n",
    "y=x[::-1]\n",
    "print(y)"
   ]
  },
  {
   "cell_type": "code",
   "execution_count": null,
   "id": "d565eda7",
   "metadata": {},
   "outputs": [],
   "source": [
    "x=input()\n",
    "y=x.swapcase()\n",
    "print(y)"
   ]
  },
  {
   "cell_type": "code",
   "execution_count": null,
   "id": "7165ffc1",
   "metadata": {},
   "outputs": [],
   "source": [
    "a=[\"GEEKGUVI\"]\n",
    "c=input()\n",
    "if c in a:\n",
    "    print(\"yes\")\n",
    "else:\n",
    "    print(\"no\")"
   ]
  },
  {
   "cell_type": "code",
   "execution_count": null,
   "id": "70f836c0",
   "metadata": {},
   "outputs": [],
   "source": [
    "X,Y=input(),input()\n",
    "T=X.count(Y)\n",
    "print(T)"
   ]
  },
  {
   "cell_type": "code",
   "execution_count": null,
   "id": "7e0a55e8",
   "metadata": {},
   "outputs": [],
   "source": [
    "x=int(input())\n",
    "y=input()\n",
    "z=input()\n",
    "w=input()\n",
    "r=len(y)\n",
    "s=len(z)\n",
    "t=len(w)\n",
    "if r<s and r<t:\n",
    "    print(y)\n",
    "if s<r and s<t:\n",
    "    print(z)\n",
    "if t<r and t<s:\n",
    "    print(w)\n"
   ]
  },
  {
   "cell_type": "code",
   "execution_count": null,
   "id": "44afccc4",
   "metadata": {},
   "outputs": [],
   "source": [
    "#camelcase wrong logic\n",
    "x=input()\n",
    "y=x.replace('g','G')\n",
    "print(y)"
   ]
  },
  {
   "cell_type": "code",
   "execution_count": null,
   "id": "575c5129",
   "metadata": {},
   "outputs": [],
   "source": [
    "#unsuccesful code\n",
    "x=input()\n",
    "for i in x:\n",
    "    while 'a' and 'b' in x:\n",
    "        print(\"yes\")\n",
    "        break\n",
    "        for y in x:\n",
    "            if 'a' and 'b'in x:\n",
    "                print(\"yes\")\n",
    "                break\n",
    "    else:\n",
    "        print(\"no\")"
   ]
  },
  {
   "cell_type": "code",
   "execution_count": null,
   "id": "b7b55c58",
   "metadata": {},
   "outputs": [],
   "source": [
    "#gives right answer in python3 but in guvi not\n",
    "x=input()\n",
    "y=input()\n",
    "z=len(x)\n",
    "w=len(y)\n",
    "if z==w:\n",
    "    print(x+y)\n",
    "if z>w:\n",
    "    print(x[:w]+y)\n",
    "else:\n",
    "    print(x+y[:z])"
   ]
  },
  {
   "cell_type": "code",
   "execution_count": null,
   "id": "081ce668",
   "metadata": {},
   "outputs": [],
   "source": [
    "#substring list from a string- quest -97\n",
    "x=input()\n",
    "list1=[]\n",
    "for i in range(len(x)):\n",
    "    for j in range(i+1,len(x)+1):\n",
    "        list1.append(x[i:j])\n",
    "        \n",
    "print (list1)"
   ]
  },
  {
   "cell_type": "code",
   "execution_count": null,
   "id": "fe7fffb6",
   "metadata": {},
   "outputs": [],
   "source": [
    "#print the word position in a string- question-100\n",
    "x=input()\n",
    "y=input()\n",
    "count=0\n",
    "for i in range(len(x)):\n",
    "    if str(i)==y:\n",
    "        count=count+i\n",
    "        print(count)\n",
    "    else:\n",
    "        print(-1)\n",
    "        break"
   ]
  },
  {
   "cell_type": "code",
   "execution_count": null,
   "id": "7fc11c44",
   "metadata": {},
   "outputs": [],
   "source": [
    "x=input()\n",
    "y=input()\n",
    "z=len(x)\n",
    "w=len(y)\n",
    "if z>w:\n",
    "    print(x)\n",
    "elif:\n",
    "    print(x)\n",
    "\n",
    "else:\n",
    "    print(y)"
   ]
  },
  {
   "cell_type": "code",
   "execution_count": null,
   "id": "94e54e1c",
   "metadata": {},
   "outputs": [],
   "source": [
    "#printing without vowels \n",
    "x=input()\n",
    "str1=x.casefold()\n",
    "vowels=\"aeiou\"\n",
    "list1=[]\n",
    "for character in str1:\n",
    "    if character not in vowels:\n",
    "        list1.append(character)\n",
    "print(\"\".join(list1))"
   ]
  },
  {
   "cell_type": "code",
   "execution_count": null,
   "id": "ea05a8f5",
   "metadata": {},
   "outputs": [],
   "source": [
    "#removing repeated characters second time ? Question 5\n",
    "x=input()\n",
    "list1=[]\n",
    "for character in x:\n",
    "    if character not in list1:\n",
    "        list1.append(character)\n",
    "print(\"\".join(list1))"
   ]
  },
  {
   "cell_type": "code",
   "execution_count": null,
   "id": "d4b0bf16",
   "metadata": {},
   "outputs": [],
   "source": [
    "import re\n",
    "x=input()\n",
    "#seperate number in a string to a list\n",
    "numbers=re.findall('\\d+',x)\n",
    "#join list to a string again \n",
    "str1=\"\".join(numbers)\n",
    "#split the string to int\n",
    "num2=int(str1)\n",
    "print (num2)\n",
    "num3=0\n",
    "for i in num2:\n",
    "    num3=+i\n",
    "print(num3)"
   ]
  },
  {
   "cell_type": "code",
   "execution_count": null,
   "id": "5c632524",
   "metadata": {},
   "outputs": [],
   "source": [
    "#failed test case 2\n",
    "import re\n",
    "x=input()\n",
    "numbers=re.findall('\\d+',x)\n",
    "str2=max(numbers)\n",
    "print(str2)"
   ]
  },
  {
   "cell_type": "code",
   "execution_count": null,
   "id": "bf847846",
   "metadata": {},
   "outputs": [],
   "source": [
    "x=input()\n",
    "for i in x:\n",
    "    if x[0] is not x[1] and x[0] is not x[2] and x[1] is not x[2] and len(x)==3:\n",
    "        print(1)\n",
    "        break\n",
    "    else:\n",
    "        print(0)\n",
    "        break\n",
    "        "
   ]
  },
  {
   "cell_type": "code",
   "execution_count": null,
   "id": "48f7e6e4",
   "metadata": {},
   "outputs": [],
   "source": [
    "x='abd'\n",
    "print(len(x))"
   ]
  },
  {
   "cell_type": "code",
   "execution_count": null,
   "id": "46123143",
   "metadata": {},
   "outputs": [],
   "source": [
    "x=input()\n",
    "y=x.split()\n",
    "#convert list to set so that duplicate is eliminated\n",
    "y=list(set(y))\n",
    "print(y)\n",
    "    "
   ]
  },
  {
   "cell_type": "code",
   "execution_count": null,
   "id": "ed9131b3",
   "metadata": {},
   "outputs": [],
   "source": [
    "x=input()\n",
    "for i in x:\n",
    "    if len(x)==10 and i is not x.islower() and x[:4]is x.isalpha() and x[5:] in range(1,9):\n",
    "        print(\"pan\")\n",
    "        break\n",
    "    else:\n",
    "        print(\"notpan\")\n",
    "        break"
   ]
  },
  {
   "cell_type": "code",
   "execution_count": 11,
   "id": "e62db42e",
   "metadata": {},
   "outputs": [
    {
     "name": "stdout",
     "output_type": "stream",
     "text": [
      "3\n",
      "InfinityWar EndGame Avengers\n",
      "Avengers EndGame InfinityWar\n"
     ]
    }
   ],
   "source": [
    "b=int(input())\n",
    "z=input().split()\n",
    "z.sort()\n",
    "print(\" \".join(z))"
   ]
  },
  {
   "cell_type": "code",
   "execution_count": 16,
   "id": "d2f345a6",
   "metadata": {},
   "outputs": [
    {
     "name": "stdout",
     "output_type": "stream",
     "text": [
      "john johnny jackie johnny john jackie jamie jamie john johnny jamie johnny john\n",
      "['john', 'johnny', 'jackie', 'johnny', 'john', 'jackie', 'jamie', 'jamie', 'john', 'johnny', 'jamie', 'johnny', 'john']\n",
      "0\n",
      "0\n"
     ]
    }
   ],
   "source": [
    "#wrong logic \n",
    "x=[\"john\",\"johnny\",\"jamie\",\"jackie\"]\n",
    "y=input().split()\n",
    "print(y)\n",
    "john=0\n",
    "johnny=0\n",
    "jamie=0\n",
    "jackie=0\n",
    "for i in x:\n",
    "    if i in y:\n",
    "        john=john+1\n",
    "        if i is:\n",
    "            johnny=johnny+1\n",
    "            if i==x[2]:\n",
    "                jamie=jamie+1\n",
    "                if i==x[3]:\n",
    "                    jackie=jackie+1\n",
    "print(john)\n",
    "print(johnny)\n"
   ]
  },
  {
   "cell_type": "code",
   "execution_count": 17,
   "id": "08eb713b",
   "metadata": {},
   "outputs": [
    {
     "name": "stdout",
     "output_type": "stream",
     "text": [
      "virat kohli\n",
      "kohli virat\n"
     ]
    }
   ],
   "source": [
    "z=input().split()\n",
    "z.sort()\n",
    "print(\" \".join(z))"
   ]
  },
  {
   "cell_type": "code",
   "execution_count": 28,
   "id": "31c1feb3",
   "metadata": {},
   "outputs": [
    {
     "name": "stdout",
     "output_type": "stream",
     "text": [
      "lappal\n",
      "yes\n"
     ]
    }
   ],
   "source": [
    "x=input()\n",
    "y=x[::-1]\n",
    "if x==y:\n",
    "    print(\"yes\")\n",
    "else:\n",
    "    print(\"no\")"
   ]
  },
  {
   "cell_type": "code",
   "execution_count": 41,
   "id": "8c7166ca",
   "metadata": {},
   "outputs": [
    {
     "name": "stdout",
     "output_type": "stream",
     "text": [
      "anmjhuiljvhkbjlnmhghlihfsdrgbnmlkjhgfxcvbnmmnbvcxcvbnmmnbvc\n",
      "29\n",
      "0\n"
     ]
    }
   ],
   "source": [
    "x=input()\n",
    "y=int(len(x)/2)\n",
    "print(y)\n",
    "for i in x:\n",
    "    if  x[0]==\"A\"or x[0]== \"a\" and x[y]==\"m\" and x[-1]==\"z\":\n",
    "        print(1)\n",
    "        break\n",
    "else:\n",
    "    print(0)"
   ]
  },
  {
   "cell_type": "code",
   "execution_count": null,
   "id": "277dbf1a",
   "metadata": {},
   "outputs": [],
   "source": []
  }
 ],
 "metadata": {
  "kernelspec": {
   "display_name": "Python 3",
   "language": "python",
   "name": "python3"
  },
  "language_info": {
   "codemirror_mode": {
    "name": "ipython",
    "version": 3
   },
   "file_extension": ".py",
   "mimetype": "text/x-python",
   "name": "python",
   "nbconvert_exporter": "python",
   "pygments_lexer": "ipython3",
   "version": "3.8.8"
  }
 },
 "nbformat": 4,
 "nbformat_minor": 5
}
