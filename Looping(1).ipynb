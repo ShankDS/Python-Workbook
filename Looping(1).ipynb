{
 "cells": [
  {
   "cell_type": "markdown",
   "id": "5c1ab60d",
   "metadata": {},
   "source": [
    "Write a code to get 2 integers as input and find the HCF of the 2 integer without using recursion or Euclidean algorithm.\n",
    "\n",
    "Input Description:\n",
    "A single line containing 2 integers separated by space.\n",
    "\n",
    "Output Description:\n",
    "Print the HCF of the integers."
   ]
  },
  {
   "cell_type": "code",
   "execution_count": 1,
   "id": "b7c26c29",
   "metadata": {},
   "outputs": [
    {
     "name": "stdout",
     "output_type": "stream",
     "text": [
      "2 3\n",
      "1\n"
     ]
    }
   ],
   "source": [
    "x,y=input().split() \n",
    "x=int(x)\n",
    "y=int(y)\n",
    "if x > y: \n",
    "    smaller = y \n",
    "\n",
    "else: \n",
    "    smaller = x \n",
    "for i in range(1, smaller+1): \n",
    "    if((x % i == 0) and (y % i == 0)): \n",
    "        hcf = i  \n",
    "print(hcf)"
   ]
  },
  {
   "cell_type": "markdown",
   "id": "fba3a461",
   "metadata": {},
   "source": [
    "Write a code to get an integer N and print the even values from 1 till N in a separate line.\n",
    "\n",
    "Input Description:\n",
    "A single line contains an integer N.\n",
    "\n",
    "Output Description:\n",
    "Print the even values from 1 to N in a separate line."
   ]
  },
  {
   "cell_type": "code",
   "execution_count": 2,
   "id": "8b3f7a31",
   "metadata": {},
   "outputs": [
    {
     "name": "stdout",
     "output_type": "stream",
     "text": [
      "6\n",
      "2\n",
      "4\n",
      "6\n"
     ]
    }
   ],
   "source": [
    "N=int(input())\n",
    "for i in range(1,N+1):\n",
    "    if i%2==0:\n",
    "        print(i)"
   ]
  },
  {
   "cell_type": "markdown",
   "id": "6c12fa4c",
   "metadata": {},
   "source": [
    "Write a code to get the input and print it 5 times.\n",
    "\n",
    "Input Description:\n",
    "A single line contains an integer N.\n",
    "\n",
    "Output Description:\n",
    "Output contains 5 lines with each line having the value N."
   ]
  },
  {
   "cell_type": "code",
   "execution_count": 3,
   "id": "9c76012b",
   "metadata": {},
   "outputs": [
    {
     "name": "stdout",
     "output_type": "stream",
     "text": [
      "4\n",
      "4\n",
      "4\n",
      "4\n",
      "4\n",
      "4\n",
      "\n"
     ]
    }
   ],
   "source": [
    "N=int(input())\n",
    "N=str(N)\n",
    "print((N+'\\n')*5)"
   ]
  },
  {
   "cell_type": "markdown",
   "id": "798e912b",
   "metadata": {},
   "source": [
    "Write a code to get an integer N and print the values from N to 1.\n",
    "\n",
    "Input Description:\n",
    "A single line contains an integer N.\n",
    "\n",
    "Output Description:\n",
    "Print the values from N to 1 in a separate line."
   ]
  },
  {
   "cell_type": "code",
   "execution_count": 4,
   "id": "4c74c968",
   "metadata": {},
   "outputs": [
    {
     "name": "stdout",
     "output_type": "stream",
     "text": [
      "10\n",
      "10\n",
      "9\n",
      "8\n",
      "7\n",
      "6\n",
      "5\n",
      "4\n",
      "3\n",
      "2\n",
      "1\n"
     ]
    }
   ],
   "source": [
    "x=int(input())\n",
    "for i in range(x,0,-1):print(i)"
   ]
  },
  {
   "cell_type": "markdown",
   "id": "b2723508",
   "metadata": {},
   "source": [
    "Write a code to get 2 integers A and N. Print the integer A, N times in separate line.\n",
    "\n",
    "Input Description:\n",
    "First line contains an integer A. Second line contains an Integer N.\n",
    "\n",
    "Output Description:\n",
    "Print the integer A, N times in a separate line. "
   ]
  },
  {
   "cell_type": "code",
   "execution_count": 5,
   "id": "13be1a5f",
   "metadata": {},
   "outputs": [
    {
     "name": "stdout",
     "output_type": "stream",
     "text": [
      "2 3\n",
      "2\n",
      "2\n",
      "2\n",
      "\n"
     ]
    }
   ],
   "source": [
    "A,N=input().split()\n",
    "N=int(N)\n",
    "print((A+'\\n')*N)"
   ]
  },
  {
   "cell_type": "markdown",
   "id": "04043b04",
   "metadata": {},
   "source": [
    "Write a code to get an integer N and print the digits of the integer.\n",
    "\n",
    "Input Description:\n",
    "A single line contains an integer N.\n",
    "\n",
    "Output Description:\n",
    "Print the digits of the integer in a single line separated by space,"
   ]
  },
  {
   "cell_type": "code",
   "execution_count": 6,
   "id": "e44cdab1",
   "metadata": {},
   "outputs": [
    {
     "name": "stdout",
     "output_type": "stream",
     "text": [
      "346\n",
      "3 4 6\n"
     ]
    }
   ],
   "source": [
    "a=int(input())\n",
    "b=str(a)\n",
    "print(\" \".join(b))"
   ]
  },
  {
   "cell_type": "markdown",
   "id": "1c933d02",
   "metadata": {},
   "source": [
    "Write a code get an integer number as input and print the sum of the digits.\n",
    "\n",
    "Input Description:\n",
    "A single line containing an integer.\n",
    "\n",
    "Output Description:\n",
    "Print the sum of the digits of the integer."
   ]
  },
  {
   "cell_type": "code",
   "execution_count": 7,
   "id": "30334819",
   "metadata": {},
   "outputs": [
    {
     "name": "stdout",
     "output_type": "stream",
     "text": [
      "145\n",
      "10\n"
     ]
    }
   ],
   "source": [
    "N=input()\n",
    "Num_sum=0\n",
    "for i in str(N):\n",
    "    Num_sum=Num_sum+int(i)\n",
    "print(Num_sum)"
   ]
  },
  {
   "cell_type": "markdown",
   "id": "03d1ab84",
   "metadata": {},
   "source": [
    "Write a code get an integer number as input and print the odd and even digits of the number separately.\n",
    "\n",
    "Input Description:\n",
    "A single line containing an integer.\n",
    "\n",
    "Output Description:\n",
    "Print the even and odd integers of the integer in a separate line."
   ]
  },
  {
   "cell_type": "code",
   "execution_count": 8,
   "id": "a9a1ed2d",
   "metadata": {},
   "outputs": [
    {
     "name": "stdout",
     "output_type": "stream",
     "text": [
      "76538\n",
      "6 8\n",
      "3 5 7\n"
     ]
    }
   ],
   "source": [
    "s= input()\n",
    "evenlist=[]\n",
    "oddlist=[]\n",
    "res = [int(x) for x in str(s)]\n",
    "for i in res:\n",
    "    if(int(i)%2==0):\n",
    "        evenlist.extend(str(i))\n",
    "    else:\n",
    "        oddlist.extend(str(i))\n",
    "evenlist.sort()\n",
    "oddlist.sort()\n",
    "print(\" \".join(str(int) for int in evenlist))\n",
    "print(\" \".join(str(int) for int in oddlist))"
   ]
  },
  {
   "cell_type": "markdown",
   "id": "5ba5a948",
   "metadata": {},
   "source": [
    "Write a program to get a string as input and reverse the string without using temporary variable.\n",
    "\n",
    "Input Description:\n",
    "A single line containing a string.\n",
    "\n",
    "Output Description:\n",
    "Print the reversed string."
   ]
  },
  {
   "cell_type": "code",
   "execution_count": 9,
   "id": "8bf02420",
   "metadata": {},
   "outputs": [
    {
     "name": "stdout",
     "output_type": "stream",
     "text": [
      "England\n",
      "dnalgnE\n"
     ]
    }
   ],
   "source": [
    "x=input(\"\")[::-1]\n",
    "print(x)"
   ]
  },
  {
   "cell_type": "markdown",
   "id": "0c74bb65",
   "metadata": {},
   "source": [
    "Write a code to get an integer N and print values from 1 till N in a separate line.\n",
    "\n",
    "Input Description:\n",
    "A single line contains an integer N.\n",
    "\n",
    "Output Description:\n",
    "Print the values from 1 to N in a separate line."
   ]
  },
  {
   "cell_type": "code",
   "execution_count": 10,
   "id": "8a076a6e",
   "metadata": {},
   "outputs": [
    {
     "name": "stdout",
     "output_type": "stream",
     "text": [
      "5\n",
      "1\n",
      "2\n",
      "3\n",
      "4\n",
      "5\n"
     ]
    }
   ],
   "source": [
    "n=int(input())\n",
    "a=range(n)\n",
    "for i in a:\n",
    "    print(i+1)"
   ]
  },
  {
   "cell_type": "markdown",
   "id": "ec413f28",
   "metadata": {},
   "source": [
    "Write a code to get an integer N and print the sum of  values from 1 to N.\n",
    "\n",
    "Input Description:\n",
    "A single line contains an integer N.\n",
    "\n",
    "Output Description:\n",
    "Print the sum of values from 1 to N"
   ]
  },
  {
   "cell_type": "code",
   "execution_count": 11,
   "id": "ce471c91",
   "metadata": {},
   "outputs": [
    {
     "name": "stdout",
     "output_type": "stream",
     "text": [
      "99\n",
      "4950\n"
     ]
    }
   ],
   "source": [
    "N=int(input())\n",
    "Num=0\n",
    "for i in range(1,N+1):\n",
    "    Num=Num+i\n",
    "print(Num)"
   ]
  },
  {
   "cell_type": "code",
   "execution_count": null,
   "id": "0db5a3e5",
   "metadata": {},
   "outputs": [],
   "source": []
  },
  {
   "cell_type": "code",
   "execution_count": null,
   "id": "a6ded8e5",
   "metadata": {},
   "outputs": [],
   "source": []
  }
 ],
 "metadata": {
  "kernelspec": {
   "display_name": "Python 3",
   "language": "python",
   "name": "python3"
  },
  "language_info": {
   "codemirror_mode": {
    "name": "ipython",
    "version": 3
   },
   "file_extension": ".py",
   "mimetype": "text/x-python",
   "name": "python",
   "nbconvert_exporter": "python",
   "pygments_lexer": "ipython3",
   "version": "3.8.8"
  }
 },
 "nbformat": 4,
 "nbformat_minor": 5
}
