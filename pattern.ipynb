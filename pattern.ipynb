{
 "cells": [
  {
   "cell_type": "code",
   "execution_count": 64,
   "id": "5d5f964d",
   "metadata": {},
   "outputs": [
    {
     "name": "stdout",
     "output_type": "stream",
     "text": [
      "5\n",
      "None\n"
     ]
    }
   ],
   "source": [
    "N=int(input())\n",
    "mylist=[list(range(1,N+1))]\n",
    "mylist1=mylist.reverse()\n",
    "print(mylist1)"
   ]
  },
  {
   "cell_type": "code",
   "execution_count": 65,
   "id": "cbc1a674",
   "metadata": {},
   "outputs": [
    {
     "name": "stdout",
     "output_type": "stream",
     "text": [
      "5\n",
      "[1, 1, 11, 121, 131, 141, 98]\n"
     ]
    }
   ],
   "source": [
    "import numpy as np\n",
    "N=int(input())\n",
    "l=np.array([1,1,11,121,131,141,98])\n",
    "b=[]\n",
    "for i in l:\n",
    "    if i==i:\n",
    "        b.append(int(i))\n",
    "    else:\n",
    "        print(-1)\n",
    "print(b)\n"
   ]
  },
  {
   "cell_type": "code",
   "execution_count": 5,
   "id": "e808f5c8",
   "metadata": {},
   "outputs": [
    {
     "name": "stdout",
     "output_type": "stream",
     "text": [
      "1 1\n",
      "* \n"
     ]
    }
   ],
   "source": [
    "rows,cols=input().split()\n",
    "rows = int(rows)\n",
    "cols=int(cols)\n",
    "for row in range(0,rows):\n",
    "    for col in range(0,cols):\n",
    "        print(\"* \", end=\"\")\n",
    "    print()"
   ]
  },
  {
   "cell_type": "code",
   "execution_count": 6,
   "id": "7d1b6d87",
   "metadata": {},
   "outputs": [
    {
     "name": "stdout",
     "output_type": "stream",
     "text": [
      "5\n",
      "11111\n",
      "11111\n",
      "11111\n",
      "11111\n",
      "11111\n"
     ]
    }
   ],
   "source": [
    "rows =int(input())\n",
    "for row in range(0,rows):\n",
    "    for col in range(0,rows):\n",
    "        print(\"1\", end=\"\")\n",
    "    print()"
   ]
  },
  {
   "cell_type": "code",
   "execution_count": 12,
   "id": "aa5e768c",
   "metadata": {},
   "outputs": [
    {
     "name": "stdout",
     "output_type": "stream",
     "text": [
      "5\n",
      "12345\n",
      "1234\n",
      "123\n",
      "12\n",
      "1\n"
     ]
    }
   ],
   "source": [
    "rows = int(input())\n",
    "#for loop with in for loop to oterate rows followed by column\n",
    "for row in range(rows):\n",
    "    for col in range(rows-row):\n",
    "        print(col+1, end=\"\")\n",
    "    print()"
   ]
  },
  {
   "cell_type": "code",
   "execution_count": null,
   "id": "272f1546",
   "metadata": {},
   "outputs": [],
   "source": [
    "rows = int(input())\n",
    "#for loop with in for loop to oterate rows followed by column\n",
    "for row in range(rows):\n",
    "    for col in range(rows-row):\n",
    "        print(col+1, end=\"\")\n",
    "    print()"
   ]
  },
  {
   "cell_type": "code",
   "execution_count": 4,
   "id": "d6003e81",
   "metadata": {},
   "outputs": [
    {
     "name": "stdout",
     "output_type": "stream",
     "text": [
      "3 5\n",
      "* * * * * \n",
      "* * * * * \n",
      "* * * * * \n"
     ]
    }
   ],
   "source": [
    "rows,cols=input().split()\n",
    "rows = int(rows)\n",
    "cols=int(cols)\n",
    "#initial rows followed by column\n",
    "for row in range(rows):\n",
    "    for col in range(0,cols):\n",
    "        print(\"*\", end=\" \")\n",
    "    print()"
   ]
  },
  {
   "cell_type": "code",
   "execution_count": 7,
   "id": "f2214989",
   "metadata": {},
   "outputs": [
    {
     "name": "stdout",
     "output_type": "stream",
     "text": [
      "5\n",
      "0*\n",
      "0*1*\n",
      "0*1*2*\n",
      "0*1*2*3*\n",
      "0*1*2*3*4*\n"
     ]
    }
   ],
   "source": [
    "row=int(input())\n",
    "for i in range (1,row+1):\n",
    "    for col in range(i):\n",
    "        print(col,end=\"*\")\n",
    "    print()"
   ]
  },
  {
   "cell_type": "code",
   "execution_count": 8,
   "id": "e9c67d60",
   "metadata": {},
   "outputs": [
    {
     "name": "stdout",
     "output_type": "stream",
     "text": [
      "5\n",
      "#\n",
      "##\n",
      "###\n",
      "####\n",
      "#####\n"
     ]
    }
   ],
   "source": [
    "row=int(input())\n",
    "for i in range(0,row):\n",
    "    for j in range(i+1):\n",
    "        print(\"#\",end=\"\")\n",
    "    print()"
   ]
  },
  {
   "cell_type": "code",
   "execution_count": 29,
   "id": "df32c53b",
   "metadata": {},
   "outputs": [
    {
     "name": "stdout",
     "output_type": "stream",
     "text": [
      "5\n",
      "0123\n",
      "0123\n",
      "0123\n",
      "0123\n"
     ]
    }
   ],
   "source": [
    "x=int(input())\n",
    "num=1\n",
    "for i in range(1,x):\n",
    "    for j in range(1,x):\n",
    "        print(j-1,end=\"\")\n",
    "    print()"
   ]
  },
  {
   "cell_type": "code",
   "execution_count": 30,
   "id": "403c18f5",
   "metadata": {},
   "outputs": [
    {
     "name": "stdout",
     "output_type": "stream",
     "text": [
      "6\n",
      "1\n",
      "12\n",
      "123\n",
      "1234\n",
      "12345\n"
     ]
    }
   ],
   "source": [
    "x=int(input())\n",
    "for row in range(1,x):\n",
    "    for col in range(row):\n",
    "        print(col+1,end=\"\")\n",
    "    print()"
   ]
  },
  {
   "cell_type": "code",
   "execution_count": 31,
   "id": "df74671f",
   "metadata": {},
   "outputs": [
    {
     "name": "stdout",
     "output_type": "stream",
     "text": [
      "6\n",
      "12345\n",
      "1234\n",
      "123\n",
      "12\n",
      "1\n"
     ]
    }
   ],
   "source": [
    "x=int(input())\n",
    "for row in reversed(range(1,x+1)):\n",
    "    for col in range(row):\n",
    "        print(col+1,end=\"\")\n",
    "    print()"
   ]
  },
  {
   "cell_type": "code",
   "execution_count": 32,
   "id": "1b4fbdd7",
   "metadata": {},
   "outputs": [
    {
     "name": "stdout",
     "output_type": "stream",
     "text": [
      "5\n",
      "55555\n",
      "4444\n",
      "333\n",
      "22\n",
      "1\n"
     ]
    }
   ],
   "source": [
    "row=int(input())\n",
    "for i in reversed(range (1,row+1)):\n",
    "    for col in range(i):\n",
    "        print(i,end=\"\")\n",
    "    print()"
   ]
  },
  {
   "cell_type": "code",
   "execution_count": 40,
   "id": "42a682de",
   "metadata": {},
   "outputs": [
    {
     "name": "stdout",
     "output_type": "stream",
     "text": [
      "5\n",
      "*\n",
      "**\n",
      "***\n",
      "****\n",
      "*****\n"
     ]
    }
   ],
   "source": [
    "row=int(input())\n",
    "for i in (range(1,row+1)):\n",
    "    for j in reversed(range(i)):\n",
    "        print(\"*\",end=\"\")\n",
    "    print()"
   ]
  },
  {
   "cell_type": "code",
   "execution_count": 50,
   "id": "84db5f95",
   "metadata": {},
   "outputs": [
    {
     "name": "stdout",
     "output_type": "stream",
     "text": [
      "6\n",
      "       1 \n",
      "      1 1 \n",
      "     1 2 1 \n",
      "    1 3 3 1 \n",
      "   1 4 6 4 1 \n",
      "  1 5 10 10 5 1 \n"
     ]
    }
   ],
   "source": [
    "from math import factorial\n",
    "n=int(input())\n",
    "for x in range(n):\n",
    "    for y in range(n-x+1):\n",
    "        print(end=\" \")\n",
    "    for y in range(x+1):\n",
    "        print(factorial(x)//(factorial(y)*factorial(x-y)),end=\" \")#formula for nCr=n!/((n-r)!*r!)\n",
    "    print()"
   ]
  },
  {
   "cell_type": "code",
   "execution_count": 46,
   "id": "310dc06b",
   "metadata": {},
   "outputs": [
    {
     "name": "stdout",
     "output_type": "stream",
     "text": [
      "5\n",
      "12345\n",
      "1234\n",
      "123\n",
      "12\n",
      "1\n"
     ]
    }
   ],
   "source": [
    "rows = int(input())\n",
    "#for loop with in for loop to iterate rows followed by column\n",
    "for row in range(rows):\n",
    "    for col in range(rows-row):\n",
    "        print(col+1, end=\"\")\n",
    "    print()"
   ]
  },
  {
   "cell_type": "code",
   "execution_count": 48,
   "id": "fe3eef4f",
   "metadata": {},
   "outputs": [
    {
     "name": "stdout",
     "output_type": "stream",
     "text": [
      "5\n",
      "1\n",
      "22\n",
      "333\n",
      "4444\n",
      "55555\n"
     ]
    }
   ],
   "source": [
    "row=int(input())\n",
    "for i in range (1,row+1):\n",
    "    for col in range(i):\n",
    "        print(i,end=\"\")\n",
    "    print()"
   ]
  },
  {
   "cell_type": "code",
   "execution_count": 62,
   "id": "262fdb08",
   "metadata": {},
   "outputs": [
    {
     "name": "stdout",
     "output_type": "stream",
     "text": [
      "5\n",
      "A\n",
      "BC\n",
      "DEF\n",
      "GHIJ\n",
      "KLMNO\n"
     ]
    }
   ],
   "source": [
    "\n",
    "#def pattern (num)\n",
    "num=int(input())\n",
    "number=65 #initialising ASCII value of A\n",
    "for row in range(0,num):#outer for rows\n",
    "    for j in range(0,row+1):#inner loop for column\n",
    "        char=chr(number)#finding ASCII equivalent of number\n",
    "        print(char,end=\"\")\n",
    "        number=number+1 #incrementing number\n",
    "    print(\"\\r\") #ending line each row\n",
    "        \n",
    "        \n"
   ]
  },
  {
   "cell_type": "code",
   "execution_count": 63,
   "id": "15587a16",
   "metadata": {},
   "outputs": [
    {
     "name": "stdout",
     "output_type": "stream",
     "text": [
      "5\n",
      "A\n",
      "BB\n",
      "CCC\n",
      "DDDD\n",
      "EEEEE\n"
     ]
    }
   ],
   "source": [
    "\n",
    "#def pattern (num)\n",
    "num=int(input())\n",
    "number=65 #initialising ASCII value of A\n",
    "for row in range(0,num):#outer for rows\n",
    "    for j in range(0,row+1):#inner loop for column\n",
    "        char=chr(number)#finding ASCII equivalent of number\n",
    "        print(char,end=\"\")\n",
    "    number=number+1 #incrementing number\n",
    "    print(\"\\r\") #ending line each row"
   ]
  },
  {
   "cell_type": "code",
   "execution_count": null,
   "id": "5c0f0f33",
   "metadata": {},
   "outputs": [],
   "source": []
  }
 ],
 "metadata": {
  "kernelspec": {
   "display_name": "Python 3",
   "language": "python",
   "name": "python3"
  },
  "language_info": {
   "codemirror_mode": {
    "name": "ipython",
    "version": 3
   },
   "file_extension": ".py",
   "mimetype": "text/x-python",
   "name": "python",
   "nbconvert_exporter": "python",
   "pygments_lexer": "ipython3",
   "version": "3.8.8"
  }
 },
 "nbformat": 4,
 "nbformat_minor": 5
}
