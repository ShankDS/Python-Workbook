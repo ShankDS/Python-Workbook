{
 "cells": [
  {
   "cell_type": "markdown",
   "id": "9785feaf",
   "metadata": {},
   "source": [
    "Write a code to get the input in the given format and print the output in the given format\n",
    "\n",
    "Input Description:\n",
    "To take an integer value\n",
    "\n",
    "Output Description:\n",
    "Print the integer value"
   ]
  },
  {
   "cell_type": "code",
   "execution_count": 1,
   "id": "25ca3c9b",
   "metadata": {},
   "outputs": [
    {
     "name": "stdout",
     "output_type": "stream",
     "text": [
      "5\n",
      "5\n"
     ]
    }
   ],
   "source": [
    "x= int(input(\"\"))\n",
    "print(x)"
   ]
  },
  {
   "cell_type": "markdown",
   "id": "ab74f5f8",
   "metadata": {},
   "source": [
    "Input Description:\n",
    "A single line contains integers separated by space\n",
    "\n",
    "Output Description:\n",
    "Print the integer list of integers separated by space"
   ]
  },
  {
   "cell_type": "code",
   "execution_count": 2,
   "id": "546899c6",
   "metadata": {},
   "outputs": [
    {
     "name": "stdout",
     "output_type": "stream",
     "text": [
      "2 3 4 5 6 7 8\n",
      "2 3 4 5 6 7 8\n"
     ]
    }
   ],
   "source": [
    "x= input()\n",
    "print(x)"
   ]
  },
  {
   "cell_type": "markdown",
   "id": "c1d02bdf",
   "metadata": {},
   "source": [
    "Write a code to get the input in the given format and print the output in the given format.\n",
    "\n",
    "Input Description:\n",
    "First-line indicates two integers which are the size of array and 'K' value. Second-line indicates an integer contains elements of an array.\n",
    "\n",
    "Output Description:\n",
    "Print the taken input in the same format."
   ]
  },
  {
   "cell_type": "code",
   "execution_count": 4,
   "id": "60bdad93",
   "metadata": {},
   "outputs": [
    {
     "name": "stdout",
     "output_type": "stream",
     "text": [
      "5 3\n",
      "1 2 3 4 5\n",
      "5 3\n",
      "1 2 3 4 5\n"
     ]
    }
   ],
   "source": [
    "x=input()\n",
    "y=input()\n",
    "print(x)\n",
    "print(y)"
   ]
  },
  {
   "cell_type": "markdown",
   "id": "0b42aa3e",
   "metadata": {},
   "source": [
    "Write a code to get the input in the given format and print the output in the given format\n",
    "\n",
    "Input Description:\n",
    "First-line indicates two integers separated by space. Second-line indicates two integers separated by space. Third-line indicates two integers separated by space.\n",
    "\n",
    "Output Description:\n",
    "Print the input in the same format."
   ]
  },
  {
   "cell_type": "code",
   "execution_count": 5,
   "id": "996ab3cf",
   "metadata": {},
   "outputs": [
    {
     "name": "stdout",
     "output_type": "stream",
     "text": [
      "2 4\n",
      "2 4 \n",
      "2 4\n",
      "2 4\n",
      "2 4 \n",
      "2 4\n"
     ]
    }
   ],
   "source": [
    "x=input()\n",
    "y=input()\n",
    "z=input()\n",
    "print(x)\n",
    "print(y)\n",
    "print(z)"
   ]
  },
  {
   "cell_type": "markdown",
   "id": "f5a8c09e",
   "metadata": {},
   "source": [
    "Write a code to get the input in the given format and print the output in the given format\n",
    "\n",
    "Input Description:\n",
    "Three integers are given in line by line.\n",
    "\n",
    "Output Description:"
   ]
  },
  {
   "cell_type": "code",
   "execution_count": 6,
   "id": "4917de21",
   "metadata": {},
   "outputs": [
    {
     "name": "stdout",
     "output_type": "stream",
     "text": [
      "2\n",
      "4\n",
      "5\n",
      "2 4 5\n"
     ]
    }
   ],
   "source": [
    "x=input()\n",
    "y=input()\n",
    "z=input()\n",
    "print(x,y,z)"
   ]
  },
  {
   "cell_type": "markdown",
   "id": "7988d993",
   "metadata": {},
   "source": [
    "Write a code to get the input in the given format and print the output in the given format\n",
    "\n",
    "Input Description:\n",
    "First-line indicates two integers separated by space. Second-line indicates three integers separated by space. Third-line indicates three integers separated by space"
   ]
  },
  {
   "cell_type": "code",
   "execution_count": 7,
   "id": "22e2aa0f",
   "metadata": {},
   "outputs": [
    {
     "name": "stdout",
     "output_type": "stream",
     "text": [
      "2 5\n",
      "2 5 6\n",
      "2 7 6\n",
      "2 5\n",
      "2 5 6\n",
      "2 7 6\n"
     ]
    }
   ],
   "source": [
    "x=input()\n",
    "y=input()\n",
    "z=input()\n",
    "print(x)\n",
    "print(y)\n",
    "print(z)"
   ]
  },
  {
   "cell_type": "markdown",
   "id": "59fab233",
   "metadata": {},
   "source": [
    "Write a code to get the input in the given format and print the output in the given format\n",
    "\n",
    "Input Description:\n",
    "A single line contains a string.\n",
    "\n",
    "Output Description:\n",
    "Print the characters in a string separated by space"
   ]
  },
  {
   "cell_type": "code",
   "execution_count": 9,
   "id": "ef9cde1e",
   "metadata": {},
   "outputs": [
    {
     "name": "stdout",
     "output_type": "stream",
     "text": [
      "cricket\n",
      "c r i c k e t\n"
     ]
    }
   ],
   "source": [
    "string=input()\n",
    "print(\" \".join(string))"
   ]
  },
  {
   "cell_type": "markdown",
   "id": "8c4df8f4",
   "metadata": {},
   "source": [
    "Write a code to get the input in the given format and print the output in the given format.\n",
    "\n",
    "Input Description:\n",
    "A single line contains three float values separated by space.\n",
    "\n",
    "Output Description:\n",
    "Print the float value separated by line."
   ]
  },
  {
   "cell_type": "code",
   "execution_count": 11,
   "id": "89485366",
   "metadata": {},
   "outputs": [
    {
     "name": "stdout",
     "output_type": "stream",
     "text": [
      "2.3 4.5 7.8\n",
      "2.3\n",
      "4.5\n",
      "7.8\n"
     ]
    }
   ],
   "source": [
    "x,y,z=input().split()\n",
    "print(x)\n",
    "print(y)\n",
    "print(z)"
   ]
  },
  {
   "cell_type": "markdown",
   "id": "dc857020",
   "metadata": {},
   "source": [
    "Write a code to get the input in the given format and print the output in the given format.\n",
    "\n",
    "Input Description:\n",
    "A single line contains a string.\n",
    "\n",
    "Output Description:\n",
    "Print the characters in a string separated by line."
   ]
  },
  {
   "cell_type": "code",
   "execution_count": 12,
   "id": "2344fac5",
   "metadata": {},
   "outputs": [
    {
     "name": "stdout",
     "output_type": "stream",
     "text": [
      "federrer\n",
      "f\n",
      "e\n",
      "d\n",
      "e\n",
      "r\n",
      "r\n",
      "e\n",
      "r\n"
     ]
    }
   ],
   "source": [
    "x=input()\n",
    "for i in x:\n",
    "    print(i)"
   ]
  },
  {
   "cell_type": "markdown",
   "id": "5e710dd0",
   "metadata": {},
   "source": [
    "Write a code to get the input in the given format and print the output in the given format.\n",
    "\n",
    "Input Description:\n",
    "A single line contains a string.\n",
    "\n",
    "Output Description:\n",
    "Print the characters in a string separated by comma. "
   ]
  },
  {
   "cell_type": "code",
   "execution_count": 13,
   "id": "5b708958",
   "metadata": {},
   "outputs": [
    {
     "name": "stdout",
     "output_type": "stream",
     "text": [
      "Nadal\n",
      "N,a,d,a,l\n"
     ]
    }
   ],
   "source": [
    "string=input()\n",
    "print(*string,sep=\",\")"
   ]
  },
  {
   "cell_type": "code",
   "execution_count": null,
   "id": "ab4ffd29",
   "metadata": {},
   "outputs": [],
   "source": []
  }
 ],
 "metadata": {
  "kernelspec": {
   "display_name": "Python 3",
   "language": "python",
   "name": "python3"
  },
  "language_info": {
   "codemirror_mode": {
    "name": "ipython",
    "version": 3
   },
   "file_extension": ".py",
   "mimetype": "text/x-python",
   "name": "python",
   "nbconvert_exporter": "python",
   "pygments_lexer": "ipython3",
   "version": "3.8.8"
  }
 },
 "nbformat": 4,
 "nbformat_minor": 5
}
