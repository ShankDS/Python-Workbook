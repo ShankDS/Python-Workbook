{
 "cells": [
  {
   "cell_type": "code",
   "execution_count": null,
   "id": "883a44b9",
   "metadata": {},
   "outputs": [],
   "source": [
    "x,y=input().split() \n",
    "x=int(x)\n",
    "y=int(y)\n",
    "if x > y: \n",
    "    smaller = y \n",
    "\n",
    "else: \n",
    "    smaller = x \n",
    "for i in range(1, smaller+1): \n",
    "    if((x % i == 0) and (y % i == 0)): \n",
    "        hcf = i  \n",
    "print(hcf) \n",
    "    "
   ]
  },
  {
   "cell_type": "code",
   "execution_count": null,
   "id": "a22ba181",
   "metadata": {},
   "outputs": [],
   "source": []
  },
  {
   "cell_type": "code",
   "execution_count": null,
   "id": "f2b7514f",
   "metadata": {},
   "outputs": [],
   "source": [
    "def hcf_num(x,y): \n",
    "    if x > y: \n",
    "        smaller = y \n",
    "    else: \n",
    "        smaller = x \n",
    "    for i in range(1, smaller+1): \n",
    "        if((x % i == 0) and (y % i == 0)): \n",
    "            hcf = i  \n",
    "    return hcf \n",
    "##x,y=int(input().split())\n",
    "\n",
    "print(hcf_num) "
   ]
  },
  {
   "cell_type": "code",
   "execution_count": null,
   "id": "7b0fd4de",
   "metadata": {},
   "outputs": [],
   "source": [
    "s= input()\n",
    "evenlist=[]\n",
    "oddlist=[]\n",
    "res = [int(x) for x in str(s)]\n",
    "for i in res:\n",
    "    if(int(i)%2==0):\n",
    "        evenlist.extend(str(i))\n",
    "    else:\n",
    "        oddlist.extend(str(i))\n",
    "evenlist.sort()\n",
    "oddlist.sort()\n",
    "print(\" \".join(str(int) for int in evenlist))\n",
    "print(\" \".join(str(int) for int in oddlist))"
   ]
  },
  {
   "cell_type": "code",
   "execution_count": null,
   "id": "389d1023",
   "metadata": {},
   "outputs": [],
   "source": [
    "N=int(input())\n",
    "Num=0\n",
    "for i in range(1,N+1):\n",
    "    Num=Num+i\n",
    "print(Num)"
   ]
  },
  {
   "cell_type": "code",
   "execution_count": null,
   "id": "8a285673",
   "metadata": {},
   "outputs": [],
   "source": [
    "A,N=input().split()\n",
    "N=int(N)\n",
    "print((A+'\\n')*N)"
   ]
  },
  {
   "cell_type": "code",
   "execution_count": null,
   "id": "0a981566",
   "metadata": {},
   "outputs": [],
   "source": [
    "N=input()\n",
    "Num_sum=0\n",
    "for i in str(N):\n",
    "    Num_sum=Num_sum+int(i)\n",
    "print(Num_sum)"
   ]
  },
  {
   "cell_type": "code",
   "execution_count": null,
   "id": "85872825",
   "metadata": {},
   "outputs": [],
   "source": [
    "N=5784\n",
    "s=0\n",
    "while(N!=0):\n",
    "    i=N%10\n",
    "    s=s+i\n",
    "    N=int(N/10)\n",
    "print(s)"
   ]
  },
  {
   "cell_type": "code",
   "execution_count": null,
   "id": "a9efc823",
   "metadata": {},
   "outputs": [],
   "source": [
    "x=int(input())\n",
    "for i in range(x,0,-1):print(i)\n",
    "    "
   ]
  },
  {
   "cell_type": "code",
   "execution_count": null,
   "id": "8d358fbb",
   "metadata": {},
   "outputs": [],
   "source": [
    "N=int(input())\n",
    "if N<0:\n",
    "    print(\"Error\")\n",
    "elif N==0:\n",
    "    print(0) \n",
    "else:\n",
    "    print(N**2)"
   ]
  },
  {
   "cell_type": "code",
   "execution_count": null,
   "id": "16068213",
   "metadata": {},
   "outputs": [],
   "source": [
    "N=int(input())\n",
    "for i in range(1,N+1):\n",
    "    if i%2==0:\n",
    "        print(i)"
   ]
  },
  {
   "cell_type": "code",
   "execution_count": null,
   "id": "02ef06bf",
   "metadata": {},
   "outputs": [],
   "source": [
    "G=int(input())\n",
    "G=str(G)\n",
    "print((G+'\\n')*5)"
   ]
  },
  {
   "cell_type": "code",
   "execution_count": null,
   "id": "4a349ed2",
   "metadata": {},
   "outputs": [],
   "source": [
    "B=[input()]\n",
    "H=[input()]\n",
    "if str(H)in str(B):print(\"yes\")\n"
   ]
  },
  {
   "cell_type": "code",
   "execution_count": null,
   "id": "29d2161b",
   "metadata": {},
   "outputs": [],
   "source": [
    "q=int(input())\n",
    "f,g=input().split()\n",
    "if int(f)<q<int(g) and int(g)>q>int(f):\n",
    "    print(\"yes\")\n",
    "else:\n",
    "    print(\"no\")"
   ]
  },
  {
   "cell_type": "code",
   "execution_count": null,
   "id": "f6319663",
   "metadata": {},
   "outputs": [],
   "source": [
    "k,l=input().split()\n",
    "u=int(k)+int(l)\n",
    "if u%2==0:\n",
    "    print(\"even\")\n",
    "else:\n",
    "    print(\"odd\")"
   ]
  },
  {
   "cell_type": "code",
   "execution_count": null,
   "id": "8e87c6b4",
   "metadata": {},
   "outputs": [],
   "source": [
    "\n"
   ]
  },
  {
   "cell_type": "code",
   "execution_count": null,
   "id": "b427c2ec",
   "metadata": {},
   "outputs": [],
   "source": [
    "import math\n",
    "#using map function to get multiple input values\n",
    "a,b,c=map(int,input().split())\n",
    "X=((-b)+(math.sqrt((b**2) - (4*a*c))))/2*a \n",
    "Y=((-b)-(math.sqrt((b**2) -(4*a*c))))/2*a\n",
    "print(format(X,\".2f\"))\n",
    "print(format(Y,\".2f\"))\n"
   ]
  },
  {
   "cell_type": "code",
   "execution_count": null,
   "id": "aaeddc44",
   "metadata": {},
   "outputs": [],
   "source": [
    "n=input()\n",
    "print((n+'\\n')*5)"
   ]
  },
  {
   "cell_type": "code",
   "execution_count": null,
   "id": "874b98ae",
   "metadata": {},
   "outputs": [],
   "source": [
    "d=int(input())\n",
    "if d==0:print(\"NULL\")\n",
    "else:\n",
    "    for i in range(1,d+1):\n",
    "        #using end function to get rid off next line and can also be used to insert\n",
    "        print(9*i,end=\" \")"
   ]
  },
  {
   "cell_type": "code",
   "execution_count": null,
   "id": "1cab9a66",
   "metadata": {},
   "outputs": [],
   "source": [
    "P,R,T=map(float,input().split())\n",
    "S=(P*T*R)/100\n",
    "print(format(S,\".2f\"))"
   ]
  },
  {
   "cell_type": "code",
   "execution_count": null,
   "id": "bbaf8cd5",
   "metadata": {},
   "outputs": [],
   "source": [
    "def remove(t): \n",
    "    return t.replace(\" \", \"\") \n",
    "t ='5 4 3 2 1 7 6 10 8 9'\n",
    "print(remove(t)) \n"
   ]
  },
  {
   "cell_type": "markdown",
   "id": "998e9a64",
   "metadata": {},
   "source": [
    "t=(input())\n",
    "list_1=t.split()\n",
    "list_1 = [int(i) for i in list_1]\n",
    "sorted(list_1)\n",
    "print(min(list_1))"
   ]
  },
  {
   "cell_type": "code",
   "execution_count": null,
   "id": "08e24e03",
   "metadata": {},
   "outputs": [],
   "source": [
    "r,e=map(int,input().spilt())\n",
    "print(r)"
   ]
  },
  {
   "cell_type": "code",
   "execution_count": null,
   "id": "d8ceb41f",
   "metadata": {},
   "outputs": [],
   "source": [
    "A,B=input().split()\n",
    "A=int(A)\n",
    "B=int(B)\n",
    "if A and B in range(1,1000001):\n",
    "    print(round((A*B)/2))"
   ]
  },
  {
   "cell_type": "code",
   "execution_count": null,
   "id": "04e82ff3",
   "metadata": {},
   "outputs": [],
   "source": [
    "A,B=input().split()\n",
    "A=int(A)\n",
    "B=int(B)\n",
    "if B>A:\n",
    "    print(B-A)"
   ]
  },
  {
   "cell_type": "code",
   "execution_count": null,
   "id": "df8e9b65",
   "metadata": {},
   "outputs": [],
   "source": [
    "N=int(input())\n",
    "for i in range (2,N):\n",
    "    if N%i==0:\n",
    "        print(\"yes\")\n",
    "         break\n",
    "#using else statement to for loop\n",
    "else:\n",
    "    print(\"no\")\n",
    "   \n",
    "        "
   ]
  },
  {
   "cell_type": "code",
   "execution_count": null,
   "id": "e1e77201",
   "metadata": {},
   "outputs": [],
   "source": [
    "N= int(input())\n",
    "Y=input()\n",
    "mylist=Y.split()\n",
    "i=0\n",
    "while i<N-1:\n",
    "    temp=mylist[i]\n",
    "    mylist[i]=mylist[i+1]\n",
    "    mylist[i+1]=temp\n",
    "    i=i+2\n",
    "print(\" \".join(str(int) for int in mylist))"
   ]
  },
  {
   "cell_type": "code",
   "execution_count": null,
   "id": "ef17262a",
   "metadata": {},
   "outputs": [],
   "source": [
    "A,B,C=input().split()\n",
    "A=int(A)\n",
    "B=int(B)\n",
    "C=int(C)\n",
    "if A<=100000 and B<=100000 and C<=100000 and A==1,\n",
    "    print(\"yes\")\n",
    "else:\n",
    "    print(\"no\")"
   ]
  },
  {
   "cell_type": "code",
   "execution_count": null,
   "id": "917afd85",
   "metadata": {},
   "outputs": [],
   "source": [
    "import math\n",
    "N=int(input())\n",
    "M=int(input())\n",
    "c=N*M\n",
    "y=math.sqrt(c)\n",
    "Y=int(c*c)\n",
    "if y==Y:\n",
    "    print(\"yes\")\n",
    "else:\n",
    "    print(\"no\")"
   ]
  },
  {
   "cell_type": "code",
   "execution_count": null,
   "id": "52db6c4c",
   "metadata": {},
   "outputs": [],
   "source": [
    "A,B,C=input().split()\n",
    "A=int(A)\n",
    "B=int(B)\n",
    "C=int(C)\n",
    "if A<=100000 and B<=100000 and C<=100000 and A!=B!=C:\n",
    "    print(\"yes\")\n",
    "else:\n",
    "    print(\"no\")"
   ]
  },
  {
   "cell_type": "code",
   "execution_count": 2,
   "id": "e7e7f11c",
   "metadata": {},
   "outputs": [
    {
     "name": "stdout",
     "output_type": "stream",
     "text": [
      "3\n",
      "6\n"
     ]
    }
   ],
   "source": [
    "N=int(input())\n",
    "Num=0\n",
    "for i in range(1,N+1):\n",
    "    if N<=10000:\n",
    "        Num=Num+i\n",
    "    else:\n",
    "        print(\"error\")\n",
    "        break\n",
    "print(Num)"
   ]
  },
  {
   "cell_type": "code",
   "execution_count": null,
   "id": "af5e45a3",
   "metadata": {},
   "outputs": [],
   "source": []
  },
  {
   "cell_type": "code",
   "execution_count": null,
   "id": "12ab8fe6",
   "metadata": {},
   "outputs": [],
   "source": []
  }
 ],
 "metadata": {
  "kernelspec": {
   "display_name": "Python 3",
   "language": "python",
   "name": "python3"
  },
  "language_info": {
   "codemirror_mode": {
    "name": "ipython",
    "version": 3
   },
   "file_extension": ".py",
   "mimetype": "text/x-python",
   "name": "python",
   "nbconvert_exporter": "python",
   "pygments_lexer": "ipython3",
   "version": "3.8.8"
  }
 },
 "nbformat": 4,
 "nbformat_minor": 5
}
