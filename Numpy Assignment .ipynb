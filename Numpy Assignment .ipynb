{
 "cells": [
  {
   "cell_type": "markdown",
   "metadata": {},
   "source": [
    "# Numpy\n",
    "\n"
   ]
  },
  {
   "cell_type": "markdown",
   "metadata": {},
   "source": [
    "#### 1. Import the numpy package under the name `np` (★☆☆) \n",
    "(**hint**: import … as …)"
   ]
  },
  {
   "cell_type": "code",
   "execution_count": 3,
   "metadata": {},
   "outputs": [],
   "source": [
    "import numpy as np"
   ]
  },
  {
   "cell_type": "markdown",
   "metadata": {},
   "source": [
    "#### 2. Print the numpy version and the configuration (★☆☆) \n",
    "(**hint**: np.\\_\\_version\\_\\_, np.show\\_config)"
   ]
  },
  {
   "cell_type": "code",
   "execution_count": 2,
   "metadata": {},
   "outputs": [
    {
     "name": "stdout",
     "output_type": "stream",
     "text": [
      "1.20.1\n",
      "blas_mkl_info:\n",
      "    libraries = ['mkl_rt']\n",
      "    library_dirs = ['C:/Users/Prima/Anaconda3\\\\Library\\\\lib']\n",
      "    define_macros = [('SCIPY_MKL_H', None), ('HAVE_CBLAS', None)]\n",
      "    include_dirs = ['C:/Users/Prima/Anaconda3\\\\Library\\\\include']\n",
      "blas_opt_info:\n",
      "    libraries = ['mkl_rt']\n",
      "    library_dirs = ['C:/Users/Prima/Anaconda3\\\\Library\\\\lib']\n",
      "    define_macros = [('SCIPY_MKL_H', None), ('HAVE_CBLAS', None)]\n",
      "    include_dirs = ['C:/Users/Prima/Anaconda3\\\\Library\\\\include']\n",
      "lapack_mkl_info:\n",
      "    libraries = ['mkl_rt']\n",
      "    library_dirs = ['C:/Users/Prima/Anaconda3\\\\Library\\\\lib']\n",
      "    define_macros = [('SCIPY_MKL_H', None), ('HAVE_CBLAS', None)]\n",
      "    include_dirs = ['C:/Users/Prima/Anaconda3\\\\Library\\\\include']\n",
      "lapack_opt_info:\n",
      "    libraries = ['mkl_rt']\n",
      "    library_dirs = ['C:/Users/Prima/Anaconda3\\\\Library\\\\lib']\n",
      "    define_macros = [('SCIPY_MKL_H', None), ('HAVE_CBLAS', None)]\n",
      "    include_dirs = ['C:/Users/Prima/Anaconda3\\\\Library\\\\include']\n"
     ]
    }
   ],
   "source": [
    "print(np.__version__)\n",
    "np.show_config()"
   ]
  },
  {
   "cell_type": "markdown",
   "metadata": {},
   "source": [
    "#### 3. Create a null vector of size 10 (★☆☆) \n",
    "(**hint**: np.zeros)"
   ]
  },
  {
   "cell_type": "code",
   "execution_count": 3,
   "metadata": {},
   "outputs": [
    {
     "name": "stdout",
     "output_type": "stream",
     "text": [
      "[0. 0. 0. 0. 0. 0. 0. 0. 0. 0.]\n"
     ]
    }
   ],
   "source": [
    "z=np.zeros(10)\n",
    "print(z)"
   ]
  },
  {
   "cell_type": "markdown",
   "metadata": {},
   "source": [
    "#### 4.  How to find the memory size of any array (★☆☆) \n",
    "(**hint**: size, itemsize)"
   ]
  },
  {
   "cell_type": "code",
   "execution_count": 4,
   "metadata": {},
   "outputs": [
    {
     "name": "stdout",
     "output_type": "stream",
     "text": [
      "800\n"
     ]
    }
   ],
   "source": [
    "z=np.zeros((10,10))\n",
    "print(z.nbytes)"
   ]
  },
  {
   "cell_type": "markdown",
   "metadata": {},
   "source": [
    "#### 5.  How to get the documentation of the numpy add function from the command line? (★☆☆) \n",
    "(**hint**: np.info)"
   ]
  },
  {
   "cell_type": "code",
   "execution_count": 1,
   "metadata": {},
   "outputs": [
    {
     "ename": "Exception",
     "evalue": "File `'`python.py'` not found.",
     "output_type": "error",
     "traceback": [
      "\u001b[1;31m---------------------------------------------------------------------------\u001b[0m",
      "\u001b[1;31mOSError\u001b[0m                                   Traceback (most recent call last)",
      "\u001b[1;32m~\\Anaconda3\\lib\\site-packages\\IPython\\core\\magics\\execution.py\u001b[0m in \u001b[0;36mrun\u001b[1;34m(self, parameter_s, runner, file_finder)\u001b[0m\n\u001b[0;32m    702\u001b[0m             \u001b[0mfpath\u001b[0m \u001b[1;33m=\u001b[0m \u001b[0marg_lst\u001b[0m\u001b[1;33m[\u001b[0m\u001b[1;36m0\u001b[0m\u001b[1;33m]\u001b[0m\u001b[1;33m\u001b[0m\u001b[1;33m\u001b[0m\u001b[0m\n\u001b[1;32m--> 703\u001b[1;33m             \u001b[0mfilename\u001b[0m \u001b[1;33m=\u001b[0m \u001b[0mfile_finder\u001b[0m\u001b[1;33m(\u001b[0m\u001b[0mfpath\u001b[0m\u001b[1;33m)\u001b[0m\u001b[1;33m\u001b[0m\u001b[1;33m\u001b[0m\u001b[0m\n\u001b[0m\u001b[0;32m    704\u001b[0m         \u001b[1;32mexcept\u001b[0m \u001b[0mIndexError\u001b[0m\u001b[1;33m:\u001b[0m\u001b[1;33m\u001b[0m\u001b[1;33m\u001b[0m\u001b[0m\n",
      "\u001b[1;32m~\\Anaconda3\\lib\\site-packages\\IPython\\utils\\path.py\u001b[0m in \u001b[0;36mget_py_filename\u001b[1;34m(name, force_win32)\u001b[0m\n\u001b[0;32m    108\u001b[0m     \u001b[1;32melse\u001b[0m\u001b[1;33m:\u001b[0m\u001b[1;33m\u001b[0m\u001b[1;33m\u001b[0m\u001b[0m\n\u001b[1;32m--> 109\u001b[1;33m         \u001b[1;32mraise\u001b[0m \u001b[0mIOError\u001b[0m\u001b[1;33m(\u001b[0m\u001b[1;34m'File `%r` not found.'\u001b[0m \u001b[1;33m%\u001b[0m \u001b[0mname\u001b[0m\u001b[1;33m)\u001b[0m\u001b[1;33m\u001b[0m\u001b[1;33m\u001b[0m\u001b[0m\n\u001b[0m\u001b[0;32m    110\u001b[0m \u001b[1;33m\u001b[0m\u001b[0m\n",
      "\u001b[1;31mOSError\u001b[0m: File `'`python.py'` not found.",
      "\nDuring handling of the above exception, another exception occurred:\n",
      "\u001b[1;31mException\u001b[0m                                 Traceback (most recent call last)",
      "\u001b[1;32m<ipython-input-1-dc2fb15b21bc>\u001b[0m in \u001b[0;36m<module>\u001b[1;34m\u001b[0m\n\u001b[1;32m----> 1\u001b[1;33m \u001b[0mget_ipython\u001b[0m\u001b[1;33m(\u001b[0m\u001b[1;33m)\u001b[0m\u001b[1;33m.\u001b[0m\u001b[0mrun_line_magic\u001b[0m\u001b[1;33m(\u001b[0m\u001b[1;34m'run'\u001b[0m\u001b[1;33m,\u001b[0m \u001b[1;34m'`python -c \"import numpy; numpy.info(numpy.add)\"`'\u001b[0m\u001b[1;33m)\u001b[0m\u001b[1;33m\u001b[0m\u001b[1;33m\u001b[0m\u001b[0m\n\u001b[0m",
      "\u001b[1;32m~\\Anaconda3\\lib\\site-packages\\IPython\\core\\interactiveshell.py\u001b[0m in \u001b[0;36mrun_line_magic\u001b[1;34m(self, magic_name, line, _stack_depth)\u001b[0m\n\u001b[0;32m   2342\u001b[0m                 \u001b[0mkwargs\u001b[0m\u001b[1;33m[\u001b[0m\u001b[1;34m'local_ns'\u001b[0m\u001b[1;33m]\u001b[0m \u001b[1;33m=\u001b[0m \u001b[0mself\u001b[0m\u001b[1;33m.\u001b[0m\u001b[0mget_local_scope\u001b[0m\u001b[1;33m(\u001b[0m\u001b[0mstack_depth\u001b[0m\u001b[1;33m)\u001b[0m\u001b[1;33m\u001b[0m\u001b[1;33m\u001b[0m\u001b[0m\n\u001b[0;32m   2343\u001b[0m             \u001b[1;32mwith\u001b[0m \u001b[0mself\u001b[0m\u001b[1;33m.\u001b[0m\u001b[0mbuiltin_trap\u001b[0m\u001b[1;33m:\u001b[0m\u001b[1;33m\u001b[0m\u001b[1;33m\u001b[0m\u001b[0m\n\u001b[1;32m-> 2344\u001b[1;33m                 \u001b[0mresult\u001b[0m \u001b[1;33m=\u001b[0m \u001b[0mfn\u001b[0m\u001b[1;33m(\u001b[0m\u001b[1;33m*\u001b[0m\u001b[0margs\u001b[0m\u001b[1;33m,\u001b[0m \u001b[1;33m**\u001b[0m\u001b[0mkwargs\u001b[0m\u001b[1;33m)\u001b[0m\u001b[1;33m\u001b[0m\u001b[1;33m\u001b[0m\u001b[0m\n\u001b[0m\u001b[0;32m   2345\u001b[0m             \u001b[1;32mreturn\u001b[0m \u001b[0mresult\u001b[0m\u001b[1;33m\u001b[0m\u001b[1;33m\u001b[0m\u001b[0m\n\u001b[0;32m   2346\u001b[0m \u001b[1;33m\u001b[0m\u001b[0m\n",
      "\u001b[1;32m~\\Anaconda3\\lib\\site-packages\\decorator.py\u001b[0m in \u001b[0;36mfun\u001b[1;34m(*args, **kw)\u001b[0m\n\u001b[0;32m    229\u001b[0m             \u001b[1;32mif\u001b[0m \u001b[1;32mnot\u001b[0m \u001b[0mkwsyntax\u001b[0m\u001b[1;33m:\u001b[0m\u001b[1;33m\u001b[0m\u001b[1;33m\u001b[0m\u001b[0m\n\u001b[0;32m    230\u001b[0m                 \u001b[0margs\u001b[0m\u001b[1;33m,\u001b[0m \u001b[0mkw\u001b[0m \u001b[1;33m=\u001b[0m \u001b[0mfix\u001b[0m\u001b[1;33m(\u001b[0m\u001b[0margs\u001b[0m\u001b[1;33m,\u001b[0m \u001b[0mkw\u001b[0m\u001b[1;33m,\u001b[0m \u001b[0msig\u001b[0m\u001b[1;33m)\u001b[0m\u001b[1;33m\u001b[0m\u001b[1;33m\u001b[0m\u001b[0m\n\u001b[1;32m--> 231\u001b[1;33m             \u001b[1;32mreturn\u001b[0m \u001b[0mcaller\u001b[0m\u001b[1;33m(\u001b[0m\u001b[0mfunc\u001b[0m\u001b[1;33m,\u001b[0m \u001b[1;33m*\u001b[0m\u001b[1;33m(\u001b[0m\u001b[0mextras\u001b[0m \u001b[1;33m+\u001b[0m \u001b[0margs\u001b[0m\u001b[1;33m)\u001b[0m\u001b[1;33m,\u001b[0m \u001b[1;33m**\u001b[0m\u001b[0mkw\u001b[0m\u001b[1;33m)\u001b[0m\u001b[1;33m\u001b[0m\u001b[1;33m\u001b[0m\u001b[0m\n\u001b[0m\u001b[0;32m    232\u001b[0m     \u001b[0mfun\u001b[0m\u001b[1;33m.\u001b[0m\u001b[0m__name__\u001b[0m \u001b[1;33m=\u001b[0m \u001b[0mfunc\u001b[0m\u001b[1;33m.\u001b[0m\u001b[0m__name__\u001b[0m\u001b[1;33m\u001b[0m\u001b[1;33m\u001b[0m\u001b[0m\n\u001b[0;32m    233\u001b[0m     \u001b[0mfun\u001b[0m\u001b[1;33m.\u001b[0m\u001b[0m__doc__\u001b[0m \u001b[1;33m=\u001b[0m \u001b[0mfunc\u001b[0m\u001b[1;33m.\u001b[0m\u001b[0m__doc__\u001b[0m\u001b[1;33m\u001b[0m\u001b[1;33m\u001b[0m\u001b[0m\n",
      "\u001b[1;32m~\\Anaconda3\\lib\\site-packages\\IPython\\core\\magic.py\u001b[0m in \u001b[0;36m<lambda>\u001b[1;34m(f, *a, **k)\u001b[0m\n\u001b[0;32m    185\u001b[0m     \u001b[1;31m# but it's overkill for just that one bit of state.\u001b[0m\u001b[1;33m\u001b[0m\u001b[1;33m\u001b[0m\u001b[1;33m\u001b[0m\u001b[0m\n\u001b[0;32m    186\u001b[0m     \u001b[1;32mdef\u001b[0m \u001b[0mmagic_deco\u001b[0m\u001b[1;33m(\u001b[0m\u001b[0marg\u001b[0m\u001b[1;33m)\u001b[0m\u001b[1;33m:\u001b[0m\u001b[1;33m\u001b[0m\u001b[1;33m\u001b[0m\u001b[0m\n\u001b[1;32m--> 187\u001b[1;33m         \u001b[0mcall\u001b[0m \u001b[1;33m=\u001b[0m \u001b[1;32mlambda\u001b[0m \u001b[0mf\u001b[0m\u001b[1;33m,\u001b[0m \u001b[1;33m*\u001b[0m\u001b[0ma\u001b[0m\u001b[1;33m,\u001b[0m \u001b[1;33m**\u001b[0m\u001b[0mk\u001b[0m\u001b[1;33m:\u001b[0m \u001b[0mf\u001b[0m\u001b[1;33m(\u001b[0m\u001b[1;33m*\u001b[0m\u001b[0ma\u001b[0m\u001b[1;33m,\u001b[0m \u001b[1;33m**\u001b[0m\u001b[0mk\u001b[0m\u001b[1;33m)\u001b[0m\u001b[1;33m\u001b[0m\u001b[1;33m\u001b[0m\u001b[0m\n\u001b[0m\u001b[0;32m    188\u001b[0m \u001b[1;33m\u001b[0m\u001b[0m\n\u001b[0;32m    189\u001b[0m         \u001b[1;32mif\u001b[0m \u001b[0mcallable\u001b[0m\u001b[1;33m(\u001b[0m\u001b[0marg\u001b[0m\u001b[1;33m)\u001b[0m\u001b[1;33m:\u001b[0m\u001b[1;33m\u001b[0m\u001b[1;33m\u001b[0m\u001b[0m\n",
      "\u001b[1;32m~\\Anaconda3\\lib\\site-packages\\IPython\\core\\magics\\execution.py\u001b[0m in \u001b[0;36mrun\u001b[1;34m(self, parameter_s, runner, file_finder)\u001b[0m\n\u001b[0;32m    712\u001b[0m             \u001b[1;32mif\u001b[0m \u001b[0mos\u001b[0m\u001b[1;33m.\u001b[0m\u001b[0mname\u001b[0m \u001b[1;33m==\u001b[0m \u001b[1;34m'nt'\u001b[0m \u001b[1;32mand\u001b[0m \u001b[0mre\u001b[0m\u001b[1;33m.\u001b[0m\u001b[0mmatch\u001b[0m\u001b[1;33m(\u001b[0m\u001b[1;34mr\"^'.*'$\"\u001b[0m\u001b[1;33m,\u001b[0m\u001b[0mfpath\u001b[0m\u001b[1;33m)\u001b[0m\u001b[1;33m:\u001b[0m\u001b[1;33m\u001b[0m\u001b[1;33m\u001b[0m\u001b[0m\n\u001b[0;32m    713\u001b[0m                 \u001b[0mwarn\u001b[0m\u001b[1;33m(\u001b[0m\u001b[1;34m'For Windows, use double quotes to wrap a filename: %run \"mypath\\\\myfile.py\"'\u001b[0m\u001b[1;33m)\u001b[0m\u001b[1;33m\u001b[0m\u001b[1;33m\u001b[0m\u001b[0m\n\u001b[1;32m--> 714\u001b[1;33m             \u001b[1;32mraise\u001b[0m \u001b[0mException\u001b[0m\u001b[1;33m(\u001b[0m\u001b[0mmsg\u001b[0m\u001b[1;33m)\u001b[0m\u001b[1;33m\u001b[0m\u001b[1;33m\u001b[0m\u001b[0m\n\u001b[0m\u001b[0;32m    715\u001b[0m         \u001b[1;32mexcept\u001b[0m \u001b[0mTypeError\u001b[0m\u001b[1;33m:\u001b[0m\u001b[1;33m\u001b[0m\u001b[1;33m\u001b[0m\u001b[0m\n\u001b[0;32m    716\u001b[0m             \u001b[1;32mif\u001b[0m \u001b[0mfpath\u001b[0m \u001b[1;32min\u001b[0m \u001b[0msys\u001b[0m\u001b[1;33m.\u001b[0m\u001b[0mmeta_path\u001b[0m\u001b[1;33m:\u001b[0m\u001b[1;33m\u001b[0m\u001b[1;33m\u001b[0m\u001b[0m\n",
      "\u001b[1;31mException\u001b[0m: File `'`python.py'` not found."
     ]
    }
   ],
   "source": [
    "%run `python -c \"import numpy; numpy.info(numpy.add)\"`"
   ]
  },
  {
   "cell_type": "markdown",
   "metadata": {},
   "source": [
    "#### 6.  Create a null vector of size 10 but the fifth value which is 1 (★☆☆) \n",
    "(**hint**: array\\[4\\])"
   ]
  },
  {
   "cell_type": "code",
   "execution_count": 5,
   "metadata": {},
   "outputs": [
    {
     "name": "stdout",
     "output_type": "stream",
     "text": [
      "[0. 0. 0. 0. 1. 0. 0. 0. 0. 0.]\n"
     ]
    }
   ],
   "source": [
    "z=np.zeros(10)\n",
    "z[4]=1\n",
    "print(z)"
   ]
  },
  {
   "cell_type": "markdown",
   "metadata": {},
   "source": [
    "#### 7.  Create a vector with values ranging from 10 to 49 (★☆☆) \n",
    "(**hint**: np.arange)"
   ]
  },
  {
   "cell_type": "code",
   "execution_count": 6,
   "metadata": {},
   "outputs": [
    {
     "name": "stdout",
     "output_type": "stream",
     "text": [
      "[10 11 12 13 14 15 16 17 18 19 20 21 22 23 24 25 26 27 28 29 30 31 32 33\n",
      " 34 35 36 37 38 39 40 41 42 43 44 45 46 47 48 49]\n"
     ]
    }
   ],
   "source": [
    "z=np.arange(10,50)\n",
    "print(z)"
   ]
  },
  {
   "cell_type": "markdown",
   "metadata": {},
   "source": [
    "#### 8.  Reverse a vector (first element becomes last) (★☆☆) \n",
    "(**hint**: array\\[::-1\\])"
   ]
  },
  {
   "cell_type": "code",
   "execution_count": 7,
   "metadata": {},
   "outputs": [
    {
     "name": "stdout",
     "output_type": "stream",
     "text": [
      "[49 48 47 46 45 44 43 42 41 40 39 38 37 36 35 34 33 32 31 30 29 28 27 26\n",
      " 25 24 23 22 21 20 19 18 17 16 15 14 13 12 11 10  9  8  7  6  5  4  3  2\n",
      "  1  0]\n"
     ]
    }
   ],
   "source": [
    "z=np.arange(50)\n",
    "z=z[::-1]\n",
    "print(z)"
   ]
  },
  {
   "cell_type": "markdown",
   "metadata": {},
   "source": [
    "#### 9.  Create a 3x3 matrix with values ranging from 0 to 8 (★☆☆) \n",
    "(**hint**: reshape)"
   ]
  },
  {
   "cell_type": "code",
   "execution_count": 8,
   "metadata": {},
   "outputs": [
    {
     "name": "stdout",
     "output_type": "stream",
     "text": [
      "[[0 1 2]\n",
      " [3 4 5]\n",
      " [6 7 8]]\n"
     ]
    }
   ],
   "source": [
    "z=np.arange(9).reshape(3,3)\n",
    "print(z)"
   ]
  },
  {
   "cell_type": "markdown",
   "metadata": {},
   "source": [
    "#### 10. Find indices of non-zero elements from \\[1,2,0,0,4,0\\] (★☆☆) \n",
    "(**hint**: np.nonzero)"
   ]
  },
  {
   "cell_type": "code",
   "execution_count": 9,
   "metadata": {},
   "outputs": [
    {
     "name": "stdout",
     "output_type": "stream",
     "text": [
      "(array([0, 1, 4], dtype=int64),)\n"
     ]
    }
   ],
   "source": [
    "nz=np.nonzero([1,2,0,0,4,0])\n",
    "print(nz)"
   ]
  },
  {
   "cell_type": "markdown",
   "metadata": {},
   "source": [
    "#### 11. Create a 3x3 identity matrix (★☆☆) \n",
    "(**hint**: np.eye)"
   ]
  },
  {
   "cell_type": "code",
   "execution_count": 10,
   "metadata": {},
   "outputs": [
    {
     "name": "stdout",
     "output_type": "stream",
     "text": [
      "[[1. 0. 0.]\n",
      " [0. 1. 0.]\n",
      " [0. 0. 1.]]\n"
     ]
    }
   ],
   "source": [
    "z=np.eye(3)\n",
    "print(z)"
   ]
  },
  {
   "cell_type": "markdown",
   "metadata": {},
   "source": [
    "#### 12. Create a 3x3x3 array with random values (★☆☆) \n",
    "(**hint**: np.random.random)"
   ]
  },
  {
   "cell_type": "code",
   "execution_count": 11,
   "metadata": {},
   "outputs": [
    {
     "name": "stdout",
     "output_type": "stream",
     "text": [
      "[[[0.42756712 0.31218145 0.07470378]\n",
      "  [0.80759277 0.8945967  0.39560004]\n",
      "  [0.55385899 0.40668712 0.02516474]]\n",
      "\n",
      " [[0.42060053 0.44720302 0.20486338]\n",
      "  [0.07997441 0.79000574 0.47082748]\n",
      "  [0.47466267 0.97210875 0.65734156]]\n",
      "\n",
      " [[0.40755321 0.32281994 0.00355504]\n",
      "  [0.54536506 0.80924398 0.760721  ]\n",
      "  [0.1220837  0.47961753 0.90401543]]]\n"
     ]
    }
   ],
   "source": [
    "z=np.random.random((3,3,3))\n",
    "print(z)"
   ]
  },
  {
   "cell_type": "markdown",
   "metadata": {},
   "source": [
    "#### 13. Create a 10x10 array with random values and find the minimum and maximum values (★☆☆) \n",
    "(**hint**: min, max)"
   ]
  },
  {
   "cell_type": "code",
   "execution_count": 12,
   "metadata": {},
   "outputs": [
    {
     "name": "stdout",
     "output_type": "stream",
     "text": [
      "0.004222822308581953 0.9736768960361973\n"
     ]
    }
   ],
   "source": [
    "z=np.random.random((10,10))\n",
    "zmin,zmax=z.min(),z.max()\n",
    "print(zmin,zmax)"
   ]
  },
  {
   "cell_type": "markdown",
   "metadata": {},
   "source": [
    "#### 14. Create a random vector of size 30 and find the mean value (★☆☆) \n",
    "(**hint**: mean)"
   ]
  },
  {
   "cell_type": "code",
   "execution_count": 13,
   "metadata": {},
   "outputs": [
    {
     "name": "stdout",
     "output_type": "stream",
     "text": [
      "0.40534282502027436\n"
     ]
    }
   ],
   "source": [
    "z=np.random.random(30)\n",
    "m=z.mean()\n",
    "print(m)"
   ]
  },
  {
   "cell_type": "markdown",
   "metadata": {},
   "source": [
    "#### 15. Create a 2d array with 1 on the border and 0 inside (★☆☆) \n",
    "(**hint**: array\\[1:-1, 1:-1\\])"
   ]
  },
  {
   "cell_type": "code",
   "execution_count": 14,
   "metadata": {},
   "outputs": [
    {
     "name": "stdout",
     "output_type": "stream",
     "text": [
      "[[1. 1. 1. 1. 1. 1. 1. 1. 1. 1.]\n",
      " [1. 0. 0. 0. 0. 0. 0. 0. 0. 1.]\n",
      " [1. 0. 0. 0. 0. 0. 0. 0. 0. 1.]\n",
      " [1. 0. 0. 0. 0. 0. 0. 0. 0. 1.]\n",
      " [1. 0. 0. 0. 0. 0. 0. 0. 0. 1.]\n",
      " [1. 0. 0. 0. 0. 0. 0. 0. 0. 1.]\n",
      " [1. 0. 0. 0. 0. 0. 0. 0. 0. 1.]\n",
      " [1. 0. 0. 0. 0. 0. 0. 0. 0. 1.]\n",
      " [1. 0. 0. 0. 0. 0. 0. 0. 0. 1.]\n",
      " [1. 1. 1. 1. 1. 1. 1. 1. 1. 1.]]\n"
     ]
    }
   ],
   "source": [
    "z=np.ones((10,10))\n",
    "z[1:-1,1:-1]=0\n",
    "print(z)"
   ]
  },
  {
   "cell_type": "markdown",
   "metadata": {},
   "source": [
    "#### 16. How to add a border (filled with 0's) around an existing array? (★☆☆) \n",
    "(**hint**: np.pad)"
   ]
  },
  {
   "cell_type": "code",
   "execution_count": 5,
   "metadata": {},
   "outputs": [
    {
     "name": "stdout",
     "output_type": "stream",
     "text": [
      "[[0. 0. 0. 0. 0. 0. 0. 0. 0. 0.]\n",
      " [0. 1. 1. 1. 1. 1. 1. 1. 1. 0.]\n",
      " [0. 1. 1. 1. 1. 1. 1. 1. 1. 0.]\n",
      " [0. 1. 1. 1. 1. 1. 1. 1. 1. 0.]\n",
      " [0. 1. 1. 1. 1. 1. 1. 1. 1. 0.]\n",
      " [0. 1. 1. 1. 1. 1. 1. 1. 1. 0.]\n",
      " [0. 1. 1. 1. 1. 1. 1. 1. 1. 0.]\n",
      " [0. 1. 1. 1. 1. 1. 1. 1. 1. 0.]\n",
      " [0. 1. 1. 1. 1. 1. 1. 1. 1. 0.]\n",
      " [0. 0. 0. 0. 0. 0. 0. 0. 0. 0.]]\n"
     ]
    }
   ],
   "source": [
    "Z=np.ones((10,10))\n",
    "Z[:, [0, -1]] = 0\n",
    "Z[[0, -1], :] = 0\n",
    "print(Z)"
   ]
  },
  {
   "cell_type": "markdown",
   "metadata": {},
   "source": [
    "#### 17. What is the result of the following expression? (★☆☆) \n",
    "(**hint**: NaN = not a number, inf = infinity)"
   ]
  },
  {
   "cell_type": "markdown",
   "metadata": {},
   "source": [
    "```python\n",
    "0 * np.nan\n",
    "np.nan == np.nan\n",
    "np.inf > np.nan\n",
    "np.nan - np.nan\n",
    "0.3 == 3 * 0.1\n",
    "```"
   ]
  },
  {
   "cell_type": "code",
   "execution_count": 15,
   "metadata": {},
   "outputs": [
    {
     "name": "stdout",
     "output_type": "stream",
     "text": [
      "nan\n",
      "False\n",
      "False\n",
      "nan\n",
      "False\n"
     ]
    }
   ],
   "source": [
    "print(0 * np.nan)\n",
    "print(np.nan == np.nan)\n",
    "print(np.inf > np.nan)\n",
    "print(np.nan - np.nan)\n",
    "print(.3 == 3 * 0.1)"
   ]
  },
  {
   "cell_type": "markdown",
   "metadata": {},
   "source": [
    "#### 18. Create a 5x5 matrix with values 1,2,3,4 just below the diagonal (★☆☆) \n",
    "(**hint**: np.diag)"
   ]
  },
  {
   "cell_type": "code",
   "execution_count": 16,
   "metadata": {},
   "outputs": [
    {
     "name": "stdout",
     "output_type": "stream",
     "text": [
      "[[0 1 0 0 0]\n",
      " [0 0 2 0 0]\n",
      " [0 0 0 3 0]\n",
      " [0 0 0 0 4]\n",
      " [0 0 0 0 0]]\n"
     ]
    }
   ],
   "source": [
    "z=np.diag(1+np.arange(4),k=1)\n",
    "print(z)"
   ]
  },
  {
   "cell_type": "markdown",
   "metadata": {},
   "source": [
    "#### 19. Create a 8x8 matrix and fill it with a checkerboard pattern (★☆☆) \n",
    "(**hint**: array\\[::2\\])"
   ]
  },
  {
   "cell_type": "code",
   "execution_count": 17,
   "metadata": {},
   "outputs": [
    {
     "name": "stdout",
     "output_type": "stream",
     "text": [
      "[[0 1 0 1 0 1 0 1]\n",
      " [1 0 1 0 1 0 1 0]\n",
      " [0 1 0 1 0 1 0 1]\n",
      " [1 0 1 0 1 0 1 0]\n",
      " [0 1 0 1 0 1 0 1]\n",
      " [1 0 1 0 1 0 1 0]\n",
      " [0 1 0 1 0 1 0 1]\n",
      " [1 0 1 0 1 0 1 0]]\n"
     ]
    }
   ],
   "source": [
    "z=np.zeros((8,8),dtype=int)\n",
    "z[1::2,::2]=1\n",
    "z[::2,1::2]=1\n",
    "print(z)"
   ]
  },
  {
   "cell_type": "markdown",
   "metadata": {},
   "source": [
    "#### 20. Consider a (6,7,8) shape array, what is the index (x,y,z) of the 100th element? \n",
    "(**hint**: np.unravel_index)"
   ]
  },
  {
   "cell_type": "code",
   "execution_count": 18,
   "metadata": {},
   "outputs": [
    {
     "name": "stdout",
     "output_type": "stream",
     "text": [
      "(1, 5, 3)\n"
     ]
    }
   ],
   "source": [
    "print(np.unravel_index(99,(6,7,8)))"
   ]
  },
  {
   "cell_type": "markdown",
   "metadata": {},
   "source": [
    "#### 21. Create a checkerboard 8x8 matrix using the tile function (★☆☆) \n",
    "(**hint**: np.tile)"
   ]
  },
  {
   "cell_type": "code",
   "execution_count": 19,
   "metadata": {},
   "outputs": [
    {
     "name": "stdout",
     "output_type": "stream",
     "text": [
      "[[0 1 0 1 0 1 0 1]\n",
      " [1 0 1 0 1 0 1 0]\n",
      " [0 1 0 1 0 1 0 1]\n",
      " [1 0 1 0 1 0 1 0]\n",
      " [0 1 0 1 0 1 0 1]\n",
      " [1 0 1 0 1 0 1 0]\n",
      " [0 1 0 1 0 1 0 1]\n",
      " [1 0 1 0 1 0 1 0]]\n"
     ]
    }
   ],
   "source": [
    "z=np.tile(np.array([[0,1],[1,0]]),(4,4))\n",
    "print(z)"
   ]
  },
  {
   "cell_type": "markdown",
   "metadata": {},
   "source": [
    "#### 22. Normalize a 5x5 random matrix (★☆☆) \n",
    "(**hint**: (x - min) / (max - min))"
   ]
  },
  {
   "cell_type": "code",
   "execution_count": 20,
   "metadata": {},
   "outputs": [
    {
     "name": "stdout",
     "output_type": "stream",
     "text": [
      "[[-0.92538916 -1.64840829  0.40928712  1.14785257  1.20526042]\n",
      " [ 0.54081613 -0.45036119 -0.66073196 -0.97518023 -1.05397098]\n",
      " [ 0.04595898 -1.1113091   0.63802002  1.21706524  0.76885907]\n",
      " [ 0.10419635  0.6577632   1.09069321 -0.67932098  0.57114872]\n",
      " [-1.76101993  0.73052699 -1.87992068  1.2848705   0.73329401]]\n"
     ]
    }
   ],
   "source": [
    "z=np.random.random((5,5))\n",
    "z=(z-np.mean(z))/(np.std(z))\n",
    "print(z)"
   ]
  },
  {
   "cell_type": "markdown",
   "metadata": {},
   "source": [
    "#### 23. Create a custom dtype that describes a color as four unsigned bytes (RGBA) (★☆☆) \n",
    "(**hint**: np.dtype)"
   ]
  },
  {
   "cell_type": "code",
   "execution_count": 21,
   "metadata": {},
   "outputs": [],
   "source": [
    "color=np.dtype([(\"r\", np.ubyte),\n",
    "               (\"g\", np.ubyte),\n",
    "               (\"b\", np.ubyte),\n",
    "               (\"a\", np.ubyte)])"
   ]
  },
  {
   "cell_type": "markdown",
   "metadata": {},
   "source": [
    "#### 24. Multiply a 5x3 matrix by a 3x2 matrix (real matrix product) (★☆☆) \n",
    "(**hint**: np.dot | @)"
   ]
  },
  {
   "cell_type": "code",
   "execution_count": 22,
   "metadata": {},
   "outputs": [
    {
     "name": "stdout",
     "output_type": "stream",
     "text": [
      "[[3. 3.]\n",
      " [3. 3.]\n",
      " [3. 3.]\n",
      " [3. 3.]\n",
      " [3. 3.]]\n"
     ]
    }
   ],
   "source": [
    "z=np.dot(np.ones((5,3)),np.ones((3,2)))\n",
    "print(z)"
   ]
  },
  {
   "cell_type": "markdown",
   "metadata": {},
   "source": [
    "#### 25. Given a 1D array, negate all elements which are between 3 and 8, in place. (★☆☆) \n",
    "(**hint**: >, <=)"
   ]
  },
  {
   "cell_type": "code",
   "execution_count": 23,
   "metadata": {},
   "outputs": [
    {
     "name": "stdout",
     "output_type": "stream",
     "text": [
      "[ 0  1  2  3 -4 -5 -6 -7  8  9 10]\n"
     ]
    }
   ],
   "source": [
    "z=np.arange(11)\n",
    "z[(3<z)&(z<8)]*=-1\n",
    "print(z)"
   ]
  },
  {
   "cell_type": "markdown",
   "metadata": {},
   "source": [
    "#### 26. What is the output of the following script? (★☆☆) \n",
    "(**hint**: np.sum)"
   ]
  },
  {
   "cell_type": "markdown",
   "metadata": {},
   "source": [
    "```python\n",
    "# Author: Jake VanderPlas\n",
    "\n",
    "print(sum(range(5),-1))\n",
    "from numpy import *\n",
    "print(sum(range(5),-1))\n",
    "```"
   ]
  },
  {
   "cell_type": "code",
   "execution_count": 24,
   "metadata": {},
   "outputs": [
    {
     "name": "stdout",
     "output_type": "stream",
     "text": [
      "9\n",
      "10\n"
     ]
    }
   ],
   "source": [
    "print(sum(range(5),-1))\n",
    "from numpy import *\n",
    "print(sum(range(5),-1))"
   ]
  },
  {
   "cell_type": "markdown",
   "metadata": {},
   "source": [
    "#### 27. Consider an integer vector Z, which of these expressions are legal? (★☆☆)"
   ]
  },
  {
   "cell_type": "markdown",
   "metadata": {},
   "source": [
    "```python\n",
    "Z**Z\n",
    "2 << Z >> 2\n",
    "Z <- Z\n",
    "1j*Z\n",
    "Z/1/1\n",
    "Z<Z>Z\n",
    "```"
   ]
  },
  {
   "cell_type": "code",
   "execution_count": 25,
   "metadata": {},
   "outputs": [
    {
     "ename": "NameError",
     "evalue": "name 'Z' is not defined",
     "output_type": "error",
     "traceback": [
      "\u001b[1;31m---------------------------------------------------------------------------\u001b[0m",
      "\u001b[1;31mNameError\u001b[0m                                 Traceback (most recent call last)",
      "\u001b[1;32m<ipython-input-25-6d2bd9eb1fd1>\u001b[0m in \u001b[0;36m<module>\u001b[1;34m\u001b[0m\n\u001b[1;32m----> 1\u001b[1;33m \u001b[0mZ\u001b[0m\u001b[1;33m<\u001b[0m\u001b[0mZ\u001b[0m\u001b[1;33m>\u001b[0m\u001b[0mZ\u001b[0m\u001b[1;33m\u001b[0m\u001b[1;33m\u001b[0m\u001b[0m\n\u001b[0m",
      "\u001b[1;31mNameError\u001b[0m: name 'Z' is not defined"
     ]
    }
   ],
   "source": [
    "Z<Z>Z"
   ]
  },
  {
   "cell_type": "markdown",
   "metadata": {},
   "source": [
    "#### 28. What are the result of the following expressions?"
   ]
  },
  {
   "cell_type": "markdown",
   "metadata": {},
   "source": [
    "```python\n",
    "np.array(0) / np.array(0)\n",
    "np.array(0) // np.array(0)\n",
    "np.array([np.nan]).astype(int).astype(float)\n",
    "```"
   ]
  },
  {
   "cell_type": "code",
   "execution_count": null,
   "metadata": {},
   "outputs": [],
   "source": [
    "np.array(0) / np.array(0)\n",
    "np.array(0) // np.array(0)\n",
    "np.array([np.nan]).astype(int).astype(float)"
   ]
  },
  {
   "cell_type": "markdown",
   "metadata": {},
   "source": [
    "#### 29. How to round away from zero a float array ? (★☆☆) \n",
    "(**hint**: np.uniform, np.copysign, np.ceil, np.abs)"
   ]
  },
  {
   "cell_type": "code",
   "execution_count": null,
   "metadata": {},
   "outputs": [],
   "source": [
    "z=np.random.uniform(-10,+10,10)\n",
    "print(np.copysign(np.ceil(np.abs(z)),z))"
   ]
  },
  {
   "cell_type": "markdown",
   "metadata": {},
   "source": [
    "#### 30. How to find common values between two arrays? (★☆☆) \n",
    "(**hint**: np.intersect1d)"
   ]
  },
  {
   "cell_type": "code",
   "execution_count": null,
   "metadata": {},
   "outputs": [],
   "source": [
    "z1=np.random.randint(0,10,10)\n",
    "z2=np.random.randint(0,10,10)\n",
    "print(np.intersect1d(z1,z2))"
   ]
  },
  {
   "cell_type": "markdown",
   "metadata": {},
   "source": [
    "#### 31. How to ignore all numpy warnings (not recommended)? (★☆☆) \n",
    "(**hint**: np.seterr, np.errstate)"
   ]
  },
  {
   "cell_type": "code",
   "execution_count": 6,
   "metadata": {},
   "outputs": [],
   "source": [
    "# Suicide mode on\n",
    "defaults = np.seterr(all=\"ignore\")\n",
    "Z = np.ones(1) / 0\n",
    "\n",
    "# Back to sanity\n",
    "Z = np.seterr(**defaults)"
   ]
  },
  {
   "cell_type": "markdown",
   "metadata": {},
   "source": [
    "#### 32. Is the following expressions true? (★☆☆) \n",
    "(**hint**: imaginary number)"
   ]
  },
  {
   "cell_type": "markdown",
   "metadata": {},
   "source": [
    "```python\n",
    "np.sqrt(-1) == np.emath.sqrt(-1)\n",
    "```"
   ]
  },
  {
   "cell_type": "code",
   "execution_count": null,
   "metadata": {},
   "outputs": [],
   "source": [
    "np.sqrt(-1) == np.emath.sqrt(-1)"
   ]
  },
  {
   "cell_type": "markdown",
   "metadata": {},
   "source": [
    "#### 33. How to get the dates of yesterday, today and tomorrow? (★☆☆) \n",
    "(**hint**: np.datetime64, np.timedelta64)"
   ]
  },
  {
   "cell_type": "code",
   "execution_count": null,
   "metadata": {},
   "outputs": [],
   "source": [
    "yesterday = np.datetime64('today') - np.timedelta64(1)\n",
    "today     = np.datetime64('today')\n",
    "tomorrow  = np.datetime64('today') + np.timedelta64(1)"
   ]
  },
  {
   "cell_type": "markdown",
   "metadata": {},
   "source": [
    "#### 34. How to get all the dates corresponding to the month of July 2016? (★★☆) \n",
    "(**hint**: np.arange(dtype=datetime64\\['D'\\]))"
   ]
  },
  {
   "cell_type": "code",
   "execution_count": null,
   "metadata": {},
   "outputs": [],
   "source": [
    "z=np.arange('2016-07', '2016-08',dtype= 'datetime64[D]')\n",
    "print(z)"
   ]
  },
  {
   "cell_type": "markdown",
   "metadata": {},
   "source": [
    "#### 35. How to compute ((A+B)\\*(-A/2)) in place (without copy)? (★★☆) \n",
    "(**hint**: np.add(out=), np.negative(out=), np.multiply(out=), np.divide(out=))"
   ]
  },
  {
   "cell_type": "code",
   "execution_count": null,
   "metadata": {},
   "outputs": [],
   "source": [
    "A = np.ones(3)*1\n",
    "B = np.ones(3)*2\n",
    "np.add(A,B,out=B)\n",
    "np.divide(A,2,out=A)\n",
    "np.negative(A,out=A)\n",
    "np.multiply(A,B,out=A)"
   ]
  },
  {
   "cell_type": "markdown",
   "metadata": {},
   "source": [
    "#### 36. Extract the integer part of a random array using 5 different methods (★★☆) \n",
    "(**hint**: %, np.floor, np.ceil, astype, np.trunc)"
   ]
  },
  {
   "cell_type": "code",
   "execution_count": null,
   "metadata": {},
   "outputs": [],
   "source": [
    "z = np.random.uniform(0,10,10)\n",
    "\n",
    "print(z - z%1)\n",
    "print(z // 1)\n",
    "print(np.floor(z))\n",
    "print(z.astype(int))\n",
    "print(np.trunc(z))"
   ]
  },
  {
   "cell_type": "markdown",
   "metadata": {},
   "source": [
    "#### 37. Create a 5x5 matrix with row values ranging from 0 to 4 (★★☆) \n",
    "(**hint**: np.arange)"
   ]
  },
  {
   "cell_type": "code",
   "execution_count": null,
   "metadata": {},
   "outputs": [],
   "source": [
    "z=np.zeros((5,5))\n",
    "z+=np.arange(5)\n",
    "print(z)"
   ]
  },
  {
   "cell_type": "markdown",
   "metadata": {},
   "source": [
    "#### 38. Consider a generator function that generates 10 integers and use it to build an array (★☆☆) \n",
    "(**hint**: np.fromiter)"
   ]
  },
  {
   "cell_type": "code",
   "execution_count": 27,
   "metadata": {},
   "outputs": [
    {
     "ename": "SyntaxError",
     "evalue": "invalid syntax (<ipython-input-27-fc768ed89dc1>, line 3)",
     "output_type": "error",
     "traceback": [
      "\u001b[1;36m  File \u001b[1;32m\"<ipython-input-27-fc768ed89dc1>\"\u001b[1;36m, line \u001b[1;32m3\u001b[0m\n\u001b[1;33m    yeild x\u001b[0m\n\u001b[1;37m          ^\u001b[0m\n\u001b[1;31mSyntaxError\u001b[0m\u001b[1;31m:\u001b[0m invalid syntax\n"
     ]
    }
   ],
   "source": [
    "def generate():\n",
    "    for x in range (10):\n",
    "        yeild x\n",
    "z=np.fromiter(generate(),dtype=float,count=-1)\n",
    "print(z)"
   ]
  },
  {
   "cell_type": "markdown",
   "metadata": {},
   "source": [
    "#### 39. Create a vector of size 10 with values ranging from 0 to 1, both excluded (★★☆) \n",
    "(**hint**: np.linspace)"
   ]
  },
  {
   "cell_type": "code",
   "execution_count": 29,
   "metadata": {},
   "outputs": [
    {
     "name": "stdout",
     "output_type": "stream",
     "text": [
      "[0.09090909 0.18181818 0.27272727 0.36363636 0.45454545 0.54545455\n",
      " 0.63636364 0.72727273 0.81818182 0.90909091]\n"
     ]
    }
   ],
   "source": [
    "z=np.linspace(0,1,11,endpoint=False)[1:]\n",
    "print(z)"
   ]
  },
  {
   "cell_type": "markdown",
   "metadata": {},
   "source": [
    "#### 40. Create a random vector of size 10 and sort it (★★☆) \n",
    "(**hint**: sort)"
   ]
  },
  {
   "cell_type": "code",
   "execution_count": 30,
   "metadata": {},
   "outputs": [
    {
     "name": "stdout",
     "output_type": "stream",
     "text": [
      "[0.04946268 0.16886175 0.20901441 0.33299329 0.43897182 0.46077148\n",
      " 0.48341561 0.59560071 0.9417105  0.97775912]\n"
     ]
    }
   ],
   "source": [
    "z=np.random.random(10)\n",
    "z.sort()\n",
    "print(z)"
   ]
  },
  {
   "cell_type": "markdown",
   "metadata": {},
   "source": [
    "#### 41. How to sum a small array faster than np.sum? (★★☆) \n",
    "(**hint**: np.add.reduce)"
   ]
  },
  {
   "cell_type": "code",
   "execution_count": 32,
   "metadata": {},
   "outputs": [
    {
     "data": {
      "text/plain": [
       "45"
      ]
     },
     "execution_count": 32,
     "metadata": {},
     "output_type": "execute_result"
    }
   ],
   "source": [
    "z=np.arange(10)\n",
    "np.add.reduce(z)"
   ]
  },
  {
   "cell_type": "markdown",
   "metadata": {},
   "source": [
    "#### 42. Consider two random array A and B, check if they are equal (★★☆) \n",
    "(**hint**: np.allclose, np.array\\_equal)"
   ]
  },
  {
   "cell_type": "code",
   "execution_count": 36,
   "metadata": {},
   "outputs": [
    {
     "name": "stdout",
     "output_type": "stream",
     "text": [
      "False\n"
     ]
    }
   ],
   "source": [
    "A=np.random.randint(0,2,5)\n",
    "B=np.random.randint(0,2,5)\n",
    "equal=np.allclose(A,B)\n",
    "print(equal)"
   ]
  },
  {
   "cell_type": "markdown",
   "metadata": {},
   "source": [
    "#### 43. Make an array immutable (read-only) (★★☆) \n",
    "(**hint**: flags.writeable)"
   ]
  },
  {
   "cell_type": "code",
   "execution_count": 39,
   "metadata": {},
   "outputs": [
    {
     "ename": "ValueError",
     "evalue": "assignment destination is read-only",
     "output_type": "error",
     "traceback": [
      "\u001b[1;31m---------------------------------------------------------------------------\u001b[0m",
      "\u001b[1;31mValueError\u001b[0m                                Traceback (most recent call last)",
      "\u001b[1;32m<ipython-input-39-33a42f498f0e>\u001b[0m in \u001b[0;36m<module>\u001b[1;34m\u001b[0m\n\u001b[0;32m      1\u001b[0m \u001b[0mz\u001b[0m\u001b[1;33m=\u001b[0m\u001b[0mnp\u001b[0m\u001b[1;33m.\u001b[0m\u001b[0mzeros\u001b[0m\u001b[1;33m(\u001b[0m\u001b[1;36m10\u001b[0m\u001b[1;33m)\u001b[0m\u001b[1;33m\u001b[0m\u001b[1;33m\u001b[0m\u001b[0m\n\u001b[0;32m      2\u001b[0m \u001b[0mz\u001b[0m\u001b[1;33m.\u001b[0m\u001b[0mflags\u001b[0m\u001b[1;33m.\u001b[0m\u001b[0mwriteable\u001b[0m\u001b[1;33m=\u001b[0m\u001b[1;32mFalse\u001b[0m\u001b[1;33m\u001b[0m\u001b[1;33m\u001b[0m\u001b[0m\n\u001b[1;32m----> 3\u001b[1;33m \u001b[0mz\u001b[0m\u001b[1;33m[\u001b[0m\u001b[1;36m0\u001b[0m\u001b[1;33m]\u001b[0m\u001b[1;33m=\u001b[0m\u001b[1;36m0\u001b[0m\u001b[1;33m\u001b[0m\u001b[1;33m\u001b[0m\u001b[0m\n\u001b[0m",
      "\u001b[1;31mValueError\u001b[0m: assignment destination is read-only"
     ]
    }
   ],
   "source": [
    "z=np.zeros(10)\n",
    "z.flags.writeable=False"
   ]
  },
  {
   "cell_type": "markdown",
   "metadata": {},
   "source": [
    "#### 44. Consider a random 10x2 matrix representing cartesian coordinates, convert them to polar coordinates (★★☆) \n",
    "(**hint**: np.sqrt, np.arctan2)"
   ]
  },
  {
   "cell_type": "code",
   "execution_count": 41,
   "metadata": {},
   "outputs": [
    {
     "name": "stdout",
     "output_type": "stream",
     "text": [
      "[0.43251803 0.61639192 0.83886236 0.85740697 0.4575214  1.1962188\n",
      " 1.22429211 0.49259831 0.15065785 0.76330855]\n",
      "[1.45775978 1.05748893 0.71507349 0.30015181 1.30703409 0.89153046\n",
      " 0.66288186 0.1522439  1.40728147 1.16975459]\n"
     ]
    }
   ],
   "source": [
    "z=np.random.random((10,2))\n",
    "x,y=z[:,0],z[:,1]\n",
    "R=np.sqrt(x**2+y**2)\n",
    "T=np.arctan2(y,x)\n",
    "print(R)\n",
    "print(T)"
   ]
  },
  {
   "cell_type": "markdown",
   "metadata": {},
   "source": [
    "#### 45. Create random vector of size 10 and replace the maximum value by 0 (★★☆) \n",
    "(**hint**: argmax)"
   ]
  },
  {
   "cell_type": "code",
   "execution_count": 42,
   "metadata": {},
   "outputs": [
    {
     "name": "stdout",
     "output_type": "stream",
     "text": [
      "[0.02155399 0.10406801 0.76596677 0.17676109 0.21686747 0.\n",
      " 0.78975576 0.77984116 0.58561997 0.27951821]\n"
     ]
    }
   ],
   "source": [
    "z=np.random.random(10)\n",
    "z[z.argmax()]=0\n",
    "print(z)"
   ]
  },
  {
   "cell_type": "markdown",
   "metadata": {},
   "source": [
    "#### 46. Create a structured array with `x` and `y` coordinates covering the \\[0,1\\]x\\[0,1\\] area (★★☆) \n",
    "(**hint**: np.meshgrid)"
   ]
  },
  {
   "cell_type": "code",
   "execution_count": 43,
   "metadata": {},
   "outputs": [
    {
     "name": "stdout",
     "output_type": "stream",
     "text": [
      "[[(0.  , 0.  ) (0.25, 0.  ) (0.5 , 0.  ) (0.75, 0.  ) (1.  , 0.  )]\n",
      " [(0.  , 0.25) (0.25, 0.25) (0.5 , 0.25) (0.75, 0.25) (1.  , 0.25)]\n",
      " [(0.  , 0.5 ) (0.25, 0.5 ) (0.5 , 0.5 ) (0.75, 0.5 ) (1.  , 0.5 )]\n",
      " [(0.  , 0.75) (0.25, 0.75) (0.5 , 0.75) (0.75, 0.75) (1.  , 0.75)]\n",
      " [(0.  , 1.  ) (0.25, 1.  ) (0.5 , 1.  ) (0.75, 1.  ) (1.  , 1.  )]]\n"
     ]
    }
   ],
   "source": [
    "z=np.zeros((5,5),[('x',float),('y',float)])\n",
    "z['x'],z['y']=np.meshgrid(np.linspace(0,1,5),\n",
    "                         np.linspace(0,1,5))\n",
    "print(z)"
   ]
  },
  {
   "cell_type": "markdown",
   "metadata": {},
   "source": [
    "####  47. Given two arrays, X and Y, construct the Cauchy matrix C (Cij =1/(xi - yj)) \n",
    "(**hint**: np.subtract.outer)"
   ]
  },
  {
   "cell_type": "code",
   "execution_count": 47,
   "metadata": {},
   "outputs": [
    {
     "name": "stdout",
     "output_type": "stream",
     "text": [
      "-2.1830705061316405e-08\n"
     ]
    }
   ],
   "source": [
    "z=np.arange(8)\n",
    "y=x+0.5\n",
    "c=1.0/np.subtract.outer(x,y)\n",
    "print(np.linalg.det(c))"
   ]
  },
  {
   "cell_type": "markdown",
   "metadata": {},
   "source": [
    "#### 48. Print the minimum and maximum representable value for each numpy scalar type (★★☆) \n",
    "(**hint**: np.iinfo, np.finfo, eps)"
   ]
  },
  {
   "cell_type": "code",
   "execution_count": 48,
   "metadata": {},
   "outputs": [
    {
     "name": "stdout",
     "output_type": "stream",
     "text": [
      "-128\n",
      "127\n",
      "-2147483648\n",
      "2147483647\n",
      "-9223372036854775808\n",
      "9223372036854775807\n",
      "-3.4028235e+38\n",
      "3.4028235e+38\n",
      "1.1920929e-07\n",
      "-1.7976931348623157e+308\n",
      "1.7976931348623157e+308\n",
      "2.220446049250313e-16\n"
     ]
    }
   ],
   "source": [
    "for dtype in [np.int8, np.int32, np.int64]:\n",
    "   print(np.iinfo(dtype).min)\n",
    "   print(np.iinfo(dtype).max)\n",
    "for dtype in [np.float32, np.float64]:\n",
    "   print(np.finfo(dtype).min)\n",
    "   print(np.finfo(dtype).max)\n",
    "   print(np.finfo(dtype).eps)"
   ]
  },
  {
   "cell_type": "markdown",
   "metadata": {},
   "source": [
    "#### 49. How to print all the values of an array? (★★☆) \n",
    "(**hint**: np.set\\_printoptions)"
   ]
  },
  {
   "cell_type": "code",
   "execution_count": 53,
   "metadata": {},
   "outputs": [
    {
     "name": "stdout",
     "output_type": "stream",
     "text": [
      "[[0. 0. 0. 0. 0. 0. 0. 0. 0. 0. 0. 0. 0. 0. 0. 0. 0. 0. 0. 0.]\n",
      " [0. 0. 0. 0. 0. 0. 0. 0. 0. 0. 0. 0. 0. 0. 0. 0. 0. 0. 0. 0.]\n",
      " [0. 0. 0. 0. 0. 0. 0. 0. 0. 0. 0. 0. 0. 0. 0. 0. 0. 0. 0. 0.]\n",
      " [0. 0. 0. 0. 0. 0. 0. 0. 0. 0. 0. 0. 0. 0. 0. 0. 0. 0. 0. 0.]\n",
      " [0. 0. 0. 0. 0. 0. 0. 0. 0. 0. 0. 0. 0. 0. 0. 0. 0. 0. 0. 0.]\n",
      " [0. 0. 0. 0. 0. 0. 0. 0. 0. 0. 0. 0. 0. 0. 0. 0. 0. 0. 0. 0.]\n",
      " [0. 0. 0. 0. 0. 0. 0. 0. 0. 0. 0. 0. 0. 0. 0. 0. 0. 0. 0. 0.]\n",
      " [0. 0. 0. 0. 0. 0. 0. 0. 0. 0. 0. 0. 0. 0. 0. 0. 0. 0. 0. 0.]\n",
      " [0. 0. 0. 0. 0. 0. 0. 0. 0. 0. 0. 0. 0. 0. 0. 0. 0. 0. 0. 0.]\n",
      " [0. 0. 0. 0. 0. 0. 0. 0. 0. 0. 0. 0. 0. 0. 0. 0. 0. 0. 0. 0.]\n",
      " [0. 0. 0. 0. 0. 0. 0. 0. 0. 0. 0. 0. 0. 0. 0. 0. 0. 0. 0. 0.]\n",
      " [0. 0. 0. 0. 0. 0. 0. 0. 0. 0. 0. 0. 0. 0. 0. 0. 0. 0. 0. 0.]\n",
      " [0. 0. 0. 0. 0. 0. 0. 0. 0. 0. 0. 0. 0. 0. 0. 0. 0. 0. 0. 0.]\n",
      " [0. 0. 0. 0. 0. 0. 0. 0. 0. 0. 0. 0. 0. 0. 0. 0. 0. 0. 0. 0.]\n",
      " [0. 0. 0. 0. 0. 0. 0. 0. 0. 0. 0. 0. 0. 0. 0. 0. 0. 0. 0. 0.]\n",
      " [0. 0. 0. 0. 0. 0. 0. 0. 0. 0. 0. 0. 0. 0. 0. 0. 0. 0. 0. 0.]\n",
      " [0. 0. 0. 0. 0. 0. 0. 0. 0. 0. 0. 0. 0. 0. 0. 0. 0. 0. 0. 0.]\n",
      " [0. 0. 0. 0. 0. 0. 0. 0. 0. 0. 0. 0. 0. 0. 0. 0. 0. 0. 0. 0.]\n",
      " [0. 0. 0. 0. 0. 0. 0. 0. 0. 0. 0. 0. 0. 0. 0. 0. 0. 0. 0. 0.]\n",
      " [0. 0. 0. 0. 0. 0. 0. 0. 0. 0. 0. 0. 0. 0. 0. 0. 0. 0. 0. 0.]]\n"
     ]
    }
   ],
   "source": [
    "np.set_printoptions(threshold=float(\"inf\"))\n",
    "z=np.zeros((20,20))\n",
    "print(z)"
   ]
  },
  {
   "cell_type": "markdown",
   "metadata": {},
   "source": [
    "#### 50. How to find the closest value (to a given scalar) in a vector? (★★☆) \n",
    "(**hint**: argmin)"
   ]
  },
  {
   "cell_type": "code",
   "execution_count": 55,
   "metadata": {},
   "outputs": [
    {
     "name": "stdout",
     "output_type": "stream",
     "text": [
      "48\n"
     ]
    }
   ],
   "source": [
    "z=np.arange(100)\n",
    "v=np.random.uniform(0,100)\n",
    "index=(np.abs(z-v)).argmin()\n",
    "print(z[index])"
   ]
  },
  {
   "cell_type": "markdown",
   "metadata": {},
   "source": [
    "#### 51. Create a structured array representing a position (x,y) and a color (r,g,b) (★★☆) \n",
    "(**hint**: dtype)"
   ]
  },
  {
   "cell_type": "code",
   "execution_count": 56,
   "metadata": {},
   "outputs": [
    {
     "name": "stdout",
     "output_type": "stream",
     "text": [
      "[((0., 0.), (0., 0., 0.)) ((0., 0.), (0., 0., 0.))\n",
      " ((0., 0.), (0., 0., 0.)) ((0., 0.), (0., 0., 0.))\n",
      " ((0., 0.), (0., 0., 0.)) ((0., 0.), (0., 0., 0.))\n",
      " ((0., 0.), (0., 0., 0.)) ((0., 0.), (0., 0., 0.))\n",
      " ((0., 0.), (0., 0., 0.)) ((0., 0.), (0., 0., 0.))]\n"
     ]
    },
    {
     "name": "stderr",
     "output_type": "stream",
     "text": [
      "<ipython-input-56-cd2412f7956b>:1: FutureWarning: Passing (type, 1) or '1type' as a synonym of type is deprecated; in a future version of numpy, it will be understood as (type, (1,)) / '(1,)type'.\n",
      "  z=np.zeros(10,[('position',[('x',float,1),\n"
     ]
    }
   ],
   "source": [
    "z=np.zeros(10,[('position',[('x',float,1),\n",
    "                            ('y',float,1)]),\n",
    "               ('color',    [ ('r', float, 1),\n",
    "                             ('g', float, 1),\n",
    "                             ('b', float, 1)])])\n",
    "print(z)"
   ]
  },
  {
   "cell_type": "markdown",
   "metadata": {},
   "source": [
    "#### 52. Consider a random vector with shape (100,2) representing coordinates, find point by point distances (★★☆) \n",
    "(**hint**: np.atleast\\_2d, T, np.sqrt)"
   ]
  },
  {
   "cell_type": "code",
   "execution_count": 57,
   "metadata": {},
   "outputs": [
    {
     "name": "stdout",
     "output_type": "stream",
     "text": [
      "[[0.         0.76508046 0.11397192 0.36871972 0.76496353 0.30926759\n",
      "  0.73896145 0.71382559 0.55284662 0.75445985 0.6045212  0.8748036\n",
      "  0.7891965  0.63001742 0.15244898 0.59834354 0.75840789 0.64612344\n",
      "  0.18356397 0.75680753 0.69005361 0.18692691 0.47879734 0.73150777\n",
      "  0.38459572 0.23749364 0.76097905 0.20993763 0.96760458 0.27456317\n",
      "  0.09676274 0.28270372 0.65048001 0.71597245 0.99859357 0.87699613\n",
      "  0.65733089 0.84376398 0.29458925 0.79984845 0.7026134  0.592569\n",
      "  0.18788296 0.74934589 0.34986473 0.47674305 0.19472993 0.22013482\n",
      "  0.90710715 0.71103732 0.79508545 0.79199337 0.54851657 0.8343935\n",
      "  0.70790511 0.79074558 0.22921173 0.61645417 0.49566239 0.92915668\n",
      "  0.99863288 0.60990625 0.88097806 0.52612605 0.50707529 0.58195258\n",
      "  0.506048   1.06399147 0.18399716 0.55811186 0.82697535 0.89330183\n",
      "  0.11448638 0.90569521 0.44776093 0.82155748 0.57133547 0.59045097\n",
      "  0.38642351 0.1439476  1.00276734 0.66008361 0.33177778 0.71066702\n",
      "  0.51923303 0.15714158 0.20343067 0.57600127 0.64807156 0.80769232\n",
      "  0.8572201  0.94343109 0.75950174 0.23315128 0.36840987 0.81915142\n",
      "  0.65345864 1.05010823 0.84509689 0.76880742]\n",
      " [0.76508046 0.         0.86845405 0.63767299 0.24266437 0.67837324\n",
      "  0.15441018 0.59709287 0.22818075 0.13059928 0.46652544 0.39388486\n",
      "  0.0618699  0.40972145 0.64022618 0.90984813 0.25306552 0.3945376\n",
      "  0.74885549 0.13587743 0.42259199 0.68468648 0.44551436 0.2570684\n",
      "  0.77077663 0.84762785 0.05120865 0.91972428 0.37408526 0.79685714\n",
      "  0.67646402 0.5902493  0.43989936 0.14194115 0.3635919  0.13460837\n",
      "  0.80477001 0.55972128 0.5184291  0.34013987 0.48889876 0.59460458\n",
      "  0.58189765 0.32042446 0.61670668 0.42051922 0.78880086 0.78456236\n",
      "  0.29558285 0.80519256 0.30001971 0.3389451  0.77209658 0.23387002\n",
      "  0.06079887 0.39142381 0.54556603 0.48928396 0.42891459 0.58898878\n",
      "  0.30976071 0.71383192 0.23206996 0.30222623 0.45492998 0.47957158\n",
      "  0.55895664 0.43524986 0.58144619 0.25006258 0.14114322 0.58023787\n",
      "  0.87350614 0.28122146 0.42804332 0.48105205 0.33990327 0.57949836\n",
      "  0.84043055 0.80078655 0.37548231 0.73576781 0.44091261 0.2773826\n",
      "  0.30237759 0.79514288 0.63323388 0.18935058 0.73062649 0.09433077\n",
      "  0.13680916 0.42116013 0.35264513 0.53281725 0.42576616 0.54562788\n",
      "  0.44528246 0.5064992  0.30348932 0.08286231]\n",
      " [0.11397192 0.86845405 0.         0.47130369 0.87787222 0.3317726\n",
      "  0.83145206 0.82135317 0.65043184 0.84881637 0.66209527 0.98877539\n",
      "  0.88896852 0.69561764 0.23350029 0.66862904 0.84188851 0.71359064\n",
      "  0.26981302 0.86673038 0.80337431 0.22780271 0.54569713 0.84473807\n",
      "  0.4665115  0.18827396 0.86716318 0.11128576 1.08109285 0.34614686\n",
      "  0.19202623 0.39341459 0.71165152 0.82597251 1.11149391 0.97563594\n",
      "  0.74618893 0.95487432 0.37421352 0.91377822 0.81444866 0.69867082\n",
      "  0.28656855 0.82576881 0.45528712 0.59061174 0.17647819 0.29385631\n",
      "  1.01990163 0.80242924 0.87449417 0.90592758 0.63647504 0.94666074\n",
      "  0.81009599 0.86009812 0.34134582 0.72794341 0.60930931 1.040698\n",
      "  1.10986721 0.70661001 0.99252497 0.6139311  0.57008142 0.63780334\n",
      "  0.61423599 1.17731167 0.28852387 0.66913822 0.92183622 1.00452497\n",
      "  0.01313683 1.01818229 0.56168963 0.93444887 0.64908867 0.69749641\n",
      "  0.45336931 0.20868885 1.11585339 0.7562751  0.42930509 0.79160468\n",
      "  0.60792501 0.13686027 0.31424413 0.68044446 0.74434493 0.91531221\n",
      "  0.95403344 1.05739555 0.87347351 0.34126052 0.45796475 0.93036947\n",
      "  0.7662743  1.16407803 0.95857764 0.86677905]\n",
      " [0.36871972 0.63767299 0.47130369 0.         0.52505569 0.58282054\n",
      "  0.68948357 0.35364042 0.50952041 0.69154796 0.72798432 0.58224488\n",
      "  0.6859006  0.72133259 0.393281   0.315598   0.75394644 0.72773824\n",
      "  0.20994383 0.56581551 0.37836549 0.47668089 0.59847763 0.48717597\n",
      "  0.13316094 0.59587764 0.6096006  0.57719767 0.69855283 0.1915111\n",
      "  0.36169287 0.11360383 0.75405921 0.52945701 0.74223131 0.77125757\n",
      "  0.30737044 0.49903915 0.44137184 0.52034833 0.36798639 0.22932471\n",
      "  0.34311042 0.77864511 0.03040978 0.22196546 0.54109134 0.21203626\n",
      "  0.65810623 0.35352958 0.8049067  0.51258979 0.20928795 0.60084828\n",
      "  0.59850765 0.84395983 0.25096944 0.28269106 0.22234916 0.58624232\n",
      "  0.76960286 0.24503313 0.65538889 0.54634557 0.63271129 0.7150188\n",
      "  0.15379017 0.79529228 0.31687224 0.38761345 0.75133178 0.54857383\n",
      "  0.46618302 0.66274054 0.20990041 0.49539907 0.6266932  0.23010301\n",
      "  0.20348104 0.28134884 0.74223075 0.29524559 0.37964207 0.7254609\n",
      "  0.53686803 0.51224116 0.17585865 0.47483629 0.28327332 0.63653131\n",
      "  0.76573524 0.65146668 0.47395167 0.29032752 0.43770874 0.47567238\n",
      "  0.3345206  0.74963853 0.58344955 0.68071247]\n",
      " [0.76496353 0.24266437 0.87787222 0.52505569 0.         0.77602676\n",
      "  0.38838068 0.37623521 0.35815731 0.36874737 0.65656636 0.1634379\n",
      "  0.3035133  0.60853443 0.67675889 0.74099268 0.48805015 0.59818601\n",
      "  0.69101606 0.10680187 0.2040136  0.7431227  0.59458211 0.03790052\n",
      "  0.64952823 0.90865462 0.19152485 0.95347515 0.20699161 0.71048735\n",
      "  0.69415005 0.52152727 0.64295174 0.1134398  0.23363459 0.35169998\n",
      "  0.61092499 0.31782695 0.59325504 0.09820966 0.26664507 0.40658345\n",
      "  0.6083571  0.55091615 0.5138484  0.31102566 0.84580467 0.71481378\n",
      "  0.14223464 0.5993791  0.53836295 0.09642788 0.60329513 0.07579835\n",
      "  0.2601449  0.62493877 0.53663201 0.295383   0.30420234 0.34774895\n",
      "  0.24524731 0.52494532 0.13058356 0.45032341 0.61501013 0.66297265\n",
      "  0.40233652 0.30059092 0.59741833 0.21758873 0.38178869 0.33765349\n",
      "  0.87940043 0.14225203 0.33370985 0.23867231 0.51822536 0.39215862\n",
      "  0.72293374 0.75578985 0.23815954 0.53576734 0.49513073 0.50134266\n",
      "  0.44562685 0.84019347 0.58743791 0.27554354 0.53315468 0.17130146\n",
      "  0.36795463 0.21181725 0.11302075 0.54179229 0.5091337  0.30501296\n",
      "  0.23952205 0.31631654 0.08879269 0.32464743]\n",
      " [0.30926759 0.67837324 0.3317726  0.58282054 0.77602676 0.\n",
      "  0.59279752 0.86815999 0.45184635 0.61632558 0.34806764 0.92236198\n",
      "  0.67800363 0.39310573 0.1942125  0.86982366 0.57283538 0.41365239\n",
      "  0.4653964  0.72591904 0.78251346 0.12358437 0.25874801 0.75248406\n",
      "  0.64942171 0.19879916 0.69529918 0.30933711 0.98058974 0.56222715\n",
      "  0.24324115 0.47019876 0.40094418 0.68932649 0.99561464 0.75429213\n",
      "  0.89017657 0.95960415 0.18549229 0.84317685 0.81902026 0.76494815\n",
      "  0.24048931 0.53931296 0.55473078 0.57522994 0.16381177 0.51079707\n",
      "  0.90659217 0.93439711 0.59308086 0.83632801 0.7895522  0.82874596\n",
      "  0.61779779 0.55786427 0.33829863 0.74435957 0.60062152 1.03559309\n",
      "  0.96893371 0.82214838 0.86155909 0.37949983 0.27157883 0.32239706\n",
      "  0.67389018 1.06793412 0.26640287 0.56122465 0.68701064 1.00525969\n",
      "  0.34396232 0.89951996 0.54683913 0.91366707 0.37794018 0.75733029\n",
      "  0.67140421 0.44804415 1.00362091 0.87101667 0.28624748 0.51826138\n",
      "  0.37772916 0.19730155 0.41361756 0.51576949 0.85942302 0.75065621\n",
      "  0.725643   0.98323539 0.81469574 0.30360625 0.26732492 0.93517829\n",
      "  0.75939743 1.09055169 0.86464696 0.64868598]\n",
      " [0.73896145 0.15441018 0.83145206 0.68948357 0.38838068 0.59279752\n",
      "  0.         0.71665225 0.19199646 0.0279844  0.32893233 0.54538333\n",
      "  0.11079602 0.26865541 0.59795702 0.98560112 0.09984119 0.25085621\n",
      "  0.7603167  0.28392512 0.54729516 0.62489637 0.3395876  0.39589652\n",
      "  0.82068493 0.77843962 0.20279819 0.86531798 0.52786997 0.82379641\n",
      "  0.64408248 0.61924833 0.29501868 0.27778635 0.51445288 0.16458509\n",
      "  0.90012687 0.69973362 0.4605426  0.48657203 0.61281102 0.69337967\n",
      "  0.55108607 0.16602774 0.66413256 0.49132132 0.72458943 0.80165672\n",
      "  0.44975939 0.9089653  0.15045617 0.4844126  0.85186082 0.38768814\n",
      "  0.12992475 0.23783146 0.5415353  0.59698825 0.50648288 0.73607061\n",
      "  0.45337038 0.80849542 0.38575182 0.22009786 0.33966295 0.34586106\n",
      "  0.64159837 0.58468967 0.55763608 0.32202385 0.09424274 0.72443919\n",
      "  0.83855277 0.43513197 0.4897289  0.62296382 0.22132255 0.67858519\n",
      "  0.88511754 0.80147688 0.52682514 0.83714103 0.40768145 0.12502423\n",
      "  0.22490609 0.73838067 0.64463684 0.21611677 0.83043422 0.24813448\n",
      "  0.13347784 0.57528107 0.49269754 0.5185024  0.37349135 0.6834978\n",
      "  0.56196338 0.66059593 0.45602923 0.07738461]\n",
      " [0.71382559 0.59709287 0.82135317 0.35364042 0.37623521 0.86815999\n",
      "  0.71665225 0.         0.60071366 0.70484337 0.89464233 0.32678515\n",
      "  0.65849351 0.86457074 0.70106024 0.41260508 0.8089857  0.86205288\n",
      "  0.56354369 0.47134966 0.17522646 0.78469378 0.78915598 0.34827756\n",
      "  0.42018396 0.92658508 0.54985116 0.92376253 0.4566423  0.52951174\n",
      "  0.68619428 0.43260495 0.90085752 0.455394   0.51118024 0.72109027\n",
      "  0.25553827 0.16179216 0.69301683 0.30697416 0.10983419 0.12459434\n",
      "  0.63659687 0.8591635  0.36638524 0.29986382 0.86698276 0.56145763\n",
      "  0.45386616 0.22940495 0.86302373 0.3023559  0.29318704 0.43470392\n",
      "  0.59048421 0.93394777 0.5375519  0.13266078 0.27402042 0.24525978\n",
      "  0.57117824 0.19013087 0.48545843 0.67815933 0.8196942  0.89110878\n",
      "  0.2078605  0.53988199 0.6137475  0.41164925 0.73741036 0.20723474\n",
      "  0.81716003 0.46625034 0.3252989  0.19738501 0.76285259 0.12397417\n",
      "  0.48469245 0.6347991  0.50534456 0.17772957 0.59995312 0.80401884\n",
      "  0.66982481 0.84431086 0.51107202 0.52558812 0.17988034 0.5440979\n",
      "  0.73206603 0.38285768 0.26877565 0.56713597 0.64539874 0.14396386\n",
      "  0.15472047 0.45564682 0.37935487 0.67091889]\n",
      " [0.55284662 0.22818075 0.65043184 0.50952041 0.35815731 0.45184635\n",
      "  0.19199646 0.60071366 0.         0.20348065 0.30545133 0.51980052\n",
      "  0.23918619 0.26651529 0.41849359 0.81563001 0.2444661  0.26206247\n",
      "  0.56843505 0.28430845 0.45045252 0.45768621 0.23778881 0.34655258\n",
      "  0.63793334 0.61968954 0.24373314 0.69482505 0.54885258 0.63366801\n",
      "  0.45995385 0.43110408 0.30276223 0.25324885 0.55516429 0.3252053\n",
      "  0.74810185 0.62458988 0.29098976 0.44544196 0.50962586 0.55098288\n",
      "  0.36558352 0.27362729 0.482459   0.332485   0.56134825 0.61013116\n",
      "  0.47077094 0.76577382 0.29558003 0.44043226 0.68688982 0.39436016\n",
      "  0.167393   0.34427606 0.349669   0.4705232  0.35270502 0.68039665\n",
      "  0.51999272 0.65789932 0.41853345 0.0921766  0.25689253 0.30842396\n",
      "  0.48495917 0.62848225 0.36960747 0.19028567 0.27491315 0.6597583\n",
      "  0.65657134 0.46107475 0.32339765 0.55714136 0.16714973 0.53716492\n",
      "  0.69966264 0.60973878 0.56465902 0.69295396 0.22152341 0.2186613\n",
      "  0.08767305 0.56921157 0.4529547  0.08454278 0.68468863 0.29952108\n",
      "  0.30438588 0.5694126  0.43285976 0.32777268 0.19861276 0.60391738\n",
      "  0.45080453 0.67107622 0.44452039 0.21639276]\n",
      " [0.75445985 0.13059928 0.84881637 0.69154796 0.36874737 0.61632558\n",
      "  0.0279844  0.70484337 0.20348065 0.         0.35686245 0.52370922\n",
      "  0.08332751 0.29663474 0.61547905 0.98379086 0.12255706 0.27883044\n",
      "  0.76977293 0.26314203 0.53381287 0.6450688  0.36480455 0.37827672\n",
      "  0.82350153 0.80022914 0.18036485 0.88524785 0.50254151 0.83075825\n",
      "  0.66026081 0.6251478  0.32294259 0.26003501 0.4880011  0.13881015\n",
      "  0.8941214  0.68245929 0.47978692 0.46691956 0.59971195 0.68618562\n",
      "  0.56664566 0.19079751 0.66690898 0.48880578 0.74561531 0.81026805\n",
      "  0.42485185 0.90113821 0.17002927 0.46508509 0.84899632 0.3644657\n",
      "  0.1146203  0.26087819 0.55270271 0.58755909 0.50276981 0.71642944\n",
      "  0.42595595 0.80246139 0.36048201 0.24074215 0.36593933 0.37365007\n",
      "  0.63755628 0.55788813 0.57211795 0.31740203 0.07312185 0.70583382\n",
      "  0.85562565 0.40997232 0.48892261 0.60500425 0.24741241 0.67128139\n",
      "  0.8890475  0.81284881 0.50048501 0.82972067 0.42270862 0.15224008\n",
      "  0.24485639 0.75840759 0.65370058 0.21672125 0.8233421  0.2232543\n",
      "  0.10937443 0.5517083  0.47505978 0.53123827 0.3912679  0.66684508\n",
      "  0.55040747 0.6354857  0.43373759 0.05047558]\n",
      " [0.6045212  0.46652544 0.66209527 0.72798432 0.65656636 0.34806764\n",
      "  0.32893233 0.89464233 0.30545133 0.35686245 0.         0.8198756\n",
      "  0.43751493 0.06173644 0.45318023 1.04340688 0.26616152 0.08254525\n",
      "  0.70359337 0.56881685 0.75344622 0.43430657 0.13359681 0.64907247\n",
      "  0.83767724 0.54658367 0.50443876 0.65629961 0.83235215 0.79166971\n",
      "  0.5118749  0.62354202 0.0536846  0.54559419 0.82830733 0.4885729\n",
      "  1.00827938 0.9294505  0.32042545 0.74796674 0.81016676 0.82833541\n",
      "  0.44416074 0.21167841 0.69775787 0.60571231 0.50905817 0.75134306\n",
      "  0.75278457 1.03572201 0.26703631 0.74340453 0.92957834 0.68089253\n",
      "  0.41692142 0.21250014 0.49590297 0.76223764 0.6297106  0.98577143\n",
      "  0.77583143 0.92277764 0.6932076  0.21820103 0.10054417 0.02587672\n",
      "  0.75012532 0.9007907  0.46456903 0.49224801 0.41235257 0.96516348\n",
      "  0.67280026 0.74042653 0.58789161 0.86259145 0.13897796 0.81591431\n",
      "  0.88406665 0.71621556 0.83959593 0.96384208 0.34969999 0.21417884\n",
      "  0.22588628 0.53730222 0.60722121 0.38962757 0.95418003 0.55850148\n",
      "  0.45439111 0.86428412 0.73778388 0.45769396 0.29125708 0.90838777\n",
      "  0.74990644 0.96088592 0.73927222 0.40372765]\n",
      " [0.8748036  0.39388486 0.98877539 0.58224488 0.1634379  0.92236198\n",
      "  0.54538333 0.32678515 0.51980052 0.52370922 0.8198756  0.\n",
      "  0.45141721 0.77195366 0.80528081 0.7335649  0.64517872 0.76147104\n",
      "  0.77339674 0.26175466 0.20481507 0.87767878 0.75451677 0.17436672\n",
      "  0.69061757 1.04055239 0.34337867 1.07354548 0.13001012 0.77373515\n",
      "  0.81448432 0.60839189 0.80630707 0.2761657  0.18443689 0.48241246\n",
      "  0.58189702 0.20596753 0.73733983 0.07921745 0.23663832 0.40483931\n",
      "  0.73567603 0.71004493 0.5791881  0.39915779 0.9774401  0.78871459\n",
      "  0.14096706 0.55464902 0.69366449 0.08627764 0.60397945 0.16386878\n",
      "  0.41994726 0.78312615 0.65313375 0.30684297 0.38298224 0.2031629\n",
      "  0.25033777 0.50873908 0.19381303 0.6119174  0.77615624 0.82596612\n",
      "  0.43622557 0.21887492 0.72110029 0.36193854 0.52618831 0.20547307\n",
      "  0.98860283 0.15687016 0.4274353  0.13421468 0.68138333 0.39342408\n",
      "  0.76279164 0.84266907 0.17866468 0.50389792 0.63707669 0.66197382\n",
      "  0.60682044 0.96737457 0.68256289 0.4361263  0.5049966  0.30797733\n",
      "  0.50515799 0.06974428 0.11530193 0.66553834 0.65830824 0.20484643\n",
      "  0.24965787 0.17536605 0.09134757 0.47671196]\n",
      " [0.7891965  0.0618699  0.88896852 0.6859006  0.3035133  0.67800363\n",
      "  0.11079602 0.65849351 0.23918619 0.08332751 0.43751493 0.45141721\n",
      "  0.         0.37808952 0.65758915 0.96469393 0.2031676  0.36092052\n",
      "  0.78572352 0.19677947 0.48420424 0.69540311 0.4339233  0.31883866\n",
      "  0.81902283 0.85516835 0.11220514 0.93362674 0.42180849 0.83870102\n",
      "  0.69779678 0.63168488 0.40543084 0.20367856 0.40539078 0.08906768\n",
      "  0.86325442 0.62101675 0.52862684 0.40043811 0.5505238  0.65327928\n",
      "  0.60313302 0.27263855 0.66363461 0.47230888 0.79820899 0.82335807\n",
      "  0.34515115 0.8649967  0.24604111 0.3995259  0.82753064 0.28917421\n",
      "  0.08804428 0.34035772 0.57600185 0.54912197 0.48244684 0.64856625\n",
      "  0.34263783 0.77204684 0.28020238 0.29850706 0.43878048 0.45315483\n",
      "  0.61436843 0.47484922 0.6052408  0.29968756 0.07927792 0.64071837\n",
      "  0.89481031 0.32977271 0.47751543 0.54213495 0.32069292 0.63818895\n",
      "  0.88748674 0.83437906 0.41802235 0.79512905 0.45966495 0.23556507\n",
      "  0.30059388 0.80763662 0.66946096 0.221402   0.78973461 0.14505791\n",
      "  0.08018195 0.47465008 0.41416926 0.5595626  0.43698876 0.60718197\n",
      "  0.50620054 0.55500771 0.36037234 0.03382145]\n",
      " [0.63001742 0.40972145 0.69561764 0.72133259 0.60853443 0.39310573\n",
      "  0.26865541 0.86457074 0.26651529 0.29663474 0.06173644 0.77195366\n",
      "  0.37808952 0.         0.47758605 1.03671029 0.20460318 0.02178815\n",
      "  0.71495839 0.51717589 0.71696664 0.46858405 0.15127076 0.60342897\n",
      "  0.83664987 0.59175712 0.44955069 0.69785335 0.7787745  0.79947995\n",
      "  0.53504862 0.62142302 0.03632589 0.49624893 0.77273024 0.42716608\n",
      "  0.99193518 0.89031106 0.33828543 0.70189589 0.7758387  0.80533805\n",
      "  0.45986193 0.15268416 0.69150759 0.58267837 0.55028005 0.76215428\n",
      "  0.69923424 1.01615235 0.20819678 0.69771342 0.91817124 0.62880336\n",
      "  0.36249598 0.16569249 0.50027756 0.73301128 0.60565353 0.94327314\n",
      "  0.71809981 0.90455047 0.63857076 0.18749021 0.12570789 0.08333188\n",
      "  0.7308712  0.84481725 0.47793694 0.4564802  0.35083361 0.9242215\n",
      "  0.70571261 0.68638889 0.56731762 0.82121771 0.10192062 0.79234137\n",
      "  0.88700089 0.73343893 0.78428233 0.94370858 0.34980802 0.15244617\n",
      "  0.19635468 0.57581845 0.61294667 0.34866679 0.93450487 0.50266999\n",
      "  0.39287534 0.81386128 0.69443757 0.4638929  0.29245879 0.86998283\n",
      "  0.71654515 0.90850555 0.68930648 0.34426814]\n",
      " [0.15244898 0.64022618 0.23350029 0.393281   0.67675889 0.1942125\n",
      "  0.59795702 0.70106024 0.41849359 0.61547905 0.45318023 0.80528081\n",
      "  0.65758915 0.47758605 0.         0.67561395 0.61044767 0.49368398\n",
      "  0.2751928  0.65117569 0.64031558 0.08452135 0.32639472 0.64700374\n",
      "  0.45521763 0.23576706 0.64285672 0.28156597 0.88348082 0.37152131\n",
      "  0.05914635 0.28305365 0.49839067 0.61107823 0.90800578 0.743485\n",
      "  0.70014656 0.80958052 0.14337569 0.72708533 0.66662081 0.58986184\n",
      "  0.06968211 0.59840045 0.36644983 0.4242032  0.17284829 0.3220394\n",
      "  0.81635823 0.74662392 0.64523266 0.71957076 0.59757041 0.74034674\n",
      "  0.58087544 0.63847777 0.16406078 0.58558556 0.44766021 0.89071595\n",
      "  0.89725203 0.63616031 0.78206598 0.38075225 0.35501359 0.43113066\n",
      "  0.49856484 0.97706142 0.08816476 0.46060831 0.68854052 0.85752774\n",
      "  0.24084462 0.81255327 0.39431013 0.77392803 0.42052578 0.58397839\n",
      "  0.47896189 0.26950249 0.91384465 0.68579621 0.19932151 0.56135891\n",
      "  0.37458729 0.1634355  0.22063969 0.45480395 0.6739959  0.6934231\n",
      "  0.72118588 0.87116933 0.6917575  0.14113305 0.22446643 0.78475204\n",
      "  0.61047667 0.97937761 0.76211509 0.63448122]\n",
      " [0.59834354 0.90984813 0.66862904 0.315598   0.74099268 0.86982366\n",
      "  0.98560112 0.41260508 0.81563001 0.98379086 1.04340688 0.7335649\n",
      "  0.96469393 1.03671029 0.67561395 0.         1.05822162 1.04274102\n",
      "  0.41567705 0.8116676  0.54570416 0.75248173 0.91324585 0.70536449\n",
      "  0.22041408 0.83520589 0.87295022 0.77948153 0.86318676 0.32485663\n",
      "  0.63024528 0.42214068 1.06959618 0.7822669  0.91592806 1.0441326\n",
      "  0.16709511 0.56952765 0.7490675  0.69807144 0.49818304 0.33587505\n",
      "  0.63929194 1.08810998 0.34570659 0.49504373 0.79183103 0.37911668\n",
      "  0.84823565 0.22094564 1.11062096 0.6917848  0.13866773 0.81175979\n",
      "  0.8808456  1.15551477 0.55761299 0.44623561 0.48257298 0.64455969\n",
      "  0.96667464 0.22485414 0.86654015 0.85963131 0.94750768 1.03006556\n",
      "  0.3509894  0.95039055 0.61325189 0.66760297 1.03665939 0.60880862\n",
      "  0.65876723 0.85802059 0.49609749 0.60914475 0.94121935 0.34970886\n",
      "  0.21525979 0.46208309 0.91153243 0.23832837 0.69440435 1.03387518\n",
      "  0.85014152 0.75541306 0.45917779 0.76966151 0.23382685 0.88690681\n",
      "  1.04461678 0.79363727 0.65321325 0.59759528 0.75268654 0.55491082\n",
      "  0.50424279 0.86790579 0.77064226 0.96541042]\n",
      " [0.75840789 0.25306552 0.84188851 0.75394644 0.48805015 0.57283538\n",
      "  0.09984119 0.8089857  0.2444661  0.12255706 0.26616152 0.64517872\n",
      "  0.2031676  0.20460318 0.61044767 1.05822162 0.         0.18365047\n",
      "  0.80219346 0.38376624 0.64216591 0.62407592 0.31412111 0.49471145\n",
      "  0.88225946 0.76689521 0.30228382 0.8631065  0.62457986 0.87325882\n",
      "  0.66180347 0.67373128 0.22247229 0.3768808  0.60836521 0.23005284\n",
      "  0.98213585 0.79802943 0.46780952 0.58620958 0.70706695 0.77833452\n",
      "  0.57291719 0.070096   0.72692222 0.56840551 0.71789757 0.84600334\n",
      "  0.54720559 0.99442818 0.05424109 0.58394857 0.92738327 0.48686016\n",
      "  0.22866459 0.13836061 0.58024036 0.68612979 0.58588814 0.8356462\n",
      "  0.5428805  0.89083884 0.48264341 0.23371732 0.30424865 0.28756108\n",
      "  0.72067466 0.67719797 0.5837227  0.40552257 0.15376779 0.823567\n",
      "  0.85024226 0.53218358 0.56310528 0.72176964 0.19661782 0.76379816\n",
      "  0.94323386 0.83633154 0.62108233 0.92203655 0.43520466 0.05505094\n",
      "  0.24151272 0.73685299 0.68898983 0.29311731 0.91473802 0.34571201\n",
      "  0.19487573 0.67422273 0.59140697 0.5520051  0.3906067  0.78132184\n",
      "  0.65436313 0.75765669 0.55566399 0.17226511]\n",
      " [0.64612344 0.3945376  0.71359064 0.72773824 0.59818601 0.41365239\n",
      "  0.25085621 0.86205288 0.26206247 0.27883044 0.08254525 0.76147104\n",
      "  0.36092052 0.02178815 0.49368398 1.04274102 0.18365047 0.\n",
      "  0.72707813 0.50502126 0.71192416 0.486992   0.16816303 0.59430067\n",
      "  0.84476787 0.61216539 0.43557201 0.7175377  0.76522764 0.81042855\n",
      "  0.5507153  0.62952513 0.04550851 0.4854046  0.75798602 0.40775838\n",
      "  0.9945942  0.88389419 0.35321408 0.69241725 0.77164672 0.80570054\n",
      "  0.47373607 0.13089626 0.6981     0.58343037 0.56999991 0.77404877\n",
      "  0.68576236 1.0175962  0.18640863 0.68842778 0.92267477 0.61623869\n",
      "  0.34901613 0.14665455 0.51074509 0.73100727 0.60595204 0.93528229\n",
      "  0.70196382 0.90660029 0.62450359 0.18802917 0.14460905 0.10492485\n",
      "  0.7327654  0.82978742 0.49111128 0.45234693 0.33125607 0.91696182\n",
      "  0.72353688 0.67264064 0.56905309 0.8138518  0.10274115 0.79249863\n",
      "  0.89633861 0.74721279 0.76969493 0.94500601 0.35962168 0.13230061\n",
      "  0.19721998 0.59498061 0.62354727 0.34261692 0.9359836  0.48799945\n",
      "  0.37328243 0.80204131 0.6862932  0.47503171 0.30303961 0.863912\n",
      "  0.71284719 0.89556125 0.67784036 0.32712098]\n",
      " [0.18356397 0.74885549 0.26981302 0.20994383 0.69101606 0.4653964\n",
      "  0.7603167  0.56354369 0.56843505 0.76977293 0.70359337 0.77339674\n",
      "  0.78572352 0.71495839 0.2751928  0.41567705 0.80219346 0.72707813\n",
      "  0.         0.70815762 0.57446968 0.34357289 0.57037702 0.65431963\n",
      "  0.20118767 0.42105687 0.73259455 0.37980293 0.881081   0.09683407\n",
      "  0.22215831 0.16950212 0.74187961 0.6682769  0.91968542 0.87466838\n",
      "  0.47731951 0.70744524 0.38423292 0.7049358  0.57276735 0.4391084\n",
      "  0.26083312 0.80897053 0.20098861 0.38130277 0.37616263 0.04798094\n",
      "  0.83106589 0.532882   0.84676991 0.69699549 0.36779575 0.76544222\n",
      "  0.69862946 0.86278193 0.2220855  0.48602783 0.39282391 0.79453524\n",
      "  0.93490944 0.4372798  0.81721666 0.57154751 0.60305507 0.68467315\n",
      "  0.36157155 0.97867988 0.23911673 0.5107506  0.83822734 0.75713394\n",
      "  0.26285654 0.83295999 0.35732378 0.69851203 0.63656605 0.44003941\n",
      "  0.20733075 0.07165189 0.92153449 0.4867361  0.37157244 0.76212923\n",
      "  0.56291861 0.34013187 0.11636875 0.56432178 0.47483895 0.77064938\n",
      "  0.86146683 0.84314102 0.66040903 0.25348739 0.42508741 0.68371392\n",
      "  0.53284585 0.94545689 0.76101398 0.7722155 ]\n",
      " [0.75680753 0.13587743 0.86673038 0.56581551 0.10680187 0.72591904\n",
      "  0.28392512 0.47134966 0.28430845 0.26314203 0.56881685 0.26175466\n",
      "  0.19677947 0.51717589 0.65117569 0.8116676  0.38376624 0.50502126\n",
      "  0.70815762 0.         0.29618211 0.70910384 0.52139464 0.12439819\n",
      "  0.69626519 0.87534288 0.08472299 0.93233062 0.26562319 0.74123927\n",
      "  0.67710053 0.54082955 0.5503509  0.04085445 0.27132649 0.24994286\n",
      "  0.69326256 0.42428101 0.54974004 0.20437746 0.36176714 0.48421697\n",
      "  0.58589885 0.44829028 0.54958552 0.34395072 0.81361501 0.73781269\n",
      "  0.18679369 0.68771096 0.43311457 0.20307633 0.67300086 0.11217953\n",
      "  0.15865288 0.52148849 0.52832603 0.37456693 0.34505082 0.45358623\n",
      "  0.2464805  0.60419643 0.13569766 0.37415066 0.53795802 0.57773994\n",
      "  0.46322137 0.34450216 0.5793545  0.2001227  0.27530618 0.44436889\n",
      "  0.86983224 0.1767663  0.35967594 0.34535735 0.43295648 0.46924193\n",
      "  0.76861549 0.76782312 0.28049189 0.62080603 0.45769922 0.40057953\n",
      "  0.3710553  0.81309105 0.5972822  0.21041984 0.61687697 0.07550488\n",
      "  0.26335447 0.29711766 0.21784449 0.52553167 0.45993578 0.41078159\n",
      "  0.32454082 0.39212584 0.17392174 0.21808965]\n",
      " [0.69005361 0.42259199 0.80337431 0.37836549 0.2040136  0.78251346\n",
      "  0.54729516 0.17522646 0.45045252 0.53381287 0.75344622 0.20481507\n",
      "  0.48420424 0.71696664 0.64031558 0.54570416 0.64216591 0.71192416\n",
      "  0.57446968 0.29618211 0.         0.71893422 0.66094264 0.17380034\n",
      "  0.48609811 0.8752966  0.37485202 0.89493741 0.32737415 0.5698379\n",
      "  0.64013886 0.41406111 0.75320136 0.28069069 0.3763131  0.54586508\n",
      "  0.40827775 0.1803472  0.59856171 0.15349133 0.0663236  0.21007426\n",
      "  0.57123564 0.69604236 0.37700208 0.21685098 0.81282258 0.58692699\n",
      "  0.30301168 0.3953687  0.69573702 0.14676464 0.41071086 0.26882553\n",
      "  0.41919257 0.77127613 0.4795768  0.10370057 0.1952713  0.25309987\n",
      "  0.42123684 0.32469076 0.32253129 0.5352908  0.68861131 0.75324765\n",
      "  0.23147861 0.42170074 0.55283523 0.26121205 0.56332003 0.22339593\n",
      "  0.80194074 0.31237201 0.24680997 0.13363861 0.61694619 0.1968287\n",
      "  0.55854792 0.64488994 0.37392221 0.33230768 0.49890011 0.64178092\n",
      "  0.52784861 0.79752628 0.49120882 0.36965073 0.33019557 0.36934362\n",
      "  0.55705007 0.27345049 0.10765922 0.49933924 0.53400866 0.15727942\n",
      "  0.04501132 0.37180913 0.22523939 0.49787771]\n",
      " [0.18692691 0.68468648 0.22780271 0.47668089 0.7431227  0.12358437\n",
      "  0.62489637 0.78469378 0.45768621 0.6450688  0.43430657 0.87767878\n",
      "  0.69540311 0.46858405 0.08452135 0.75248173 0.62407592 0.486992\n",
      "  0.34357289 0.70910384 0.71893422 0.         0.31984833 0.71517629\n",
      "  0.53230313 0.16631027 0.69269039 0.24049935 0.95009489 0.44033744\n",
      "  0.12238881 0.3672672  0.48392336 0.66990352 0.97166091 0.77830959\n",
      "  0.78295768 0.89037596 0.16680993 0.79890355 0.74764387 0.67422166\n",
      "  0.14899678 0.6026335  0.4502795  0.50405628 0.10475591 0.38825371\n",
      "  0.88050088 0.83019309 0.65305558 0.79155421 0.67933364 0.80351388\n",
      "  0.62421766 0.63364147 0.24716712 0.66770483 0.52809675 0.97052853\n",
      "  0.95553442 0.7201898  0.84246857 0.40479914 0.34289435 0.41009193\n",
      "  0.58288757 1.04200296 0.17095289 0.52560174 0.71796588 0.93791314\n",
      "  0.23852118 0.87560668 0.47435271 0.85231621 0.42839636 0.66820201\n",
      "  0.550449   0.32446445 0.97822441 0.76992225 0.25140972 0.57196255\n",
      "  0.40025331 0.11353977 0.3025378  0.50543671 0.75809644 0.74543563\n",
      "  0.75330851 0.94231212 0.76542007 0.22053678 0.25911077 0.86559048\n",
      "  0.69059518 1.05055559 0.82995198 0.6696161 ]\n",
      " [0.47879734 0.44551436 0.54569713 0.59847763 0.59458211 0.25874801\n",
      "  0.3395876  0.78915598 0.23778881 0.36480455 0.13359681 0.75451677\n",
      "  0.4339233  0.15127076 0.32639472 0.91324585 0.31412111 0.16816303\n",
      "  0.57037702 0.52139464 0.66094264 0.31984833 0.         0.58026328\n",
      "  0.70537421 0.45358563 0.4725057  0.55395861 0.7864835  0.65808871\n",
      "  0.38409097 0.49206111 0.17311052 0.49103598 0.7912186  0.50361284\n",
      "  0.88514297 0.84046482 0.18869872 0.67835701 0.71279469 0.71329187\n",
      "  0.3118507  0.28428394 0.56812143 0.49299424 0.4070708  0.61805317\n",
      "  0.70812965 0.91568016 0.33654219 0.6728131  0.8025948  0.63203481\n",
      "  0.3875926  0.31443622 0.36269573 0.65662435 0.51805207 0.90390249\n",
      "  0.75083753 0.801783   0.654334   0.14740851 0.03426448 0.11717888\n",
      "  0.63120268 0.86458722 0.33156513 0.40423871 0.43304758 0.8798358\n",
      "  0.55552839 0.69801453 0.47221665 0.77930385 0.11997874 0.70169404\n",
      "  0.75076768 0.58490863 0.80111167 0.84468584 0.21887635 0.25967775\n",
      "  0.1503838  0.42959537 0.47371139 0.31903965 0.83456792 0.52882469\n",
      "  0.47305967 0.80629372 0.66106263 0.3242524  0.16081324 0.81804346\n",
      "  0.65147932 0.90869626 0.6817299  0.40233086]\n",
      " [0.73150777 0.2570684  0.84473807 0.48717597 0.03790052 0.75248406\n",
      "  0.39589652 0.34827756 0.34655258 0.37827672 0.64907247 0.17436672\n",
      "  0.31883866 0.60342897 0.64700374 0.70536449 0.49471145 0.59430067\n",
      "  0.65431963 0.12439819 0.17380034 0.71517629 0.58026328 0.\n",
      "  0.61167626 0.88012404 0.20696728 0.92212832 0.23705168 0.67283013\n",
      "  0.66251279 0.48488894 0.63848443 0.11825898 0.26775526 0.37410306\n",
      "  0.57785936 0.30418749 0.5685006  0.09897229 0.23846045 0.37190857\n",
      "  0.57815673 0.55518557 0.4761003  0.27380316 0.81713324 0.67760694\n",
      "  0.17728209 0.56837505 0.54635261 0.09435656 0.5673774  0.11367318\n",
      "  0.26610464 0.62993185 0.5038691  0.26072225 0.26650255 0.34309562\n",
      "  0.2828979  0.49090574 0.16846366 0.43846295 0.60228371 0.65405424\n",
      "  0.36503934 0.33260372 0.56631683 0.19146753 0.39797311 0.3290165\n",
      "  0.8459912  0.17864509 0.29701627 0.22708259 0.51016452 0.35731715\n",
      "  0.68507384 0.7195329  0.27136788 0.50346835 0.46929503 0.50392513\n",
      "  0.43311263 0.81033894 0.55170691 0.26241188 0.50041673 0.19583145\n",
      "  0.38764144 0.23096114 0.09682324 0.51056268 0.48665048 0.28901744\n",
      "  0.20633937 0.33807418 0.11511562 0.33694422]\n",
      " [0.38459572 0.77077663 0.4665115  0.13316094 0.64952823 0.64942171\n",
      "  0.82068493 0.42018396 0.63793334 0.82350153 0.83767724 0.69061757\n",
      "  0.81902283 0.83664987 0.45521763 0.22041408 0.88225946 0.84476787\n",
      "  0.20118767 0.69626519 0.48609811 0.53230313 0.70537421 0.61167626\n",
      "  0.         0.62203966 0.74220479 0.57762311 0.81242127 0.12418464\n",
      "  0.41021722 0.21525648 0.86790903 0.66069034 0.8589393  0.90441429\n",
      "  0.28137586 0.57846185 0.53388352 0.63509672 0.46257615 0.30089564\n",
      "  0.42058653 0.90370055 0.15660384 0.35344576 0.57553698 0.17297511\n",
      "  0.77804818 0.33973482 0.93235018 0.62759742 0.17209415 0.72502543\n",
      "  0.73156773 0.96682653 0.34413407 0.38400579 0.35131768 0.66435504\n",
      "  0.89212725 0.25833505 0.78010418 0.66824496 0.73953761 0.82254975\n",
      "  0.25480082 0.90765118 0.39481095 0.52073045 0.88404775 0.62616192\n",
      "  0.45817877 0.78396243 0.34283912 0.58972025 0.74564693 0.30776098\n",
      "  0.0734579  0.25810274 0.85781026 0.30407273 0.4883064  0.85149621\n",
      "  0.65884836 0.54054525 0.24037606 0.60692616 0.29285686 0.76790222\n",
      "  0.89882006 0.75836334 0.58816798 0.3837943  0.54666437 0.55726821\n",
      "  0.44111144 0.85088595 0.70175559 0.81355802]\n",
      " [0.23749364 0.84762785 0.18827396 0.59587764 0.90865462 0.19879916\n",
      "  0.77843962 0.92658508 0.61968954 0.80022914 0.54658367 1.04055239\n",
      "  0.85516835 0.59175712 0.23576706 0.83520589 0.76689521 0.61216539\n",
      "  0.42105687 0.87534288 0.8752966  0.16631027 0.45358563 0.88012404\n",
      "  0.62203966 0.         0.8574695  0.119475   1.11564484 0.5105983\n",
      "  0.24040078 0.49642883 0.59962578 0.83619711 1.13779417 0.9359289\n",
      "  0.89248781 1.04232714 0.32949157 0.96212678 0.89928915 0.81022929\n",
      "  0.30542704 0.73662991 0.5733922  0.65869337 0.06311612 0.45619499\n",
      "  1.04654669 0.94475146 0.78979697 0.95467055 0.78438283 0.96966696\n",
      "  0.7869309  0.75665639 0.39631772 0.81654069 0.68157242 1.12454242\n",
      "  1.12173945 0.84034456 1.00877884 0.55968283 0.4691594  0.52083519\n",
      "  0.72022904 1.20795527 0.32250098 0.69130101 0.87242836 1.09075021\n",
      "  0.20123714 1.0417888  0.62873011 1.00893431 0.57051427 0.80603154\n",
      "  0.62192202 0.37522217 1.14425769 0.89064331 0.4176824  0.71291493\n",
      "  0.55621058 0.08363714 0.42143993 0.67083328 0.8786338  0.91070814\n",
      "  0.90935058 1.10598991 0.92733291 0.3767718  0.42213591 1.01747495\n",
      "  0.84434606 1.21424301 0.99507983 0.82803656]\n",
      " [0.76097905 0.05120865 0.86716318 0.6096006  0.19152485 0.69529918\n",
      "  0.20279819 0.54985116 0.24373314 0.18036485 0.50443876 0.34337867\n",
      "  0.11220514 0.44955069 0.64285672 0.87295022 0.30228382 0.43557201\n",
      "  0.73259455 0.08472299 0.37485202 0.69269039 0.4725057  0.20696728\n",
      "  0.74220479 0.8574695  0.         0.92399972 0.32981278 0.77526215\n",
      "  0.675353   0.57004918 0.48107806 0.0949143  0.32397219 0.17360462\n",
      "  0.76288731 0.50882988 0.52815857 0.28893182 0.44103447 0.55274983\n",
      "  0.58154093 0.36855948 0.59024223 0.38937854 0.79735245 0.76619211\n",
      "  0.25051542 0.76114217 0.35028582 0.28775941 0.73464203 0.18504222\n",
      "  0.08760955 0.44055289 0.53693912 0.44563999 0.39535519 0.5378186\n",
      "  0.27834487 0.67248934 0.18902016 0.32615509 0.48489818 0.51584662\n",
      "  0.52209438 0.39673428 0.5787728  0.22466674 0.19109451 0.52904905\n",
      "  0.87149356 0.23710045 0.39981768 0.43002789 0.37325595 0.53765068\n",
      "  0.81302114 0.78757449 0.33516312 0.6925497  0.44428988 0.32340045\n",
      "  0.32492833 0.80109091 0.61821196 0.18811046 0.6878368  0.05634931\n",
      "  0.18221541 0.37276407 0.30198265 0.52783365 0.43579743 0.4949974\n",
      "  0.39948029 0.46109566 0.25341921 0.13383298]\n",
      " [0.20993763 0.91972428 0.11128576 0.57719767 0.95347515 0.30933711\n",
      "  0.86531798 0.92376253 0.69482505 0.88524785 0.65629961 1.07354548\n",
      "  0.93362674 0.69785335 0.28156597 0.77948153 0.8631065  0.7175377\n",
      "  0.37980293 0.93233062 0.89493741 0.24049935 0.55395861 0.92212832\n",
      "  0.57762311 0.119475   0.92399972 0.         1.15917861 0.45742459\n",
      "  0.25972531 0.49223051 0.70854563 0.89207165 1.1861509  1.01758585\n",
      "  0.8568393  1.05234278 0.40576437 0.99687339 0.91055243 0.80237538\n",
      "  0.34674568 0.8382327  0.55936851 0.6792901  0.14757914 0.40509579\n",
      "  1.09437042 0.91268465 0.88997549 0.98914494 0.74716904 1.01921384\n",
      "  0.85979585 0.86350326 0.4204568  0.82488378 0.69972753 1.13724118\n",
      "  1.17807764 0.81539258 1.06226731 0.64522614 0.57311477 0.63083987\n",
      "  0.71597373 1.25404922 0.35607171 0.73946081 0.95822116 1.10174315\n",
      "  0.12071486 1.09131387 0.64968199 1.02748287 0.66674361 0.80036912\n",
      "  0.56425164 0.31995416 1.19143617 0.86526985 0.47977571 0.81030144\n",
      "  0.64055216 0.12696136 0.41310109 0.73588934 0.85330336 0.97490781\n",
      "  0.99317984 1.14115381 0.95856768 0.41168998 0.49665547 1.02764895\n",
      "  0.8598363  1.24878598 1.03700607 0.90867589]\n",
      " [0.96760458 0.37408526 1.08109285 0.69855283 0.20699161 0.98058974\n",
      "  0.52786997 0.4566423  0.54885258 0.50254151 0.83235215 0.13001012\n",
      "  0.42180849 0.7787745  0.88348082 0.86318676 0.62457986 0.76522764\n",
      "  0.881081   0.26562319 0.32737415 0.95009489 0.7864835  0.23705168\n",
      "  0.81242127 1.11564484 0.32981278 1.15917861 0.         0.88918575\n",
      "  0.89956153 0.71298825 0.81073517 0.29595001 0.05595815 0.42876971\n",
      "  0.71187775 0.32702864 0.79903188 0.17820616 0.36545444 0.53267401\n",
      "  0.81486617 0.69333869 0.69261749 0.50060103 1.0527868  0.90015428\n",
      "  0.07957287 0.68390482 0.66743878 0.18596728 0.73265513 0.15450596\n",
      "  0.41630545 0.7621606  0.74063888 0.43096471 0.48829572 0.30137328\n",
      "  0.13551298 0.63843408 0.14211831 0.63947367 0.8035409  0.84227186\n",
      "  0.5576661  0.09760308 0.80332551 0.42450976 0.48695321 0.31522986\n",
      "  1.0820752  0.09289047 0.52664652 0.2619159  0.69786913 0.52073588\n",
      "  0.88525517 0.94851543 0.04870586 0.63388548 0.70161222 0.65146753\n",
      "  0.63610282 1.04689546 0.78345255 0.4709936  0.63500631 0.27984061\n",
      "  0.45759901 0.08500639 0.2247839  0.74758637 0.71328244 0.32988165\n",
      "  0.37228255 0.13324856 0.12251521 0.4523732 ]\n",
      " [0.27456317 0.79685714 0.34614686 0.1915111  0.71048735 0.56222715\n",
      "  0.82379641 0.52951174 0.63366801 0.83075825 0.79166971 0.77373515\n",
      "  0.83870102 0.79947995 0.37152131 0.32485663 0.87325882 0.81042855\n",
      "  0.09683407 0.74123927 0.5698379  0.44033744 0.65808871 0.67283013\n",
      "  0.12418464 0.5105983  0.77526215 0.45742459 0.88918575 0.\n",
      "  0.31898678 0.20701653 0.8278086  0.70282854 0.93187519 0.92679905\n",
      "  0.40532261 0.68284365 0.47473425 0.71106064 0.55696975 0.40611769\n",
      "  0.35275087 0.88521848 0.19717138 0.40071153 0.46905324 0.0544561\n",
      "  0.8463758  0.46390735 0.92002914 0.70325429 0.29624792 0.78614011\n",
      "  0.75073042 0.94237379 0.29991237 0.47296827 0.40633684 0.76980891\n",
      "  0.95571892 0.3797713  0.83987062 0.64687247 0.69136074 0.77371367\n",
      "  0.34247096 0.98616815 0.32950669 0.55064039 0.89657354 0.73174018\n",
      "  0.33709399 0.85018672 0.38189878 0.68482564 0.71665047 0.41026898\n",
      "  0.11194512 0.13782795 0.93229228 0.42680583 0.45142332 0.8362736\n",
      "  0.63788864 0.43165621 0.18717352 0.61883581 0.41536804 0.80832921\n",
      "  0.91659125 0.84297703 0.66488098 0.33558884 0.50738903 0.66034666\n",
      "  0.52585881 0.9408551  0.77278362 0.82833435]\n",
      " [0.09676274 0.67646402 0.19202623 0.36169287 0.69415005 0.24324115\n",
      "  0.64408248 0.68619428 0.45995385 0.66026081 0.5118749  0.81448432\n",
      "  0.69779678 0.53504862 0.05914635 0.63024528 0.66180347 0.5507153\n",
      "  0.22215831 0.67710053 0.64013886 0.12238881 0.38409097 0.66251279\n",
      "  0.41021722 0.24040078 0.675353   0.25972531 0.89956153 0.31898678\n",
      "  0.         0.25735691 0.55656067 0.63649289 0.92717692 0.78494123\n",
      "  0.66543103 0.80371993 0.19823822 0.73747316 0.66082459 0.57042839\n",
      "  0.09471932 0.65266675 0.3371097  0.42339244 0.18147332 0.26784519\n",
      "  0.83539587 0.71453189 0.69832293 0.72977479 0.5602341  0.76076494\n",
      "  0.61824638 0.69478184 0.16160791 0.57715801 0.44514381 0.88688351\n",
      "  0.92162148 0.6066298  0.80497547 0.42989076 0.41328769 0.49001279\n",
      "  0.48009421 0.99464746 0.09776648 0.48150509 0.73302958 0.85249278\n",
      "  0.19716512 0.83272839 0.39349864 0.77350152 0.47465918 0.56592294\n",
      "  0.42844365 0.21115471 0.93224042 0.6567564  0.23843407 0.61391879\n",
      "  0.42314818 0.15882947 0.185852   0.4884379  0.64481481 0.72396373\n",
      "  0.7641744  0.8817968  0.69973442 0.15261162 0.27223425 0.77887916\n",
      "  0.60724617 0.98958488 0.7773313  0.67631476]\n",
      " [0.28270372 0.5902493  0.39341459 0.11360383 0.52152727 0.47019876\n",
      "  0.61924833 0.43260495 0.43110408 0.6251478  0.62354202 0.60839189\n",
      "  0.63168488 0.62142302 0.28305365 0.42214068 0.67373128 0.62952513\n",
      "  0.16950212 0.54082955 0.41406111 0.3672672  0.49206111 0.48488894\n",
      "  0.21525648 0.49642883 0.57004918 0.49223051 0.71298825 0.20701653\n",
      "  0.25735691 0.         0.65283816 0.50141488 0.75070675 0.71980571\n",
      "  0.42027291 0.56148286 0.32884886 0.5379438  0.42122818 0.31397187\n",
      "  0.22998163 0.69134717 0.08463032 0.21247424 0.43875357 0.19705559\n",
      "  0.66176674 0.46442355 0.72240189 0.52999192 0.32274002 0.5959486\n",
      "  0.54371506 0.75294499 0.13766753 0.3345748  0.22568981 0.64729988\n",
      "  0.76545349 0.35318561 0.6478363  0.45444765 0.52631148 0.60916112\n",
      "  0.22490422 0.81057783 0.20386129 0.3460029  0.6901108  0.61111776\n",
      "  0.39074613 0.66351529 0.18787267 0.54285994 0.53068081 0.31036269\n",
      "  0.27020147 0.23552869 0.75279796 0.40274923 0.27384506 0.64017344\n",
      "  0.44512266 0.41334201 0.07931431 0.41204174 0.39096039 0.60534875\n",
      "  0.70964783 0.67803658 0.49426501 0.17732077 0.33228696 0.53696012\n",
      "  0.37488932 0.78204458 0.59232193 0.62154191]\n",
      " [0.65048001 0.43989936 0.71165152 0.75405921 0.64295174 0.40094418\n",
      "  0.29501868 0.90085752 0.30276223 0.32294259 0.0536846  0.80630707\n",
      "  0.40543084 0.03632589 0.49839067 1.06959618 0.22247229 0.04550851\n",
      "  0.74187961 0.5503509  0.75320136 0.48392336 0.17311052 0.63848443\n",
      "  0.86790903 0.59962578 0.48107806 0.70854563 0.81073517 0.8278086\n",
      "  0.55656067 0.65283816 0.         0.53034775 0.80340061 0.44968826\n",
      "  1.02682501 0.92631964 0.3617898  0.73679417 0.81214718 0.84110941\n",
      "  0.48465983 0.16285859 0.72411088 0.61837846 0.56112677 0.78932977\n",
      "  0.73126757 1.05154346 0.2175024  0.73270565 0.95209995 0.66165404\n",
      "  0.3945132  0.15882468 0.52948839 0.76925527 0.64147683 0.97882618\n",
      "  0.74694668 0.93972014 0.67000182 0.22350796 0.143405   0.07952439\n",
      "  0.76613819 0.87513951 0.50374543 0.492781   0.37300932 0.96001278\n",
      "  0.7221213  0.71814885 0.60269381 0.85697102 0.13809444 0.82817116\n",
      "  0.91706046 0.75794133 0.8151349  0.97916185 0.38004993 0.17388997\n",
      "  0.23228849 0.58856829 0.6418512  0.3846897  0.96989337 0.53344335\n",
      "  0.41492953 0.84731458 0.72991603 0.49240262 0.32211791 0.90606336\n",
      "  0.75286938 0.94103476 0.72301063 0.37167371]\n",
      " [0.71597245 0.14194115 0.82597251 0.52945701 0.1134398  0.68932649\n",
      "  0.27778635 0.455394   0.25324885 0.26003501 0.54559419 0.2761657\n",
      "  0.20367856 0.49624893 0.61107823 0.7822669  0.3768808  0.4854046\n",
      "  0.6682769  0.04085445 0.28069069 0.66990352 0.49103598 0.11825898\n",
      "  0.66069034 0.83619711 0.0949143  0.89207165 0.29595001 0.70282854\n",
      "  0.63649289 0.50141488 0.53034775 0.         0.30638417 0.26821121\n",
      "  0.66887309 0.42242621 0.51164932 0.21048065 0.34698328 0.45890949\n",
      "  0.54551925 0.43843492 0.51238809 0.30751287 0.77429319 0.69846186\n",
      "  0.21880583 0.66635744 0.42822905 0.20767243 0.64368628 0.14151965\n",
      "  0.14822967 0.51284029 0.48747161 0.35108009 0.31018917 0.45922277\n",
      "  0.28620885 0.57881757 0.17296868 0.34455734 0.5092175  0.55306982\n",
      "  0.43224771 0.3790464  0.53873485 0.15940334 0.2829145  0.44670405\n",
      "  0.8290367  0.21054896 0.32191066 0.34521712 0.40805423 0.4438319\n",
      "  0.73266125 0.72751007 0.31475906 0.59801005 0.41852079 0.38823882\n",
      "  0.34077398 0.77324717 0.5569743  0.17544981 0.59345701 0.1072333\n",
      "  0.2768648  0.31887316 0.21507348 0.48480763 0.42263824 0.40694997\n",
      "  0.30457434 0.41831694 0.19372991 0.21951126]\n",
      " [0.99859357 0.3635919  1.11149391 0.74223131 0.23363459 0.99561464\n",
      "  0.51445288 0.51118024 0.55516429 0.4880011  0.82830733 0.18443689\n",
      "  0.40539078 0.77273024 0.90800578 0.91592806 0.60836521 0.75798602\n",
      "  0.91968542 0.27132649 0.3763131  0.97166091 0.7912186  0.26775526\n",
      "  0.8589393  1.13779417 0.32397219 1.1861509  0.05595815 0.93187519\n",
      "  0.92717692 0.75070675 0.80340061 0.30638417 0.         0.40129538\n",
      "  0.76607789 0.38298328 0.8166582  0.22403556 0.4177691  0.58379814\n",
      "  0.84021401 0.67801393 0.73481101 0.53838924 1.07527234 0.94065455\n",
      "  0.09178522 0.73899754 0.64830577 0.23142403 0.7842875  0.16815793\n",
      "  0.41157876 0.74437792 0.77021896 0.47998934 0.52791418 0.35550936\n",
      "  0.08674251 0.69140106 0.13689382 0.64381182 0.80615293 0.83980167\n",
      "  0.60464538 0.07336905 0.83011987 0.4473998  0.46473967 0.37055854\n",
      "  1.11303418 0.09627785 0.56318831 0.31738506 0.69676105 0.57148165\n",
      "  0.9320661  0.98598962 0.01384226 0.68806615 0.72126434 0.63927231\n",
      "  0.6412257  1.07133719 0.81905426 0.48130993 0.68892451 0.27006117\n",
      "  0.43225435 0.14005542 0.27097848 0.7746473  0.72865579 0.38574474\n",
      "  0.42087597 0.16309066 0.15918307 0.43752609]\n",
      " [0.87699613 0.13460837 0.97563594 0.77125757 0.35169998 0.75429213\n",
      "  0.16458509 0.72109027 0.3252053  0.13881015 0.4885729  0.48241246\n",
      "  0.08906768 0.42716608 0.743485   1.0441326  0.23005284 0.40775838\n",
      "  0.87466838 0.24994286 0.54586508 0.77830959 0.50361284 0.37410306\n",
      "  0.90441429 0.9359289  0.17360462 1.01758585 0.42876971 0.92679905\n",
      "  0.78494123 0.71980571 0.44968826 0.26821121 0.40129538 0.\n",
      "  0.93643312 0.66724959 0.61190436 0.44331386 0.6116354  0.72626433\n",
      "  0.69039512 0.29859996 0.74970342 0.55501501 0.88015679 0.91208265\n",
      "  0.35896389 0.93456105 0.2577917  0.44386739 0.906206   0.31909223\n",
      "  0.17627925 0.35477836 0.66496019 0.61921025 0.56351709 0.68464353\n",
      "  0.32604037 0.84592137 0.29472028 0.37650416 0.50424803 0.50717021\n",
      "  0.69316432 0.46451337 0.69315483 0.38381835 0.07670665 0.68137283\n",
      "  0.98172819 0.34218443 0.56197029 0.58746739 0.38587376 0.71116101\n",
      "  0.97357048 0.92344307 0.41485124 0.86613286 0.54655093 0.27584321\n",
      "  0.37972638 0.89114276 0.75843595 0.31037666 0.86144126 0.18057713\n",
      "  0.03521999 0.49348757 0.46471637 0.64810063 0.5212277  0.65594759\n",
      "  0.57232973 0.56041054 0.39170203 0.10904843]\n",
      " [0.65733089 0.80477001 0.74618893 0.30737044 0.61092499 0.89017657\n",
      "  0.90012687 0.25553827 0.74810185 0.8941214  1.00827938 0.58189702\n",
      "  0.86325442 0.99193518 0.70014656 0.16709511 0.98213585 0.9945942\n",
      "  0.47731951 0.69326256 0.40827775 0.78295768 0.88514297 0.57785936\n",
      "  0.28137586 0.89248781 0.76288731 0.8568393  0.71187775 0.40532261\n",
      "  0.66543103 0.42027291 1.02682501 0.66887309 0.76607789 0.93643312\n",
      "  0.         0.4066437  0.74312775 0.55539319 0.35253203 0.21020327\n",
      "  0.6502336  1.02091558 0.33564262 0.41565686 0.84127456 0.4539086\n",
      "  0.70486943 0.06105138 1.03599591 0.54985581 0.1097306  0.67704741\n",
      "  0.78454949 1.09237447 0.55600139 0.31870914 0.39654953 0.47898129\n",
      "  0.82309288 0.09166188 0.73033736 0.80686046 0.91877476 0.99865821\n",
      "  0.26319343 0.79526809 0.62406167 0.57823051 0.93919322 0.44388459\n",
      "  0.73835814 0.7161604  0.42632671 0.45270044 0.89185975 0.22531151\n",
      "  0.31710689 0.53869367 0.76055634 0.07801198 0.67034307 0.96541022\n",
      "  0.79755381 0.80937756 0.48054058 0.68902231 0.07821529 0.7686025\n",
      "  0.94151378 0.63827213 0.51307646 0.59440385 0.72604868 0.3938094\n",
      "  0.3715879  0.70677155 0.62849853 0.86892893]\n",
      " [0.84376398 0.55972128 0.95487432 0.49903915 0.31782695 0.95960415\n",
      "  0.69973362 0.16179216 0.62458988 0.68245929 0.9294505  0.20596753\n",
      "  0.62101675 0.89031106 0.80958052 0.56952765 0.79802943 0.88389419\n",
      "  0.70744524 0.42428101 0.1803472  0.89037596 0.84046482 0.30418749\n",
      "  0.57846185 1.04232714 0.50882988 1.05234278 0.32702864 0.68284365\n",
      "  0.80371993 0.56148286 0.92631964 0.42242621 0.38298328 0.66724959\n",
      "  0.4066437  0.         0.77676128 0.22401889 0.14304551 0.27791098\n",
      "  0.74158266 0.85674052 0.50668084 0.3865877  0.9806686  0.7105583\n",
      "  0.34637593 0.36859346 0.85013772 0.22341161 0.4545858  0.35298681\n",
      "  0.56981583 0.93185573 0.64630815 0.22746462 0.36228433 0.08720918\n",
      "  0.45538091 0.35061094 0.3937541  0.71183755 0.86760069 0.93038381\n",
      "  0.34589922 0.39800427 0.72145831 0.4381509  0.6995494  0.04977125\n",
      "  0.95197508 0.36172662 0.41611302 0.07980856 0.79172422 0.27266281\n",
      "  0.64478153 0.77909616 0.37453301 0.33138293 0.67777812 0.80413679\n",
      "  0.70475298 0.9624169  0.64074244 0.54164448 0.33575996 0.48695028\n",
      "  0.68525842 0.24477854 0.20747742 0.66984643 0.71412564 0.02485225\n",
      "  0.20041626 0.30057644 0.28411681 0.64069956]\n",
      " [0.29458925 0.5184291  0.37421352 0.44137184 0.59325504 0.18549229\n",
      "  0.4605426  0.69301683 0.29098976 0.47978692 0.32042545 0.73733983\n",
      "  0.52862684 0.33828543 0.14337569 0.7490675  0.46780952 0.35321408\n",
      "  0.38423292 0.54974004 0.59856171 0.16680993 0.18869872 0.5685006\n",
      "  0.53388352 0.32949157 0.52815857 0.40576437 0.79903188 0.47473425\n",
      "  0.19823822 0.32884886 0.3617898  0.51164932 0.8166582  0.61190436\n",
      "  0.74312775 0.77676128 0.         0.65812805 0.63747145 0.59703275\n",
      "  0.12381708 0.45508619 0.4113088  0.39557734 0.27040901 0.43215775\n",
      "  0.72654835 0.78147478 0.50190347 0.651213   0.65044636 0.6488669\n",
      "  0.45783293 0.49662815 0.19162953 0.56585414 0.42134047 0.85144449\n",
      "  0.79533001 0.66725507 0.68460626 0.24099747 0.22006593 0.3007088\n",
      "  0.50773648 0.88825909 0.14535747 0.37703557 0.55285213 0.82174089\n",
      "  0.38244108 0.72038146 0.36834329 0.72896343 0.2771649  0.5879671\n",
      "  0.57258699 0.39623486 0.82405918 0.71413689 0.10076046 0.4181888\n",
      "  0.23568251 0.27924102 0.29533875 0.34239098 0.7030381  0.58178353\n",
      "  0.58744698 0.79887089 0.6292344  0.1516868  0.09268572 0.75252359\n",
      "  0.57714199 0.90648806 0.68155965 0.50307915]\n",
      " [0.79984845 0.34013987 0.91377822 0.52034833 0.09820966 0.84317685\n",
      "  0.48657203 0.30697416 0.44544196 0.46691956 0.74796674 0.07921745\n",
      "  0.40043811 0.70189589 0.72708533 0.69807144 0.58620958 0.69241725\n",
      "  0.7049358  0.20437746 0.15349133 0.79890355 0.67835701 0.09897229\n",
      "  0.63509672 0.96212678 0.28893182 0.99687339 0.17820616 0.71106064\n",
      "  0.73747316 0.5379438  0.73679417 0.21048065 0.22403556 0.44331386\n",
      "  0.55539319 0.22401889 0.65812805 0.         0.20286489 0.36312979\n",
      "  0.65754941 0.64875097 0.51467182 0.32653421 0.89901067 0.7227803\n",
      "  0.15021307 0.53582956 0.63657178 0.00795207 0.56392811 0.13152497\n",
      "  0.35808284 0.72293151 0.57643891 0.25673593 0.31236416 0.24954025\n",
      "  0.26871467 0.47529929 0.17907275 0.53726797 0.70083268 0.75302596\n",
      "  0.38064176 0.27513909 0.64343435 0.28303882 0.47805775 0.24029931\n",
      "  0.91396539 0.16080679 0.35390795 0.14421056 0.60908614 0.35014671\n",
      "  0.70814533 0.77319598 0.2227284  0.47797509 0.55785973 0.59871223\n",
      "  0.53181178 0.88949514 0.6104025  0.36118891 0.47724891 0.26325934\n",
      "  0.4619851  0.14433676 0.0469501  0.58776742 0.57938469 0.21399418\n",
      "  0.19744859 0.25236421 0.07311005 0.42246446]\n",
      " [0.7026134  0.48889876 0.81444866 0.36798639 0.26664507 0.81902026\n",
      "  0.61281102 0.10983419 0.50962586 0.59971195 0.81016676 0.23663832\n",
      "  0.5505238  0.7758387  0.66662081 0.49818304 0.70706695 0.77164672\n",
      "  0.57276735 0.36176714 0.0663236  0.74764387 0.71279469 0.23846045\n",
      "  0.46257615 0.89928915 0.44103447 0.91055243 0.36545444 0.55696975\n",
      "  0.66082459 0.42122818 0.81214718 0.34698328 0.4177691  0.6116354\n",
      "  0.35253203 0.14304551 0.63747145 0.20286489 0.         0.16869492\n",
      "  0.5987683  0.75992015 0.37197683 0.24443274 0.83762431 0.57985102\n",
      "  0.3524924  0.33463169 0.76078975 0.19740818 0.36736349 0.32711851\n",
      "  0.4851034  0.83507078 0.50327045 0.08701582 0.21973374 0.22669145\n",
      "  0.47087114 0.27391475 0.37914713 0.59207268 0.7415889  0.8087987\n",
      "  0.21463016 0.45522583 0.57848196 0.31938523 0.62964351 0.19168134\n",
      "  0.81196232 0.36363124 0.27369309 0.12791876 0.67503701 0.15809203\n",
      "  0.53302771 0.64420931 0.41359167 0.27514382 0.53963577 0.70534917\n",
      "  0.58428093 0.81946949 0.50022529 0.4305874  0.27440658 0.43428956\n",
      "  0.62320125 0.30044219 0.16148308 0.52711035 0.578984   0.11819529\n",
      "  0.06149098 0.38849249 0.27596726 0.56412448]\n",
      " [0.592569   0.59460458 0.69867082 0.22932471 0.40658345 0.76494815\n",
      "  0.69337967 0.12459434 0.55098288 0.68618562 0.82833541 0.40483931\n",
      "  0.65327928 0.80533805 0.58986184 0.33587505 0.77833452 0.80570054\n",
      "  0.4391084  0.48421697 0.21007426 0.67422166 0.71329187 0.37190857\n",
      "  0.30089564 0.81022929 0.55274983 0.80237538 0.53267401 0.40611769\n",
      "  0.57042839 0.31397187 0.84110941 0.45890949 0.58379814 0.72626433\n",
      "  0.21020327 0.27791098 0.59703275 0.36312979 0.16869492 0.\n",
      "  0.52824604 0.8208139  0.24339264 0.2228303  0.75186185 0.4369955\n",
      "  0.51302115 0.21609841 0.83247522 0.35662185 0.20081855 0.47621849\n",
      "  0.57546848 0.89375483 0.42866838 0.11122402 0.19975133 0.36436783\n",
      "  0.63130485 0.1200048  0.53082742 0.61801017 0.74558699 0.8217129\n",
      "  0.09140103 0.62365273 0.50413449 0.37285097 0.729576   0.32619845\n",
      "  0.6941375  0.52243354 0.24117128 0.29201324 0.70372175 0.01510843\n",
      "  0.36874052 0.5102842  0.5803681  0.14381133 0.51023113 0.76513426\n",
      "  0.60902922 0.72727426 0.39111166 0.48591851 0.13715704 0.55968926\n",
      "  0.73137114 0.46913547 0.31771939 0.4614393  0.56078718 0.25640733\n",
      "  0.16841509 0.55506353 0.43528342 0.65959052]\n",
      " [0.18788296 0.58189765 0.28656855 0.34311042 0.6083571  0.24048931\n",
      "  0.55108607 0.63659687 0.36558352 0.56664566 0.44416074 0.73567603\n",
      "  0.60313302 0.45986193 0.06968211 0.63929194 0.57291719 0.47373607\n",
      "  0.26083312 0.58589885 0.57123564 0.14899678 0.3118507  0.57815673\n",
      "  0.42058653 0.30542704 0.58154093 0.34674568 0.81486617 0.35275087\n",
      "  0.09471932 0.22998163 0.48465983 0.54551925 0.84021401 0.69039512\n",
      "  0.6502336  0.74158266 0.12381708 0.65754941 0.5987683  0.52824604\n",
      "  0.         0.56807872 0.3146024  0.35556513 0.24245961 0.30880658\n",
      "  0.74848654 0.69392902 0.61161978 0.65001843 0.55114214 0.67286936\n",
      "  0.52356374 0.61468974 0.09958438 0.51872317 0.37936456 0.82216205\n",
      "  0.83139173 0.58169344 0.71552965 0.33963439 0.34371184 0.42452038\n",
      "  0.43685654 0.90884553 0.02634121 0.39302028 0.63924422 0.78927702\n",
      "  0.29187939 0.7450355  0.32575966 0.70480065 0.39079458 0.52157582\n",
      "  0.45375689 0.27357732 0.84582807 0.63066039 0.14412933 0.52671502\n",
      "  0.33241723 0.23227672 0.18026349 0.39421097 0.61903505 0.63079934\n",
      "  0.66992668 0.80168527 0.62208795 0.07191874 0.18233601 0.71678096\n",
      "  0.54203775 0.90987269 0.6932691  0.58186415]\n",
      " [0.74934589 0.32042446 0.82576881 0.77864511 0.55091615 0.53931296\n",
      "  0.16602774 0.8591635  0.27362729 0.19079751 0.21167841 0.71004493\n",
      "  0.27263855 0.15268416 0.59840045 1.08810998 0.070096   0.13089626\n",
      "  0.80897053 0.44829028 0.69604236 0.6026335  0.28428394 0.55518557\n",
      "  0.90370055 0.73662991 0.36855948 0.8382327  0.69333869 0.88521848\n",
      "  0.65266675 0.69134717 0.16285859 0.43843492 0.67801393 0.29859996\n",
      "  1.02091558 0.85674052 0.45508619 0.64875097 0.75992015 0.8208139\n",
      "  0.56807872 0.         0.75050564 0.60533631 0.6913219  0.8542714\n",
      "  0.615547   1.03658065 0.0555178  0.64609629 0.96038318 0.55357267\n",
      "  0.29078527 0.07528023 0.58738665 0.73329142 0.62462363 0.89762884\n",
      "  0.61296368 0.93028556 0.55127085 0.23834799 0.26773634 0.23537028\n",
      "  0.75800488 0.74709191 0.58171624 0.45015435 0.22292407 0.88412518\n",
      "  0.83492043 0.60074586 0.59700921 0.78168127 0.17801051 0.80660247\n",
      "  0.96152875 0.83762068 0.69066089 0.96385528 0.43768335 0.05568107\n",
      "  0.24737154 0.71354385 0.69876444 0.3357017  0.95599595 0.41389787\n",
      "  0.26338218 0.74123424 0.65137737 0.55589237 0.38732836 0.8391766\n",
      "  0.70521847 0.82625914 0.62134063 0.24106337]\n",
      " [0.34986473 0.61670668 0.45528712 0.03040978 0.5138484  0.55473078\n",
      "  0.66413256 0.36638524 0.482459   0.66690898 0.69775787 0.5791881\n",
      "  0.66363461 0.69150759 0.36644983 0.34570659 0.72692222 0.6981\n",
      "  0.20098861 0.54958552 0.37700208 0.4502795  0.56812143 0.4761003\n",
      "  0.15660384 0.5733922  0.59024223 0.55936851 0.69261749 0.19717138\n",
      "  0.3371097  0.08463032 0.72411088 0.51238809 0.73481101 0.74970342\n",
      "  0.33564262 0.50668084 0.4113088  0.51467182 0.37197683 0.24339264\n",
      "  0.3146024  0.75050564 0.         0.20607511 0.51752236 0.20992516\n",
      "  0.64921329 0.38027209 0.77754411 0.50682505 0.2391641  0.58959057\n",
      "  0.57593929 0.81530396 0.22132534 0.28544874 0.20968338 0.59370113\n",
      "  0.75898144 0.27002808 0.64363669 0.51736788 0.60235939 0.68470192\n",
      "  0.16110946 0.78979972 0.28845846 0.36684984 0.72777344 0.55640875\n",
      "  0.45085849 0.65311576 0.19080757 0.49827245 0.59726473 0.24241872\n",
      "  0.22388258 0.27258599 0.73536427 0.31995817 0.34927193 0.69759324\n",
      "  0.50790029 0.48982839 0.15202397 0.45037364 0.30806868 0.61910408\n",
      "  0.74322104 0.64874558 0.46879559 0.26049572 0.40736843 0.48284799\n",
      "  0.33418767 0.74880902 0.57568178 0.65744637]\n",
      " [0.47674305 0.42051922 0.59061174 0.22196546 0.31102566 0.57522994\n",
      "  0.49132132 0.29986382 0.332485   0.48880578 0.60571231 0.39915779\n",
      "  0.47230888 0.58267837 0.4242032  0.49504373 0.56840551 0.58343037\n",
      "  0.38130277 0.34395072 0.21685098 0.50405628 0.49299424 0.27380316\n",
      "  0.35344576 0.65869337 0.38937854 0.6792901  0.50060103 0.40071153\n",
      "  0.42339244 0.21247424 0.61837846 0.30751287 0.53838924 0.55501501\n",
      "  0.41565686 0.3865877  0.39557734 0.32653421 0.24443274 0.2228303\n",
      "  0.35556513 0.60533631 0.20607511 0.         0.59637298 0.40380994\n",
      "  0.44994683 0.43455335 0.62188701 0.31858997 0.36053963 0.38628946\n",
      "  0.38685964 0.67673671 0.2627381  0.17037669 0.02589925 0.46659798\n",
      "  0.55607195 0.32546    0.43948886 0.39552226 0.52465893 0.59957222\n",
      "  0.15268858 0.59817229 0.3364076  0.17308165 0.54234215 0.43387245\n",
      "  0.59001409 0.45231516 0.02997204 0.35040435 0.48120323 0.2102133\n",
      "  0.42517184 0.44798094 0.54035408 0.36181996 0.30047859 0.5498897\n",
      "  0.38647077 0.5806785  0.28387932 0.27629543 0.35309044 0.41463828\n",
      "  0.55248877 0.46838956 0.28408918 0.28367886 0.34568315 0.36186892\n",
      "  0.18654013 0.57409704 0.37986008 0.47107635]\n",
      " [0.19472993 0.78880086 0.17647819 0.54109134 0.84580467 0.16381177\n",
      "  0.72458943 0.86698276 0.56134825 0.74561531 0.50905817 0.9774401\n",
      "  0.79820899 0.55028005 0.17284829 0.79183103 0.71789757 0.56999991\n",
      "  0.37616263 0.81361501 0.81282258 0.10475591 0.4070708  0.81713324\n",
      "  0.57553698 0.06311612 0.79735245 0.14757914 1.0527868  0.46905324\n",
      "  0.18147332 0.43875357 0.56112677 0.77429319 1.07527234 0.88015679\n",
      "  0.84127456 0.9806686  0.27040901 0.89901067 0.83762431 0.75186185\n",
      "  0.24245961 0.6913219  0.51752236 0.59637298 0.         0.41469202\n",
      "  0.98394943 0.89222423 0.74345967 0.89155463 0.73415694 0.907179\n",
      "  0.72823294 0.71592495 0.33438814 0.75536087 0.61944998 1.06252885\n",
      "  1.06007712 0.78606934 0.94670474 0.50488245 0.42564081 0.4836898\n",
      "  0.66139846 1.14528034 0.25999722 0.62854146 0.81821625 1.02894176\n",
      "  0.18943139 0.97933107 0.56642565 0.94645861 0.521297   0.74722828\n",
      "  0.58098161 0.33765947 1.08164415 0.83631675 0.35593866 0.66461033\n",
      "  0.50090175 0.04117098 0.36558025 0.61018272 0.82433385 0.85017695\n",
      "  0.85437594 1.04287847 0.8642534  0.31394819 0.36303794 0.95581939\n",
      "  0.78227774 1.1511308  0.93211583 0.77178661]\n",
      " [0.22013482 0.78456236 0.29385631 0.21203626 0.71481378 0.51079707\n",
      "  0.80165672 0.56145763 0.61013116 0.81026805 0.75134306 0.78871459\n",
      "  0.82335807 0.76215428 0.3220394  0.37911668 0.84600334 0.77404877\n",
      "  0.04798094 0.73781269 0.58692699 0.38825371 0.61805317 0.67760694\n",
      "  0.17297511 0.45619499 0.76619211 0.40509579 0.90015428 0.0544561\n",
      "  0.26784519 0.19705559 0.78932977 0.69846186 0.94065455 0.91208265\n",
      "  0.4539086  0.7105583  0.43215775 0.7227803  0.57985102 0.4369955\n",
      "  0.30880658 0.8542714  0.20992516 0.40380994 0.41469202 0.\n",
      "  0.85329541 0.51144025 0.89125468 0.7148827  0.34427234 0.78992785\n",
      "  0.73582196 0.90896031 0.26689122 0.49407344 0.41275636 0.79776176\n",
      "  0.95969815 0.42214683 0.84263946 0.61642342 0.65081463 0.73252439\n",
      "  0.36582435 0.99760296 0.28697326 0.54271386 0.87786314 0.75995406\n",
      "  0.2852997  0.85603976 0.38194613 0.70699363 0.6827614  0.43956632\n",
      "  0.16629885 0.08520438 0.94186354 0.47043979 0.41743564 0.80681965\n",
      "  0.60768338 0.37720937 0.15730364 0.60217813 0.45876012 0.80230322\n",
      "  0.89996848 0.8583498  0.67738381 0.2996807  0.47164446 0.68738921\n",
      "  0.54402357 0.95873264 0.78153892 0.81098664]\n",
      " [0.90710715 0.29558285 1.01990163 0.65810623 0.14223464 0.90659217\n",
      "  0.44975939 0.45386616 0.47077094 0.42485185 0.75278457 0.14096706\n",
      "  0.34515115 0.69923424 0.81635823 0.84823565 0.54720559 0.68576236\n",
      "  0.83106589 0.18679369 0.30301168 0.88050088 0.70812965 0.17728209\n",
      "  0.77804818 1.04654669 0.25051542 1.09437042 0.07957287 0.8463758\n",
      "  0.83539587 0.66176674 0.73126757 0.21880583 0.09178522 0.35896389\n",
      "  0.70486943 0.34637593 0.72654835 0.15021307 0.3524924  0.51302115\n",
      "  0.74848654 0.615547   0.64921329 0.44994683 0.98394943 0.85329541\n",
      "  0.         0.68326702 0.59117204 0.15645857 0.71372163 0.07784822\n",
      "  0.33679243 0.68516165 0.67858901 0.4053452  0.44078556 0.34004089\n",
      "  0.11850728 0.62547702 0.06527239 0.56093309 0.72469955 0.76276759\n",
      "  0.5253688  0.16174055 0.73833562 0.35578433 0.41293724 0.34576661\n",
      "  1.02152156 0.01710992 0.47395199 0.27153391 0.618442   0.49983967\n",
      "  0.85143541 0.89667481 0.0977274  0.62721828 0.6304793  0.57284419\n",
      "  0.55776151 0.97971989 0.72898806 0.39425151 0.62683006 0.20165243\n",
      "  0.38586902 0.13485626 0.19536534 0.6828626  0.63935278 0.34348112\n",
      "  0.34611086 0.21092491 0.07780575 0.37495208]\n",
      " [0.71103732 0.80519256 0.80242924 0.35352958 0.5993791  0.93439711\n",
      "  0.9089653  0.22940495 0.76577382 0.90113821 1.03572201 0.55464902\n",
      "  0.8649967  1.01615235 0.74662392 0.22094564 0.99442818 1.0175962\n",
      "  0.532882   0.68771096 0.3953687  0.83019309 0.91568016 0.56837505\n",
      "  0.33973482 0.94475146 0.76114217 0.91268465 0.68390482 0.46390735\n",
      "  0.71453189 0.46442355 1.05154346 0.66635744 0.73899754 0.93456105\n",
      "  0.06105138 0.36859346 0.78147478 0.53582956 0.33463169 0.21609841\n",
      "  0.69392902 1.03658065 0.38027209 0.43455335 0.89222423 0.51144025\n",
      "  0.68326702 0.         1.04857265 0.53093193 0.16766987 0.66174806\n",
      "  0.7894221  1.10923923 0.59767118 0.31591757 0.41317946 0.43527404\n",
      "  0.80052934 0.11448108 0.71356612 0.82957082 0.94887712 1.02739384\n",
      "  0.28563893 0.76342017 0.66800398 0.58892737 0.94230114 0.40183875\n",
      "  0.7949221  0.69557162 0.44885068 0.4222859  0.91511171 0.23065271\n",
      "  0.37783062 0.59581785 0.73256827 0.07282105 0.70412019 0.98091123\n",
      "  0.82041587 0.86135574 0.52882337 0.70196846 0.0816501  0.76237117\n",
      "  0.94189653 0.60709792 0.49602799 0.63512126 0.75841231 0.35858289\n",
      "  0.36319541 0.66895169 0.6084911  0.87299947]\n",
      " [0.79508545 0.30001971 0.87449417 0.8049067  0.53836295 0.59308086\n",
      "  0.15045617 0.86302373 0.29558003 0.17002927 0.26703631 0.69366449\n",
      "  0.24604111 0.20819678 0.64523266 1.11062096 0.05424109 0.18640863\n",
      "  0.84676991 0.43311457 0.69573702 0.65305558 0.33654219 0.54635261\n",
      "  0.93235018 0.78979697 0.35028582 0.88997549 0.66743878 0.92002914\n",
      "  0.69832293 0.72240189 0.2175024  0.42822905 0.64830577 0.2577917\n",
      "  1.03599591 0.85013772 0.50190347 0.63657178 0.76078975 0.83247522\n",
      "  0.61161978 0.0555178  0.77754411 0.62188701 0.74345967 0.89125468\n",
      "  0.59117204 1.04857265 0.         0.63455981 0.98037155 0.53362585\n",
      "  0.28032967 0.09714505 0.62469436 0.74035848 0.63962783 0.88611184\n",
      "  0.57927011 0.94475328 0.52615063 0.27551612 0.32161896 0.29085452\n",
      "  0.77428986 0.71558717 0.62389994 0.45969563 0.18521201 0.8748328\n",
      "  0.88334473 0.57570662 0.61607048 0.77341901 0.2254089  0.81795528\n",
      "  0.99234942 0.87844168 0.66131651 0.97615378 0.47720396 0.08508357\n",
      "  0.28395885 0.76470515 0.73471099 0.34704224 0.96881553 0.39068615\n",
      "  0.22300697 0.7202204  0.64315165 0.59495414 0.42961347 0.83375919\n",
      "  0.70836887 0.80068625 0.60349193 0.217572  ]\n",
      " [0.79199337 0.3389451  0.90592758 0.51258979 0.09642788 0.83632801\n",
      "  0.4844126  0.3023559  0.44043226 0.46508509 0.74340453 0.08627764\n",
      "  0.3995259  0.69771342 0.71957076 0.6917848  0.58394857 0.68842778\n",
      "  0.69699549 0.20307633 0.14676464 0.79155421 0.6728131  0.09435656\n",
      "  0.62759742 0.95467055 0.28775941 0.98914494 0.18596728 0.70325429\n",
      "  0.72977479 0.52999192 0.73270565 0.20767243 0.23142403 0.44386739\n",
      "  0.54985581 0.22341161 0.651213   0.00795207 0.19740818 0.35662185\n",
      "  0.65001843 0.64609629 0.50682505 0.31858997 0.89155463 0.7148827\n",
      "  0.15645857 0.53093193 0.63455981 0.         0.55738109 0.13440641\n",
      "  0.35559298 0.72041338 0.56870109 0.24978498 0.30441445 0.25170499\n",
      "  0.27489693 0.46928988 0.18320937 0.5321498  0.69550652 0.74824529\n",
      "  0.3732214  0.282976   0.63582011 0.27652187 0.47742484 0.24129319\n",
      "  0.90609729 0.1666068  0.34598173 0.14368963 0.60448017 0.34354142\n",
      "  0.70067666 0.76524633 0.2302817  0.47255062 0.55088284 0.5957688\n",
      "  0.52660567 0.88192235 0.60246027 0.35608154 0.47167932 0.26354254\n",
      "  0.46201155 0.1520222  0.03962713 0.58016804 0.57280585 0.21257249\n",
      "  0.19048041 0.25996313 0.07894453 0.42105664]\n",
      " [0.54851657 0.77209658 0.63647504 0.20928795 0.60329513 0.7895522\n",
      "  0.85186082 0.29318704 0.68688982 0.84899632 0.92957834 0.60397945\n",
      "  0.82753064 0.91817124 0.59757041 0.13866773 0.92738327 0.92267477\n",
      "  0.36779575 0.67300086 0.41071086 0.67933364 0.8025948  0.5673774\n",
      "  0.17209415 0.78438283 0.73464203 0.74716904 0.73265513 0.29624792\n",
      "  0.5602341  0.32274002 0.95209995 0.64368628 0.7842875  0.906206\n",
      "  0.1097306  0.4545858  0.65044636 0.56392811 0.36736349 0.20081855\n",
      "  0.55114214 0.96038318 0.2391641  0.36053963 0.73415694 0.34427234\n",
      "  0.71372163 0.16766987 0.98037155 0.55738109 0.         0.67476752\n",
      "  0.74442618 1.02946753 0.46025141 0.30953475 0.34645794 0.5353969\n",
      "  0.83190752 0.10505642 0.7297626  0.73685598 0.83665942 0.91810467\n",
      "  0.21319482 0.82231664 0.5248154  0.5319304  0.90028904 0.49804855\n",
      "  0.62862778 0.72291625 0.36430355 0.4847125  0.82026486 0.21389051\n",
      "  0.21408308 0.42898805 0.78059029 0.14048174 0.58473122 0.90555109\n",
      "  0.72740164 0.70152817 0.37700005 0.63657433 0.13088408 0.7482404\n",
      "  0.90729844 0.66654951 0.51836647 0.49960015 0.64200022 0.43711666\n",
      "  0.36820109 0.74692152 0.63594803 0.82911516]\n",
      " [0.8343935  0.23387002 0.94666074 0.60084828 0.07579835 0.82874596\n",
      "  0.38768814 0.43470392 0.39436016 0.3644657  0.68089253 0.16386878\n",
      "  0.28917421 0.62880336 0.74034674 0.81175979 0.48686016 0.61623869\n",
      "  0.76544222 0.11217953 0.26882553 0.80351388 0.63203481 0.11367318\n",
      "  0.72502543 0.96966696 0.18504222 1.01921384 0.15450596 0.78614011\n",
      "  0.76076494 0.5959486  0.66165404 0.14151965 0.16815793 0.31909223\n",
      "  0.67704741 0.35298681 0.6488669  0.13152497 0.32711851 0.47621849\n",
      "  0.67286936 0.55357267 0.58959057 0.38628946 0.907179   0.78992785\n",
      "  0.07784822 0.66174806 0.53362585 0.13440641 0.67476752 0.\n",
      "  0.26794782 0.62521569 0.60537885 0.36552543 0.37992101 0.36555133\n",
      "  0.16978516 0.59307913 0.05539469 0.48512809 0.6493999  0.68991843\n",
      "  0.47666143 0.23940739 0.66340572 0.27985038 0.36272742 0.36320013\n",
      "  0.94863618 0.07221196 0.40835605 0.27359443 0.5451297  0.46213372\n",
      "  0.79845329 0.82956044 0.17519376 0.60072195 0.55313655 0.50813189\n",
      "  0.48166464 0.90358302 0.66054216 0.31681758 0.59891025 0.14463121\n",
      "  0.34130683 0.18773786 0.16595792 0.60815345 0.56151556 0.34466676\n",
      "  0.30791418 0.27999527 0.07268534 0.31605782]\n",
      " [0.70790511 0.06079887 0.81009599 0.59850765 0.2601449  0.61779779\n",
      "  0.12992475 0.59048421 0.167393   0.1146203  0.41692142 0.41994726\n",
      "  0.08804428 0.36249598 0.58087544 0.8808456  0.22866459 0.34901613\n",
      "  0.69862946 0.15865288 0.41919257 0.62421766 0.3875926  0.26610464\n",
      "  0.73156773 0.7869309  0.08760955 0.85979585 0.41630545 0.75073042\n",
      "  0.61824638 0.54371506 0.3945132  0.14822967 0.41157876 0.17627925\n",
      "  0.78454949 0.56981583 0.45783293 0.35808284 0.4851034  0.57546848\n",
      "  0.52356374 0.29078527 0.57593929 0.38685964 0.72823294 0.73582196\n",
      "  0.33679243 0.7894221  0.28032967 0.35559298 0.74442618 0.26794782\n",
      "  0.         0.36484958 0.49110841 0.47471275 0.39827791 0.60727685\n",
      "  0.36408709 0.69299844 0.27631731 0.24283709 0.39861899 0.42823784\n",
      "  0.53163687 0.48433349 0.52399626 0.21378914 0.15586356 0.59490244\n",
      "  0.8153988  0.32390006 0.39080746 0.49318646 0.28588139 0.56046357\n",
      "  0.79974066 0.7483646  0.42273247 0.71851442 0.38168186 0.24203761\n",
      "  0.24256893 0.73494397 0.58248622 0.1347782  0.71251785 0.14280613\n",
      "  0.16728367 0.45503321 0.36286526 0.47651939 0.36520046 0.55359865\n",
      "  0.4362142  0.54662177 0.33255609 0.08473997]\n",
      " [0.79074558 0.39142381 0.86009812 0.84395983 0.62493877 0.55786427\n",
      "  0.23783146 0.93394777 0.34427606 0.26087819 0.21250014 0.78312615\n",
      "  0.34035772 0.16569249 0.63847777 1.15551477 0.13836061 0.14665455\n",
      "  0.86278193 0.52148849 0.77127613 0.63364147 0.31443622 0.62993185\n",
      "  0.96682653 0.75665639 0.44055289 0.86350326 0.7621606  0.94237379\n",
      "  0.69478184 0.75294499 0.15882468 0.51284029 0.74437792 0.35477836\n",
      "  1.09237447 0.93185573 0.49662815 0.72293151 0.83507078 0.89375483\n",
      "  0.61468974 0.07528023 0.81530396 0.67673671 0.71592495 0.90896031\n",
      "  0.68516165 1.10923923 0.09714505 0.72041338 1.02946753 0.62521569\n",
      "  0.36484958 0.         0.64285393 0.80755714 0.69662173 0.97205512\n",
      "  0.67618897 1.00208278 0.62041944 0.29859686 0.29112785 0.23830122\n",
      "  0.82923422 0.81215207 0.63045455 0.52421545 0.28228775 0.9589324\n",
      "  0.86996373 0.6699867  0.66726331 0.85660304 0.22621778 0.87965778\n",
      "  1.02259771 0.88714043 0.75728652 1.0364558  0.49159111 0.1299293\n",
      "  0.30798137 0.74145289 0.75526895 0.40965774 1.02841325 0.48384948\n",
      "  0.32008656 0.8125764  0.72625978 0.60934005 0.43795428 0.91437614\n",
      "  0.78015955 0.89534102 0.69385846 0.31027798]\n",
      " [0.22921173 0.54556603 0.34134582 0.25096944 0.53663201 0.33829863\n",
      "  0.5415353  0.5375519  0.349669   0.55270271 0.49590297 0.65313375\n",
      "  0.57600185 0.50027756 0.16406078 0.55761299 0.58024036 0.51074509\n",
      "  0.2220855  0.52832603 0.4795768  0.24716712 0.36269573 0.5038691\n",
      "  0.34413407 0.39631772 0.53693912 0.4204568  0.74063888 0.29991237\n",
      "  0.16160791 0.13766753 0.52948839 0.48747161 0.77021896 0.66496019\n",
      "  0.55600139 0.64630815 0.19162953 0.57643891 0.50327045 0.42866838\n",
      "  0.09958438 0.58738665 0.22132534 0.2627381  0.33438814 0.26689122\n",
      "  0.67858901 0.59767118 0.62469436 0.56870109 0.46025141 0.60537885\n",
      "  0.49110841 0.64285393 0.         0.42162805 0.2852921  0.7282289\n",
      "  0.76944197 0.48460883 0.65176635 0.34958869 0.39664854 0.4796534\n",
      "  0.3372839  0.83645897 0.07621878 0.32907479 0.6228641  0.69455427\n",
      "  0.34327807 0.67684377 0.23277101 0.6131418  0.41688737 0.42200595\n",
      "  0.38817169 0.26014626 0.77471091 0.53310337 0.15151734 0.54009985\n",
      "  0.34090249 0.31795581 0.1128195  0.35666481 0.52159302 0.5815172\n",
      "  0.64884798 0.72070249 0.53825971 0.03998386 0.20783773 0.62146152\n",
      "  0.44803093 0.82833945 0.61817903 0.55938556]\n",
      " [0.61645417 0.48928396 0.72794341 0.28269106 0.295383   0.74435957\n",
      "  0.59698825 0.13266078 0.4705232  0.58755909 0.76223764 0.30684297\n",
      "  0.54912197 0.73301128 0.58558556 0.44623561 0.68612979 0.73100727\n",
      "  0.48602783 0.37456693 0.10370057 0.66770483 0.65662435 0.26072225\n",
      "  0.38400579 0.81654069 0.44563999 0.82488378 0.43096471 0.47296827\n",
      "  0.57715801 0.3345748  0.76925527 0.35108009 0.47998934 0.61921025\n",
      "  0.31870914 0.22746462 0.56585414 0.25673593 0.08701582 0.11122402\n",
      "  0.51872317 0.73329142 0.28544874 0.17037669 0.75536087 0.49407344\n",
      "  0.4053452  0.31591757 0.74035848 0.24978498 0.30953475 0.36552543\n",
      "  0.47471275 0.80755714 0.42162805 0.         0.14454174 0.31276658\n",
      "  0.52308663 0.23038638 0.42036431 0.54620226 0.68706808 0.75851194\n",
      "  0.13095056 0.52479878 0.49746195 0.28342104 0.62663593 0.27688453\n",
      "  0.72531145 0.41393089 0.19773157 0.21294371 0.63117515 0.09678853\n",
      "  0.45597487 0.55740195 0.47761706 0.24693126 0.47068683 0.67781067\n",
      "  0.53777091 0.73597351 0.41370213 0.39797272 0.24249994 0.44989336\n",
      "  0.62601338 0.37435757 0.21029728 0.4476341  0.51439912 0.20276717\n",
      "  0.05930649 0.46857972 0.32756405 0.55772371]\n",
      " [0.49566239 0.42891459 0.60930931 0.22234916 0.30420234 0.60062152\n",
      "  0.50648288 0.27402042 0.35270502 0.50276981 0.6297106  0.38298224\n",
      "  0.48244684 0.60565353 0.44766021 0.48257298 0.58588814 0.60595204\n",
      "  0.39282391 0.34505082 0.1952713  0.52809675 0.51805207 0.26650255\n",
      "  0.35131768 0.68157242 0.39535519 0.69972753 0.48829572 0.40633684\n",
      "  0.44514381 0.22568981 0.64147683 0.31018917 0.52791418 0.56351709\n",
      "  0.39654953 0.36228433 0.42134047 0.31236416 0.21973374 0.19975133\n",
      "  0.37936456 0.62462363 0.20968338 0.02589925 0.61944998 0.41275636\n",
      "  0.44078556 0.41317946 0.63962783 0.30441445 0.34645794 0.37992101\n",
      "  0.39827791 0.69662173 0.2852921  0.14454174 0.         0.44310712\n",
      "  0.5493998  0.30567582 0.43397048 0.41827792 0.54954142 0.62394933\n",
      "  0.13515952 0.58588535 0.35966935 0.18549277 0.55411028 0.40992366\n",
      "  0.60831521 0.44407525 0.05399983 0.32838529 0.50399042 0.18669434\n",
      "  0.42394257 0.46083188 0.52927294 0.34036305 0.32637682 0.56905026\n",
      "  0.40931772 0.60296686 0.29976063 0.29294884 0.33199328 0.41738335\n",
      "  0.56251439 0.45253912 0.26859428 0.30757831 0.37144777 0.33750989\n",
      "  0.16284279 0.55724546 0.36884551 0.48287699]\n",
      " [0.92915668 0.58898878 1.040698   0.58624232 0.34774895 1.03559309\n",
      "  0.73607061 0.24525978 0.68039665 0.71642944 0.98577143 0.2031629\n",
      "  0.64856625 0.94327314 0.89071595 0.64455969 0.8356462  0.93528229\n",
      "  0.79453524 0.45358623 0.25309987 0.97052853 0.90390249 0.34309562\n",
      "  0.66435504 1.12454242 0.5378186  1.13724118 0.30137328 0.76980891\n",
      "  0.88688351 0.64729988 0.97882618 0.45922277 0.35550936 0.68464353\n",
      "  0.47898129 0.08720918 0.85144449 0.24954025 0.22669145 0.36436783\n",
      "  0.82216205 0.89762884 0.59370113 0.46659798 1.06252885 0.79776176\n",
      "  0.34004089 0.43527404 0.88611184 0.25170499 0.5353969  0.36555133\n",
      "  0.60727685 0.97205512 0.7282289  0.31276658 0.44310712 0.\n",
      "  0.43619932 0.43057196 0.39664633 0.77007189 0.92954199 0.98847801\n",
      "  0.43303237 0.35491007 0.8027706  0.49966487 0.72516239 0.0381961\n",
      "  1.03799124 0.35677861 0.4964357  0.12467827 0.8470321  0.35954733\n",
      "  0.72981726 0.86618275 0.34481083 0.40658782 0.7515079  0.84687849\n",
      "  0.76356798 1.04532611 0.72646297 0.59614953 0.41223667 0.50775244\n",
      "  0.70626151 0.21649289 0.24900691 0.75026793 0.78471272 0.11087164\n",
      "  0.28026436 0.24209968 0.29297893 0.67158497]\n",
      " [0.99863288 0.30976071 1.10986721 0.76960286 0.24524731 0.96893371\n",
      "  0.45337038 0.57117824 0.51999272 0.42595595 0.77583143 0.25033777\n",
      "  0.34263783 0.71809981 0.89725203 0.96667464 0.5428805  0.70196382\n",
      "  0.93490944 0.2464805  0.42123684 0.95553442 0.75083753 0.2828979\n",
      "  0.89212725 1.12173945 0.27834487 1.17807764 0.13551298 0.95571892\n",
      "  0.92162148 0.76545349 0.74694668 0.28620885 0.08674251 0.32604037\n",
      "  0.82309288 0.45538091 0.79533001 0.26871467 0.47087114 0.63130485\n",
      "  0.83139173 0.61296368 0.75898144 0.55607195 1.06007712 0.95969815\n",
      "  0.11850728 0.80052934 0.57927011 0.27489693 0.83190752 0.16978516\n",
      "  0.36408709 0.67618897 0.76944197 0.52308663 0.5493998  0.43619932\n",
      "  0.         0.74398262 0.11820926 0.60441963 0.76269199 0.78928402\n",
      "  0.64103297 0.13906939 0.82387763 0.44072913 0.3941581  0.44809021\n",
      "  1.11241988 0.10920323 0.57802328 0.38425435 0.6492193  0.61801913\n",
      "  0.96558331 0.99852729 0.10019287 0.74535636 0.70414588 0.57819523\n",
      "  0.60298864 1.05944433 0.8290327  0.45371765 0.74511418 0.22201345\n",
      "  0.35876475 0.21978792 0.31358551 0.76938087 0.70466149 0.45518145\n",
      "  0.46396713 0.24868147 0.19604585 0.3760205 ]\n",
      " [0.60990625 0.71383192 0.70661001 0.24503313 0.52494532 0.82214838\n",
      "  0.80849542 0.19013087 0.65789932 0.80246139 0.92277764 0.50873908\n",
      "  0.77204684 0.90455047 0.63616031 0.22485414 0.89083884 0.90660029\n",
      "  0.4372798  0.60419643 0.32469076 0.7201898  0.801783   0.49090574\n",
      "  0.25833505 0.84034456 0.67248934 0.81539258 0.63843408 0.3797713\n",
      "  0.6066298  0.35318561 0.93972014 0.57881757 0.69140106 0.84592137\n",
      "  0.09166188 0.35061094 0.66725507 0.47529929 0.27391475 0.1200048\n",
      "  0.58169344 0.93028556 0.27002808 0.32546    0.78606934 0.42214683\n",
      "  0.62547702 0.11448108 0.94475328 0.46928988 0.10505642 0.59307913\n",
      "  0.69299844 1.00208278 0.48460883 0.23038638 0.30567582 0.43057196\n",
      "  0.74398262 0.         0.64714428 0.71863638 0.83509422 0.91401594\n",
      "  0.17387056 0.72561144 0.55595871 0.4866431  0.84777226 0.39336653\n",
      "  0.70004016 0.63587823 0.33758853 0.3849769  0.80394214 0.13503511\n",
      "  0.31205396 0.50407085 0.6868359  0.05030011 0.58968055 0.8747227\n",
      "  0.70939607 0.75672573 0.42085691 0.59772593 0.03828938 0.67965746\n",
      "  0.85050545 0.56895629 0.43136529 0.5216276  0.6441294  0.33394819\n",
      "  0.28556603 0.64553611 0.54823254 0.77742582]\n",
      " [0.88097806 0.23206996 0.99252497 0.65538889 0.13058356 0.86155909\n",
      "  0.38575182 0.48545843 0.41853345 0.36048201 0.6932076  0.19381303\n",
      "  0.28020238 0.63857076 0.78206598 0.86654015 0.48264341 0.62450359\n",
      "  0.81721666 0.13569766 0.32253129 0.84246857 0.654334   0.16846366\n",
      "  0.78010418 1.00877884 0.18902016 1.06226731 0.14211831 0.83987062\n",
      "  0.80497547 0.6478363  0.67000182 0.17296868 0.13689382 0.29472028\n",
      "  0.73033736 0.3937541  0.68460626 0.17907275 0.37914713 0.53082742\n",
      "  0.71552965 0.55127085 0.64363669 0.43948886 0.94670474 0.84263946\n",
      "  0.06527239 0.71356612 0.52615063 0.18320937 0.7297626  0.05539469\n",
      "  0.27631731 0.62041944 0.65176635 0.42036431 0.43397048 0.39664633\n",
      "  0.11820926 0.64714428 0.         0.50692962 0.66932401 0.7040899\n",
      "  0.53205125 0.21025812 0.70730992 0.32356594 0.34767918 0.39873276\n",
      "  0.99491101 0.04957205 0.46073522 0.31575202 0.5605429  0.5168441\n",
      "  0.85351395 0.88050835 0.14714591 0.65365095 0.59119237 0.50943575\n",
      "  0.50438968 0.94479231 0.71089649 0.34611253 0.65214054 0.13776666\n",
      "  0.32098755 0.19882913 0.21767546 0.65252571 0.59531442 0.38776567\n",
      "  0.36242639 0.27502035 0.11001521 0.31038934]\n",
      " [0.52612605 0.30222623 0.6139311  0.54634557 0.45032341 0.37949983\n",
      "  0.22009786 0.67815933 0.0921766  0.24074215 0.21820103 0.6119174\n",
      "  0.29850706 0.18749021 0.38075225 0.85963131 0.23371732 0.18802917\n",
      "  0.57154751 0.37415066 0.5352908  0.40479914 0.14740851 0.43846295\n",
      "  0.66824496 0.55968283 0.32615509 0.64522614 0.63947367 0.64687247\n",
      "  0.42989076 0.45444765 0.22350796 0.34455734 0.64381182 0.37650416\n",
      "  0.80686046 0.71183755 0.24099747 0.53726797 0.59207268 0.61801017\n",
      "  0.33963439 0.23834799 0.51736788 0.39552226 0.50488245 0.61642342\n",
      "  0.56093309 0.82957082 0.27551612 0.5321498  0.73685598 0.48512809\n",
      "  0.24283709 0.29859686 0.34958869 0.54620226 0.41827792 0.77007189\n",
      "  0.60441963 0.71863638 0.50692962 0.         0.1648307  0.21864633\n",
      "  0.54478254 0.71718066 0.35001106 0.2741388  0.31337296 0.7483937\n",
      "  0.62156522 0.55067978 0.38106033 0.64624814 0.0857125  0.60493941\n",
      "  0.72433262 0.60319442 0.65370863 0.75699274 0.20185632 0.19064582\n",
      "  0.00948991 0.51828452 0.46052352 0.17607963 0.74795563 0.38250189\n",
      "  0.34969216 0.66148575 0.52353602 0.31944036 0.15771623 0.69054402\n",
      "  0.53198284 0.76275143 0.53651722 0.26954898]\n",
      " [0.50707529 0.45492998 0.57008142 0.63271129 0.61501013 0.27157883\n",
      "  0.33966295 0.8196942  0.25689253 0.36593933 0.10054417 0.77615624\n",
      "  0.43878048 0.12570789 0.35501359 0.94750768 0.30424865 0.14460905\n",
      "  0.60305507 0.53795802 0.68861131 0.34289435 0.03426448 0.60228371\n",
      "  0.73953761 0.4691594  0.48489818 0.57311477 0.8035409  0.69136074\n",
      "  0.41328769 0.52631148 0.143405   0.5092175  0.80615293 0.50424803\n",
      "  0.91877476 0.86760069 0.22006593 0.70083268 0.7415889  0.74558699\n",
      "  0.34371184 0.26773634 0.60235939 0.52465893 0.42564081 0.65081463\n",
      "  0.72469955 0.94887712 0.32161896 0.69550652 0.83665942 0.6493999\n",
      "  0.39861899 0.29112785 0.39664854 0.68706808 0.54954142 0.92954199\n",
      "  0.76269199 0.83509422 0.66932401 0.1648307  0.         0.08303464\n",
      "  0.66412063 0.87946221 0.36402504 0.43017286 0.43166683 0.90621374\n",
      "  0.5802736  0.71400862 0.50442512 0.80510567 0.11857534 0.73383456\n",
      "  0.78462359 0.61613832 0.81640913 0.87772737 0.25312902 0.24922581\n",
      "  0.16940617 0.45037435 0.50740248 0.34003022 0.8676778  0.54098785\n",
      "  0.47254104 0.82629422 0.68515966 0.35805267 0.19502043 0.84544997\n",
      "  0.68041831 0.92749655 0.70134604 0.40631539]\n",
      " [0.58195258 0.47957158 0.63780334 0.7150188  0.66297265 0.32239706\n",
      "  0.34586106 0.89110878 0.30842396 0.37365007 0.02587672 0.82596612\n",
      "  0.45315483 0.08333188 0.43113066 1.03006556 0.28756108 0.10492485\n",
      "  0.68467315 0.57773994 0.75324765 0.41009193 0.11717888 0.65405424\n",
      "  0.82254975 0.52083519 0.51584662 0.63083987 0.84227186 0.77371367\n",
      "  0.49001279 0.60916112 0.07952439 0.55306982 0.83980167 0.50717021\n",
      "  0.99865821 0.93038381 0.3007088  0.75302596 0.8087987  0.8217129\n",
      "  0.42452038 0.23537028 0.68470192 0.59957222 0.4836898  0.73252439\n",
      "  0.76276759 1.02739384 0.29085452 0.74824529 0.91810467 0.68991843\n",
      "  0.42823784 0.23830122 0.4796534  0.75851194 0.62394933 0.98847801\n",
      "  0.78928402 0.91401594 0.7040899  0.21864633 0.08303464 0.\n",
      "  0.74204633 0.91256151 0.4455579  0.49239942 0.43134203 0.96702847\n",
      "  0.64861255 0.75079027 0.58075189 0.8648084  0.14502185 0.8095607\n",
      "  0.86755829 0.69561152 0.85086423 0.95582372 0.33568324 0.23456656\n",
      "  0.22563174 0.51227501 0.59022367 0.39295145 0.94598092 0.57054226\n",
      "  0.47332661 0.87194238 0.74127926 0.44097719 0.27738192 0.90895829\n",
      "  0.74816555 0.96981786 0.74677607 0.4194796 ]\n",
      " [0.506048   0.55895664 0.61423599 0.15379017 0.40233652 0.67389018\n",
      "  0.64159837 0.2078605  0.48495917 0.63755628 0.75012532 0.43622557\n",
      "  0.61436843 0.7308712  0.49856484 0.3509894  0.72067466 0.7327654\n",
      "  0.36157155 0.46322137 0.23147861 0.58288757 0.63120268 0.36503934\n",
      "  0.25480082 0.72022904 0.52209438 0.71597373 0.5576661  0.34247096\n",
      "  0.48009421 0.22490422 0.76613819 0.43224771 0.60464538 0.69316432\n",
      "  0.26319343 0.34589922 0.50773648 0.38064176 0.21463016 0.09140103\n",
      "  0.43685654 0.75800488 0.16110946 0.15268858 0.66139846 0.36582435\n",
      "  0.5253688  0.28563893 0.77428986 0.3732214  0.21319482 0.47666143\n",
      "  0.53163687 0.82923422 0.3372839  0.13095056 0.13515952 0.43303237\n",
      "  0.64103297 0.17387056 0.53205125 0.54478254 0.66412063 0.74204633\n",
      "  0.         0.65286544 0.41273555 0.32015439 0.68746517 0.39556908\n",
      "  0.61038524 0.53217117 0.16372403 0.34239389 0.6301305  0.0858311\n",
      "  0.32760174 0.4332232  0.6032554  0.21377983 0.42347814 0.70257314\n",
      "  0.53555177 0.63754245 0.30321388 0.42795401 0.20405789 0.53793203\n",
      "  0.69410812 0.5044465  0.33369177 0.37030462 0.47579847 0.3222797\n",
      "  0.18656843 0.59952847 0.44840743 0.61636781]\n",
      " [1.06399147 0.43524986 1.17731167 0.79529228 0.30059092 1.06793412\n",
      "  0.58468967 0.53988199 0.62848225 0.55788813 0.9007907  0.21887492\n",
      "  0.47484922 0.84481725 0.97706142 0.95039055 0.67719797 0.82978742\n",
      "  0.97867988 0.34450216 0.42170074 1.04200296 0.86458722 0.33260372\n",
      "  0.90765118 1.20795527 0.39673428 1.25404922 0.09760308 0.98616815\n",
      "  0.99464746 0.81057783 0.87513951 0.3790464  0.07336905 0.46451337\n",
      "  0.79526809 0.39800427 0.88825909 0.27513909 0.45522583 0.62365273\n",
      "  0.90884553 0.74709191 0.78979972 0.59817229 1.14528034 0.99760296\n",
      "  0.16174055 0.76342017 0.71558717 0.282976   0.82231664 0.23940739\n",
      "  0.48433349 0.81215207 0.83645897 0.52479878 0.58588535 0.35491007\n",
      "  0.13906939 0.72561144 0.21025812 0.71718066 0.87946221 0.91256151\n",
      "  0.65286544 0.         0.89800312 0.51680807 0.53098453 0.37668403\n",
      "  1.17847755 0.16850743 0.62411679 0.34256804 0.76977668 0.6122975\n",
      "  0.9802287  1.04610615 0.06431725 0.71759553 0.79218378 0.70968133\n",
      "  0.71459028 1.14048606 0.88086403 0.55422605 0.71958916 0.3423016\n",
      "  0.49672677 0.15702619 0.32134217 0.84235995 0.8008007  0.40518498\n",
      "  0.46671163 0.12646317 0.21927625 0.50747451]\n",
      " [0.18399716 0.58144619 0.28852387 0.31687224 0.59741833 0.26640287\n",
      "  0.55763608 0.6137475  0.36960747 0.57211795 0.46456903 0.72110029\n",
      "  0.6052408  0.47793694 0.08816476 0.61325189 0.5837227  0.49111128\n",
      "  0.23911673 0.5793545  0.55283523 0.17095289 0.33156513 0.56631683\n",
      "  0.39481095 0.32250098 0.5787728  0.35607171 0.80332551 0.32950669\n",
      "  0.09776648 0.20386129 0.50374543 0.53873485 0.83011987 0.69315483\n",
      "  0.62406167 0.72145831 0.14535747 0.64343435 0.57848196 0.50413449\n",
      "  0.02634121 0.58171624 0.28845846 0.3364076  0.25999722 0.28697326\n",
      "  0.73833562 0.66800398 0.62389994 0.63582011 0.5248154  0.66340572\n",
      "  0.52399626 0.63045455 0.07621878 0.49746195 0.35966935 0.8027706\n",
      "  0.82387763 0.55595871 0.70730992 0.35001106 0.36402504 0.4455579\n",
      "  0.41273555 0.89800312 0.         0.38392558 0.64427752 0.76946401\n",
      "  0.29272381 0.73543806 0.30647452 0.68647325 0.40537063 0.49775462\n",
      "  0.42911946 0.25668599 0.83536537 0.60503708 0.15013834 0.53884117\n",
      "  0.34237344 0.24643667 0.15443495 0.39266596 0.59338215 0.62680185\n",
      "  0.67379984 0.78773694 0.60692855 0.05579749 0.19447065 0.69662611\n",
      "  0.52250923 0.89578323 0.68131593 0.58515285]\n",
      " [0.55811186 0.25006258 0.66913822 0.38761345 0.21758873 0.56122465\n",
      "  0.32202385 0.41164925 0.19028567 0.31740203 0.49224801 0.36193854\n",
      "  0.29968756 0.4564802  0.46060831 0.66760297 0.40552257 0.45234693\n",
      "  0.5107506  0.2001227  0.26121205 0.52560174 0.40423871 0.19146753\n",
      "  0.52073045 0.69130101 0.22466674 0.73946081 0.42450976 0.55064039\n",
      "  0.48150509 0.3460029  0.492781   0.15940334 0.4473998  0.38381835\n",
      "  0.57823051 0.4381509  0.37703557 0.28303882 0.31938523 0.37285097\n",
      "  0.39302028 0.45015435 0.36684984 0.17308165 0.62854146 0.54271386\n",
      "  0.35578433 0.58892737 0.45969563 0.27652187 0.5319304  0.27985038\n",
      "  0.21378914 0.52421545 0.32907479 0.28342104 0.18549277 0.49966487\n",
      "  0.44072913 0.4866431  0.32356594 0.2741388  0.43017286 0.49239942\n",
      "  0.32015439 0.51680807 0.38392558 0.         0.36929042 0.47605451\n",
      "  0.67173479 0.35202686 0.17815736 0.37508592 0.355938   0.35828343\n",
      "  0.59043617 0.56870048 0.45335536 0.51660917 0.27797276 0.39458568\n",
      "  0.26681697 0.62394241 0.39825746 0.114566   0.5094734  0.25990443\n",
      "  0.37984851 0.42201417 0.25932638 0.32898635 0.29637076 0.41656813\n",
      "  0.26058581 0.52947609 0.3050985  0.29801997]\n",
      " [0.82697535 0.14114322 0.92183622 0.75133178 0.38178869 0.68701064\n",
      "  0.09424274 0.73741036 0.27491315 0.07312185 0.41235257 0.52618831\n",
      "  0.07927792 0.35083361 0.68854052 1.03665939 0.15376779 0.33125607\n",
      "  0.83822734 0.27530618 0.56332003 0.71796588 0.43304758 0.39797311\n",
      "  0.88404775 0.87242836 0.19109451 0.95822116 0.48695321 0.89657354\n",
      "  0.73302958 0.6901108  0.37300932 0.2829145  0.46473967 0.07670665\n",
      "  0.93919322 0.6995494  0.55285213 0.47805775 0.62964351 0.729576\n",
      "  0.63924422 0.22292407 0.72777344 0.54234215 0.81821625 0.87786314\n",
      "  0.41293724 0.94230114 0.18521201 0.47742484 0.90028904 0.36272742\n",
      "  0.15586356 0.28228775 0.6228641  0.62663593 0.55411028 0.72516239\n",
      "  0.3941581  0.84777226 0.34767918 0.31337296 0.43166683 0.43134203\n",
      "  0.68746517 0.53098453 0.64427752 0.36929042 0.         0.71832199\n",
      "  0.92859072 0.3968115  0.54525908 0.62045453 0.31397595 0.7145164\n",
      "  0.95102107 0.88290589 0.47795258 0.87201229 0.4951992  0.19920425\n",
      "  0.31771264 0.83135134 0.72193565 0.27843009 0.86636275 0.21821658\n",
      "  0.04204174 0.54524628 0.49301627 0.6024945  0.46437593 0.68601982\n",
      "  0.5847252  0.61995631 0.43485999 0.07127131]\n",
      " [0.89330183 0.58023787 1.00452497 0.54857383 0.33765349 1.00525969\n",
      "  0.72443919 0.20723474 0.6597583  0.70583382 0.96516348 0.20547307\n",
      "  0.64071837 0.9242215  0.85752774 0.60880862 0.823567   0.91696182\n",
      "  0.75713394 0.44436889 0.22339593 0.93791314 0.8798358  0.3290165\n",
      "  0.62616192 1.09075021 0.52904905 1.10174315 0.31522986 0.73174018\n",
      "  0.85249278 0.61111776 0.96001278 0.44670405 0.37055854 0.68137283\n",
      "  0.44388459 0.04977125 0.82174089 0.24029931 0.19168134 0.32619845\n",
      "  0.78927702 0.88412518 0.55640875 0.43387245 1.02894176 0.75995406\n",
      "  0.34576661 0.40183875 0.8748328  0.24129319 0.49804855 0.36320013\n",
      "  0.59490244 0.9589324  0.69455427 0.27688453 0.40992366 0.0381961\n",
      "  0.44809021 0.39336653 0.39873276 0.7483937  0.90621374 0.96702847\n",
      "  0.39556908 0.37668403 0.76946401 0.47605451 0.71832199 0.\n",
      "  1.00166684 0.36202565 0.46356429 0.1031619  0.82680352 0.32147119\n",
      "  0.69169362 0.82878576 0.36076688 0.37057476 0.72224987 0.83247614\n",
      "  0.7416088  1.01110717 0.69035789 0.575987   0.37588884 0.50250652\n",
      "  0.70143583 0.23050349 0.23283111 0.71745371 0.75706071 0.07416013\n",
      "  0.24734108 0.26979569 0.29159634 0.66229387]\n",
      " [0.11448638 0.87350614 0.01313683 0.46618302 0.87940043 0.34396232\n",
      "  0.83855277 0.81716003 0.65657134 0.85562565 0.67280026 0.98860283\n",
      "  0.89481031 0.70571261 0.24084462 0.65876723 0.85024226 0.72353688\n",
      "  0.26285654 0.86983224 0.80194074 0.23852118 0.55552839 0.8459912\n",
      "  0.45817877 0.20123714 0.87149356 0.12071486 1.0820752  0.33709399\n",
      "  0.19716512 0.39074613 0.7221213  0.8290367  1.11303418 0.98172819\n",
      "  0.73835814 0.95197508 0.38244108 0.91396539 0.81196232 0.6941375\n",
      "  0.29187939 0.83492043 0.45085849 0.59001409 0.18943139 0.2852997\n",
      "  1.02152156 0.7949221  0.88334473 0.90609729 0.62862778 0.94863618\n",
      "  0.8153988  0.86996373 0.34327807 0.72531145 0.60831521 1.03799124\n",
      "  1.11241988 0.70004016 0.99491101 0.62156522 0.5802736  0.64861255\n",
      "  0.61038524 1.17847755 0.29272381 0.67173479 0.92859072 1.00166684\n",
      "  0.         1.02001972 0.56127878 0.93260816 0.65797349 0.6932312\n",
      "  0.4435373  0.20010095 1.11723945 0.74957509 0.43520687 0.80023586\n",
      "  0.61543172 0.14963704 0.31180483 0.68516435 0.73766839 0.91922902\n",
      "  0.96045916 1.05737755 0.87331096 0.34469312 0.46515522 0.9275289\n",
      "  0.76442203 1.16383459 0.95957028 0.87296126]\n",
      " [0.90569521 0.28122146 1.01818229 0.66274054 0.14225203 0.89951996\n",
      "  0.43513197 0.46625034 0.46107475 0.40997232 0.74042653 0.15687016\n",
      "  0.32977271 0.68638889 0.81255327 0.85802059 0.53218358 0.67264064\n",
      "  0.83295999 0.1767663  0.31237201 0.87560668 0.69801453 0.17864509\n",
      "  0.78396243 1.0417888  0.23710045 1.09131387 0.09289047 0.85018672\n",
      "  0.83272839 0.66351529 0.71814885 0.21054896 0.09627785 0.34218443\n",
      "  0.7161604  0.36172662 0.72038146 0.16080679 0.36363124 0.52243354\n",
      "  0.7450355  0.60074586 0.65311576 0.45231516 0.97933107 0.85603976\n",
      "  0.01710992 0.69557162 0.57570662 0.1666068  0.72291625 0.07221196\n",
      "  0.32390006 0.6699867  0.67684377 0.41393089 0.44407525 0.35677861\n",
      "  0.10920323 0.63587823 0.04957205 0.55067978 0.71400862 0.75079027\n",
      "  0.53217117 0.16850743 0.73543806 0.35202686 0.3968115  0.36202565\n",
      "  1.02001972 0.         0.47564548 0.28618643 0.60674597 0.50904988\n",
      "  0.85739878 0.8979884  0.10421032 0.63866625 0.62506573 0.55859852\n",
      "  0.54773154 0.97579468 0.72968302 0.38582289 0.63803462 0.18702689\n",
      "  0.3693296  0.15187479 0.20480847 0.68012385 0.63247679 0.35826599\n",
      "  0.35485533 0.22551405 0.08770829 0.35992242]\n",
      " [0.44776093 0.42804332 0.56168963 0.20990041 0.33370985 0.54683913\n",
      "  0.4897289  0.3252989  0.32339765 0.48892261 0.58789161 0.4274353\n",
      "  0.47751543 0.56731762 0.39431013 0.49609749 0.56310528 0.56905309\n",
      "  0.35732378 0.35967594 0.24680997 0.47435271 0.47221665 0.29701627\n",
      "  0.34283912 0.62873011 0.39981768 0.64968199 0.52664652 0.38189878\n",
      "  0.39349864 0.18787267 0.60269381 0.32191066 0.56318831 0.56197029\n",
      "  0.42632671 0.41611302 0.36834329 0.35390795 0.27369309 0.24117128\n",
      "  0.32575966 0.59700921 0.19080757 0.02997204 0.56642565 0.38194613\n",
      "  0.47395199 0.44885068 0.61607048 0.34598173 0.36430355 0.40835605\n",
      "  0.39080746 0.66726331 0.23277101 0.19773157 0.05399983 0.4964357\n",
      "  0.57802328 0.33758853 0.46073522 0.38106033 0.50442512 0.58075189\n",
      "  0.16372403 0.62411679 0.30647452 0.17815736 0.54525908 0.46356429\n",
      "  0.56127878 0.47564548 0.         0.38037361 0.46644001 0.22948016\n",
      "  0.41322372 0.42281928 0.56556259 0.37650287 0.27473117 0.54188975\n",
      "  0.37183532 0.55071643 0.25688091 0.27365147 0.36720068 0.42840414\n",
      "  0.5575958  0.49645551 0.31220258 0.25390108 0.32187921 0.39136176\n",
      "  0.21627999 0.60258009 0.40526504 0.47416872]\n",
      " [0.82155748 0.48105205 0.93444887 0.49539907 0.23867231 0.91366707\n",
      "  0.62296382 0.19738501 0.55714136 0.60500425 0.86259145 0.13421468\n",
      "  0.54213495 0.82121771 0.77392803 0.60914475 0.72176964 0.8138518\n",
      "  0.69851203 0.34535735 0.13363861 0.85231621 0.77930385 0.22708259\n",
      "  0.58972025 1.00893431 0.43002789 1.02748287 0.2619159  0.68482564\n",
      "  0.77350152 0.54285994 0.85697102 0.34521712 0.31738506 0.58746739\n",
      "  0.45270044 0.07980856 0.72896343 0.14421056 0.12791876 0.29201324\n",
      "  0.70480065 0.78168127 0.49827245 0.35040435 0.94645861 0.70699363\n",
      "  0.27153391 0.4222859  0.77341901 0.14368963 0.4847125  0.27359443\n",
      "  0.49318646 0.85660304 0.6131418  0.21294371 0.32838529 0.12467827\n",
      "  0.38425435 0.3849769  0.31575202 0.64624814 0.80510567 0.8648084\n",
      "  0.34239389 0.34256804 0.68647325 0.37508592 0.62045453 0.1031619\n",
      "  0.93260816 0.28618643 0.38037361 0.         0.72408183 0.28303878\n",
      "  0.65952217 0.76970928 0.31048838 0.37505107 0.62868231 0.72975658\n",
      "  0.63960804 0.93106975 0.62105058 0.47318756 0.37722498 0.40722463\n",
      "  0.60566403 0.18558102 0.13038413 0.63291865 0.66070371 0.07217649\n",
      "  0.168187   0.2631817  0.20577958 0.56246216]\n",
      " [0.57133547 0.33990327 0.64908867 0.6266932  0.51822536 0.37794018\n",
      "  0.22132255 0.76285259 0.16714973 0.24741241 0.13897796 0.68138333\n",
      "  0.32069292 0.10192062 0.42052578 0.94121935 0.19661782 0.10274115\n",
      "  0.63656605 0.43295648 0.61694619 0.42839636 0.11997874 0.51016452\n",
      "  0.74564693 0.57051427 0.37325595 0.66674361 0.69786913 0.71665047\n",
      "  0.47465918 0.53068081 0.13809444 0.40805423 0.69676105 0.38587376\n",
      "  0.89185975 0.79172422 0.2771649  0.60908614 0.67503701 0.70372175\n",
      "  0.39079458 0.17801051 0.59726473 0.48120323 0.521297   0.6827614\n",
      "  0.618442   0.91511171 0.2254089  0.60448017 0.82026486 0.5451297\n",
      "  0.28588139 0.22621778 0.41688737 0.63117515 0.50399042 0.8470321\n",
      "  0.6492193  0.80394214 0.5605429  0.0857125  0.11857534 0.14502185\n",
      "  0.6301305  0.76977668 0.40537063 0.355938   0.31397595 0.82680352\n",
      "  0.65797349 0.60674597 0.46644001 0.72408183 0.         0.69064983\n",
      "  0.79910535 0.66190674 0.70756917 0.84257136 0.2654778  0.14361302\n",
      "  0.09473624 0.54074266 0.5294816  0.25092084 0.83348242 0.42867262\n",
      "  0.35450181 0.72692738 0.59887271 0.38312401 0.21191584 0.77097388\n",
      "  0.61542833 0.82494242 0.60176872 0.28799384]\n",
      " [0.59045097 0.57949836 0.69749641 0.23010301 0.39215862 0.75733029\n",
      "  0.67858519 0.12397417 0.53716492 0.67128139 0.81591431 0.39342408\n",
      "  0.63818895 0.79234137 0.58397839 0.34970886 0.76379816 0.79249863\n",
      "  0.44003941 0.46924193 0.1968287  0.66820201 0.70169404 0.35731715\n",
      "  0.30776098 0.80603154 0.53765068 0.80036912 0.52073588 0.41026898\n",
      "  0.56592294 0.31036269 0.82817116 0.4438319  0.57148165 0.71116101\n",
      "  0.22531151 0.27266281 0.5879671  0.35014671 0.15809203 0.01510843\n",
      "  0.52157582 0.80660247 0.24241872 0.2102133  0.74722828 0.43956632\n",
      "  0.49983967 0.23065271 0.81795528 0.34354142 0.21389051 0.46213372\n",
      "  0.56046357 0.87965778 0.42200595 0.09678853 0.18669434 0.35954733\n",
      "  0.61801913 0.13503511 0.5168441  0.60493941 0.73383456 0.8095607\n",
      "  0.0858311  0.6122975  0.49775462 0.35828343 0.7145164  0.32147119\n",
      "  0.6932312  0.50904988 0.22948016 0.28303878 0.69064983 0.\n",
      "  0.37665548 0.51144145 0.5682591  0.1585563  0.50009493 0.75092141\n",
      "  0.59599762 0.72329399 0.38821355 0.47153557 0.15209223 0.54472242\n",
      "  0.71626647 0.45834529 0.30447918 0.4540673  0.55003614 0.25052727\n",
      "  0.15457062 0.54571796 0.42206032 0.6445578 ]\n",
      " [0.38642351 0.84043055 0.45336931 0.20348104 0.72293374 0.67140421\n",
      "  0.88511754 0.48469245 0.69966264 0.8890475  0.88406665 0.76279164\n",
      "  0.88748674 0.88700089 0.47896189 0.21525979 0.94323386 0.89633861\n",
      "  0.20733075 0.76861549 0.55854792 0.550449   0.75076768 0.68507384\n",
      "  0.0734579  0.62192202 0.81302114 0.56425164 0.88525517 0.11194512\n",
      "  0.42844365 0.27020147 0.91706046 0.73266125 0.9320661  0.97357048\n",
      "  0.31710689 0.64478153 0.57258699 0.70814533 0.53302771 0.36874052\n",
      "  0.45375689 0.96152875 0.22388258 0.42517184 0.58098161 0.16629885\n",
      "  0.85143541 0.37783062 0.99234942 0.70067666 0.21408308 0.79845329\n",
      "  0.79974066 1.02259771 0.38817169 0.45597487 0.42394257 0.72981726\n",
      "  0.96558331 0.31205396 0.85351395 0.72433262 0.78462359 0.86755829\n",
      "  0.32760174 0.9802287  0.42911946 0.59043617 0.95102107 0.69169362\n",
      "  0.4435373  0.85739878 0.41322372 0.65952217 0.79910535 0.37665548\n",
      "  0.         0.24739024 0.93082091 0.35355042 0.53721031 0.91034175\n",
      "  0.71504904 0.54345428 0.27769718 0.67303293 0.34321088 0.83980933\n",
      "  0.96701015 0.83020852 0.66120292 0.42658112 0.59494446 0.62428255\n",
      "  0.51353826 0.92152019 0.77506624 0.88092662]\n",
      " [0.1439476  0.80078655 0.20868885 0.28134884 0.75578985 0.44804415\n",
      "  0.80147688 0.6347991  0.60973878 0.81284881 0.71621556 0.84266907\n",
      "  0.83437906 0.73343893 0.26950249 0.46208309 0.83633154 0.74721279\n",
      "  0.07165189 0.76782312 0.64488994 0.32446445 0.58490863 0.7195329\n",
      "  0.25810274 0.37522217 0.78757449 0.31995416 0.94851543 0.13782795\n",
      "  0.21115471 0.23552869 0.75794133 0.72751007 0.98598962 0.92344307\n",
      "  0.53869367 0.77909616 0.39623486 0.77319598 0.64420931 0.5102842\n",
      "  0.27357732 0.83762068 0.27258599 0.44798094 0.33765947 0.08520438\n",
      "  0.89667481 0.59581785 0.87844168 0.76524633 0.42898805 0.82956044\n",
      "  0.7483646  0.88714043 0.26014626 0.55740195 0.46083188 0.86618275\n",
      "  0.99852729 0.50407085 0.88050835 0.60319442 0.61613832 0.69561152\n",
      "  0.4332232  1.04610615 0.25668599 0.56870048 0.88290589 0.82878576\n",
      "  0.20010095 0.8979884  0.42281928 0.76970928 0.66190674 0.51144145\n",
      "  0.24739024 0.         0.98822194 0.55295979 0.40133813 0.7933815\n",
      "  0.59505188 0.29868885 0.17054129 0.61358756 0.5411701  0.82794066\n",
      "  0.90831188 0.91239695 0.7291261  0.28452554 0.45039304 0.75535743\n",
      "  0.60363    1.0153474  0.82778222 0.81883428]\n",
      " [1.00276734 0.37548231 1.11585339 0.74223075 0.23815954 1.00362091\n",
      "  0.52682514 0.50534456 0.56465902 0.50048501 0.83959593 0.17866468\n",
      "  0.41802235 0.78428233 0.91384465 0.91153243 0.62108233 0.76969493\n",
      "  0.92153449 0.28049189 0.37392221 0.97822441 0.80111167 0.27136788\n",
      "  0.85781026 1.14425769 0.33516312 1.19143617 0.04870586 0.93229228\n",
      "  0.93224042 0.75279796 0.8151349  0.31475906 0.01384226 0.41485124\n",
      "  0.76055634 0.37453301 0.82405918 0.2227284  0.41359167 0.5803681\n",
      "  0.84582807 0.69066089 0.73536427 0.54035408 1.08164415 0.94186354\n",
      "  0.0977274  0.73256827 0.66131651 0.2302817  0.78059029 0.17519376\n",
      "  0.42273247 0.75728652 0.77471091 0.47761706 0.52927294 0.34481083\n",
      "  0.10019287 0.6868359  0.14714591 0.65370863 0.81640913 0.85086423\n",
      "  0.6032554  0.06431725 0.83536537 0.45335536 0.47795258 0.36076688\n",
      "  1.11723945 0.10421032 0.56556259 0.31048838 0.70756917 0.5682591\n",
      "  0.93082091 0.98822194 0.         0.68256004 0.72817806 0.65155958\n",
      "  0.65098535 1.07723685 0.82183336 0.48999622 0.68364108 0.28169588\n",
      "  0.44568751 0.13047361 0.26964356 0.77980398 0.73650006 0.37802264\n",
      "  0.41867671 0.14927119 0.16052077 0.45001107]\n",
      " [0.66008361 0.73576781 0.7562751  0.29524559 0.53576734 0.87101667\n",
      "  0.83714103 0.17772957 0.69295396 0.82972067 0.96384208 0.50389792\n",
      "  0.79512905 0.94370858 0.68579621 0.23832837 0.92203655 0.94500601\n",
      "  0.4867361  0.62080603 0.33230768 0.76992225 0.84468584 0.50346835\n",
      "  0.30407273 0.89064331 0.6925497  0.86526985 0.63388548 0.42680583\n",
      "  0.6567564  0.40274923 0.97916185 0.59801005 0.68806615 0.86613286\n",
      "  0.07801198 0.33138293 0.71413689 0.47797509 0.27514382 0.14381133\n",
      "  0.63066039 0.96385528 0.31995817 0.36181996 0.83631675 0.47043979\n",
      "  0.62721828 0.07282105 0.97615378 0.47255062 0.14048174 0.60072195\n",
      "  0.71851442 1.0364558  0.53310337 0.24693126 0.34036305 0.40658782\n",
      "  0.74535636 0.05030011 0.65365095 0.75699274 0.87772737 0.95582372\n",
      "  0.21377983 0.71759553 0.60503708 0.51660917 0.87201229 0.37057476\n",
      "  0.74957509 0.63866625 0.37650287 0.37505107 0.84257136 0.1585563\n",
      "  0.35355042 0.55295979 0.68256004 0.         0.63457455 0.90819072\n",
      "  0.74785729 0.80702358 0.47102824 0.62941453 0.01201925 0.69587618\n",
      "  0.87256589 0.56057571 0.43613224 0.56970497 0.68820602 0.31748235\n",
      "  0.2972213  0.63066861 0.55105523 0.8023747 ]\n",
      " [0.33177778 0.44091261 0.42930509 0.37964207 0.49513073 0.28624748\n",
      "  0.40768145 0.59995312 0.22152341 0.42270862 0.34969999 0.63707669\n",
      "  0.45966495 0.34980802 0.19932151 0.69440435 0.43520466 0.35962168\n",
      "  0.37157244 0.45769922 0.49890011 0.25140972 0.21887635 0.46929503\n",
      "  0.4883064  0.4176824  0.44428988 0.47977571 0.70161222 0.45142332\n",
      "  0.23843407 0.27384506 0.38004993 0.41852079 0.72126434 0.54655093\n",
      "  0.67034307 0.67777812 0.10076046 0.55785973 0.53963577 0.51023113\n",
      "  0.14412933 0.43768335 0.34927193 0.30047859 0.35593866 0.41743564\n",
      "  0.6304793  0.70412019 0.47720396 0.55088284 0.58473122 0.55313655\n",
      "  0.38168186 0.49159111 0.15151734 0.47068683 0.32637682 0.7515079\n",
      "  0.70414588 0.58968055 0.59119237 0.20185632 0.25312902 0.33568324\n",
      "  0.42347814 0.79218378 0.15013834 0.27797276 0.4951992  0.72224987\n",
      "  0.43520687 0.62506573 0.27473117 0.62868231 0.2654778  0.50009493\n",
      "  0.53721031 0.40133813 0.72817806 0.63457455 0.         0.39218803\n",
      "  0.19375689 0.35710225 0.26428211 0.25620134 0.62395258 0.49577628\n",
      "  0.52581489 0.69916116 0.52854123 0.11821825 0.05844292 0.65369742\n",
      "  0.47886271 0.80698245 0.58302343 0.43788217]\n",
      " [0.71066702 0.2773826  0.79160468 0.7254609  0.50134266 0.51826138\n",
      "  0.12502423 0.80401884 0.2186613  0.15224008 0.21417884 0.66197382\n",
      "  0.23556507 0.15244617 0.56135891 1.03387518 0.05505094 0.13230061\n",
      "  0.76212923 0.40057953 0.64178092 0.57196255 0.25967775 0.50392513\n",
      "  0.85149621 0.71291493 0.32340045 0.81030144 0.65146753 0.8362736\n",
      "  0.61391879 0.64017344 0.17388997 0.38823882 0.63927231 0.27584321\n",
      "  0.96541022 0.80413679 0.4181888  0.59871223 0.70534917 0.76513426\n",
      "  0.52671502 0.05568107 0.69759324 0.5498897  0.66461033 0.80681965\n",
      "  0.57284419 0.98091123 0.08508357 0.5957688  0.90555109 0.50813189\n",
      "  0.24203761 0.1299293  0.54009985 0.67781067 0.56905026 0.84687849\n",
      "  0.57819523 0.8747227  0.50943575 0.19064582 0.24922581 0.23456656\n",
      "  0.70257314 0.70968133 0.53884117 0.39458568 0.19920425 0.83247614\n",
      "  0.80023586 0.55859852 0.54188975 0.72975658 0.14361302 0.75092141\n",
      "  0.91034175 0.7933815  0.65155958 0.90819072 0.39218803 0.\n",
      "  0.19921091 0.68435448 0.65052326 0.28009242 0.90034727 0.37167049\n",
      "  0.24118291 0.69581718 0.5996453  0.51002547 0.34460969 0.78619802\n",
      "  0.6502546  0.78376399 0.57434845 0.20237698]\n",
      " [0.51923303 0.30237759 0.60792501 0.53686803 0.44562685 0.37772916\n",
      "  0.22490609 0.66982481 0.08767305 0.24485639 0.22588628 0.60682044\n",
      "  0.30059388 0.19635468 0.37458729 0.85014152 0.24151272 0.19721998\n",
      "  0.56291861 0.3710553  0.52784861 0.40025331 0.1503838  0.43311263\n",
      "  0.65884836 0.55621058 0.32492833 0.64055216 0.63610282 0.63788864\n",
      "  0.42314818 0.44512266 0.23228849 0.34077398 0.6412257  0.37972638\n",
      "  0.79755381 0.70475298 0.23568251 0.53181178 0.58428093 0.60902922\n",
      "  0.33241723 0.24737154 0.50790029 0.38647077 0.50090175 0.60768338\n",
      "  0.55776151 0.82041587 0.28395885 0.52660567 0.72740164 0.48166464\n",
      "  0.24256893 0.30798137 0.34090249 0.53777091 0.40931772 0.76356798\n",
      "  0.60298864 0.70939607 0.50438968 0.00948991 0.16940617 0.22563174\n",
      "  0.53555177 0.71459028 0.34237344 0.26681697 0.31771264 0.7416088\n",
      "  0.61543172 0.54773154 0.37183532 0.63960804 0.09473624 0.59599762\n",
      "  0.71504904 0.59505188 0.65098535 0.74785729 0.19375689 0.19921091\n",
      "  0.         0.51365578 0.45164696 0.17072557 0.73879352 0.3812409\n",
      "  0.35347459 0.65701901 0.51744065 0.31108833 0.1509173  0.68334549\n",
      "  0.52406905 0.75873625 0.53217177 0.27221435]\n",
      " [0.15714158 0.79514288 0.13686027 0.51224116 0.84019347 0.19730155\n",
      "  0.73838067 0.84431086 0.56921157 0.75840759 0.53730222 0.96737457\n",
      "  0.80763662 0.57581845 0.1634355  0.75541306 0.73685299 0.59498061\n",
      "  0.34013187 0.81309105 0.79752628 0.11353977 0.42959537 0.81033894\n",
      "  0.54054525 0.08363714 0.80109091 0.12696136 1.04689546 0.43165621\n",
      "  0.15882947 0.41334201 0.58856829 0.77324717 1.07133719 0.89114276\n",
      "  0.80937756 0.9624169  0.27924102 0.88949514 0.81946949 0.72727426\n",
      "  0.23227672 0.71354385 0.48982839 0.5806785  0.04117098 0.37720937\n",
      "  0.97971989 0.86135574 0.76470515 0.88192235 0.70152817 0.90358302\n",
      "  0.73494397 0.74145289 0.31795581 0.73597351 0.60296686 1.04532611\n",
      "  1.05944433 0.75672573 0.94479231 0.51828452 0.45037435 0.51227501\n",
      "  0.63754245 1.14048606 0.24643667 0.62394241 0.83135134 1.01110717\n",
      "  0.14963704 0.97579468 0.55071643 0.93106975 0.54074266 0.72329399\n",
      "  0.54345428 0.29868885 1.07723685 0.80702358 0.35710225 0.68435448\n",
      "  0.51365578 0.         0.33792396 0.61314127 0.7950151  0.85287432\n",
      "  0.8664744  1.03372205 0.85333774 0.30184796 0.37071109 0.93757113\n",
      "  0.76542953 1.14185692 0.92545446 0.78231535]\n",
      " [0.20343067 0.63323388 0.31424413 0.17585865 0.58743791 0.41361756\n",
      "  0.64463684 0.51107202 0.4529547  0.65370058 0.60722121 0.68256289\n",
      "  0.66946096 0.61294667 0.22063969 0.45917779 0.68898983 0.62354727\n",
      "  0.11636875 0.5972822  0.49120882 0.3025378  0.47371139 0.55170691\n",
      "  0.24037606 0.42143993 0.61821196 0.41310109 0.78345255 0.18717352\n",
      "  0.185852   0.07931431 0.6418512  0.5569743  0.81905426 0.75843595\n",
      "  0.48054058 0.64074244 0.29533875 0.6104025  0.50022529 0.39111166\n",
      "  0.18026349 0.69876444 0.15202397 0.28387932 0.36558025 0.15730364\n",
      "  0.72898806 0.52882337 0.73471099 0.60246027 0.37700005 0.66054216\n",
      "  0.58248622 0.75526895 0.1128195  0.41370213 0.29976063 0.72646297\n",
      "  0.8290327  0.42085691 0.71089649 0.46052352 0.50740248 0.59022367\n",
      "  0.30321388 0.88086403 0.15443495 0.39825746 0.72193565 0.69035789\n",
      "  0.31180483 0.72968302 0.25688091 0.62105058 0.5294816  0.38821355\n",
      "  0.27769718 0.17054129 0.82183336 0.47102824 0.26428211 0.65052326\n",
      "  0.45164696 0.33792396 0.         0.44806407 0.45907121 0.65772966\n",
      "  0.74510182 0.75199078 0.56776268 0.1495976  0.32057703 0.616198\n",
      "  0.45290626 0.85700471 0.66180926 0.65584676]\n",
      " [0.57600127 0.18935058 0.68044446 0.47483629 0.27554354 0.51576949\n",
      "  0.21611677 0.52558812 0.08454278 0.21672125 0.38962757 0.4361263\n",
      "  0.221402   0.34866679 0.45480395 0.76966151 0.29311731 0.34261692\n",
      "  0.56432178 0.21041984 0.36965073 0.50543671 0.31903965 0.26241188\n",
      "  0.60692616 0.67083328 0.18811046 0.73588934 0.4709936  0.61883581\n",
      "  0.4884379  0.41204174 0.3846897  0.17544981 0.48130993 0.31037666\n",
      "  0.68902231 0.54164448 0.34239098 0.36118891 0.4305874  0.48591851\n",
      "  0.39421097 0.3357017  0.45037364 0.27629543 0.61018272 0.60217813\n",
      "  0.39425151 0.70196846 0.34704224 0.35608154 0.63657433 0.31681758\n",
      "  0.1347782  0.40965774 0.35666481 0.39797272 0.29294884 0.59614953\n",
      "  0.45371765 0.59772593 0.34611253 0.17607963 0.34003022 0.39295145\n",
      "  0.42795401 0.55422605 0.39266596 0.114566   0.27843009 0.575987\n",
      "  0.68516435 0.38582289 0.27365147 0.47318756 0.25092084 0.47153557\n",
      "  0.67303293 0.61358756 0.48999622 0.62941453 0.25620134 0.28009242\n",
      "  0.17072557 0.61314127 0.44806407 0.         0.62192595 0.2400047\n",
      "  0.29795398 0.48728855 0.34835966 0.34349802 0.25104704 0.52140113\n",
      "  0.37322044 0.59033281 0.36293353 0.20950606]\n",
      " [0.64807156 0.73062649 0.74434493 0.28327332 0.53315468 0.85942302\n",
      "  0.83043422 0.17988034 0.68468863 0.8233421  0.95418003 0.5049966\n",
      "  0.78973461 0.93450487 0.6739959  0.23382685 0.91473802 0.9359836\n",
      "  0.47483895 0.61687697 0.33019557 0.75809644 0.83456792 0.50041673\n",
      "  0.29285686 0.8786338  0.6878368  0.85330336 0.63500631 0.41536804\n",
      "  0.64481481 0.39096039 0.96989337 0.59345701 0.68892451 0.86144126\n",
      "  0.07821529 0.33575996 0.7030381  0.47724891 0.27440658 0.13715704\n",
      "  0.61903505 0.95599595 0.30806868 0.35309044 0.82433385 0.45876012\n",
      "  0.62683006 0.0816501  0.96881553 0.47167932 0.13088408 0.59891025\n",
      "  0.71251785 1.02841325 0.52159302 0.24249994 0.33199328 0.41223667\n",
      "  0.74511418 0.03828938 0.65214054 0.74795563 0.8676778  0.94598092\n",
      "  0.20405789 0.71958916 0.59338215 0.5094734  0.86636275 0.37588884\n",
      "  0.73766839 0.63803462 0.36720068 0.37722498 0.83348242 0.15209223\n",
      "  0.34321088 0.5411701  0.68364108 0.01201925 0.62395258 0.90034727\n",
      "  0.73879352 0.7950151  0.45907121 0.62192595 0.         0.69207631\n",
      "  0.86743559 0.56257029 0.43486126 0.5583009  0.67778774 0.32115299\n",
      "  0.29407737 0.63426767 0.55035797 0.79653857]\n",
      " [0.80769232 0.09433077 0.91531221 0.63653131 0.17130146 0.75065621\n",
      "  0.24813448 0.5440979  0.29952108 0.2232543  0.55850148 0.30797733\n",
      "  0.14505791 0.50266999 0.6934231  0.88690681 0.34571201 0.48799945\n",
      "  0.77064938 0.07550488 0.36934362 0.74543563 0.52882469 0.19583145\n",
      "  0.76790222 0.91070814 0.05634931 0.97490781 0.27984061 0.80832921\n",
      "  0.72396373 0.60534875 0.53344335 0.1072333  0.27006117 0.18057713\n",
      "  0.7686025  0.48695028 0.58178353 0.26325934 0.43428956 0.55968926\n",
      "  0.63079934 0.41389787 0.61910408 0.41463828 0.85017695 0.80230322\n",
      "  0.20165243 0.76237117 0.39068615 0.26354254 0.7482404  0.14463121\n",
      "  0.14280613 0.48384948 0.5815172  0.44989336 0.41738335 0.50775244\n",
      "  0.22201345 0.67965746 0.13776666 0.38250189 0.54098785 0.57054226\n",
      "  0.53793203 0.3423016  0.62680185 0.25990443 0.21821658 0.50250652\n",
      "  0.91922902 0.18702689 0.42840414 0.40722463 0.42867262 0.54472242\n",
      "  0.83980933 0.82794066 0.28169588 0.69587618 0.49577628 0.37167049\n",
      "  0.3812409  0.85287432 0.65772966 0.2400047  0.69207631 0.\n",
      "  0.19892953 0.32962949 0.28430481 0.57473364 0.48973089 0.47539462\n",
      "  0.39919501 0.41246175 0.21664395 0.17358148]\n",
      " [0.8572201  0.13680916 0.95403344 0.76573524 0.36795463 0.725643\n",
      "  0.13347784 0.73206603 0.30438588 0.10937443 0.45439111 0.50515799\n",
      "  0.08018195 0.39287534 0.72118588 1.04461678 0.19487573 0.37328243\n",
      "  0.86146683 0.26335447 0.55705007 0.75330851 0.47305967 0.38764144\n",
      "  0.89882006 0.90935058 0.18221541 0.99317984 0.45759901 0.91659125\n",
      "  0.7641744  0.70964783 0.41492953 0.2768648  0.43225435 0.03521999\n",
      "  0.94151378 0.68525842 0.58744698 0.4619851  0.62320125 0.73137114\n",
      "  0.66992668 0.26338218 0.74322104 0.55248877 0.85437594 0.89996848\n",
      "  0.38586902 0.94189653 0.22300697 0.46201155 0.90729844 0.34130683\n",
      "  0.16728367 0.32008656 0.64884798 0.62601338 0.56251439 0.70626151\n",
      "  0.35876475 0.85050545 0.32098755 0.34969216 0.47254104 0.47332661\n",
      "  0.69410812 0.49672677 0.67379984 0.37984851 0.04204174 0.70143583\n",
      "  0.96045916 0.3693296  0.5575958  0.60566403 0.35450181 0.71626647\n",
      "  0.96701015 0.90831188 0.44568751 0.87256589 0.52581489 0.24118291\n",
      "  0.35347459 0.8664744  0.74510182 0.29795398 0.86743559 0.19892953\n",
      "  0.         0.51969769 0.48056888 0.63028119 0.4977654  0.67295936\n",
      "  0.58128961 0.58994534 0.41396087 0.0894796 ]\n",
      " [0.94343109 0.42116013 1.05739555 0.65146668 0.21181725 0.98323539\n",
      "  0.57528107 0.38285768 0.5694126  0.5517083  0.86428412 0.06974428\n",
      "  0.47465008 0.81386128 0.87116933 0.79363727 0.67422273 0.80204131\n",
      "  0.84314102 0.29711766 0.27345049 0.94231212 0.80629372 0.23096114\n",
      "  0.75836334 1.10598991 0.37276407 1.14115381 0.08500639 0.84297703\n",
      "  0.8817968  0.67803658 0.84731458 0.31887316 0.14005542 0.49348757\n",
      "  0.63827213 0.24477854 0.79887089 0.14433676 0.30044219 0.46913547\n",
      "  0.80168527 0.74123424 0.64874558 0.46838956 1.04287847 0.8583498\n",
      "  0.13485626 0.60709792 0.7202204  0.1520222  0.66654951 0.18773786\n",
      "  0.45503321 0.8125764  0.72070249 0.37435757 0.45253912 0.21649289\n",
      "  0.21978792 0.56895629 0.19882913 0.66148575 0.82629422 0.87194238\n",
      "  0.5044465  0.15702619 0.78773694 0.42201417 0.54524628 0.23050349\n",
      "  1.05737755 0.15187479 0.49645551 0.18558102 0.72692738 0.45834529\n",
      "  0.83020852 0.91239695 0.13047361 0.56057571 0.69916116 0.69581718\n",
      "  0.65701901 1.03372205 0.75199078 0.48728855 0.56257029 0.32962949\n",
      "  0.51969769 0.         0.18430221 0.73205106 0.71761126 0.2497836\n",
      "  0.31803936 0.10825903 0.12520432 0.502777  ]\n",
      " [0.75950174 0.35264513 0.87347351 0.47395167 0.11302075 0.81469574\n",
      "  0.49269754 0.26877565 0.43285976 0.47505978 0.73778388 0.11530193\n",
      "  0.41416926 0.69443757 0.6917575  0.65321325 0.59140697 0.6862932\n",
      "  0.66040903 0.21784449 0.10765922 0.76542007 0.66106263 0.09682324\n",
      "  0.58816798 0.92733291 0.30198265 0.95856768 0.2247839  0.66488098\n",
      "  0.69973442 0.49426501 0.72991603 0.21507348 0.27097848 0.46471637\n",
      "  0.51307646 0.20747742 0.6292344  0.0469501  0.16148308 0.31771939\n",
      "  0.62208795 0.65137737 0.46879559 0.28408918 0.8642534  0.67738381\n",
      "  0.19536534 0.49602799 0.64315165 0.03962713 0.51836647 0.16595792\n",
      "  0.36286526 0.72625978 0.53825971 0.21029728 0.26859428 0.24900691\n",
      "  0.31358551 0.43136529 0.21767546 0.52353602 0.68515966 0.74127926\n",
      "  0.33369177 0.32134217 0.60692855 0.25932638 0.49301627 0.23283111\n",
      "  0.87331096 0.20480847 0.31220258 0.13038413 0.59887271 0.30447918\n",
      "  0.66120292 0.7291261  0.26964356 0.43613224 0.52854123 0.5996453\n",
      "  0.51744065 0.85333774 0.56776268 0.34835966 0.43486126 0.28430481\n",
      "  0.48056888 0.18430221 0.         0.5515203  0.5537406  0.19301475\n",
      "  0.15099308 0.29063658 0.11758157 0.43328361]\n",
      " [0.23315128 0.53281725 0.34126052 0.29032752 0.54179229 0.30360625\n",
      "  0.5185024  0.56713597 0.32777268 0.53123827 0.45769396 0.66553834\n",
      "  0.5595626  0.4638929  0.14113305 0.59759528 0.5520051  0.47503171\n",
      "  0.25348739 0.52553167 0.49933924 0.22053678 0.3242524  0.51056268\n",
      "  0.3837943  0.3767718  0.52783365 0.41168998 0.74758637 0.33558884\n",
      "  0.15261162 0.17732077 0.49240262 0.48480763 0.7746473  0.64810063\n",
      "  0.59440385 0.66984643 0.1516868  0.58776742 0.52711035 0.4614393\n",
      "  0.07191874 0.55589237 0.26049572 0.28367886 0.31394819 0.2996807\n",
      "  0.6828626  0.63512126 0.59495414 0.58016804 0.49960015 0.60815345\n",
      "  0.47651939 0.60934005 0.03998386 0.4476341  0.30757831 0.75026793\n",
      "  0.76938087 0.5216276  0.65252571 0.31944036 0.35805267 0.44097719\n",
      "  0.37030462 0.84235995 0.05579749 0.32898635 0.6024945  0.71745371\n",
      "  0.34469312 0.68012385 0.25390108 0.63291865 0.38312401 0.4540673\n",
      "  0.42658112 0.28452554 0.77980398 0.56970497 0.11821825 0.51002547\n",
      "  0.31108833 0.30184796 0.1495976  0.34349802 0.5583009  0.57473364\n",
      "  0.63028119 0.73205106 0.5515203  0.         0.17212256 0.64505734\n",
      "  0.47017972 0.84012754 0.62554416 0.54108366]\n",
      " [0.36840987 0.42576616 0.45796475 0.43770874 0.5091337  0.26732492\n",
      "  0.37349135 0.64539874 0.19861276 0.3912679  0.29125708 0.65830824\n",
      "  0.43698876 0.29245879 0.22446643 0.75268654 0.3906067  0.30303961\n",
      "  0.42508741 0.45993578 0.53400866 0.25911077 0.16081324 0.48665048\n",
      "  0.54666437 0.42213591 0.43579743 0.49665547 0.71328244 0.50738903\n",
      "  0.27223425 0.33228696 0.32211791 0.42263824 0.72865579 0.5212277\n",
      "  0.72604868 0.71412564 0.09268572 0.57938469 0.578984   0.56078718\n",
      "  0.18233601 0.38732836 0.40736843 0.34568315 0.36303794 0.47164446\n",
      "  0.63935278 0.75841231 0.42961347 0.57280585 0.64200022 0.56151556\n",
      "  0.36520046 0.43795428 0.20783773 0.51439912 0.37144777 0.78471272\n",
      "  0.70466149 0.6441294  0.59531442 0.15771623 0.19502043 0.27738192\n",
      "  0.47579847 0.8008007  0.19447065 0.29637076 0.46437593 0.75706071\n",
      "  0.46515522 0.63247679 0.32187921 0.66070371 0.21191584 0.55003614\n",
      "  0.59494446 0.45039304 0.73650006 0.68820602 0.05844292 0.34460969\n",
      "  0.1509173  0.37071109 0.32057703 0.25104704 0.67778774 0.48973089\n",
      "  0.4977654  0.71761126 0.5537406  0.17212256 0.         0.69050786\n",
      "  0.51764593 0.82443276 0.59786084 0.41221908]\n",
      " [0.81915142 0.54562788 0.93036947 0.47567238 0.30501296 0.93517829\n",
      "  0.6834978  0.14396386 0.60391738 0.66684508 0.90838777 0.20484643\n",
      "  0.60718197 0.86998283 0.78475204 0.55491082 0.78132184 0.863912\n",
      "  0.68371392 0.41078159 0.15727942 0.86559048 0.81804346 0.28901744\n",
      "  0.55726821 1.01747495 0.4949974  1.02764895 0.32988165 0.66034666\n",
      "  0.77887916 0.53696012 0.90606336 0.40694997 0.38574474 0.65594759\n",
      "  0.3938094  0.02485225 0.75252359 0.21399418 0.11819529 0.25640733\n",
      "  0.71678096 0.8391766  0.48284799 0.36186892 0.95581939 0.68738921\n",
      "  0.34348112 0.35858289 0.83375919 0.21257249 0.43711666 0.34466676\n",
      "  0.55359865 0.91437614 0.62146152 0.20276717 0.33750989 0.11087164\n",
      "  0.45518145 0.33394819 0.38776567 0.69054402 0.84544997 0.90895829\n",
      "  0.3222797  0.40518498 0.69662611 0.41656813 0.68601982 0.07416013\n",
      "  0.9275289  0.35826599 0.39136176 0.07217649 0.77097388 0.25052727\n",
      "  0.62428255 0.75535743 0.37802264 0.31748235 0.65369742 0.78619802\n",
      "  0.68334549 0.93757113 0.616198   0.52140113 0.32115299 0.47539462\n",
      "  0.67295936 0.2497836  0.19301475 0.64505734 0.69050786 0.\n",
      "  0.17585103 0.31318849 0.27775623 0.62595771]\n",
      " [0.65345864 0.44528246 0.7662743  0.3345206  0.23952205 0.75939743\n",
      "  0.56196338 0.15472047 0.45080453 0.55040747 0.74990644 0.24965787\n",
      "  0.50620054 0.71654515 0.61047667 0.50424279 0.65436313 0.71284719\n",
      "  0.53284585 0.32454082 0.04501132 0.69059518 0.65147932 0.20633937\n",
      "  0.44111144 0.84434606 0.39948029 0.8598363  0.37228255 0.52585881\n",
      "  0.60724617 0.37488932 0.75286938 0.30457434 0.42087597 0.57232973\n",
      "  0.3715879  0.20041626 0.57714199 0.19744859 0.06149098 0.16841509\n",
      "  0.54203775 0.70521847 0.33418767 0.18654013 0.78227774 0.54402357\n",
      "  0.34611086 0.36319541 0.70836887 0.19048041 0.36820109 0.30791418\n",
      "  0.4362142  0.78015955 0.44803093 0.05930649 0.16284279 0.28026436\n",
      "  0.46396713 0.28556603 0.36242639 0.53198284 0.68041831 0.74816555\n",
      "  0.18656843 0.46671163 0.52250923 0.26058581 0.5847252  0.24734108\n",
      "  0.76442203 0.35485533 0.21627999 0.168187   0.61542833 0.15457062\n",
      "  0.51353826 0.60363    0.41867671 0.2972213  0.47886271 0.6502546\n",
      "  0.52406905 0.76542953 0.45290626 0.37322044 0.29407737 0.39919501\n",
      "  0.58128961 0.31803936 0.15099308 0.47017972 0.51764593 0.17585103\n",
      "  0.         0.41514165 0.2683161  0.5173677 ]\n",
      " [1.05010823 0.5064992  1.16407803 0.74963853 0.31631654 1.09055169\n",
      "  0.66059593 0.45564682 0.67107622 0.6354857  0.96088592 0.17536605\n",
      "  0.55500771 0.90850555 0.97937761 0.86790579 0.75765669 0.89556125\n",
      "  0.94545689 0.39212584 0.37180913 1.05055559 0.90869626 0.33807418\n",
      "  0.85088595 1.21424301 0.46109566 1.24878598 0.13324856 0.9408551\n",
      "  0.98958488 0.78204458 0.94103476 0.41831694 0.16309066 0.56041054\n",
      "  0.70677155 0.30057644 0.90648806 0.25236421 0.38849249 0.55506353\n",
      "  0.90987269 0.82625914 0.74880902 0.57409704 1.1511308  0.95873264\n",
      "  0.21092491 0.66895169 0.80068625 0.25996313 0.74692152 0.27999527\n",
      "  0.54662177 0.89534102 0.82833945 0.46857972 0.55724546 0.24209968\n",
      "  0.24868147 0.64553611 0.27502035 0.76275143 0.92749655 0.96981786\n",
      "  0.59952847 0.12646317 0.89578323 0.52947609 0.61995631 0.26979569\n",
      "  1.16383459 0.22551405 0.60258009 0.2631817  0.82494242 0.54571796\n",
      "  0.92152019 1.0153474  0.14927119 0.63066861 0.80698245 0.78376399\n",
      "  0.75873625 1.14185692 0.85700471 0.59033281 0.63426767 0.41246175\n",
      "  0.58994534 0.10825903 0.29063658 0.84012754 0.82443276 0.31318849\n",
      "  0.41514165 0.         0.22774958 0.58540855]\n",
      " [0.84509689 0.30348932 0.95857764 0.58344955 0.08879269 0.86464696\n",
      "  0.45602923 0.37935487 0.44452039 0.43373759 0.73927222 0.09134757\n",
      "  0.36037234 0.68930648 0.76211509 0.77064226 0.55566399 0.67784036\n",
      "  0.76101398 0.17392174 0.22523939 0.82995198 0.6817299  0.11511562\n",
      "  0.70175559 0.99507983 0.25341921 1.03700607 0.12251521 0.77278362\n",
      "  0.7773313  0.59232193 0.72301063 0.19372991 0.15918307 0.39170203\n",
      "  0.62849853 0.28411681 0.68155965 0.07311005 0.27596726 0.43528342\n",
      "  0.6932691  0.62134063 0.57568178 0.37986008 0.93211583 0.78153892\n",
      "  0.07780575 0.6084911  0.60349193 0.07894453 0.63594803 0.07268534\n",
      "  0.33255609 0.69385846 0.61817903 0.32756405 0.36884551 0.29297893\n",
      "  0.19604585 0.54823254 0.11001521 0.53651722 0.70134604 0.74677607\n",
      "  0.44840743 0.21927625 0.68131593 0.3050985  0.43485999 0.29159634\n",
      "  0.95957028 0.08770829 0.40526504 0.20577958 0.60176872 0.42206032\n",
      "  0.77506624 0.82778222 0.16052077 0.55105523 0.58302343 0.57434845\n",
      "  0.53217177 0.92545446 0.66180926 0.36293353 0.55035797 0.21664395\n",
      "  0.41396087 0.12520432 0.11758157 0.62554416 0.59786084 0.27775623\n",
      "  0.2683161  0.22774958 0.         0.38619164]\n",
      " [0.76880742 0.08286231 0.86677905 0.68071247 0.32464743 0.64868598\n",
      "  0.07738461 0.67091889 0.21639276 0.05047558 0.40372765 0.47671196\n",
      "  0.03382145 0.34426814 0.63448122 0.96541042 0.17226511 0.32712098\n",
      "  0.7722155  0.21808965 0.49787771 0.6696161  0.40233086 0.33694422\n",
      "  0.81355802 0.82803656 0.13383298 0.90867589 0.4523732  0.82833435\n",
      "  0.67631476 0.62154191 0.37167371 0.21951126 0.43752609 0.10904843\n",
      "  0.86892893 0.64069956 0.50307915 0.42246446 0.56412448 0.65959052\n",
      "  0.58186415 0.24106337 0.65744637 0.47107635 0.77178661 0.81098664\n",
      "  0.37495208 0.87299947 0.217572   0.42105664 0.82911516 0.31605782\n",
      "  0.08473997 0.31027798 0.55938556 0.55772371 0.48287699 0.67158497\n",
      "  0.3760205  0.77742582 0.31038934 0.26954898 0.40631539 0.4194796\n",
      "  0.61636781 0.50747451 0.58515285 0.29801997 0.07127131 0.66229387\n",
      "  0.87296126 0.35992242 0.47416872 0.56246216 0.28799384 0.6445578\n",
      "  0.88092662 0.81883428 0.45001107 0.8023747  0.43788217 0.20237698\n",
      "  0.27221435 0.78231535 0.65584676 0.20950606 0.79653857 0.17358148\n",
      "  0.0894796  0.502777   0.43328361 0.54108366 0.41221908 0.62595771\n",
      "  0.5173677  0.58540855 0.38619164 0.        ]]\n"
     ]
    }
   ],
   "source": [
    "z=np.random.random((100,2))\n",
    "import scipy\n",
    "import scipy.spatial \n",
    "d=scipy.spatial.distance.cdist(z,z)\n",
    "print(d)"
   ]
  },
  {
   "cell_type": "markdown",
   "metadata": {},
   "source": [
    "#### 53. How to convert a float (32 bits) array into an integer (32 bits) in place? \n",
    "(**hint**: astype(copy=False))"
   ]
  },
  {
   "cell_type": "code",
   "execution_count": 58,
   "metadata": {},
   "outputs": [
    {
     "name": "stdout",
     "output_type": "stream",
     "text": [
      "[86 82 38 73 43 68 34 47  5 59]\n"
     ]
    }
   ],
   "source": [
    "Z = (np.random.rand(10)*100).astype(np.float32)\n",
    "Y = Z.view(np.int32)\n",
    "Y[:] = Z\n",
    "print(Y)r"
   ]
  },
  {
   "cell_type": "markdown",
   "metadata": {},
   "source": [
    "#### 54. How to read the following file? (★★☆) \n",
    "(**hint**: np.genfromtxt)"
   ]
  },
  {
   "cell_type": "markdown",
   "metadata": {},
   "source": [
    "```\n",
    "1, 2, 3, 4, 5\n",
    "6,  ,  , 7, 8\n",
    " ,  , 9,10,11\n",
    "```"
   ]
  },
  {
   "cell_type": "code",
   "execution_count": 59,
   "metadata": {},
   "outputs": [
    {
     "name": "stdout",
     "output_type": "stream",
     "text": [
      "[[ 1  2  3  4  5]\n",
      " [ 6 -1 -1  7  8]\n",
      " [-1 -1  9 10 11]]\n"
     ]
    },
    {
     "name": "stderr",
     "output_type": "stream",
     "text": [
      "<ipython-input-59-a3d4803c3954>:9: DeprecationWarning: `np.int` is a deprecated alias for the builtin `int`. To silence this warning, use `int` by itself. Doing this will not modify any behavior and is safe. When replacing `np.int`, you may wish to use e.g. `np.int64` or `np.int32` to specify the precision. If you wish to review your current use, check the release note link for additional information.\n",
      "Deprecated in NumPy 1.20; for more details and guidance: https://numpy.org/devdocs/release/1.20.0-notes.html#deprecations\n",
      "  Z = np.genfromtxt(s, delimiter=\",\", dtype=np.int)\n"
     ]
    }
   ],
   "source": [
    "from io import StringIO\n",
    "\n",
    "s = StringIO('''1, 2, 3, 4, 5\n",
    "\n",
    "                6,  ,  , 7, 8\n",
    "\n",
    "                 ,  , 9,10,11\n",
    "''')\n",
    "Z = np.genfromtxt(s, delimiter=\",\", dtype=np.int)\n",
    "print(Z)"
   ]
  },
  {
   "cell_type": "markdown",
   "metadata": {},
   "source": [
    "#### 55. What is the equivalent of enumerate for numpy arrays? (★★☆) \n",
    "(**hint**: np.ndenumerate, np.ndindex)"
   ]
  },
  {
   "cell_type": "code",
   "execution_count": 62,
   "metadata": {},
   "outputs": [
    {
     "name": "stdout",
     "output_type": "stream",
     "text": [
      "(0, 0) 0\n",
      "(0, 1) 1\n",
      "(0, 2) 2\n",
      "(1, 0) 3\n",
      "(1, 1) 4\n",
      "(1, 2) 5\n",
      "(2, 0) 6\n",
      "(2, 1) 7\n",
      "(2, 2) 8\n",
      "(0, 0) 0\n",
      "(0, 1) 1\n",
      "(0, 2) 2\n",
      "(1, 0) 3\n",
      "(1, 1) 4\n",
      "(1, 2) 5\n",
      "(2, 0) 6\n",
      "(2, 1) 7\n",
      "(2, 2) 8\n"
     ]
    }
   ],
   "source": [
    "z=np.arange(9).reshape(3,3)\n",
    "for index,value in np.ndenumerate(z):\n",
    "    print(index,value)\n",
    "for index in np.ndindex(z.shape):\n",
    "    print(index,z[index])"
   ]
  },
  {
   "cell_type": "markdown",
   "metadata": {},
   "source": [
    "#### 56. Generate a generic 2D Gaussian-like array (★★☆) \n",
    "(**hint**: np.meshgrid, np.exp)"
   ]
  },
  {
   "cell_type": "code",
   "execution_count": 63,
   "metadata": {},
   "outputs": [
    {
     "name": "stdout",
     "output_type": "stream",
     "text": [
      "[[0.36787944 0.44822088 0.51979489 0.57375342 0.60279818 0.60279818\n",
      "  0.57375342 0.51979489 0.44822088 0.36787944]\n",
      " [0.44822088 0.54610814 0.63331324 0.69905581 0.73444367 0.73444367\n",
      "  0.69905581 0.63331324 0.54610814 0.44822088]\n",
      " [0.51979489 0.63331324 0.73444367 0.81068432 0.85172308 0.85172308\n",
      "  0.81068432 0.73444367 0.63331324 0.51979489]\n",
      " [0.57375342 0.69905581 0.81068432 0.89483932 0.9401382  0.9401382\n",
      "  0.89483932 0.81068432 0.69905581 0.57375342]\n",
      " [0.60279818 0.73444367 0.85172308 0.9401382  0.98773022 0.98773022\n",
      "  0.9401382  0.85172308 0.73444367 0.60279818]\n",
      " [0.60279818 0.73444367 0.85172308 0.9401382  0.98773022 0.98773022\n",
      "  0.9401382  0.85172308 0.73444367 0.60279818]\n",
      " [0.57375342 0.69905581 0.81068432 0.89483932 0.9401382  0.9401382\n",
      "  0.89483932 0.81068432 0.69905581 0.57375342]\n",
      " [0.51979489 0.63331324 0.73444367 0.81068432 0.85172308 0.85172308\n",
      "  0.81068432 0.73444367 0.63331324 0.51979489]\n",
      " [0.44822088 0.54610814 0.63331324 0.69905581 0.73444367 0.73444367\n",
      "  0.69905581 0.63331324 0.54610814 0.44822088]\n",
      " [0.36787944 0.44822088 0.51979489 0.57375342 0.60279818 0.60279818\n",
      "  0.57375342 0.51979489 0.44822088 0.36787944]]\n"
     ]
    }
   ],
   "source": [
    "X, Y = np.meshgrid(np.linspace(-1,1,10), np.linspace(-1,1,10))\n",
    "D = np.sqrt(X*X+Y*Y)\n",
    "sigma, mu = 1.0, 0.0\n",
    "G = np.exp(-( (D-mu)**2 / ( 2.0 * sigma**2 ) ) )\n",
    "print(G)"
   ]
  },
  {
   "cell_type": "markdown",
   "metadata": {},
   "source": [
    "#### 57. How to randomly place p elements in a 2D array? (★★☆) \n",
    "(**hint**: np.put, np.random.choice)"
   ]
  },
  {
   "cell_type": "code",
   "execution_count": 64,
   "metadata": {},
   "outputs": [
    {
     "name": "stdout",
     "output_type": "stream",
     "text": [
      "[[0. 0. 0. 0. 0. 0. 0. 0. 0. 0.]\n",
      " [0. 0. 0. 0. 0. 0. 0. 0. 0. 0.]\n",
      " [0. 0. 0. 0. 0. 0. 0. 0. 0. 1.]\n",
      " [0. 1. 0. 0. 0. 0. 0. 0. 0. 0.]\n",
      " [0. 0. 0. 0. 0. 0. 0. 0. 0. 0.]\n",
      " [0. 0. 0. 0. 0. 0. 0. 0. 0. 0.]\n",
      " [0. 0. 0. 0. 0. 0. 0. 0. 0. 0.]\n",
      " [0. 1. 0. 0. 0. 0. 0. 0. 0. 0.]\n",
      " [0. 0. 0. 0. 0. 0. 0. 0. 0. 0.]\n",
      " [0. 0. 0. 0. 0. 0. 0. 0. 0. 0.]]\n"
     ]
    }
   ],
   "source": [
    "n = 10\n",
    "p = 3\n",
    "Z = np.zeros((n,n))\n",
    "np.put(Z, np.random.choice(range(n*n), p, replace=False),1)\n",
    "print(Z)"
   ]
  },
  {
   "cell_type": "markdown",
   "metadata": {},
   "source": [
    "#### 58. Subtract the mean of each row of a matrix (★★☆) \n",
    "(**hint**: mean(axis=,keepdims=))"
   ]
  },
  {
   "cell_type": "code",
   "execution_count": 65,
   "metadata": {},
   "outputs": [
    {
     "name": "stdout",
     "output_type": "stream",
     "text": [
      "[[-0.40235831  0.34121326 -0.40562248  0.08562203  0.37575303 -0.35382929\n",
      "   0.04490369 -0.13494458  0.4271575   0.02210516]\n",
      " [ 0.15786227  0.04154521 -0.05247499 -0.3255456  -0.0170581  -0.20433052\n",
      "   0.51126573  0.10624905 -0.11385148 -0.10366156]\n",
      " [-0.27704342 -0.31900457  0.07547044 -0.02530696  0.38746195  0.12182978\n",
      "  -0.46037622  0.3973504  -0.20706525  0.30668385]\n",
      " [-0.115068    0.11247365 -0.43164736  0.29994782 -0.30428091 -0.34809657\n",
      "   0.451009    0.20684566  0.24712715 -0.11831043]\n",
      " [ 0.39165981 -0.41376567  0.12795148  0.03910489 -0.19715945 -0.21162322\n",
      "  -0.03068598  0.38455822 -0.01079478 -0.07924531]]\n"
     ]
    }
   ],
   "source": [
    "x=np.random.rand(5,10)\n",
    "y = x - x.mean(axis=1, keepdims=True)\n",
    "print(y)"
   ]
  },
  {
   "cell_type": "markdown",
   "metadata": {},
   "source": [
    "#### 59. How to sort an array by the nth column? (★★☆) \n",
    "(**hint**: argsort)"
   ]
  },
  {
   "cell_type": "code",
   "execution_count": 67,
   "metadata": {},
   "outputs": [
    {
     "name": "stdout",
     "output_type": "stream",
     "text": [
      "[[0 1 2]\n",
      " [3 4 5]\n",
      " [6 7 8]]\n"
     ]
    }
   ],
   "source": [
    "Z = np.random.randint(0,10,(3,3))\n",
    "print(z[z[:,1].argsort()])"
   ]
  },
  {
   "cell_type": "markdown",
   "metadata": {},
   "source": [
    "#### 60. How to tell if a given 2D array has null columns? (★★☆) \n",
    "(**hint**: any, ~)"
   ]
  },
  {
   "cell_type": "code",
   "execution_count": 71,
   "metadata": {},
   "outputs": [
    {
     "name": "stdout",
     "output_type": "stream",
     "text": [
      "False\n"
     ]
    }
   ],
   "source": [
    "z=np.random.randint(0,3,(3,10))\n",
    "print((~Z.any(axis=0)).any())"
   ]
  },
  {
   "cell_type": "markdown",
   "metadata": {},
   "source": [
    "#### 61. Find the nearest value from a given value in an array (★★☆) \n",
    "(**hint**: np.abs, argmin, flat)"
   ]
  },
  {
   "cell_type": "code",
   "execution_count": 73,
   "metadata": {},
   "outputs": [
    {
     "name": "stdout",
     "output_type": "stream",
     "text": [
      "0.06613937400717873\n"
     ]
    }
   ],
   "source": [
    "Z=np.random.uniform(0,1,10)\n",
    "m = Z.flat[np.abs(Z - z).argmin()]\n",
    "print(m)"
   ]
  },
  {
   "cell_type": "markdown",
   "metadata": {},
   "source": [
    "#### 62. Considering two arrays with shape (1,3) and (3,1), how to compute their sum using an iterator? (★★☆) \n",
    "(**hint**: np.nditer)"
   ]
  },
  {
   "cell_type": "code",
   "execution_count": 75,
   "metadata": {},
   "outputs": [
    {
     "name": "stdout",
     "output_type": "stream",
     "text": [
      "[[0 1 2]\n",
      " [1 2 3]\n",
      " [2 3 4]]\n"
     ]
    }
   ],
   "source": [
    "A = np.arange(3).reshape(3,1)\n",
    "B = np.arange(3).reshape(1,3)\n",
    "it = np.nditer([A,B,None])\n",
    "for x,y,z in it: z[...] = x + y\n",
    "print(it.operands[2])"
   ]
  },
  {
   "cell_type": "markdown",
   "metadata": {},
   "source": [
    "#### 63. Create an array class that has a name attribute (★★☆) \n",
    "(**hint**: class method)"
   ]
  },
  {
   "cell_type": "code",
   "execution_count": 76,
   "metadata": {},
   "outputs": [
    {
     "name": "stdout",
     "output_type": "stream",
     "text": [
      "range_10\n"
     ]
    }
   ],
   "source": [
    "class NamedArray(np.ndarray):\n",
    "    def __new__(cls, array, name=\"no name\"):\n",
    "        obj = np.asarray(array).view(cls)\n",
    "        obj.name = name\n",
    "        return obj\n",
    "    def __array_finalize__(self, obj):\n",
    "        if obj is None: return\n",
    "        self.info = getattr(obj, 'name', \"no name\")\n",
    "\n",
    "Z = NamedArray(np.arange(10), \"range_10\")\n",
    "print (Z.name)"
   ]
  },
  {
   "cell_type": "markdown",
   "metadata": {},
   "source": [
    "#### 64. Consider a given vector, how to add 1 to each element indexed by a second vector (be careful with repeated indices)? (★★★) \n",
    "(**hint**: np.bincount | np.add.at)"
   ]
  },
  {
   "cell_type": "code",
   "execution_count": 81,
   "metadata": {},
   "outputs": [
    {
     "name": "stdout",
     "output_type": "stream",
     "text": [
      "[5. 1. 3. 4. 3. 3. 2. 2. 5. 2.]\n"
     ]
    }
   ],
   "source": [
    "Z = np.ones(10)\n",
    "I = np.random.randint(0,len(Z),20)\n",
    "Z += np.bincount(I, minlength=len(Z))\n",
    "print(Z)\n"
   ]
  },
  {
   "cell_type": "markdown",
   "metadata": {},
   "source": [
    "#### 65. How to accumulate elements of a vector (X) to an array (F) based on an index list (I)? (★★★) \n",
    "(**hint**: np.bincount)"
   ]
  },
  {
   "cell_type": "code",
   "execution_count": 82,
   "metadata": {},
   "outputs": [
    {
     "name": "stdout",
     "output_type": "stream",
     "text": [
      "[0. 7. 0. 6. 5. 0. 0. 0. 0. 3.]\n"
     ]
    }
   ],
   "source": [
    "X = [1,2,3,4,5,6]\n",
    "I = [1,3,9,3,4,1]\n",
    "F = np.bincount(I,X)\n",
    "print(F)"
   ]
  },
  {
   "cell_type": "markdown",
   "metadata": {},
   "source": [
    "#### 66. Considering a (w,h,3) image of (dtype=ubyte), compute the number of unique colors (★★★) \n",
    "(**hint**: np.unique)"
   ]
  },
  {
   "cell_type": "code",
   "execution_count": 83,
   "metadata": {},
   "outputs": [
    {
     "name": "stdout",
     "output_type": "stream",
     "text": [
      "64\n"
     ]
    }
   ],
   "source": [
    "w, h = 256, 256\n",
    "I = np.random.randint(0, 4, (h, w, 3)).astype(np.ubyte)\n",
    "colors = np.unique(I.reshape(-1, 3), axis=0)\n",
    "n = len(colors)\n",
    "print(n)"
   ]
  },
  {
   "cell_type": "markdown",
   "metadata": {},
   "source": [
    "#### 67. Considering a four dimensions array, how to get sum over the last two axis at once? (★★★) \n",
    "(**hint**: sum(axis=(-2,-1)))"
   ]
  },
  {
   "cell_type": "code",
   "execution_count": 84,
   "metadata": {},
   "outputs": [
    {
     "name": "stdout",
     "output_type": "stream",
     "text": [
      "[[50 48 79 57]\n",
      " [45 50 59 48]\n",
      " [66 45 53 62]]\n"
     ]
    }
   ],
   "source": [
    "A = np.random.randint(0,10,(3,4,3,4))\n",
    "sum = A.sum(axis=(-2,-1))\n",
    "print(sum)"
   ]
  },
  {
   "cell_type": "markdown",
   "metadata": {},
   "source": [
    "#### 68. Considering a one-dimensional vector D, how to compute means of subsets of D using a vector S of same size describing subset  indices? (★★★) \n",
    "(**hint**: np.bincount)"
   ]
  },
  {
   "cell_type": "code",
   "execution_count": 85,
   "metadata": {},
   "outputs": [
    {
     "name": "stdout",
     "output_type": "stream",
     "text": [
      "[0.56379554 0.47552533 0.46142023 0.54584455 0.40028813 0.35202771\n",
      " 0.42481442 0.47980863 0.5190186  0.72488892]\n"
     ]
    }
   ],
   "source": [
    "D = np.random.uniform(0,1,100)\n",
    "S = np.random.randint(0,10,100)\n",
    "D_sums = np.bincount(S, weights=D)\n",
    "D_counts = np.bincount(S)\n",
    "D_means = D_sums / D_counts\n",
    "print(D_means)"
   ]
  },
  {
   "cell_type": "markdown",
   "metadata": {},
   "source": [
    "#### 69. How to get the diagonal of a dot product? (★★★) \n",
    "(**hint**: np.diag)"
   ]
  },
  {
   "cell_type": "code",
   "execution_count": 86,
   "metadata": {},
   "outputs": [
    {
     "data": {
      "text/plain": [
       "array([0.84981365, 2.36561254, 1.16990921, 0.60836077, 1.04633585])"
      ]
     },
     "execution_count": 86,
     "metadata": {},
     "output_type": "execute_result"
    }
   ],
   "source": [
    "A = np.random.uniform(0,1,(5,5))\n",
    "B = np.random.uniform(0,1,(5,5))\n",
    "np.diag(np.dot(A, B))"
   ]
  },
  {
   "cell_type": "markdown",
   "metadata": {},
   "source": [
    "#### 70. Consider the vector \\[1, 2, 3, 4, 5\\], how to build a new vector with 3 consecutive zeros interleaved between each value? (★★★) \n",
    "(**hint**: array\\[::4\\])"
   ]
  },
  {
   "cell_type": "code",
   "execution_count": 87,
   "metadata": {},
   "outputs": [
    {
     "name": "stdout",
     "output_type": "stream",
     "text": [
      "[1. 0. 0. 0. 2. 0. 0. 0. 3. 0. 0. 0. 4. 0. 0. 0. 5.]\n"
     ]
    }
   ],
   "source": [
    "Z = np.array([1,2,3,4,5])\n",
    "nz = 3\n",
    "Z0 = np.zeros(len(Z) + (len(Z)-1)*(nz))\n",
    "Z0[::nz+1] = Z\n",
    "print(Z0)"
   ]
  },
  {
   "cell_type": "markdown",
   "metadata": {},
   "source": [
    "#### 71. Consider an array of dimension (5,5,3), how to mulitply it by an array with dimensions (5,5)? (★★★) \n",
    "(**hint**: array\\[:, :, None\\])"
   ]
  },
  {
   "cell_type": "code",
   "execution_count": 90,
   "metadata": {},
   "outputs": [
    {
     "name": "stdout",
     "output_type": "stream",
     "text": [
      "[[2. 2. 2. 2. 2.]\n",
      " [2. 2. 2. 2. 2.]\n",
      " [2. 2. 2. 2. 2.]\n",
      " [2. 2. 2. 2. 2.]\n",
      " [2. 2. 2. 2. 2.]]\n",
      "[[[2. 2. 2.]\n",
      "  [2. 2. 2.]\n",
      "  [2. 2. 2.]\n",
      "  [2. 2. 2.]\n",
      "  [2. 2. 2.]]\n",
      "\n",
      " [[2. 2. 2.]\n",
      "  [2. 2. 2.]\n",
      "  [2. 2. 2.]\n",
      "  [2. 2. 2.]\n",
      "  [2. 2. 2.]]\n",
      "\n",
      " [[2. 2. 2.]\n",
      "  [2. 2. 2.]\n",
      "  [2. 2. 2.]\n",
      "  [2. 2. 2.]\n",
      "  [2. 2. 2.]]\n",
      "\n",
      " [[2. 2. 2.]\n",
      "  [2. 2. 2.]\n",
      "  [2. 2. 2.]\n",
      "  [2. 2. 2.]\n",
      "  [2. 2. 2.]]\n",
      "\n",
      " [[2. 2. 2.]\n",
      "  [2. 2. 2.]\n",
      "  [2. 2. 2.]\n",
      "  [2. 2. 2.]\n",
      "  [2. 2. 2.]]]\n"
     ]
    }
   ],
   "source": [
    "A = np.ones((5,5,3))\n",
    "B = 2*np.ones((5,5))\n",
    "print(B)\n",
    "print(A * B[:,:,None])"
   ]
  },
  {
   "cell_type": "markdown",
   "metadata": {},
   "source": [
    "#### 72. How to swap two rows of an array? (★★★) \n",
    "(**hint**: array\\[\\[\\]\\] = array\\[\\[\\]\\])"
   ]
  },
  {
   "cell_type": "code",
   "execution_count": 91,
   "metadata": {},
   "outputs": [
    {
     "name": "stdout",
     "output_type": "stream",
     "text": [
      "[[ 5  6  7  8  9]\n",
      " [ 0  1  2  3  4]\n",
      " [10 11 12 13 14]\n",
      " [15 16 17 18 19]\n",
      " [20 21 22 23 24]]\n"
     ]
    }
   ],
   "source": [
    "A = np.arange(25).reshape(5,5)\n",
    "A[[0,1]] = A[[1,0]]\n",
    "print(A)"
   ]
  },
  {
   "cell_type": "markdown",
   "metadata": {},
   "source": [
    "#### 73. Consider a set of 10 triplets describing 10 triangles (with shared vertices), find the set of unique line segments composing all the  triangles (★★★) \n",
    "(**hint**: repeat, np.roll, np.sort, view, np.unique)"
   ]
  },
  {
   "cell_type": "code",
   "execution_count": 92,
   "metadata": {},
   "outputs": [
    {
     "name": "stdout",
     "output_type": "stream",
     "text": [
      "[( 5,  7) ( 5, 54) ( 7, 54) (13, 43) (13, 49) (13, 93) (13, 94) (14, 22)\n",
      " (14, 33) (22, 33) (25, 69) (25, 96) (26, 45) (26, 52) (28, 41) (28, 85)\n",
      " (29, 68) (29, 92) (39, 50) (39, 70) (41, 85) (43, 93) (45, 52) (49, 94)\n",
      " (50, 70) (68, 92) (69, 96) (77, 80) (80, 80)]\n"
     ]
    }
   ],
   "source": [
    "faces = np.random.randint(0,100,(10,3))\n",
    "F = np.roll(faces.repeat(2,axis=1),-1,axis=1)\n",
    "F = F.reshape(len(F)*3,2)\n",
    "F = np.sort(F,axis=1)\n",
    "G = F.view( dtype=[('p0',F.dtype),('p1',F.dtype)] )\n",
    "G = np.unique(G)\n",
    "print(G)"
   ]
  },
  {
   "cell_type": "markdown",
   "metadata": {},
   "source": [
    "#### 74. Given an array C that is a bincount, how to produce an array A such that np.bincount(A) == C? (★★★) \n",
    "(**hint**: np.repeat)"
   ]
  },
  {
   "cell_type": "code",
   "execution_count": 93,
   "metadata": {},
   "outputs": [
    {
     "name": "stdout",
     "output_type": "stream",
     "text": [
      "[1 1 2 3 4 4 6]\n"
     ]
    }
   ],
   "source": [
    "C = np.bincount([1,1,2,3,4,4,6])\n",
    "A = np.repeat(np.arange(len(C)), C)\n",
    "print(A)"
   ]
  },
  {
   "cell_type": "markdown",
   "metadata": {},
   "source": [
    "#### 75. How to compute averages using a sliding window over an array? (★★★) \n",
    "(**hint**: np.cumsum)"
   ]
  },
  {
   "cell_type": "code",
   "execution_count": 94,
   "metadata": {},
   "outputs": [
    {
     "name": "stdout",
     "output_type": "stream",
     "text": [
      "[ 1.  2.  3.  4.  5.  6.  7.  8.  9. 10. 11. 12. 13. 14. 15. 16. 17. 18.]\n"
     ]
    }
   ],
   "source": [
    "def moving_average(a, n=3) :\n",
    "    ret = np.cumsum(a, dtype=float)\n",
    "    ret[n:] = ret[n:] - ret[:-n]\n",
    "    return ret[n - 1:] / n\n",
    "Z = np.arange(20)\n",
    "print(moving_average(Z, n=3))"
   ]
  },
  {
   "cell_type": "markdown",
   "metadata": {},
   "source": [
    "#### 76. Consider a one-dimensional array Z, build a two-dimensional array whose first row is (Z\\[0\\],Z\\[1\\],Z\\[2\\]) and each subsequent row is  shifted by 1 (last row should be (Z\\[-3\\],Z\\[-2\\],Z\\[-1\\]) (★★★) \n",
    "(**hint**: from numpy.lib import stride_tricks)"
   ]
  },
  {
   "cell_type": "code",
   "execution_count": 95,
   "metadata": {},
   "outputs": [
    {
     "name": "stdout",
     "output_type": "stream",
     "text": [
      "[[0 1 2]\n",
      " [1 2 3]\n",
      " [2 3 4]\n",
      " [3 4 5]\n",
      " [4 5 6]\n",
      " [5 6 7]\n",
      " [6 7 8]\n",
      " [7 8 9]]\n"
     ]
    }
   ],
   "source": [
    "from numpy.lib import stride_tricks\n",
    "\n",
    "def rolling(a, window):\n",
    "    shape = (a.size - window + 1, window)\n",
    "    strides = (a.strides[0], a.strides[0])\n",
    "    return stride_tricks.as_strided(a, shape=shape, strides=strides)\n",
    "Z = rolling(np.arange(10), 3)\n",
    "print(Z)"
   ]
  },
  {
   "cell_type": "markdown",
   "metadata": {},
   "source": [
    "#### 77. How to negate a boolean, or to change the sign of a float inplace? (★★★) \n",
    "(**hint**: np.logical_not, np.negative)"
   ]
  },
  {
   "cell_type": "code",
   "execution_count": 96,
   "metadata": {},
   "outputs": [
    {
     "data": {
      "text/plain": [
       "array([ 0.45567892, -0.08983396, -0.31992922, -0.62837929,  0.7948197 ,\n",
       "        0.13740051, -0.23857708, -0.73416952,  0.33813649, -0.56331657,\n",
       "        0.71593074, -0.01826042, -0.97506855,  0.83675474, -0.71041023,\n",
       "       -0.0874529 ,  0.25939453, -0.94118978, -0.62240244,  0.33620537,\n",
       "        0.71704136,  0.12483595,  0.07332657,  0.02432501, -0.07865268,\n",
       "       -0.05332253, -0.15250023, -0.048382  , -0.51166167,  0.10484188,\n",
       "        0.62104358,  0.91349519,  0.07808482,  0.62284162, -0.19994139,\n",
       "        0.63236648,  0.78839925, -0.13246521, -0.78017858,  0.77792938,\n",
       "        0.522924  ,  0.79053254,  0.18578037, -0.64537364, -0.89818109,\n",
       "       -0.25012455, -0.9341546 ,  0.86784856,  0.28406189, -0.91588754,\n",
       "       -0.7090543 ,  0.32887131, -0.43333029,  0.70634549,  0.81383359,\n",
       "        0.59262506,  0.8822823 , -0.51986752,  0.27920565,  0.5547786 ,\n",
       "        0.28137061,  0.01680765,  0.10133629, -0.9457116 , -0.56618495,\n",
       "        0.15163084,  0.3077783 , -0.39675537, -0.67519513,  0.54770373,\n",
       "       -0.11430191,  0.62301059,  0.59519749, -0.37200131, -0.24917153,\n",
       "       -0.77636681, -0.32302219, -0.21851691,  0.73219529, -0.79423776,\n",
       "       -0.33930807,  0.8299589 ,  0.97173898, -0.93905519,  0.86540458,\n",
       "        0.59567758, -0.28524678, -0.51694886, -0.10758334, -0.49510089,\n",
       "       -0.12385099,  0.91640912, -0.71504784, -0.08909939,  0.2296468 ,\n",
       "        0.81008122, -0.77448803,  0.37614458,  0.90737521,  0.96509301])"
      ]
     },
     "execution_count": 96,
     "metadata": {},
     "output_type": "execute_result"
    }
   ],
   "source": [
    "Z = np.random.randint(0,2,100)\n",
    "np.logical_not(Z, out=Z)\n",
    "\n",
    "Z = np.random.uniform(-1.0,1.0,100)\n",
    "np.negative(Z, out=Z)"
   ]
  },
  {
   "cell_type": "markdown",
   "metadata": {},
   "source": [
    "#### 78. Consider 2 sets of points P0,P1 describing lines (2d) and a point p, how to compute distance from p to each line i  (P0\\[i\\],P1\\[i\\])? (★★★)"
   ]
  },
  {
   "cell_type": "code",
   "execution_count": 97,
   "metadata": {},
   "outputs": [
    {
     "name": "stdout",
     "output_type": "stream",
     "text": [
      "[ 1.13207044  5.36165275  7.57608216 14.18922504 12.82010267  4.14543222\n",
      " 14.13706397  7.72135652  7.61500835  2.96507727]\n"
     ]
    }
   ],
   "source": [
    "def distance(P0, P1, p):\n",
    "    T = P1 - P0\n",
    "    L = (T**2).sum(axis=1)\n",
    "    U = -((P0[:,0]-p[...,0])*T[:,0] + (P0[:,1]-p[...,1])*T[:,1]) / L\n",
    "    U = U.reshape(len(U),1)\n",
    "    D = P0 + U*T - p\n",
    "    return np.sqrt((D**2).sum(axis=1))\n",
    "\n",
    "P0 = np.random.uniform(-10,10,(10,2))\n",
    "P1 = np.random.uniform(-10,10,(10,2))\n",
    "p  = np.random.uniform(-10,10,( 1,2))\n",
    "print(distance(P0, P1, p))"
   ]
  },
  {
   "cell_type": "markdown",
   "metadata": {},
   "source": [
    "#### 79. Consider 2 sets of points P0,P1 describing lines (2d) and a set of points P, how to compute distance from each point j (P\\[j\\]) to each line i (P0\\[i\\],P1\\[i\\])? (★★★)"
   ]
  },
  {
   "cell_type": "code",
   "execution_count": 98,
   "metadata": {},
   "outputs": [
    {
     "name": "stdout",
     "output_type": "stream",
     "text": [
      "[[ 6.6322714   7.81255725  6.91784401  4.68361705  1.95814435  1.69665972\n",
      "   8.60110661  1.87333067  5.60228226  9.91828157]\n",
      " [ 6.93983861  9.49428455  5.08994443  3.35594801  0.08111031  0.3301201\n",
      "   8.72710559  0.21220773  3.87267658  8.06089045]\n",
      " [ 4.41664338 12.70568841  0.91769787  2.03739222  5.52566883  1.17112377\n",
      "   5.65136058  2.86846285  2.38782868  2.22743256]\n",
      " [10.15708632  8.81378859  8.53377451  2.58600332  3.01336615  0.30757352\n",
      "  12.23895049  0.78618674  7.75004021 11.26902164]\n",
      " [ 4.87887286  0.82884651 14.1232411  10.38329078  9.44331009  7.5411479\n",
      "   7.57019791  8.7854674  12.33205195 17.28143368]\n",
      " [ 1.25617278 17.43827425 11.35262088  0.85877612 15.05901947  2.68711331\n",
      "   0.96506652  7.35096809 13.47220999  7.80596768]\n",
      " [ 5.6823124   8.92210334  4.41761284  8.70414139  7.41897639  5.25506332\n",
      "   4.66157856  1.14514438  7.44126059  0.50903968]\n",
      " [ 5.82575438  6.82051932  1.93841172 10.26903614  4.91668802  6.8769334\n",
      "   4.56218072  3.21390197  5.05077129  1.98916333]\n",
      " [ 3.60635156 10.72540008  0.87208221  3.77605725  3.60676319  0.59768698\n",
      "   5.02521811  0.89927096  0.77726325  4.08514732]\n",
      " [ 6.13121781  0.05858868  6.16481019 15.24309887  3.23599753 12.03975846\n",
      "   4.07597004  9.86562702  2.78912155 10.14195943]]\n"
     ]
    }
   ],
   "source": [
    "P0 = np.random.uniform(-10, 10, (10,2))\n",
    "P1 = np.random.uniform(-10,10,(10,2))\n",
    "p = np.random.uniform(-10, 10, (10,2))\n",
    "print(np.array([distance(P0,P1,p_i) for p_i in p]))"
   ]
  },
  {
   "cell_type": "markdown",
   "metadata": {},
   "source": [
    "#### 80. Consider an arbitrary array, write a function that extract a subpart with a fixed shape and centered on a given element (pad with a `fill` value when necessary) (★★★) \n",
    "(**hint**: minimum, maximum)"
   ]
  },
  {
   "cell_type": "code",
   "execution_count": 99,
   "metadata": {},
   "outputs": [
    {
     "name": "stdout",
     "output_type": "stream",
     "text": [
      "[[6 0 6 2 2 5 8 6 0 7]\n",
      " [9 1 5 2 4 2 5 6 2 3]\n",
      " [3 9 5 0 2 2 4 9 4 4]\n",
      " [3 8 8 7 6 1 3 5 5 1]\n",
      " [5 9 1 3 6 8 3 2 6 2]\n",
      " [4 2 8 4 6 1 5 4 1 7]\n",
      " [7 8 8 8 0 4 9 4 9 9]\n",
      " [1 2 8 5 0 9 8 2 3 8]\n",
      " [6 0 4 7 0 3 9 2 9 4]\n",
      " [8 5 1 3 2 3 4 6 0 1]]\n",
      "[[0 0 0 0 0]\n",
      " [0 6 0 6 2]\n",
      " [0 9 1 5 2]\n",
      " [0 3 9 5 0]\n",
      " [0 3 8 8 7]]\n"
     ]
    },
    {
     "name": "stderr",
     "output_type": "stream",
     "text": [
      "<ipython-input-99-f2b5781f38bf>:23: FutureWarning: Using a non-tuple sequence for multidimensional indexing is deprecated; use `arr[tuple(seq)]` instead of `arr[seq]`. In the future this will be interpreted as an array index, `arr[np.array(seq)]`, which will result either in an error or a different result.\n",
      "  R[r] = Z[z]\n"
     ]
    }
   ],
   "source": [
    "Z = np.random.randint(0,10,(10,10))\n",
    "shape = (5,5)\n",
    "fill  = 0\n",
    "position = (1,1)\n",
    "\n",
    "R = np.ones(shape, dtype=Z.dtype)*fill\n",
    "P  = np.array(list(position)).astype(int)\n",
    "Rs = np.array(list(R.shape)).astype(int)\n",
    "Zs = np.array(list(Z.shape)).astype(int)\n",
    "\n",
    "R_start = np.zeros((len(shape),)).astype(int)\n",
    "R_stop  = np.array(list(shape)).astype(int)\n",
    "Z_start = (P-Rs//2)\n",
    "Z_stop  = (P+Rs//2)+Rs%2\n",
    "\n",
    "R_start = (R_start - np.minimum(Z_start,0)).tolist()\n",
    "Z_start = (np.maximum(Z_start,0)).tolist()\n",
    "R_stop = np.maximum(R_start, (R_stop - np.maximum(Z_stop-Zs,0))).tolist()\n",
    "Z_stop = (np.minimum(Z_stop,Zs)).tolist()\n",
    "\n",
    "r = [slice(start,stop) for start,stop in zip(R_start,R_stop)]\n",
    "z = [slice(start,stop) for start,stop in zip(Z_start,Z_stop)]\n",
    "R[r] = Z[z]\n",
    "print(Z)\n",
    "print(R)"
   ]
  },
  {
   "cell_type": "markdown",
   "metadata": {},
   "source": [
    "#### 81. Consider an array Z = \\[1,2,3,4,5,6,7,8,9,10,11,12,13,14\\], how to generate an array R = \\[\\[1,2,3,4\\], \\[2,3,4,5\\], \\[3,4,5,6\\], ..., \\[11,12,13,14\\]\\]? (★★★) \n",
    "(**hint**: stride\\_tricks.as\\_strided)"
   ]
  },
  {
   "cell_type": "code",
   "execution_count": 100,
   "metadata": {},
   "outputs": [
    {
     "name": "stdout",
     "output_type": "stream",
     "text": [
      "[[ 1  2  3  4]\n",
      " [ 2  3  4  5]\n",
      " [ 3  4  5  6]\n",
      " [ 4  5  6  7]\n",
      " [ 5  6  7  8]\n",
      " [ 6  7  8  9]\n",
      " [ 7  8  9 10]\n",
      " [ 8  9 10 11]\n",
      " [ 9 10 11 12]\n",
      " [10 11 12 13]\n",
      " [11 12 13 14]]\n"
     ]
    }
   ],
   "source": [
    "Z = np.arange(1,15,dtype=np.uint32)\n",
    "R = stride_tricks.as_strided(Z,(11,4),(4,4))\n",
    "print(R)"
   ]
  },
  {
   "cell_type": "markdown",
   "metadata": {},
   "source": [
    "#### 82. Compute a matrix rank (★★★) \n",
    "(**hint**: np.linalg.svd) (suggestion: np.linalg.svd)"
   ]
  },
  {
   "cell_type": "code",
   "execution_count": 101,
   "metadata": {},
   "outputs": [
    {
     "name": "stdout",
     "output_type": "stream",
     "text": [
      "10\n"
     ]
    }
   ],
   "source": [
    "Z = np.random.uniform(0,1,(10,10))\n",
    "U, S, V = np.linalg.svd(Z) # Singular Value Decomposition\n",
    "rank = np.sum(S > 1e-10)\n",
    "print(rank)"
   ]
  },
  {
   "cell_type": "markdown",
   "metadata": {},
   "source": [
    "#### 83. How to find the most frequent value in an array? \n",
    "(**hint**: np.bincount, argmax)"
   ]
  },
  {
   "cell_type": "code",
   "execution_count": 102,
   "metadata": {},
   "outputs": [
    {
     "name": "stdout",
     "output_type": "stream",
     "text": [
      "3\n"
     ]
    }
   ],
   "source": [
    "Z = np.random.randint(0,10,50)\n",
    "print(np.bincount(Z).argmax())"
   ]
  },
  {
   "cell_type": "markdown",
   "metadata": {},
   "source": [
    "#### 84. Extract all the contiguous 3x3 blocks from a random 10x10 matrix (★★★) \n",
    "(**hint**: stride\\_tricks.as\\_strided)"
   ]
  },
  {
   "cell_type": "code",
   "execution_count": 103,
   "metadata": {},
   "outputs": [
    {
     "name": "stdout",
     "output_type": "stream",
     "text": [
      "[[[[1 1 2]\n",
      "   [4 0 0]\n",
      "   [2 2 2]]\n",
      "\n",
      "  [[1 2 2]\n",
      "   [0 0 1]\n",
      "   [2 2 4]]\n",
      "\n",
      "  [[2 2 1]\n",
      "   [0 1 3]\n",
      "   [2 4 4]]\n",
      "\n",
      "  [[2 1 1]\n",
      "   [1 3 0]\n",
      "   [4 4 0]]\n",
      "\n",
      "  [[1 1 3]\n",
      "   [3 0 1]\n",
      "   [4 0 2]]\n",
      "\n",
      "  [[1 3 3]\n",
      "   [0 1 3]\n",
      "   [0 2 1]]\n",
      "\n",
      "  [[3 3 4]\n",
      "   [1 3 4]\n",
      "   [2 1 3]]\n",
      "\n",
      "  [[3 4 3]\n",
      "   [3 4 2]\n",
      "   [1 3 4]]]\n",
      "\n",
      "\n",
      " [[[4 0 0]\n",
      "   [2 2 2]\n",
      "   [4 2 2]]\n",
      "\n",
      "  [[0 0 1]\n",
      "   [2 2 4]\n",
      "   [2 2 4]]\n",
      "\n",
      "  [[0 1 3]\n",
      "   [2 4 4]\n",
      "   [2 4 2]]\n",
      "\n",
      "  [[1 3 0]\n",
      "   [4 4 0]\n",
      "   [4 2 1]]\n",
      "\n",
      "  [[3 0 1]\n",
      "   [4 0 2]\n",
      "   [2 1 2]]\n",
      "\n",
      "  [[0 1 3]\n",
      "   [0 2 1]\n",
      "   [1 2 1]]\n",
      "\n",
      "  [[1 3 4]\n",
      "   [2 1 3]\n",
      "   [2 1 4]]\n",
      "\n",
      "  [[3 4 2]\n",
      "   [1 3 4]\n",
      "   [1 4 1]]]\n",
      "\n",
      "\n",
      " [[[2 2 2]\n",
      "   [4 2 2]\n",
      "   [3 1 1]]\n",
      "\n",
      "  [[2 2 4]\n",
      "   [2 2 4]\n",
      "   [1 1 1]]\n",
      "\n",
      "  [[2 4 4]\n",
      "   [2 4 2]\n",
      "   [1 1 4]]\n",
      "\n",
      "  [[4 4 0]\n",
      "   [4 2 1]\n",
      "   [1 4 2]]\n",
      "\n",
      "  [[4 0 2]\n",
      "   [2 1 2]\n",
      "   [4 2 1]]\n",
      "\n",
      "  [[0 2 1]\n",
      "   [1 2 1]\n",
      "   [2 1 1]]\n",
      "\n",
      "  [[2 1 3]\n",
      "   [2 1 4]\n",
      "   [1 1 3]]\n",
      "\n",
      "  [[1 3 4]\n",
      "   [1 4 1]\n",
      "   [1 3 2]]]\n",
      "\n",
      "\n",
      " [[[4 2 2]\n",
      "   [3 1 1]\n",
      "   [3 1 2]]\n",
      "\n",
      "  [[2 2 4]\n",
      "   [1 1 1]\n",
      "   [1 2 2]]\n",
      "\n",
      "  [[2 4 2]\n",
      "   [1 1 4]\n",
      "   [2 2 4]]\n",
      "\n",
      "  [[4 2 1]\n",
      "   [1 4 2]\n",
      "   [2 4 0]]\n",
      "\n",
      "  [[2 1 2]\n",
      "   [4 2 1]\n",
      "   [4 0 1]]\n",
      "\n",
      "  [[1 2 1]\n",
      "   [2 1 1]\n",
      "   [0 1 3]]\n",
      "\n",
      "  [[2 1 4]\n",
      "   [1 1 3]\n",
      "   [1 3 1]]\n",
      "\n",
      "  [[1 4 1]\n",
      "   [1 3 2]\n",
      "   [3 1 3]]]\n",
      "\n",
      "\n",
      " [[[3 1 1]\n",
      "   [3 1 2]\n",
      "   [4 2 1]]\n",
      "\n",
      "  [[1 1 1]\n",
      "   [1 2 2]\n",
      "   [2 1 1]]\n",
      "\n",
      "  [[1 1 4]\n",
      "   [2 2 4]\n",
      "   [1 1 3]]\n",
      "\n",
      "  [[1 4 2]\n",
      "   [2 4 0]\n",
      "   [1 3 0]]\n",
      "\n",
      "  [[4 2 1]\n",
      "   [4 0 1]\n",
      "   [3 0 3]]\n",
      "\n",
      "  [[2 1 1]\n",
      "   [0 1 3]\n",
      "   [0 3 4]]\n",
      "\n",
      "  [[1 1 3]\n",
      "   [1 3 1]\n",
      "   [3 4 2]]\n",
      "\n",
      "  [[1 3 2]\n",
      "   [3 1 3]\n",
      "   [4 2 3]]]\n",
      "\n",
      "\n",
      " [[[3 1 2]\n",
      "   [4 2 1]\n",
      "   [0 0 1]]\n",
      "\n",
      "  [[1 2 2]\n",
      "   [2 1 1]\n",
      "   [0 1 4]]\n",
      "\n",
      "  [[2 2 4]\n",
      "   [1 1 3]\n",
      "   [1 4 2]]\n",
      "\n",
      "  [[2 4 0]\n",
      "   [1 3 0]\n",
      "   [4 2 2]]\n",
      "\n",
      "  [[4 0 1]\n",
      "   [3 0 3]\n",
      "   [2 2 1]]\n",
      "\n",
      "  [[0 1 3]\n",
      "   [0 3 4]\n",
      "   [2 1 4]]\n",
      "\n",
      "  [[1 3 1]\n",
      "   [3 4 2]\n",
      "   [1 4 3]]\n",
      "\n",
      "  [[3 1 3]\n",
      "   [4 2 3]\n",
      "   [4 3 2]]]\n",
      "\n",
      "\n",
      " [[[4 2 1]\n",
      "   [0 0 1]\n",
      "   [1 4 0]]\n",
      "\n",
      "  [[2 1 1]\n",
      "   [0 1 4]\n",
      "   [4 0 0]]\n",
      "\n",
      "  [[1 1 3]\n",
      "   [1 4 2]\n",
      "   [0 0 0]]\n",
      "\n",
      "  [[1 3 0]\n",
      "   [4 2 2]\n",
      "   [0 0 3]]\n",
      "\n",
      "  [[3 0 3]\n",
      "   [2 2 1]\n",
      "   [0 3 2]]\n",
      "\n",
      "  [[0 3 4]\n",
      "   [2 1 4]\n",
      "   [3 2 0]]\n",
      "\n",
      "  [[3 4 2]\n",
      "   [1 4 3]\n",
      "   [2 0 4]]\n",
      "\n",
      "  [[4 2 3]\n",
      "   [4 3 2]\n",
      "   [0 4 4]]]\n",
      "\n",
      "\n",
      " [[[0 0 1]\n",
      "   [1 4 0]\n",
      "   [0 1 3]]\n",
      "\n",
      "  [[0 1 4]\n",
      "   [4 0 0]\n",
      "   [1 3 4]]\n",
      "\n",
      "  [[1 4 2]\n",
      "   [0 0 0]\n",
      "   [3 4 1]]\n",
      "\n",
      "  [[4 2 2]\n",
      "   [0 0 3]\n",
      "   [4 1 0]]\n",
      "\n",
      "  [[2 2 1]\n",
      "   [0 3 2]\n",
      "   [1 0 2]]\n",
      "\n",
      "  [[2 1 4]\n",
      "   [3 2 0]\n",
      "   [0 2 2]]\n",
      "\n",
      "  [[1 4 3]\n",
      "   [2 0 4]\n",
      "   [2 2 2]]\n",
      "\n",
      "  [[4 3 2]\n",
      "   [0 4 4]\n",
      "   [2 2 1]]]]\n"
     ]
    }
   ],
   "source": [
    "Z = np.random.randint(0,5,(10,10))\n",
    "n = 3\n",
    "i = 1 + (Z.shape[0]-3)\n",
    "j = 1 + (Z.shape[1]-3)\n",
    "C = stride_tricks.as_strided(Z, shape=(i, j, n, n), strides=Z.strides + Z.strides)\n",
    "print(C)"
   ]
  },
  {
   "cell_type": "markdown",
   "metadata": {},
   "source": [
    "#### 85. Create a 2D array subclass such that Z\\[i,j\\] == Z\\[j,i\\] (★★★) \n",
    "(**hint**: class method)"
   ]
  },
  {
   "cell_type": "code",
   "execution_count": 104,
   "metadata": {},
   "outputs": [
    {
     "name": "stdout",
     "output_type": "stream",
     "text": [
      "[[ 6 10  2 11 10]\n",
      " [10  3 11  4  9]\n",
      " [ 2 11  9 42 10]\n",
      " [11  4 42  3  9]\n",
      " [10  9 10  9  8]]\n"
     ]
    }
   ],
   "source": [
    "class Symetric(np.ndarray):\n",
    "    def __setitem__(self, index, value):\n",
    "        i,j = index\n",
    "        super(Symetric, self).__setitem__((i,j), value)\n",
    "        super(Symetric, self).__setitem__((j,i), value)\n",
    "\n",
    "def symetric(Z):\n",
    "    return np.asarray(Z + Z.T - np.diag(Z.diagonal())).view(Symetric)\n",
    "\n",
    "S = symetric(np.random.randint(0,10,(5,5)))\n",
    "S[2,3] = 42\n",
    "print(S)"
   ]
  },
  {
   "cell_type": "markdown",
   "metadata": {},
   "source": [
    "#### 86. Consider a set of p matrices wich shape (n,n) and a set of p vectors with shape (n,1). How to compute the sum of of the p matrix products at once? (result has shape (n,1)) (★★★) \n",
    "(**hint**: np.tensordot)"
   ]
  },
  {
   "cell_type": "code",
   "execution_count": 105,
   "metadata": {},
   "outputs": [
    {
     "name": "stdout",
     "output_type": "stream",
     "text": [
      "[[200.]\n",
      " [200.]\n",
      " [200.]\n",
      " [200.]\n",
      " [200.]\n",
      " [200.]\n",
      " [200.]\n",
      " [200.]\n",
      " [200.]\n",
      " [200.]\n",
      " [200.]\n",
      " [200.]\n",
      " [200.]\n",
      " [200.]\n",
      " [200.]\n",
      " [200.]\n",
      " [200.]\n",
      " [200.]\n",
      " [200.]\n",
      " [200.]]\n"
     ]
    }
   ],
   "source": [
    "p, n = 10, 20\n",
    "M = np.ones((p,n,n))\n",
    "V = np.ones((p,n,1))\n",
    "S = np.tensordot(M, V, axes=[[0, 2], [0, 1]])\n",
    "print(S)"
   ]
  },
  {
   "cell_type": "markdown",
   "metadata": {},
   "source": [
    "#### 87. Consider a 16x16 array, how to get the block-sum (block size is 4x4)? (★★★) \n",
    "(**hint**: np.add.reduceat)"
   ]
  },
  {
   "cell_type": "code",
   "execution_count": 106,
   "metadata": {},
   "outputs": [
    {
     "name": "stdout",
     "output_type": "stream",
     "text": [
      "[[16. 16. 16. 16.]\n",
      " [16. 16. 16. 16.]\n",
      " [16. 16. 16. 16.]\n",
      " [16. 16. 16. 16.]]\n"
     ]
    }
   ],
   "source": [
    "Z = np.ones((16,16))\n",
    "k = 4\n",
    "S = np.add.reduceat(np.add.reduceat(Z, np.arange(0, Z.shape[0], k), axis=0),\n",
    "                                       np.arange(0, Z.shape[1], k), axis=1)\n",
    "print(S)"
   ]
  },
  {
   "cell_type": "markdown",
   "metadata": {},
   "source": [
    "#### 88. How to implement the Game of Life using numpy arrays? (★★★)"
   ]
  },
  {
   "cell_type": "code",
   "execution_count": 108,
   "metadata": {},
   "outputs": [
    {
     "name": "stdout",
     "output_type": "stream",
     "text": [
      "[[0 0 0 0 0 0 0 0 0 0 0 0 0 0 0 0 0 0 0 0 0 0 0 0 0 0 0 0 0 0 0 0 0 0 0 0\n",
      "  0 0 0 0 0 0 0 0 0 0 0 0 0 0]\n",
      " [0 0 0 0 0 0 0 0 0 0 0 0 0 0 0 0 0 0 0 0 0 0 0 0 0 0 0 0 0 0 0 0 0 0 0 0\n",
      "  0 0 0 0 0 0 0 0 0 0 0 0 0 0]\n",
      " [0 0 0 0 0 0 0 0 0 0 0 0 0 0 1 1 1 0 0 0 0 0 0 0 0 0 0 0 0 0 0 0 0 0 0 0\n",
      "  0 0 0 0 0 0 0 0 0 0 0 0 0 0]\n",
      " [0 0 0 0 0 0 0 0 0 0 0 0 0 0 0 0 0 0 0 0 0 0 0 0 0 0 0 0 0 0 0 0 0 0 0 0\n",
      "  0 0 0 0 0 0 0 0 0 0 0 0 0 0]\n",
      " [0 0 0 0 0 0 0 0 0 0 0 0 0 0 0 0 0 0 0 0 0 0 0 0 0 0 0 0 0 0 0 0 0 0 0 0\n",
      "  0 0 0 0 0 0 0 0 0 0 0 0 0 0]\n",
      " [0 0 0 0 0 0 0 0 0 0 0 0 0 0 0 0 0 0 0 0 0 0 0 0 0 0 0 0 0 0 0 0 0 0 0 0\n",
      "  0 0 0 0 0 0 0 0 0 0 0 0 0 0]\n",
      " [0 0 0 0 0 0 0 0 0 0 0 0 0 0 0 0 0 0 0 0 0 0 0 0 0 0 0 0 0 0 0 0 0 0 0 0\n",
      "  0 0 0 0 0 0 0 1 1 0 0 0 0 0]\n",
      " [0 0 0 0 0 0 0 0 0 0 0 0 0 0 0 0 0 0 0 0 0 0 0 0 0 0 0 0 0 0 0 0 0 0 0 0\n",
      "  0 0 0 0 0 0 1 0 0 1 0 0 0 0]\n",
      " [0 0 0 0 0 0 0 0 0 0 0 0 0 0 0 0 0 0 0 0 0 0 0 0 0 0 0 0 0 0 0 0 0 0 0 0\n",
      "  0 0 0 0 0 0 0 1 1 0 0 0 0 0]\n",
      " [0 0 0 0 0 0 0 0 0 0 0 0 0 0 0 0 0 0 0 0 0 0 0 0 0 0 0 0 0 0 0 0 0 0 0 0\n",
      "  0 0 0 0 1 0 0 0 0 0 0 0 0 0]\n",
      " [0 0 0 0 0 0 0 0 0 0 0 0 0 0 0 0 0 0 0 0 0 0 0 0 0 0 0 0 0 0 0 1 0 0 0 0\n",
      "  0 0 0 1 0 1 0 0 0 0 0 0 0 0]\n",
      " [0 0 0 0 0 0 0 0 0 0 0 0 0 0 0 0 0 0 0 0 0 0 0 0 0 0 0 0 0 0 0 1 0 0 0 0\n",
      "  0 0 0 0 1 1 0 0 0 0 0 0 0 0]\n",
      " [0 0 0 0 0 0 0 0 0 0 0 0 0 0 0 0 0 0 0 0 0 0 0 0 0 0 0 0 0 0 0 1 0 0 0 0\n",
      "  0 0 0 0 0 0 0 0 0 0 0 0 0 0]\n",
      " [0 0 0 0 0 0 0 0 0 0 0 0 0 0 0 0 0 0 0 0 0 0 0 0 0 0 0 0 0 0 0 0 0 0 0 0\n",
      "  0 0 0 0 0 0 0 0 0 0 0 0 0 0]\n",
      " [0 0 0 0 0 0 0 1 0 0 0 0 0 0 0 0 0 0 0 0 0 0 0 0 0 0 0 0 0 0 0 0 0 0 0 0\n",
      "  0 0 0 0 0 0 0 0 0 0 0 0 0 0]\n",
      " [0 0 0 0 0 0 0 1 0 0 0 0 0 0 0 0 0 0 0 0 0 0 0 0 0 0 0 0 0 0 0 0 0 0 0 0\n",
      "  0 0 0 0 0 0 0 0 0 0 0 0 0 0]\n",
      " [0 0 0 0 0 0 0 1 0 0 0 0 0 0 0 0 0 0 0 0 0 0 0 0 0 0 0 0 0 0 0 0 0 0 0 0\n",
      "  0 0 0 0 0 0 0 0 0 0 0 0 0 0]\n",
      " [0 0 0 0 0 0 0 0 0 0 0 0 0 0 0 0 0 0 0 0 0 0 0 0 0 0 0 0 0 0 0 0 0 0 0 0\n",
      "  0 0 0 0 0 0 0 0 0 0 0 0 0 0]\n",
      " [0 0 0 0 0 0 0 0 0 0 0 0 0 0 0 0 0 0 0 0 0 0 0 0 0 0 0 0 0 0 0 0 0 0 0 0\n",
      "  0 0 0 0 0 0 0 0 0 1 1 1 1 0]\n",
      " [0 0 0 0 0 0 0 0 0 0 0 0 0 0 0 0 0 0 0 0 0 0 1 1 0 0 0 0 0 0 0 0 0 0 0 0\n",
      "  0 0 0 0 0 0 0 0 1 1 0 0 1 0]\n",
      " [0 0 0 0 0 0 0 0 0 0 0 0 0 0 0 0 0 0 0 0 0 0 1 1 0 0 0 0 0 0 0 0 0 0 0 0\n",
      "  0 0 0 0 0 0 0 1 1 0 0 1 0 0]\n",
      " [0 0 0 0 0 0 0 0 0 0 0 0 0 0 0 0 0 1 1 0 0 0 0 0 0 0 0 0 0 0 0 0 0 0 0 0\n",
      "  0 0 0 0 0 0 0 0 1 0 0 1 0 0]\n",
      " [0 0 0 0 0 0 0 0 0 0 0 0 0 0 0 0 0 1 1 0 0 0 0 0 0 0 0 0 0 0 0 0 0 0 0 0\n",
      "  0 0 0 0 0 0 0 0 0 1 1 0 0 0]\n",
      " [0 0 0 0 0 0 0 0 0 0 0 0 0 0 0 0 0 0 0 0 0 0 0 0 0 0 0 1 1 0 0 0 0 0 0 0\n",
      "  0 0 0 0 0 0 0 0 0 0 0 0 0 0]\n",
      " [0 0 0 0 0 0 0 0 0 0 0 0 0 0 0 0 0 0 0 0 0 0 0 0 0 0 0 1 1 0 0 0 0 0 0 0\n",
      "  0 0 0 0 0 0 0 0 0 0 0 0 0 0]\n",
      " [0 0 0 0 1 1 0 0 0 0 0 0 0 0 0 0 0 0 0 0 0 0 0 0 0 0 0 0 0 0 0 0 0 0 0 0\n",
      "  0 0 0 0 0 0 0 0 0 0 0 0 0 0]\n",
      " [0 0 0 0 1 0 1 0 0 0 0 0 0 0 0 0 0 0 0 0 0 0 0 0 0 0 0 0 0 0 0 0 0 0 0 0\n",
      "  0 0 0 0 0 0 0 0 0 0 0 0 0 0]\n",
      " [0 0 0 0 0 1 1 0 0 0 0 0 0 0 0 0 0 0 0 0 0 0 0 0 0 0 0 0 0 0 0 0 0 0 0 0\n",
      "  0 0 0 0 0 0 0 0 0 0 0 0 0 0]\n",
      " [0 0 0 0 0 0 0 0 0 0 0 0 0 0 0 0 0 0 0 0 0 0 0 0 0 0 0 0 0 0 0 0 0 0 0 0\n",
      "  0 0 0 0 0 0 0 0 0 0 0 0 0 0]\n",
      " [0 0 0 0 0 0 0 0 0 0 0 0 0 0 0 0 0 0 0 0 0 0 0 0 0 0 0 0 0 0 0 0 0 0 0 0\n",
      "  0 0 0 0 0 0 0 0 0 0 0 0 0 0]\n",
      " [0 0 0 0 0 0 0 0 0 0 0 0 0 0 0 0 0 0 0 0 0 0 0 0 0 0 0 0 0 0 0 0 0 0 0 0\n",
      "  0 0 0 0 0 0 0 0 0 0 0 0 0 0]\n",
      " [0 0 0 0 0 0 0 0 0 0 0 0 0 0 0 0 0 0 0 0 0 0 0 0 0 0 0 0 0 0 0 0 0 0 0 0\n",
      "  0 0 0 0 0 0 0 0 0 0 0 0 0 0]\n",
      " [0 0 0 0 0 0 0 0 0 0 1 0 0 0 0 0 0 0 0 0 0 0 0 0 0 0 0 0 0 0 0 0 0 0 0 0\n",
      "  0 0 0 0 0 0 0 0 0 0 0 0 0 0]\n",
      " [0 0 0 0 0 0 0 0 0 1 0 1 0 0 0 0 0 0 0 0 0 1 1 1 0 0 0 0 0 0 0 0 0 0 0 0\n",
      "  0 0 0 0 0 0 0 0 0 0 0 0 0 0]\n",
      " [0 0 0 0 0 0 0 0 0 0 1 1 0 0 0 0 0 0 0 0 0 0 0 0 0 0 0 0 0 0 0 0 0 0 0 0\n",
      "  0 0 0 0 0 0 0 0 0 0 0 0 0 0]\n",
      " [0 0 0 0 0 0 0 0 0 0 0 0 0 0 0 0 0 0 0 0 0 0 0 0 0 0 0 0 0 0 0 0 0 0 0 0\n",
      "  0 0 0 0 0 0 0 0 0 0 0 0 0 0]\n",
      " [0 0 0 0 0 0 0 1 1 0 0 0 0 0 0 0 0 0 0 0 0 0 0 0 0 0 0 0 0 0 0 1 0 0 0 0\n",
      "  0 0 0 0 0 0 0 0 0 0 0 0 0 0]\n",
      " [0 0 0 0 0 0 0 1 1 0 0 0 0 0 0 0 0 0 0 0 0 0 0 0 0 0 0 0 0 0 1 1 1 0 0 0\n",
      "  0 0 0 0 0 0 0 0 0 0 0 0 0 0]\n",
      " [0 0 0 0 1 0 0 0 0 0 0 0 0 0 0 0 0 0 0 0 0 0 0 0 0 0 0 0 0 1 0 0 0 0 0 0\n",
      "  0 0 0 0 1 1 0 0 0 0 0 0 0 0]\n",
      " [0 0 0 0 1 0 0 0 0 0 0 0 0 0 0 0 0 0 0 0 0 0 0 0 0 0 0 0 0 0 0 1 0 0 0 1\n",
      "  0 0 0 1 0 0 0 0 0 0 0 0 0 0]\n",
      " [0 0 0 0 1 0 0 0 0 0 0 0 0 0 0 0 0 0 0 0 0 0 0 0 0 0 0 0 0 0 0 0 0 0 0 0\n",
      "  1 0 0 0 1 1 1 0 0 0 0 0 0 0]\n",
      " [0 0 0 0 0 0 0 0 0 0 0 0 0 0 1 1 0 0 0 0 1 1 1 0 0 0 0 0 1 1 0 1 0 0 0 1\n",
      "  1 1 0 0 0 0 0 0 0 0 1 1 1 0]\n",
      " [0 0 0 0 0 0 1 1 1 0 0 0 0 0 1 1 0 0 0 0 1 1 1 0 1 1 0 0 0 1 0 1 0 0 1 1\n",
      "  0 0 0 0 0 0 1 1 1 0 0 0 1 0]\n",
      " [0 0 0 0 0 0 0 0 0 0 0 0 0 0 0 0 0 0 0 1 1 0 0 0 1 1 1 1 1 0 0 0 1 0 1 1\n",
      "  0 0 0 0 0 1 1 0 0 0 0 1 0 0]\n",
      " [0 0 0 0 1 0 0 0 0 0 0 0 0 0 0 0 0 0 0 0 1 1 0 0 0 0 0 0 1 0 0 0 1 0 1 0\n",
      "  0 0 0 0 0 1 0 0 0 1 1 0 0 0]\n",
      " [0 0 0 0 1 0 0 0 0 0 0 0 0 0 0 0 0 0 0 0 1 1 0 0 1 0 0 0 1 0 0 0 0 0 0 0\n",
      "  0 0 0 0 0 0 1 1 0 0 0 0 0 0]\n",
      " [0 0 0 0 1 0 0 0 0 0 0 0 0 0 0 0 0 0 0 0 0 1 0 0 1 0 0 0 0 0 0 0 0 0 0 0\n",
      "  0 0 0 0 0 0 0 0 0 0 0 0 0 0]\n",
      " [0 0 0 0 0 0 0 0 0 0 0 0 0 0 0 0 0 1 1 0 0 0 0 0 0 1 0 0 0 0 0 0 0 0 0 0\n",
      "  0 0 0 0 0 0 0 0 0 0 0 0 0 0]\n",
      " [0 0 0 0 0 0 0 0 0 0 0 0 0 0 0 0 0 1 1 0 0 0 0 0 0 0 0 0 0 0 0 0 0 0 0 0\n",
      "  0 0 0 0 0 0 0 0 0 0 0 0 0 0]\n",
      " [0 0 0 0 0 0 0 0 0 0 0 0 0 0 0 0 0 0 0 0 0 0 0 0 0 0 0 0 0 0 0 0 0 0 0 0\n",
      "  0 0 0 0 0 0 0 0 0 0 0 0 0 0]]\n"
     ]
    }
   ],
   "source": [
    "def iterate(Z):\n",
    "    # Count neighbours\n",
    "    N = (Z[0:-2,0:-2] + Z[0:-2,1:-1] + Z[0:-2,2:] +\n",
    "         Z[1:-1,0:-2]                + Z[1:-1,2:] +\n",
    "         Z[2:  ,0:-2] + Z[2:  ,1:-1] + Z[2:  ,2:])\n",
    "\n",
    "    # Apply rules\n",
    "    birth = (N==3) & (Z[1:-1,1:-1]==0)\n",
    "    survive = ((N==2) | (N==3)) & (Z[1:-1,1:-1]==1)\n",
    "    Z[...] = 0\n",
    "    Z[1:-1,1:-1][birth | survive] = 1\n",
    "    return Z\n",
    "\n",
    "Z = np.random.randint(0,2,(50,50))\n",
    "for i in range(100): Z = iterate(Z)\n",
    "print(Z)"
   ]
  },
  {
   "cell_type": "markdown",
   "metadata": {},
   "source": [
    "#### 89. How to get the n largest values of an array (★★★) \n",
    "(**hint**: np.argsort | np.argpartition)"
   ]
  },
  {
   "cell_type": "code",
   "execution_count": 107,
   "metadata": {},
   "outputs": [
    {
     "name": "stdout",
     "output_type": "stream",
     "text": [
      "[9995 9996 9997 9998 9999]\n"
     ]
    }
   ],
   "source": [
    "Z = np.arange(10000)\n",
    "np.random.shuffle(Z)\n",
    "n = 5\n",
    "\n",
    "# Slow\n",
    "print (Z[np.argsort(Z)[-n:]])\n"
   ]
  },
  {
   "cell_type": "markdown",
   "metadata": {},
   "source": [
    "#### 90. Given an arbitrary number of vectors, build the cartesian product (every combinations of every item) (★★★) \n",
    "(**hint**: np.indices)"
   ]
  },
  {
   "cell_type": "code",
   "execution_count": 109,
   "metadata": {
    "scrolled": true
   },
   "outputs": [
    {
     "name": "stdout",
     "output_type": "stream",
     "text": [
      "[[1 4 6]\n",
      " [1 4 7]\n",
      " [1 5 6]\n",
      " [1 5 7]\n",
      " [2 4 6]\n",
      " [2 4 7]\n",
      " [2 5 6]\n",
      " [2 5 7]\n",
      " [3 4 6]\n",
      " [3 4 7]\n",
      " [3 5 6]\n",
      " [3 5 7]]\n"
     ]
    }
   ],
   "source": [
    "def cartesian(arrays):\n",
    "    arrays = [np.asarray(a) for a in arrays]\n",
    "    shape = (len(x) for x in arrays)\n",
    "\n",
    "    ix = np.indices(shape, dtype=int)\n",
    "    ix = ix.reshape(len(arrays), -1).T\n",
    "\n",
    "    for n, arr in enumerate(arrays):\n",
    "        ix[:, n] = arrays[n][ix[:, n]]\n",
    "\n",
    "    return ix\n",
    "\n",
    "print (cartesian(([1, 2, 3], [4, 5], [6, 7])))\n"
   ]
  },
  {
   "cell_type": "markdown",
   "metadata": {},
   "source": [
    "#### 91. How to create a record array from a regular array? (★★★) \n",
    "(**hint**: np.core.records.fromarrays)"
   ]
  },
  {
   "cell_type": "code",
   "execution_count": 110,
   "metadata": {},
   "outputs": [
    {
     "name": "stdout",
     "output_type": "stream",
     "text": [
      "[(b'Hello', 2.5, 3) (b'World', 3.6, 2)]\n"
     ]
    }
   ],
   "source": [
    "Z = np.array([(\"Hello\", 2.5, 3),\n",
    "              (\"World\", 3.6, 2)])\n",
    "R = np.core.records.fromarrays(Z.T,\n",
    "                               names='col1, col2, col3',\n",
    "                               formats = 'S8, f8, i8')\n",
    "print(R)"
   ]
  },
  {
   "cell_type": "markdown",
   "metadata": {},
   "source": [
    "#### 92. Consider a large vector Z, compute Z to the power of 3 using 3 different methods (★★★) \n",
    "(**hint**: np.power, \\*, np.einsum)"
   ]
  },
  {
   "cell_type": "code",
   "execution_count": 111,
   "metadata": {},
   "outputs": [
    {
     "name": "stdout",
     "output_type": "stream",
     "text": [
      "2.1 s ± 195 ms per loop (mean ± std. dev. of 7 runs, 1 loop each)\n",
      "302 ms ± 10.6 ms per loop (mean ± std. dev. of 7 runs, 1 loop each)\n",
      "191 ms ± 17.4 ms per loop (mean ± std. dev. of 7 runs, 1 loop each)\n"
     ]
    }
   ],
   "source": [
    "x = np.random.rand(int(5e7))\n",
    "\n",
    "%timeit np.power(x,3)\n",
    "%timeit x*x*x\n",
    "%timeit np.einsum('i,i,i->i',x,x,x)"
   ]
  },
  {
   "cell_type": "markdown",
   "metadata": {},
   "source": [
    "#### 93. Consider two arrays A and B of shape (8,3) and (2,2). How to find rows of A that contain elements of each row of B regardless of the order of the elements in B? (★★★) \n",
    "(**hint**: np.where)"
   ]
  },
  {
   "cell_type": "code",
   "execution_count": 112,
   "metadata": {},
   "outputs": [
    {
     "name": "stdout",
     "output_type": "stream",
     "text": [
      "[0 1 2 3 4 5 6 7]\n"
     ]
    }
   ],
   "source": [
    "A = np.random.randint(0,5,(8,3))\n",
    "B = np.random.randint(0,5,(2,2))\n",
    "\n",
    "C = (A[..., np.newaxis, np.newaxis] == B)\n",
    "rows = np.where(C.any((3,1)).all(1))[0]\n",
    "print(rows)"
   ]
  },
  {
   "cell_type": "markdown",
   "metadata": {},
   "source": [
    "#### 94. Considering a 10x3 matrix, extract rows with unequal values (e.g. \\[2,2,3\\]) (★★★)"
   ]
  },
  {
   "cell_type": "code",
   "execution_count": 113,
   "metadata": {},
   "outputs": [
    {
     "name": "stdout",
     "output_type": "stream",
     "text": [
      "[[4 3 2]\n",
      " [0 2 3]\n",
      " [2 1 4]\n",
      " [4 0 0]\n",
      " [4 3 2]\n",
      " [1 3 4]\n",
      " [2 4 3]\n",
      " [2 0 3]\n",
      " [4 3 2]\n",
      " [2 3 0]]\n",
      "[[4 3 2]\n",
      " [0 2 3]\n",
      " [2 1 4]\n",
      " [4 0 0]\n",
      " [4 3 2]\n",
      " [1 3 4]\n",
      " [2 4 3]\n",
      " [2 0 3]\n",
      " [4 3 2]\n",
      " [2 3 0]]\n",
      "[[4 3 2]\n",
      " [0 2 3]\n",
      " [2 1 4]\n",
      " [4 0 0]\n",
      " [4 3 2]\n",
      " [1 3 4]\n",
      " [2 4 3]\n",
      " [2 0 3]\n",
      " [4 3 2]\n",
      " [2 3 0]]\n"
     ]
    }
   ],
   "source": [
    "Z = np.random.randint(0,5,(10,3))\n",
    "print(Z)\n",
    "# solution for arrays of all dtypes (including string arrays and record arrays)\n",
    "E = np.all(Z[:,1:] == Z[:,:-1], axis=1)\n",
    "U = Z[~E]\n",
    "print(U)\n",
    "# soluiton for numerical arrays only, will work for any number of columns in Z\n",
    "U = Z[Z.max(axis=1) != Z.min(axis=1),:]\n",
    "print(U)"
   ]
  },
  {
   "cell_type": "markdown",
   "metadata": {},
   "source": [
    "#### 95. Convert a vector of ints into a matrix binary representation (★★★) \n",
    "(**hint**: np.unpackbits)"
   ]
  },
  {
   "cell_type": "code",
   "execution_count": 114,
   "metadata": {},
   "outputs": [
    {
     "name": "stdout",
     "output_type": "stream",
     "text": [
      "[[0 0 0 0 0 0 0 0]\n",
      " [0 0 0 0 0 0 0 1]\n",
      " [0 0 0 0 0 0 1 0]\n",
      " [0 0 0 0 0 0 1 1]\n",
      " [0 0 0 0 1 1 1 1]\n",
      " [0 0 0 1 0 0 0 0]\n",
      " [0 0 1 0 0 0 0 0]\n",
      " [0 1 0 0 0 0 0 0]\n",
      " [1 0 0 0 0 0 0 0]]\n"
     ]
    }
   ],
   "source": [
    "I = np.array([0, 1, 2, 3, 15, 16, 32, 64, 128])\n",
    "B = ((I.reshape(-1,1) & (2**np.arange(8))) != 0).astype(int)\n",
    "print(B[:,::-1])"
   ]
  },
  {
   "cell_type": "markdown",
   "metadata": {},
   "source": [
    "#### 96. Given a two dimensional array, how to extract unique rows? (★★★) \n",
    "(**hint**: np.ascontiguousarray)"
   ]
  },
  {
   "cell_type": "code",
   "execution_count": 115,
   "metadata": {},
   "outputs": [
    {
     "name": "stdout",
     "output_type": "stream",
     "text": [
      "[[0 0 0]\n",
      " [0 0 1]\n",
      " [0 1 0]\n",
      " [0 1 1]\n",
      " [1 0 0]]\n"
     ]
    }
   ],
   "source": [
    "Z = np.random.randint(0,2,(6,3))\n",
    "T = np.ascontiguousarray(Z).view(np.dtype((np.void, Z.dtype.itemsize * Z.shape[1])))\n",
    "_, idx = np.unique(T, return_index=True)\n",
    "uZ = Z[idx]\n",
    "print(uZ)"
   ]
  },
  {
   "cell_type": "markdown",
   "metadata": {},
   "source": [
    "#### 97. Considering 2 vectors A & B, write the einsum equivalent of inner, outer, sum, and mul function (★★★) \n",
    "(**hint**: np.einsum)"
   ]
  },
  {
   "cell_type": "code",
   "execution_count": 116,
   "metadata": {},
   "outputs": [
    {
     "data": {
      "text/plain": [
       "array([[2.76172004e-01, 2.60011077e-02, 4.77168855e-02, 1.84970221e-01,\n",
       "        4.25352900e-02, 2.43217186e-01, 5.96121204e-03, 1.77093402e-01,\n",
       "        1.90305534e-01, 3.43795269e-03],\n",
       "       [4.21076007e-01, 3.96435645e-02, 7.27533398e-02, 2.82021788e-01,\n",
       "        6.48530258e-02, 3.70830208e-01, 9.08898561e-03, 2.70012100e-01,\n",
       "        2.90156473e-01, 5.24180356e-03],\n",
       "       [7.94779221e-01, 7.48270639e-02, 1.37321628e-01, 5.32314958e-01,\n",
       "        1.22409818e-01, 6.99940483e-01, 1.71554227e-02, 5.09646721e-01,\n",
       "        5.47669141e-01, 9.89388254e-03],\n",
       "       [6.24663405e-01, 5.88109594e-02, 1.07929087e-01, 4.18377413e-01,\n",
       "        9.62090246e-02, 5.50124103e-01, 1.34834486e-02, 4.00561122e-01,\n",
       "        4.30445162e-01, 7.77618009e-03],\n",
       "       [1.25792395e-01, 1.18431325e-02, 2.17343584e-02, 8.42512886e-02,\n",
       "        1.93742158e-02, 1.10781947e-01, 2.71524677e-03, 8.06635101e-02,\n",
       "        8.66814471e-02, 1.56593825e-03],\n",
       "       [4.97988127e-01, 4.68847051e-02, 8.60421844e-02, 3.33534800e-01,\n",
       "        7.66988294e-02, 4.38564624e-01, 1.07491447e-02, 3.19331469e-01,\n",
       "        3.43155335e-01, 6.19925119e-03],\n",
       "       [3.13072539e-01, 2.94752281e-02, 5.40925449e-02, 2.09684892e-01,\n",
       "        4.82186140e-02, 2.75714486e-01, 6.75771536e-03, 2.00755617e-01,\n",
       "        2.15733079e-01, 3.89731242e-03],\n",
       "       [7.09886560e-01, 6.68345693e-02, 1.22653909e-01, 4.75456862e-01,\n",
       "        1.09334872e-01, 6.25177822e-01, 1.53230025e-02, 4.55209885e-01,\n",
       "        4.89171021e-01, 8.83708841e-03],\n",
       "       [2.87895757e-02, 2.71048785e-03, 4.97425108e-03, 1.92822376e-02,\n",
       "        4.43409518e-03, 2.53541977e-02, 6.21427093e-04, 1.84611178e-02,\n",
       "        1.98384177e-02, 3.58389692e-04],\n",
       "       [6.70856395e-01, 6.31599480e-02, 1.15910293e-01, 4.49315840e-01,\n",
       "        1.03323548e-01, 5.90805014e-01, 1.44805309e-02, 4.30182059e-01,\n",
       "        4.62275983e-01, 8.35121778e-03]])"
      ]
     },
     "execution_count": 116,
     "metadata": {},
     "output_type": "execute_result"
    }
   ],
   "source": [
    "A = np.random.uniform(0,1,10)\n",
    "B = np.random.uniform(0,1,10)\n",
    "\n",
    "np.einsum('i->', A)       # np.sum(A)\n",
    "np.einsum('i,i->i', A, B) # A * B\n",
    "np.einsum('i,i', A, B)    # np.inner(A, B)\n",
    "np.einsum('i,j->ij', A, B)    # np.outer(A, B)"
   ]
  },
  {
   "cell_type": "markdown",
   "metadata": {},
   "source": [
    "#### 98. Considering a path described by two vectors (X,Y), how to sample it using equidistant samples (★★★)? \n",
    "(**hint**: np.cumsum, np.interp)"
   ]
  },
  {
   "cell_type": "code",
   "execution_count": 118,
   "metadata": {},
   "outputs": [],
   "source": [
    "phi = np.arange(0, 10*np.pi, 0.1)\n",
    "a = 1\n",
    "x = a*phi*np.cos(phi)\n",
    "y = a*phi*np.sin(phi)\n",
    "\n",
    "dr = (np.diff(x)**2 + np.diff(y)**2)**.5 \n",
    "r = np.zeros_like(x)\n",
    "r[1:] = np.cumsum(dr)                \n",
    "r_int = np.linspace(0, r.max(), 200) \n",
    "x_int = np.interp(r_int, r, x)       \n",
    "y_int = np.interp(r_int, r, y)"
   ]
  },
  {
   "cell_type": "markdown",
   "metadata": {},
   "source": [
    "#### 99. Given an integer n and a 2D array X, select from X the rows which can be interpreted as draws from a multinomial distribution with n degrees, i.e., the rows which only contain integers and which sum to n. (★★★) \n",
    "(**hint**: np.logical\\_and.reduce, np.mod)"
   ]
  },
  {
   "cell_type": "code",
   "execution_count": 119,
   "metadata": {},
   "outputs": [
    {
     "name": "stdout",
     "output_type": "stream",
     "text": [
      "[[2. 0. 1. 1.]]\n"
     ]
    }
   ],
   "source": [
    "X = np.asarray([[1.0, 0.0, 3.0, 8.0],\n",
    "                [2.0, 0.0, 1.0, 1.0],\n",
    "                [1.5, 2.5, 1.0, 0.0]])\n",
    "n = 4\n",
    "M = np.logical_and.reduce(np.mod(X, 1) == 0, axis=-1)\n",
    "M &= (X.sum(axis=-1) == n)\n",
    "print(X[M])"
   ]
  },
  {
   "cell_type": "markdown",
   "metadata": {},
   "source": [
    "#### 100. Compute bootstrapped 95% confidence intervals for the mean of a 1D array X (i.e., resample the elements of an array with replacement N times, compute the mean of each sample, and then compute percentiles over the means). (★★★) \n",
    "(**hint**: np.percentile)"
   ]
  },
  {
   "cell_type": "code",
   "execution_count": 120,
   "metadata": {},
   "outputs": [
    {
     "name": "stdout",
     "output_type": "stream",
     "text": [
      "[-0.03241165  0.3089589 ]\n"
     ]
    }
   ],
   "source": [
    "\n",
    "X = np.random.randn(100) # random 1D array\n",
    "N = 1000 # number of bootstrap samples\n",
    "idx = np.random.randint(0, X.size, (N, X.size))\n",
    "means = X[idx].mean(axis=1)\n",
    "confint = np.percentile(means, [2.5, 97.5])\n",
    "print(confint)"
   ]
  },
  {
   "cell_type": "code",
   "execution_count": null,
   "metadata": {},
   "outputs": [],
   "source": []
  }
 ],
 "metadata": {
  "kernelspec": {
   "display_name": "Python 3",
   "language": "python",
   "name": "python3"
  },
  "language_info": {
   "codemirror_mode": {
    "name": "ipython",
    "version": 3
   },
   "file_extension": ".py",
   "mimetype": "text/x-python",
   "name": "python",
   "nbconvert_exporter": "python",
   "pygments_lexer": "ipython3",
   "version": "3.8.8"
  }
 },
 "nbformat": 4,
 "nbformat_minor": 1
}
