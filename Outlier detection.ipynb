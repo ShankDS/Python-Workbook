{
 "cells": [
  {
   "cell_type": "code",
   "execution_count": 1,
   "id": "69a8cf68",
   "metadata": {},
   "outputs": [],
   "source": [
    "import numpy as np\n",
    "import matplotlib.pyplot as plt\n",
    "%matplotlib inline"
   ]
  },
  {
   "cell_type": "code",
   "execution_count": 4,
   "id": "ef08635d",
   "metadata": {},
   "outputs": [],
   "source": [
    "dataset=[10,11,23,106,117,51,75,44,33,21,205,99,60,55,22,17,35,47,63,77,46,300,177]"
   ]
  },
  {
   "cell_type": "code",
   "execution_count": 31,
   "id": "f388ddcd",
   "metadata": {},
   "outputs": [],
   "source": [
    "#using Z score\n",
    "outliers=[]\n",
    "def detect_outliers(data):\n",
    "    threshold=3\n",
    "    mean=np.mean(data)\n",
    "    std=np.std(data)\n",
    "    \n",
    "    for i in data:\n",
    "        z_score=(i-mean)/std\n",
    "        if np.abs(z_score)> threshold:\n",
    "            outliers.append(i)\n",
    "    return outliers"
   ]
  },
  {
   "cell_type": "code",
   "execution_count": 32,
   "id": "5b01b4f7",
   "metadata": {},
   "outputs": [],
   "source": [
    "oulier_pt=detect_outliers(dataset)"
   ]
  },
  {
   "cell_type": "code",
   "execution_count": 33,
   "id": "fe33868d",
   "metadata": {},
   "outputs": [
    {
     "data": {
      "text/plain": [
       "[300]"
      ]
     },
     "execution_count": 33,
     "metadata": {},
     "output_type": "execute_result"
    }
   ],
   "source": [
    "oulier_pt"
   ]
  },
  {
   "cell_type": "code",
   "execution_count": null,
   "id": "567df68e",
   "metadata": {},
   "outputs": [],
   "source": [
    "###Now perform using IQR\n",
    "#1. arrange in order \n",
    "#2. calculate first quartile and 3rd quartile\n",
    "#3. Find interquartile range (q3-q1)\n",
    "#4. Find lower bound with q1*1.5\n",
    "#5.find upper bound with q3*1.5"
   ]
  },
  {
   "cell_type": "code",
   "execution_count": 34,
   "id": "123b17a6",
   "metadata": {},
   "outputs": [
    {
     "data": {
      "text/plain": [
       "[10,\n",
       " 11,\n",
       " 17,\n",
       " 21,\n",
       " 22,\n",
       " 23,\n",
       " 33,\n",
       " 35,\n",
       " 44,\n",
       " 46,\n",
       " 47,\n",
       " 51,\n",
       " 55,\n",
       " 60,\n",
       " 63,\n",
       " 75,\n",
       " 77,\n",
       " 99,\n",
       " 106,\n",
       " 117,\n",
       " 177,\n",
       " 205,\n",
       " 300]"
      ]
     },
     "execution_count": 34,
     "metadata": {},
     "output_type": "execute_result"
    }
   ],
   "source": [
    "sorted(dataset)"
   ]
  },
  {
   "cell_type": "code",
   "execution_count": 38,
   "id": "9753ba63",
   "metadata": {},
   "outputs": [],
   "source": [
    "quantile1,quantile3=np.percentile((dataset),[25,75])"
   ]
  },
  {
   "cell_type": "code",
   "execution_count": 39,
   "id": "a4e9810b",
   "metadata": {},
   "outputs": [
    {
     "name": "stdout",
     "output_type": "stream",
     "text": [
      "28.0 88.0\n"
     ]
    }
   ],
   "source": [
    "print(quantile1,quantile3)"
   ]
  },
  {
   "cell_type": "code",
   "execution_count": 40,
   "id": "942fee26",
   "metadata": {},
   "outputs": [
    {
     "name": "stdout",
     "output_type": "stream",
     "text": [
      "60.0\n"
     ]
    }
   ],
   "source": [
    "#find IQR\n",
    "IQR=quantile3-quantile1\n",
    "print(IQR)"
   ]
  },
  {
   "cell_type": "code",
   "execution_count": 42,
   "id": "19acefbf",
   "metadata": {},
   "outputs": [
    {
     "name": "stdout",
     "output_type": "stream",
     "text": [
      "-62.0 178.0\n"
     ]
    }
   ],
   "source": [
    "#find lower and upper bound quantile values\n",
    "lower_bound_val=quantile1-(1.5*IQR)\n",
    "upper_bound_val=quantile3+(1.5*IQR)\n",
    "print(lower_bound_val,upper_bound_val)"
   ]
  },
  {
   "cell_type": "code",
   "execution_count": null,
   "id": "7bd10e78",
   "metadata": {},
   "outputs": [],
   "source": []
  }
 ],
 "metadata": {
  "kernelspec": {
   "display_name": "Python 3",
   "language": "python",
   "name": "python3"
  },
  "language_info": {
   "codemirror_mode": {
    "name": "ipython",
    "version": 3
   },
   "file_extension": ".py",
   "mimetype": "text/x-python",
   "name": "python",
   "nbconvert_exporter": "python",
   "pygments_lexer": "ipython3",
   "version": "3.8.8"
  }
 },
 "nbformat": 4,
 "nbformat_minor": 5
}
