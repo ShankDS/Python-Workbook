{
 "cells": [
  {
   "cell_type": "code",
   "execution_count": null,
   "id": "9e8726f6",
   "metadata": {},
   "outputs": [],
   "source": [
    "x=int(input())\n",
    "remainder=0\n",
    "numsum=0\n",
    "while x>0:\n",
    "    remainder=x%10\n",
    "    numsum=numsum+remainder\n",
    "    x=x//10\n",
    "if numsum%3==0:\n",
    "    print(\"pure\")\n",
    "else:\n",
    "    print(\"No\")"
   ]
  },
  {
   "cell_type": "code",
   "execution_count": null,
   "id": "6fb3ea5f",
   "metadata": {},
   "outputs": [],
   "source": [
    "x=int(input())\n",
    "if x%13==0:\n",
    "    print(\"yes\")\n",
    "else:\n",
    "    print(\"no\")"
   ]
  },
  {
   "cell_type": "code",
   "execution_count": null,
   "id": "c2d21d05",
   "metadata": {},
   "outputs": [],
   "source": [
    "x=int(input())\n",
    "y=input().split()\n",
    "#using bubble sort method by usingtemp value to sort the lower number\n",
    "for i in range(len(y)-1,0,-1):\n",
    "    for j in range(i):\n",
    "        if y[j]> y[j+1]:\n",
    "            temp=y[j]\n",
    "            y[j]=y[j+1]\n",
    "            y[j+1]=temp\n",
    "print(y[0])\n",
    "    \n"
   ]
  },
  {
   "cell_type": "code",
   "execution_count": null,
   "id": "41d37f8c",
   "metadata": {},
   "outputs": [],
   "source": [
    "#logic wrong in question 24\n",
    "x=input()\n",
    "y=x.split()\n",
    "oddlist=\"\"\n",
    "for i in range(len(y)-1,0):\n",
    "    if i%2!=0:\n",
    "        oddlist.append()\n",
    "    else:\n",
    "        print(-1)"
   ]
  },
  {
   "cell_type": "code",
   "execution_count": null,
   "id": "6049edb0",
   "metadata": {},
   "outputs": [],
   "source": [
    "\n",
    "N=input()\n",
    "Num_sum=1\n",
    "#iterate using str of variable \n",
    "for i in str(N):\n",
    "    Num_sum=Num_sum*int(i)\n",
    "print(Num_sum)"
   ]
  },
  {
   "cell_type": "code",
   "execution_count": null,
   "id": "6452ebd6",
   "metadata": {},
   "outputs": [],
   "source": [
    "x=int(input())\n",
    "y=input().split()\n",
    "print(y)\n",
    "num_sum=0\n",
    "#slicing through index whilst iterating\n",
    "for i in y:\n",
    "    num_sum= int(y[-3])+int(y[-2])+int(y[-1])\n",
    "for j in y:\n",
    "    print((int(j)-num_sum ),end=\"\")\n",
    "        "
   ]
  },
  {
   "cell_type": "code",
   "execution_count": null,
   "id": "b1083d2c",
   "metadata": {},
   "outputs": [],
   "source": [
    "x=input()\n",
    "count=0\n",
    "count1=0\n",
    "for i in x:\n",
    "    if int(i)==1:\n",
    "\n",
    "        count=count+1\n",
    "    else:\n",
    "        if count>=count1:\n",
    "#exchanging counter valuse to reset the value\n",
    "            count1=count\n",
    "#to ensure it continues on loop\n",
    "            count=0\n",
    "if count>count1:\n",
    "    print(count)\n",
    "elif count==0 and count1==0:\n",
    "    print(\"-1\")\n",
    "else:\n",
    "    print(count1)    \n",
    "        "
   ]
  },
  {
   "cell_type": "code",
   "execution_count": null,
   "id": "15dbd5e3",
   "metadata": {},
   "outputs": [],
   "source": [
    "q=input()\n",
    "#list comprehnsion used with ord to find Ascii value list\n",
    "vowelascii=[97, 101, 105, 111, 117]\n",
    "z=[ord(z)for z in q]\n",
    "total=0\n",
    "for i in z:\n",
    "    if i in vowelascii:\n",
    "        total=int(i)+total\n",
    "if total%8==0:\n",
    "    print(1)\n",
    "else:\n",
    "    print(0)\n"
   ]
  },
  {
   "cell_type": "code",
   "execution_count": null,
   "id": "b8a6a7bf",
   "metadata": {},
   "outputs": [],
   "source": [
    "x=input()\n",
    "print(int(x[::-1]))"
   ]
  },
  {
   "cell_type": "code",
   "execution_count": null,
   "id": "6b3ce6cd",
   "metadata": {},
   "outputs": [],
   "source": [
    "x=int(input())\n",
    "y=(x+1)*x\n",
    "print(y)"
   ]
  },
  {
   "cell_type": "code",
   "execution_count": null,
   "id": "938f7118",
   "metadata": {},
   "outputs": [],
   "source": [
    "x,y=input().split()\n",
    "x=int(x)\n",
    "y=int(y)\n",
    "z=x-y\n",
    "if z%2==0 or z==0:\n",
    "    print(\"even\")\n",
    "else:\n",
    "    print(\"odd\")\n",
    "    "
   ]
  },
  {
   "cell_type": "code",
   "execution_count": null,
   "id": "06b84f20",
   "metadata": {},
   "outputs": [],
   "source": [
    "x=int(input())\n",
    "y=input().split()\n",
    "for i in y:\n",
    "    if int(y[0])+int(y[1])+int(y[2])==int(y[-1])+int(y[-2])+int(y[-3]):\n",
    "        print(1)\n",
    "        break\n",
    "else:\n",
    "    print(0)\n",
    "        "
   ]
  },
  {
   "cell_type": "code",
   "execution_count": null,
   "id": "29ca2274",
   "metadata": {},
   "outputs": [],
   "source": [
    "x,k=input().split()\n",
    "x=int(x)\n",
    "k=int(k)\n",
    "y=input().split()\n",
    "count=0\n",
    "for i in y:\n",
    "    if int(i)==k:\n",
    "        count=count+1\n",
    "if count>1:\n",
    "    print(count)\n",
    "elif count==1:\n",
    "    print(0)   \n",
    "else:\n",
    "    print(-1)\n",
    "        "
   ]
  },
  {
   "cell_type": "code",
   "execution_count": null,
   "id": "535fda34",
   "metadata": {},
   "outputs": [],
   "source": [
    "import math\n",
    "x=float(input())\n",
    "#use ceiling function to convert to highest integer\n",
    "x=math.ceil(x)\n",
    "print(x)"
   ]
  },
  {
   "cell_type": "code",
   "execution_count": null,
   "id": "ddede6c4",
   "metadata": {},
   "outputs": [],
   "source": [
    "x=int(input())\n",
    "y=[]\n",
    "for i in range(1,x+1):\n",
    "    if x%i==0:\n",
    "        y.append(i)\n",
    "print(\" \".join(str(j)for j in y))\n",
    "       "
   ]
  },
  {
   "cell_type": "code",
   "execution_count": null,
   "id": "a7f4cb2b",
   "metadata": {},
   "outputs": [],
   "source": [
    "import re\n",
    "x=input()\n",
    "numbers=re.findall('\\d+',x)\n",
    "#using bubble sort method\n",
    "for i in range(len(numbers)-1,0,-1):\n",
    "    for j in range(i):\n",
    "        if numbers[j]> numbers[j+1]:\n",
    "            temp=y[j]\n",
    "            y[j]=y[j+1]\n",
    "            y[j+1]=temp\n",
    "print(numbers[-1])"
   ]
  },
  {
   "cell_type": "code",
   "execution_count": null,
   "id": "8e2b9bdb",
   "metadata": {},
   "outputs": [],
   "source": [
    "x,y=input().split()\n",
    "x=float(x)\n",
    "y=float(y)\n",
    "y=x*y\n",
    "print(round(y,5))"
   ]
  },
  {
   "cell_type": "code",
   "execution_count": null,
   "id": "8f8e2e1f",
   "metadata": {},
   "outputs": [],
   "source": [
    "A,B,C=input().split()\n",
    "a=int(A)\n",
    "d=int(B)\n",
    "c=int(C)\n",
    "S=((c / 2) * (2 * a + (c - 1) * d))\n",
    "S=int(S)\n",
    "print(S)"
   ]
  },
  {
   "cell_type": "code",
   "execution_count": null,
   "id": "cfc5916d",
   "metadata": {},
   "outputs": [],
   "source": [
    "x=int(input())\n",
    "for i in range(2,x-1):\n",
    "    if x%i==0:\n",
    "        print(\"no\")\n",
    "        break\n",
    "else:\n",
    "    print(\"yes\")\n",
    "    "
   ]
  },
  {
   "cell_type": "code",
   "execution_count": null,
   "id": "5ae75876",
   "metadata": {},
   "outputs": [],
   "source": [
    "a,b,x=input().split()\n",
    "x=int(x)\n",
    "a=int(a)\n",
    "b=int(b)\n",
    "y=(a*x)+ b\n",
    "print(y)\n"
   ]
  },
  {
   "cell_type": "code",
   "execution_count": null,
   "id": "5b4af363",
   "metadata": {},
   "outputs": [],
   "source": [
    "x=int(input())\n",
    "y=[]\n",
    "if x<10:\n",
    "    y.append(x)\n",
    "else:\n",
    "    x//10\n",
    "    y.append(x)\n"
   ]
  },
  {
   "cell_type": "code",
   "execution_count": null,
   "id": "0e68a9b9",
   "metadata": {},
   "outputs": [],
   "source": [
    "x=int(input())\n",
    "y=input().split()\n",
    "z=[]\n",
    "total=0\n",
    "for i in y:\n",
    "    if int(i)<0:\n",
    "        z.append(i)\n",
    "if len(z)>0:\n",
    "    for i in z:\n",
    "        total=total+int(z[0])\n",
    "        print(total)\n",
    "else:\n",
    "    print(total)\n",
    "\n",
    "    "
   ]
  },
  {
   "cell_type": "code",
   "execution_count": null,
   "id": "fd2f00a4",
   "metadata": {},
   "outputs": [],
   "source": [
    "l,b,h=input().split()\n",
    "l=int(l)\n",
    "b=int(b)\n",
    "h=int(h)\n",
    "SA=2*((l*b) + (b*h) + (h*l))\n",
    "V=(l*b*h)\n",
    "y=[SA,V]\n",
    "print(\" \".join(str(j)for j in y))"
   ]
  },
  {
   "cell_type": "code",
   "execution_count": null,
   "id": "ae4d6d3d",
   "metadata": {},
   "outputs": [],
   "source": [
    "x=int(input())\n",
    "y=input().split()\n",
    "#using bubble sort method by usingtemp value to sort the lower number\n",
    "for i in range(len(y)-1,0,-1):\n",
    "    for j in range(i):\n",
    "        if y[j]> y[j+1]:\n",
    "            temp=y[j]\n",
    "            y[j]=y[j+1]\n",
    "            y[j+1]=temp\n",
    "print(y[0])"
   ]
  },
  {
   "cell_type": "code",
   "execution_count": null,
   "id": "2d89e624",
   "metadata": {},
   "outputs": [],
   "source": [
    "x,y=input().split()\n",
    "y=int(y)\n",
    "x=int(x)\n",
    "if x==y*y:\n",
    "    print(\"yes\")\n",
    "else:\n",
    "    print(\"no\")\n",
    "\n",
    "\n"
   ]
  },
  {
   "cell_type": "code",
   "execution_count": null,
   "id": "3537ff6e",
   "metadata": {},
   "outputs": [],
   "source": [
    "y=int(input())\n",
    "factorial=1\n",
    "if y>1:\n",
    "    for i in range(1,y+1):\n",
    "        factorial=factorial*i\n",
    "print(factorial)\n",
    "    "
   ]
  },
  {
   "cell_type": "code",
   "execution_count": null,
   "id": "c6dfe3fc",
   "metadata": {},
   "outputs": [],
   "source": [
    "#formula for colinear - 3 points lie on same line\n",
    "#(y2 − y1)(x3 − x2) = (y3 − y2)(x2 − x1)\n",
    "x1,y1=input().split()\n",
    "x2,y2=input().split()\n",
    "x3,y3=input().split()\n",
    "x1=int(x1)\n",
    "x2=int(x2)\n",
    "x3=int(x3)\n",
    "y1=int(y1)\n",
    "y2=int(y2)\n",
    "y3=int(y3)\n",
    "z=y2-y1\n",
    "s=x3-x2\n",
    "t=y3-y2\n",
    "w=x2-x1\n",
    "\n",
    "if z*s==t*w:\n",
    "    print(\"yes\")\n",
    "else:\n",
    "    print(\"no\")"
   ]
  },
  {
   "cell_type": "code",
   "execution_count": null,
   "id": "53be4b35",
   "metadata": {},
   "outputs": [],
   "source": [
    "x=int(input())\n",
    "y=[]\n",
    "z=[]\n",
    "for i in range(1,x+1):\n",
    "    if x%i==0:\n",
    "        y.append(i)\n",
    "for j in y:\n",
    "    if int(j)%2!=0:\n",
    "        z.append(j)\n",
    "print(\" \".join(str(k)for k in z))\n",
    "        "
   ]
  },
  {
   "cell_type": "code",
   "execution_count": null,
   "id": "2013fad3",
   "metadata": {},
   "outputs": [],
   "source": [
    "#taking hexadecimal input and coverting to int\n",
    "x=int(input(),16)\n",
    "y=int(x)\n",
    "print(y)"
   ]
  },
  {
   "cell_type": "code",
   "execution_count": null,
   "id": "0f72e82b",
   "metadata": {},
   "outputs": [],
   "source": [
    "n=int(input())\n",
    "factorial = 1\n",
    "if n >= 1:\n",
    "    for i in range (1,n+1):\n",
    "        factorial = factorial * i\n",
    "print(factorial)"
   ]
  },
  {
   "cell_type": "code",
   "execution_count": null,
   "id": "660b9c52",
   "metadata": {},
   "outputs": [],
   "source": [
    "A,B,C=input().split()\n",
    "A=int(A)\n",
    "B=int(B)\n",
    "C=int(C)\n",
    "z=(A**4)%C\n",
    "print(z)"
   ]
  },
  {
   "cell_type": "markdown",
   "id": "313c09ff",
   "metadata": {},
   "source": [
    "num=int(input,2)\n",
    "num=int(num)\n",
    "print(num)"
   ]
  },
  {
   "cell_type": "code",
   "execution_count": null,
   "id": "4249fcf9",
   "metadata": {},
   "outputs": [],
   "source": [
    "num=int(input())\n",
    "num=bin_value\n",
    "m=int(bin_value,2) \n",
    "print(m)"
   ]
  },
  {
   "cell_type": "code",
   "execution_count": null,
   "id": "f08a4267",
   "metadata": {},
   "outputs": [],
   "source": [
    "x,n=input().split()\n",
    "n=int(n)\n",
    "x=int(x)\n",
    "z=x-n\n",
    "factx = 1\n",
    "factn=1\n",
    "if x >= 1:\n",
    "    for i in range (1,x+1):\n",
    "        factx = factx * i\n",
    "if z >= 1:\n",
    "    for j in range (1,z+1):\n",
    "        factn = factn * j\n",
    "p=(factx/factn)\n",
    "print(int(p))\n"
   ]
  },
  {
   "cell_type": "code",
   "execution_count": null,
   "id": "f68db6cc",
   "metadata": {},
   "outputs": [],
   "source": [
    "z,y=input().split()\n",
    "y=int(y)\n",
    "z=int(z)\n",
    "x=input().split()\n",
    "count=0\n",
    "for i in x:\n",
    "    if int(i)<y:\n",
    "        count=count+1\n",
    "print(count)\n",
    "    \n"
   ]
  },
  {
   "cell_type": "code",
   "execution_count": null,
   "id": "7614ad4c",
   "metadata": {},
   "outputs": [],
   "source": [
    "x=int(input())\n",
    "for i in range(2,x):\n",
    "    if x%i==0:\n",
    "        print(\"yes\")\n",
    "        break\n",
    "    else:\n",
    "        print(\"no\")"
   ]
  },
  {
   "cell_type": "code",
   "execution_count": null,
   "id": "59dcbf9b",
   "metadata": {},
   "outputs": [],
   "source": [
    "#one test case failed\n",
    "x=int(input())\n",
    "y=[]\n",
    "total=0\n",
    "for i in range(x):\n",
    "    if i%2!=0:\n",
    "        y.append(i)\n",
    "for j in y:\n",
    "    total=total+int(i)\n",
    "if total%2==0:\n",
    "    print(\"E\")\n",
    "else:\n",
    "    print(\"O\")\n",
    "    "
   ]
  },
  {
   "cell_type": "code",
   "execution_count": 7,
   "id": "c7828f0c",
   "metadata": {},
   "outputs": [
    {
     "name": "stdout",
     "output_type": "stream",
     "text": [
      "1024217\n",
      "INT\n"
     ]
    }
   ],
   "source": [
    "x=int(input())\n",
    "if type(x) is int:\n",
    "    print(\"INT\")\n",
    "else:\n",
    "    print(\"LONG\")"
   ]
  },
  {
   "cell_type": "code",
   "execution_count": 1,
   "id": "c24a3676",
   "metadata": {},
   "outputs": [
    {
     "name": "stdout",
     "output_type": "stream",
     "text": [
      "5 10\n",
      "21\n"
     ]
    }
   ],
   "source": [
    "x,y=input().split()\n",
    "x=int(x)\n",
    "y=int(y)\n",
    "z=[]\n",
    "total=0\n",
    "for i in range(x,y+1):\n",
    "    if i%2!=0:\n",
    "        z.append(i)\n",
    "for j in z:\n",
    "    total=total+int(j)\n",
    "print(total)\n",
    "    \n",
    "    \n"
   ]
  },
  {
   "cell_type": "code",
   "execution_count": 2,
   "id": "14ea6f63",
   "metadata": {},
   "outputs": [
    {
     "name": "stdout",
     "output_type": "stream",
     "text": [
      "2 2 176\n",
      "yes\n"
     ]
    }
   ],
   "source": [
    "A,B,C=input().split()\n",
    "A=int(A)\n",
    "B=int(B)\n",
    "C=int(C)\n",
    "if A+B+C==180:\n",
    "    print(\"yes\")\n",
    "else:\n",
    "    print(\"no\")"
   ]
  },
  {
   "cell_type": "code",
   "execution_count": 4,
   "id": "efdf9c66",
   "metadata": {},
   "outputs": [
    {
     "name": "stdout",
     "output_type": "stream",
     "text": [
      "52223\n",
      "8\n"
     ]
    }
   ],
   "source": [
    "N=int(input())\n",
    "Y=str(N)\n",
    "total=0\n",
    "for i in Y:\n",
    "    total=int(Y[0])+int(Y[-1])\n",
    "print(total)"
   ]
  },
  {
   "cell_type": "code",
   "execution_count": 19,
   "id": "0f129c6d",
   "metadata": {},
   "outputs": [
    {
     "name": "stdout",
     "output_type": "stream",
     "text": [
      "2\n",
      "-1\n"
     ]
    }
   ],
   "source": [
    "#not sure where it went wrong question 121\n",
    "x=int(input())\n",
    "y=[]\n",
    "for i in range(1,x):\n",
    "    if i%2==0:\n",
    "        y.append(i)\n",
    "if len(y)==0:\n",
    "    print(-1)\n",
    "else:\n",
    "    print(\" \".join(str(j)for j in y))"
   ]
  },
  {
   "cell_type": "code",
   "execution_count": 92,
   "id": "cf53a349",
   "metadata": {},
   "outputs": [
    {
     "name": "stdout",
     "output_type": "stream",
     "text": [
      "5\n",
      "[9, 18, 27, 36, 45]\n"
     ]
    }
   ],
   "source": [
    "b=int(input())\n",
    "d=[x*9 for x in range (1,b+1)]\n",
    "print(d)\n",
    "    "
   ]
  },
  {
   "cell_type": "code",
   "execution_count": 1,
   "id": "54413a00",
   "metadata": {},
   "outputs": [
    {
     "name": "stdout",
     "output_type": "stream",
     "text": [
      "64\n",
      "Yes\n"
     ]
    }
   ],
   "source": [
    "n=int(input())\n",
    "if n%4==0:\n",
    "    print(\"Yes\")\n",
    "else:\n",
    "    print(\"No\")"
   ]
  },
  {
   "cell_type": "code",
   "execution_count": 3,
   "id": "5fffc81f",
   "metadata": {},
   "outputs": [
    {
     "name": "stdout",
     "output_type": "stream",
     "text": [
      "1331\n",
      "YES\n"
     ]
    }
   ],
   "source": [
    "x=int(input())\n",
    "if x%11==0:\n",
    "    print('YES')\n",
    "else:\n",
    "    print('NO')"
   ]
  },
  {
   "cell_type": "code",
   "execution_count": 4,
   "id": "1105380b",
   "metadata": {},
   "outputs": [
    {
     "name": "stdout",
     "output_type": "stream",
     "text": [
      "5678\n",
      "Nonpalindrome\n"
     ]
    }
   ],
   "source": [
    "n=int(input())\n",
    "temp=n\n",
    "rev=0\n",
    "while n!=0:\n",
    "    dig=n%10\n",
    "    rev=rev*10+dig\n",
    "    n=n//10\n",
    "if temp==rev:\n",
    "    print(\"Palindrome\")\n",
    "else:\n",
    "    print(\"Nonpalindrome\")"
   ]
  },
  {
   "cell_type": "code",
   "execution_count": 7,
   "id": "6aac8742",
   "metadata": {},
   "outputs": [
    {
     "name": "stdout",
     "output_type": "stream",
     "text": [
      "5\n",
      "0*\n",
      "0*1*\n",
      "0*1*2*\n",
      "0*1*2*3*\n",
      "0*1*2*3*4*\n"
     ]
    }
   ],
   "source": [
    "row=int(input())\n",
    "for i in range (1,row+1):\n",
    "    for col in range(i):\n",
    "        print(col,end=\"*\")\n",
    "    print()"
   ]
  },
  {
   "cell_type": "code",
   "execution_count": 9,
   "id": "bdc57e8f",
   "metadata": {},
   "outputs": [
    {
     "name": "stdout",
     "output_type": "stream",
     "text": [
      "5\n",
      "1\n",
      "12\n",
      "123\n",
      "1234\n"
     ]
    }
   ],
   "source": [
    "x=int(input())\n",
    "for row in range(1,x):\n",
    "    for col in range(row):\n",
    "        print(col+1,end=\"\")\n",
    "    print()"
   ]
  },
  {
   "cell_type": "code",
   "execution_count": 11,
   "id": "5358d82c",
   "metadata": {},
   "outputs": [
    {
     "name": "stdout",
     "output_type": "stream",
     "text": [
      "5\n",
      "1\n",
      "22\n",
      "333\n",
      "4444\n",
      "55555\n"
     ]
    }
   ],
   "source": [
    "row=int(input())\n",
    "for i in range (1,row+1):\n",
    "    for col in range(i):\n",
    "        print(i,end=\"\")\n",
    "    print()"
   ]
  },
  {
   "cell_type": "code",
   "execution_count": 18,
   "id": "700b971e",
   "metadata": {},
   "outputs": [
    {
     "name": "stdout",
     "output_type": "stream",
     "text": [
      "153\n",
      "its Armstrong number\n"
     ]
    }
   ],
   "source": [
    "#Armstrong number(cube of every digit added)\n",
    "n=int(input())\n",
    "temp=n\n",
    "sum=0\n",
    "while temp>0:\n",
    "    digit=temp%10\n",
    "    sum+=digit**3\n",
    "    temp//=10\n",
    "if sum==n:\n",
    "    print('its Armstrong number')\n",
    "else:\n",
    "    print('its not armstrong number')\n",
    "    "
   ]
  },
  {
   "cell_type": "code",
   "execution_count": 23,
   "id": "b09b9adb",
   "metadata": {},
   "outputs": [
    {
     "name": "stdout",
     "output_type": "stream",
     "text": [
      "28\n",
      "its perfect number\n"
     ]
    }
   ],
   "source": [
    "#perfect number is a sum of all individual diviser ex 6=1+2+3\n",
    "n=int(input())\n",
    "sum=0\n",
    "for i in range(1,n):\n",
    "    if n% i==0:\n",
    "        sum=sum+i\n",
    "if sum==n:\n",
    "    print('its perfect number')\n",
    "else:\n",
    "    print('its not a perfect number')"
   ]
  },
  {
   "cell_type": "code",
   "execution_count": 32,
   "id": "959b51b9",
   "metadata": {},
   "outputs": [
    {
     "name": "stdout",
     "output_type": "stream",
     "text": [
      "2134\n",
      "1 3\n"
     ]
    }
   ],
   "source": [
    "x=input()\n",
    "y=[]\n",
    "for i in x:\n",
    "    if int(i)%2!=0:\n",
    "        y.append(i)\n",
    "print(\" \".join(y))"
   ]
  },
  {
   "cell_type": "code",
   "execution_count": 37,
   "id": "7182f86f",
   "metadata": {},
   "outputs": [
    {
     "name": "stdout",
     "output_type": "stream",
     "text": [
      "2244\n",
      "-1\n"
     ]
    }
   ],
   "source": [
    "x=input()\n",
    "y=[]\n",
    "for i in x:\n",
    "    if int(i)%2!=0:\n",
    "        y.append(i)\n",
    "if len(y)==0:\n",
    "    print(\"-1\")\n",
    "else:\n",
    "    print(\" \".join(y))\n"
   ]
  },
  {
   "cell_type": "code",
   "execution_count": 41,
   "id": "f5ed890c",
   "metadata": {},
   "outputs": [
    {
     "name": "stdout",
     "output_type": "stream",
     "text": [
      "HR05-AA-2669\n",
      "['0', '5', '2', '6', '6', '9']\n",
      "28\n"
     ]
    }
   ],
   "source": [
    "import re\n",
    "x=input()\n",
    "y=re.findall('\\d',x)\n",
    "sum=0\n",
    "for i in y:\n",
    "    sum=sum+int(i)\n",
    "print(sum)"
   ]
  },
  {
   "cell_type": "code",
   "execution_count": 48,
   "id": "5c6707ce",
   "metadata": {},
   "outputs": [
    {
     "name": "stdout",
     "output_type": "stream",
     "text": [
      "5\n",
      "95 85 75 12 11\n",
      "-3 -13 -23 -86 -87\n"
     ]
    }
   ],
   "source": [
    "x=int(input())\n",
    "y=input().split()\n",
    "num_sum=0\n",
    "z=[]\n",
    "for i in y:\n",
    "    num_sum= int(y[-3])+int(y[-2])+int(y[-1])\n",
    "for j in y:\n",
    "    z.append((int(j)-num_sum ))\n",
    "print(\" \".join(str(int) for int in z))"
   ]
  },
  {
   "cell_type": "code",
   "execution_count": 49,
   "id": "983862ee",
   "metadata": {},
   "outputs": [
    {
     "name": "stdout",
     "output_type": "stream",
     "text": [
      "1.626 2.31\n",
      "3.75606\n"
     ]
    }
   ],
   "source": [
    "x,y=input().split()\n",
    "x=float(x)\n",
    "y=float(y)\n",
    "y=x*y\n",
    "print(round(y,5))"
   ]
  },
  {
   "cell_type": "code",
   "execution_count": 54,
   "id": "ee908557",
   "metadata": {},
   "outputs": [
    {
     "name": "stdout",
     "output_type": "stream",
     "text": [
      "India got independence on 15 august 1948. But they were fighting for it for last 90 years.\n",
      "90\n"
     ]
    }
   ],
   "source": [
    "import re\n",
    "x=input()\n",
    "numbers=re.findall('\\d+',x)\n",
    "str2=max(numbers)\n",
    "print(str2)"
   ]
  },
  {
   "cell_type": "code",
   "execution_count": 56,
   "id": "e0a7923b",
   "metadata": {},
   "outputs": [
    {
     "name": "stdout",
     "output_type": "stream",
     "text": [
      "5867698\n",
      "7\n"
     ]
    }
   ],
   "source": [
    "x=input()\n",
    "print(len(x))\n"
   ]
  },
  {
   "cell_type": "code",
   "execution_count": 57,
   "id": "c105cd08",
   "metadata": {},
   "outputs": [
    {
     "name": "stdout",
     "output_type": "stream",
     "text": [
      "GUVIGEEK\n",
      "6\n"
     ]
    }
   ],
   "source": [
    "x=input()\n",
    "y=set(x)\n",
    "print(len(y))"
   ]
  },
  {
   "cell_type": "code",
   "execution_count": 68,
   "id": "4ce12454",
   "metadata": {},
   "outputs": [
    {
     "name": "stdout",
     "output_type": "stream",
     "text": [
      "5\n",
      "[1, 4, 9, 16]\n"
     ]
    }
   ],
   "source": [
    "x=int(input())\n",
    "squares=[j**2 for j in range(1,x)]\n",
    "print(squares)\n",
    "if 'x' in squares:\n",
    "    print('yes')\n"
   ]
  },
  {
   "cell_type": "code",
   "execution_count": 76,
   "id": "29b4bd70",
   "metadata": {},
   "outputs": [
    {
     "name": "stdout",
     "output_type": "stream",
     "text": [
      "7\n",
      "1 1 11 121 131 141 98\n",
      "['1', '1']\n"
     ]
    }
   ],
   "source": [
    "x=int(input())\n",
    "y=input().split()\n",
    "z=[]\n",
    "for i in y:\n",
    "    if y.count(i)>1:\n",
    "        z.append(i)\n",
    "print(z)"
   ]
  },
  {
   "cell_type": "code",
   "execution_count": 78,
   "id": "ea30d1c6",
   "metadata": {},
   "outputs": [
    {
     "name": "stdout",
     "output_type": "stream",
     "text": [
      "5\n",
      "5 25 35 -5 30\n",
      "1\n"
     ]
    }
   ],
   "source": [
    "x=int(input())\n",
    "y=input().split()\n",
    "sum=0\n",
    "for i in y:\n",
    "    sum=sum+int(i)\n",
    "if sum%2==0 and sum%3==0 and sum%5==0:\n",
    "    print('1')\n",
    "else:\n",
    "    print('0')"
   ]
  },
  {
   "cell_type": "code",
   "execution_count": 80,
   "id": "fe25943f",
   "metadata": {},
   "outputs": [
    {
     "name": "stdout",
     "output_type": "stream",
     "text": [
      "5\n",
      " A23 B56 B56 C79 D16\n",
      "A23 B56 C79 D16\n"
     ]
    }
   ],
   "source": [
    "import numpy as np\n",
    "x=int(input())\n",
    "y=input().split()\n",
    "unique_y=np.unique(y)\n",
    "print(\" \".join(unique_y))\n"
   ]
  },
  {
   "cell_type": "code",
   "execution_count": 83,
   "id": "ca15fda4",
   "metadata": {},
   "outputs": [
    {
     "name": "stdout",
     "output_type": "stream",
     "text": [
      "1\n",
      "2\n",
      "3\n",
      "4\n"
     ]
    }
   ],
   "source": [
    "x=[1,2,3,4,5,6,7,8,9]\n",
    "for i in x:\n",
    "    if int(i)<5:\n",
    "        print(i)"
   ]
  },
  {
   "cell_type": "code",
   "execution_count": 84,
   "id": "e03e8d64",
   "metadata": {},
   "outputs": [
    {
     "name": "stdout",
     "output_type": "stream",
     "text": [
      "59\n",
      "14\n",
      "45\n",
      "Great\n"
     ]
    }
   ],
   "source": [
    "j=input()\n",
    "b=0\n",
    "k=1\n",
    "for i in j:\n",
    "    b=int(i)+b\n",
    "for t in j:\n",
    "    k=int(t)*k\n",
    "print(b)\n",
    "print(k)\n",
    "if b+k==int(j):\n",
    "    print(\"Great\")\n",
    "else:\n",
    "    print(\"no\")"
   ]
  },
  {
   "cell_type": "code",
   "execution_count": 86,
   "id": "44d661a8",
   "metadata": {},
   "outputs": [
    {
     "name": "stdout",
     "output_type": "stream",
     "text": [
      "23\n",
      "13\n"
     ]
    }
   ],
   "source": [
    "x=input()\n",
    "y=0\n",
    "for i in x:\n",
    "    y=int(i)**2+y\n",
    "print(y)\n"
   ]
  },
  {
   "cell_type": "code",
   "execution_count": 87,
   "id": "2a144be0",
   "metadata": {},
   "outputs": [
    {
     "name": "stdout",
     "output_type": "stream",
     "text": [
      "1.5\n",
      "36.5\n"
     ]
    }
   ],
   "source": [
    "x=float(input())\n",
    "y=(1.8*x)+33.8\n",
    "print(y)"
   ]
  },
  {
   "cell_type": "code",
   "execution_count": 88,
   "id": "8b024d9c",
   "metadata": {},
   "outputs": [
    {
     "name": "stdout",
     "output_type": "stream",
     "text": [
      "5\n",
      "10.825317547305483\n"
     ]
    }
   ],
   "source": [
    "import math\n",
    "a=int(input())\n",
    "b=a*a\n",
    "c=math.sqrt(3)\n",
    "area=(b*c)/4\n",
    "print(area)"
   ]
  },
  {
   "cell_type": "code",
   "execution_count": 89,
   "id": "e2b94dd2",
   "metadata": {},
   "outputs": [
    {
     "name": "stdout",
     "output_type": "stream",
     "text": [
      "10\n",
      "[10, 20, 30, 40, 50, 60, 70, 80, 90]\n"
     ]
    }
   ],
   "source": [
    "b=int(input())\n",
    "a=[x*b for x in range(1,b)]\n",
    "print(a)"
   ]
  },
  {
   "cell_type": "code",
   "execution_count": 90,
   "id": "b24b7a75",
   "metadata": {},
   "outputs": [
    {
     "name": "stdout",
     "output_type": "stream",
     "text": [
      "[1, 4, 9, 16, 25, 36, 49, 64, 81, 100, 121]\n"
     ]
    }
   ],
   "source": [
    "a=[x*x for x in range (1,12)]\n",
    "print(a)"
   ]
  },
  {
   "cell_type": "code",
   "execution_count": 91,
   "id": "857869fc",
   "metadata": {},
   "outputs": [
    {
     "name": "stdout",
     "output_type": "stream",
     "text": [
      "4\n",
      "30\n"
     ]
    }
   ],
   "source": [
    "k=int(input())\n",
    "a=[1,3,5,7,8,10,12]\n",
    "b=[4,6,9,11]\n",
    "if k in a:\n",
    "    print(31)\n",
    "elif k in b:\n",
    "    print(30)\n",
    "elif k==2:\n",
    "    print(28)\n",
    "else:\n",
    "    print(\"error\")"
   ]
  },
  {
   "cell_type": "code",
   "execution_count": 95,
   "id": "df2655f2",
   "metadata": {},
   "outputs": [
    {
     "name": "stdout",
     "output_type": "stream",
     "text": [
      "5\n",
      "[5, 10, 15, 20, 25]\n",
      "25\n"
     ]
    }
   ],
   "source": [
    "b=int(input())\n",
    "d=[x*b for x in range (1,b+1)]\n",
    "print(d)\n",
    "print(d[-1])\n"
   ]
  },
  {
   "cell_type": "code",
   "execution_count": 96,
   "id": "e982a995",
   "metadata": {},
   "outputs": [
    {
     "name": "stdout",
     "output_type": "stream",
     "text": [
      "9\n",
      "9\n",
      "8\n",
      "7\n",
      "6\n",
      "5\n",
      "4\n",
      "3\n",
      "2\n",
      "1\n"
     ]
    }
   ],
   "source": [
    "x=int(input())\n",
    "for i in range(x,0,-1):print(i)"
   ]
  },
  {
   "cell_type": "code",
   "execution_count": 97,
   "id": "3456bb19",
   "metadata": {},
   "outputs": [
    {
     "name": "stdout",
     "output_type": "stream",
     "text": [
      "6789\n",
      "30\n"
     ]
    }
   ],
   "source": [
    "n=int(input())\n",
    "num_sum=0\n",
    "for i in str(n):\n",
    "    num_sum=num_sum+int(i)\n",
    "print(num_sum)"
   ]
  },
  {
   "cell_type": "code",
   "execution_count": 98,
   "id": "8766837a",
   "metadata": {},
   "outputs": [
    {
     "name": "stdout",
     "output_type": "stream",
     "text": [
      "10\n",
      "1\n",
      "2\n",
      "3\n",
      "4\n",
      "5\n",
      "6\n",
      "7\n",
      "8\n",
      "9\n",
      "10\n"
     ]
    }
   ],
   "source": [
    "b=int(input())\n",
    "for i in range(1,b+1):\n",
    "    print (i)"
   ]
  },
  {
   "cell_type": "code",
   "execution_count": 99,
   "id": "0414381a",
   "metadata": {},
   "outputs": [
    {
     "name": "stdout",
     "output_type": "stream",
     "text": [
      "10\n",
      "55\n"
     ]
    }
   ],
   "source": [
    "b=int(input())\n",
    "summ=0\n",
    "for i in range(b+1):\n",
    "    summ=summ+i\n",
    "print(summ)"
   ]
  },
  {
   "cell_type": "code",
   "execution_count": 100,
   "id": "fd8655f9",
   "metadata": {},
   "outputs": [
    {
     "name": "stdout",
     "output_type": "stream",
     "text": [
      "2345671\n",
      "2 4 6\n",
      "3 5 7 1\n"
     ]
    }
   ],
   "source": [
    "s= int(input())\n",
    "evenlist=[]\n",
    "oddlist=[]\n",
    "for i in str(s):\n",
    "    if int(i)%2==0:\n",
    "        evenlist.append(i)\n",
    "    else:\n",
    "        oddlist.append(i)\n",
    "print(\" \".join(str(int) for int in evenlist))\n",
    "print(\" \".join(str(int) for int in oddlist))"
   ]
  },
  {
   "cell_type": "code",
   "execution_count": 101,
   "id": "5c1f6ffb",
   "metadata": {},
   "outputs": [
    {
     "name": "stdout",
     "output_type": "stream",
     "text": [
      "20\n",
      "19\n"
     ]
    }
   ],
   "source": [
    "n=int(input())\n",
    "a=int()\n",
    "b=int()\n",
    "count=0\n",
    "for a in range(1,n):\n",
    "    for b in range (1,n):\n",
    "        if a+b==n:\n",
    "            count=count+1\n",
    "print(count)"
   ]
  },
  {
   "cell_type": "code",
   "execution_count": 102,
   "id": "20831b36",
   "metadata": {},
   "outputs": [
    {
     "name": "stdout",
     "output_type": "stream",
     "text": [
      "20\n",
      "unsaturated\n"
     ]
    }
   ],
   "source": [
    "n=int(input())\n",
    "y=str(n)\n",
    "if len(y)>2:\n",
    "    print(\"saturated\")\n",
    "else:\n",
    "    print(\"unsaturated\")"
   ]
  },
  {
   "cell_type": "code",
   "execution_count": 104,
   "id": "27723f97",
   "metadata": {},
   "outputs": [
    {
     "name": "stdout",
     "output_type": "stream",
     "text": [
      "5252666\n",
      "0\n"
     ]
    }
   ],
   "source": [
    "from collections import defaultdict\n",
    "num=input()\n",
    "freq=defaultdict(int)\n",
    "n=len(num)\n",
    "for i in range (n):\n",
    "    freq[int(num[i])] += 1\n",
    "freq_values = set(freq.values())\n",
    "if len(freq_values) == 1:\n",
    "      print(\"1\")\n",
    "else:\n",
    "    print(\"0\")"
   ]
  },
  {
   "cell_type": "code",
   "execution_count": 105,
   "id": "ca4a4c18",
   "metadata": {},
   "outputs": [
    {
     "name": "stdout",
     "output_type": "stream",
     "text": [
      "shankar\n",
      "s,h,a,n,k,a,r\n"
     ]
    }
   ],
   "source": [
    "x=input()\n",
    "print(\",\".join(x))"
   ]
  },
  {
   "cell_type": "code",
   "execution_count": null,
   "id": "8c56ad9e",
   "metadata": {},
   "outputs": [],
   "source": []
  }
 ],
 "metadata": {
  "kernelspec": {
   "display_name": "Python 3",
   "language": "python",
   "name": "python3"
  },
  "language_info": {
   "codemirror_mode": {
    "name": "ipython",
    "version": 3
   },
   "file_extension": ".py",
   "mimetype": "text/x-python",
   "name": "python",
   "nbconvert_exporter": "python",
   "pygments_lexer": "ipython3",
   "version": "3.8.8"
  }
 },
 "nbformat": 4,
 "nbformat_minor": 5
}
